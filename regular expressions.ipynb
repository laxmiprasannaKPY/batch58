{
 "cells": [
  {
   "cell_type": "code",
   "execution_count": 2,
   "metadata": {},
   "outputs": [
    {
     "name": "stdout",
     "output_type": "stream",
     "text": [
      "id,name,cell,email\n",
      "1,jayaram,9676622023,JAY123ram@gmail.com\n",
      "2,vedha,9676622024,Vedha23@yahoo.co.in\n",
      "3,saillaxmi,9676622025,saiLAXMI@redifff.org.in\n"
     ]
    }
   ],
   "source": [
    "s=\"\"\"id,name,cell,email\n",
    "1,jayaram,9676622023,JAY123ram@gmail.com\n",
    "2,vedha,9676622024,Vedha23@yahoo.co.in\n",
    "3,saillaxmi,9676622025,saiLAXMI@redifff.org.in\n",
    "\"\"\"\n",
    "for line in s.splitlines():\n",
    "    print(line)"
   ]
  },
  {
   "cell_type": "code",
   "execution_count": 3,
   "metadata": {},
   "outputs": [
    {
     "name": "stdout",
     "output_type": "stream",
     "text": [
      "['id', 'name', 'cell', 'email']\n",
      "['1', 'jayaram', '9676622023', 'JAY123ram@gmail.com']\n",
      "['2', 'vedha', '9676622024', 'Vedha23@yahoo.co.in']\n",
      "['3', 'saillaxmi', '9676622025', 'saiLAXMI@redifff.org.in']\n"
     ]
    }
   ],
   "source": [
    "s=\"\"\"id,name,cell,email\n",
    "1,jayaram,9676622023,JAY123ram@gmail.com\n",
    "2,vedha,9676622024,Vedha23@yahoo.co.in\n",
    "3,saillaxmi,9676622025,saiLAXMI@redifff.org.in\n",
    "\"\"\"\n",
    "for line in s.splitlines():\n",
    "    print(line.split(','))"
   ]
  },
  {
   "cell_type": "code",
   "execution_count": 4,
   "metadata": {},
   "outputs": [
    {
     "name": "stdout",
     "output_type": "stream",
     "text": [
      "email\n",
      "JAY123ram@gmail.com\n",
      "Vedha23@yahoo.co.in\n",
      "saiLAXMI@redifff.org.in\n"
     ]
    }
   ],
   "source": [
    "s=\"\"\"id,name,cell,email\n",
    "1,jayaram,9676622023,JAY123ram@gmail.com\n",
    "2,vedha,9676622024,Vedha23@yahoo.co.in\n",
    "3,saillaxmi,9676622025,saiLAXMI@redifff.org.in\n",
    "\"\"\"\n",
    "for line in s.splitlines():\n",
    "    print(line.split(',')[-1])"
   ]
  },
  {
   "cell_type": "code",
   "execution_count": 5,
   "metadata": {},
   "outputs": [
    {
     "name": "stdout",
     "output_type": "stream",
     "text": [
      "cell\n",
      "9676622023\n",
      "9676622024\n",
      "9676622025\n"
     ]
    }
   ],
   "source": [
    "s=\"\"\"id,name,cell,email\n",
    "1,jayaram,9676622023,JAY123ram@gmail.com\n",
    "2,vedha,9676622024,Vedha23@yahoo.co.in\n",
    "3,saillaxmi,9676622025,saiLAXMI@redifff.org.in\n",
    "\"\"\"\n",
    "for line in s.splitlines():\n",
    "    print(line.split(',')[-2])"
   ]
  },
  {
   "cell_type": "code",
   "execution_count": 6,
   "metadata": {},
   "outputs": [
    {
     "name": "stdout",
     "output_type": "stream",
     "text": [
      "JAY123ram@gmail.com\n",
      "9676622024\n",
      "9676622025\n"
     ]
    }
   ],
   "source": [
    "s=\"\"\"1,jayaram,9676622023,JAY123ram@gmail.com\n",
    "Vedha23@yahoo.co.in,2,vedha,9676622024\n",
    "3,saillaxmi,saiLAXMI@redifff.org.in,9676622025\n",
    "\"\"\"\n",
    "for line in s.splitlines():\n",
    "    print(line.split(',')[-1])"
   ]
  },
  {
   "cell_type": "code",
   "execution_count": 7,
   "metadata": {},
   "outputs": [
    {
     "name": "stdout",
     "output_type": "stream",
     "text": [
      "['9676622023', '9676622024', '9676622025']\n"
     ]
    }
   ],
   "source": [
    "import re\n",
    "s=\"\"\"1,jayaram,9676622023,JAY123ram@gmail.com\n",
    "Vedha23@yahoo.co.in,2,vedha,9676622024\n",
    "3,saillaxmi,saiLAXMI@redifff.org.in,9676622025\n",
    "\"\"\"\n",
    "print(re.findall(\"[0-9]{10}\",s))"
   ]
  },
  {
   "cell_type": "code",
   "execution_count": 8,
   "metadata": {},
   "outputs": [
    {
     "name": "stdout",
     "output_type": "stream",
     "text": [
      "['sai', 'sai']\n"
     ]
    }
   ],
   "source": [
    "import re\n",
    "s=\"\"\"1,jayaram,9676622023,JAY123ram@gmail.com\n",
    "Vedha23@yahoo.co.in,2,vedha,9676622024\n",
    "3,saillaxmi,saiLAXMI@redifff.org.in,9676622025\n",
    "\"\"\"\n",
    "print(re.findall(\"sai\",s))"
   ]
  },
  {
   "cell_type": "code",
   "execution_count": 9,
   "metadata": {},
   "outputs": [
    {
     "name": "stdout",
     "output_type": "stream",
     "text": [
      "['a', 'a', 'a', 'a', 'a', 'c', 'a', 'a', 'c', 'a', 'a', 'a', 'a']\n"
     ]
    }
   ],
   "source": [
    "import re\n",
    "s=\"\"\"1,jayaram,9676622023,JAY123ram@gmail.com\n",
    "Vedha23@yahoo.co.in,2,vedha,9676622024\n",
    "3,saillaxmi,saiLAXMI@redifff.org.in,9676622025\n",
    "\"\"\"\n",
    "print(re.findall(\"[abc]\",s))"
   ]
  },
  {
   "cell_type": "code",
   "execution_count": 10,
   "metadata": {},
   "outputs": [
    {
     "name": "stdout",
     "output_type": "stream",
     "text": [
      "['j', 'a', 'y', 'a', 'r', 'a', 'm', 'r', 'a', 'm', 'g', 'm', 'a', 'i', 'l', 'c', 'o', 'm', 'e', 'd', 'h', 'a', 'y', 'a', 'h', 'o', 'o', 'c', 'o', 'i', 'n', 'v', 'e', 'd', 'h', 'a', 's', 'a', 'i', 'l', 'l', 'a', 'x', 'm', 'i', 's', 'a', 'i', 'r', 'e', 'd', 'i', 'f', 'f', 'f', 'o', 'r', 'g', 'i', 'n']\n"
     ]
    }
   ],
   "source": [
    "import re\n",
    "s=\"\"\"1,jayaram,9676622023,JAY123ram@gmail.com\n",
    "Vedha23@yahoo.co.in,2,vedha,9676622024\n",
    "3,saillaxmi,saiLAXMI@redifff.org.in,9676622025\n",
    "\"\"\"\n",
    "print(re.findall(\"[a-z]\",s))"
   ]
  },
  {
   "cell_type": "code",
   "execution_count": 12,
   "metadata": {},
   "outputs": [
    {
     "name": "stdout",
     "output_type": "stream",
     "text": [
      "['j', 'a', 'y', 'a', 'r', 'a', 'm', 'J', 'A', 'Y', 'r', 'a', 'm', 'g', 'm', 'a', 'i', 'l', 'c', 'o', 'm', 'V', 'e', 'd', 'h', 'a', 'y', 'a', 'h', 'o', 'o', 'c', 'o', 'i', 'n', 'v', 'e', 'd', 'h', 'a', 's', 'a', 'i', 'l', 'l', 'a', 'x', 'm', 'i', 's', 'a', 'i', 'L', 'A', 'X', 'M', 'I', 'r', 'e', 'd', 'i', 'f', 'f', 'f', 'o', 'r', 'g', 'i', 'n']\n"
     ]
    }
   ],
   "source": [
    "import re\n",
    "s=\"\"\"1,jayaram,9676622023,JAY123ram@gmail.com\n",
    "Vedha23@yahoo.co.in,2,vedha,9676622024\n",
    "3,saillaxmi,saiLAXMI@redifff.org.in,9676622025\n",
    "\"\"\"\n",
    "print(re.findall(\"[a-zA-Z]\",s))"
   ]
  },
  {
   "cell_type": "code",
   "execution_count": 13,
   "metadata": {},
   "outputs": [
    {
     "name": "stdout",
     "output_type": "stream",
     "text": [
      "['j', 'a', 'y', 'a', 'r', 'a', 'm', 'J', 'A', 'Y', 'r', 'a', 'm', 'g', 'm', 'a', 'i', 'l', 'c', 'o', 'm', 'V', 'e', 'd', 'h', 'a', 'y', 'a', 'h', 'o', 'o', 'c', 'o', 'i', 'n', 'v', 'e', 'd', 'h', 'a', 's', 'a', 'i', 'l', 'l', 'a', 'x', 'm', 'i', 's', 'a', 'i', 'L', 'A', 'X', 'M', 'I', 'r', 'e', 'd', 'i', 'f', 'f', 'f', 'o', 'r', 'g', 'i', 'n']\n"
     ]
    }
   ],
   "source": [
    "import re\n",
    "s=\"\"\"1,jayaram,9676622023,JAY123ram@gmail.com\n",
    "Vedha23@yahoo.co.in,2,vedha,9676622024\n",
    "3,saillaxmi,saiLAXMI@redifff.org.in,9676622025\n",
    "\"\"\"\n",
    "print(re.findall(\"[a-z]\",s,re.I))"
   ]
  },
  {
   "cell_type": "code",
   "execution_count": 14,
   "metadata": {},
   "outputs": [
    {
     "name": "stdout",
     "output_type": "stream",
     "text": [
      "['Y1', 'a2']\n"
     ]
    }
   ],
   "source": [
    "import re\n",
    "s=\"\"\"1,jayaram,9676622023,JAY123ram@gmail.com\n",
    "Vedha23@yahoo.co.in,2,vedha,9676622024\n",
    "3,saillaxmi,saiLAXMI@redifff.org.in,9676622025\n",
    "\"\"\"\n",
    "print(re.findall(\"[a-z][0-9]\",s,re.I))"
   ]
  },
  {
   "cell_type": "code",
   "execution_count": 15,
   "metadata": {},
   "outputs": [
    {
     "name": "stdout",
     "output_type": "stream",
     "text": [
      "['ja', 'ya', 'ra', 'JA', 'ra', 'gm', 'ai', 'co', 'Ve', 'dh', 'ya', 'ho', 'co', 'in', 've', 'dh', 'sa', 'il', 'la', 'xm', 'sa', 'iL', 'AX', 'MI', 're', 'di', 'ff', 'or', 'in']\n"
     ]
    }
   ],
   "source": [
    "import re\n",
    "s=\"\"\"1,jayaram,9676622023,JAY123ram@gmail.com\n",
    "Vedha23@yahoo.co.in,2,vedha,9676622024\n",
    "3,saillaxmi,saiLAXMI@redifff.org.in,9676622025\n",
    "\"\"\"\n",
    "print(re.findall(\"[a-z][a-z]\",s,re.I))"
   ]
  },
  {
   "cell_type": "code",
   "execution_count": 16,
   "metadata": {},
   "outputs": [
    {
     "name": "stdout",
     "output_type": "stream",
     "text": [
      "['m,', 'Y1', 'm@', 'l.', 'm\\n', 'a2', 'o.', 'o.', 'n,', 'a,', 'i,', 'I@', 'f.', 'g.', 'n,']\n"
     ]
    }
   ],
   "source": [
    "import re\n",
    "s=\"\"\"1,jayaram,9676622023,JAY123ram@gmail.com\n",
    "Vedha23@yahoo.co.in,2,vedha,9676622024\n",
    "3,saillaxmi,saiLAXMI@redifff.org.in,9676622025\n",
    "\"\"\"\n",
    "print(re.findall(\"[a-z][^a-z]\",s,re.I))"
   ]
  },
  {
   "cell_type": "code",
   "execution_count": 17,
   "metadata": {},
   "outputs": [
    {
     "name": "stdout",
     "output_type": "stream",
     "text": [
      "['1', '9', '6', '7', '6', '6', '2', '2', '0', '2', '3', '1', '2', '3', '2', '3', '2', '9', '6', '7', '6', '6', '2', '2', '0', '2', '4', '3', '9', '6', '7', '6', '6', '2', '2', '0', '2', '5']\n"
     ]
    }
   ],
   "source": [
    "import re\n",
    "s=\"\"\"1,jayaram,9676622023,JAY123ram@gmail.com\n",
    "Vedha23@yahoo.co.in,2,vedha,9676622024\n",
    "3,saillaxmi,saiLAXMI@redifff.org.in,9676622025\n",
    "\"\"\"\n",
    "print(re.findall(\"[0-9]\",s))"
   ]
  },
  {
   "cell_type": "code",
   "execution_count": 18,
   "metadata": {},
   "outputs": [
    {
     "name": "stdout",
     "output_type": "stream",
     "text": [
      "['96', '76', '62', '20', '23', '12', '23', '96', '76', '62', '20', '24', '96', '76', '62', '20', '25']\n"
     ]
    }
   ],
   "source": [
    "import re\n",
    "s=\"\"\"1,jayaram,9676622023,JAY123ram@gmail.com\n",
    "Vedha23@yahoo.co.in,2,vedha,9676622024\n",
    "3,saillaxmi,saiLAXMI@redifff.org.in,9676622025\n",
    "\"\"\"\n",
    "print(re.findall(\"[0-9][0-9]\",s))"
   ]
  },
  {
   "cell_type": "code",
   "execution_count": 19,
   "metadata": {},
   "outputs": [
    {
     "name": "stdout",
     "output_type": "stream",
     "text": [
      "['9676622023', '9676622024', '9676622025']\n"
     ]
    }
   ],
   "source": [
    "import re\n",
    "s=\"\"\"1,jayaram,9676622023,JAY123ram@gmail.com\n",
    "Vedha23@yahoo.co.in,2,vedha,9676622024\n",
    "3,saillaxmi,saiLAXMI@redifff.org.in,9676622025\n",
    "\"\"\"\n",
    "print(re.findall(\"[0-9][0-9][0-9][0-9][0-9][0-9][0-9][0-9][0-9][0-9]\",s))"
   ]
  },
  {
   "cell_type": "code",
   "execution_count": 20,
   "metadata": {},
   "outputs": [
    {
     "name": "stdout",
     "output_type": "stream",
     "text": [
      "['9676622023', '9676622024', '9676622025']\n"
     ]
    }
   ],
   "source": [
    "import re\n",
    "s=\"\"\"1,jayaram,9676622023,JAY123ram@gmail.com\n",
    "Vedha23@yahoo.co.in,2,vedha,9676622024\n",
    "3,saillaxmi,saiLAXMI@redifff.org.in,9676622025\n",
    "\"\"\"\n",
    "print(re.findall(\"[0-9]{10}\",s))"
   ]
  },
  {
   "cell_type": "code",
   "execution_count": 22,
   "metadata": {},
   "outputs": [
    {
     "name": "stdout",
     "output_type": "stream",
     "text": [
      "['9676622023', '123', '9676622024', '9676622025']\n"
     ]
    }
   ],
   "source": [
    "import re\n",
    "s=\"\"\"1,jayaram,9676622023,JAY123ram@gmail.com\n",
    "Vedha98@yahoo.co.in,2,vedha,9676622024\n",
    "3,saillaxmi,saiLAXMI@redifff.org.in,9676622025\n",
    "\"\"\"\n",
    "print(re.findall(\"[0-9]{3,10}\",s))"
   ]
  },
  {
   "cell_type": "code",
   "execution_count": 23,
   "metadata": {},
   "outputs": [
    {
     "name": "stdout",
     "output_type": "stream",
     "text": [
      "['1', '9676622023', '123', '98', '2', '9676622024', '3', '9676622025']\n"
     ]
    }
   ],
   "source": [
    "import re\n",
    "s=\"\"\"1,jayaram,9676622023,JAY123ram@gmail.com\n",
    "Vedha98@yahoo.co.in,2,vedha,9676622024\n",
    "3,saillaxmi,saiLAXMI@redifff.org.in,9676622025\n",
    "\"\"\"\n",
    "print(re.findall(\"[0-9]{1,10}\",s))"
   ]
  },
  {
   "cell_type": "code",
   "execution_count": 24,
   "metadata": {},
   "outputs": [
    {
     "name": "stdout",
     "output_type": "stream",
     "text": [
      "['1', '9676622023', '123', '98', '2', '9676622024', '3', '9676622025']\n"
     ]
    }
   ],
   "source": [
    "import re\n",
    "s=\"\"\"1,jayaram,9676622023,JAY123ram@gmail.com\n",
    "Vedha98@yahoo.co.in,2,vedha,9676622024\n",
    "3,saillaxmi,saiLAXMI@redifff.org.in,9676622025\n",
    "\"\"\"\n",
    "print(re.findall(\"[0-9]{1,}\",s))"
   ]
  },
  {
   "cell_type": "code",
   "execution_count": 25,
   "metadata": {},
   "outputs": [
    {
     "name": "stdout",
     "output_type": "stream",
     "text": [
      "['1', '9676622023', '123', '98', '2', '9676622024', '3', '9676622025']\n"
     ]
    }
   ],
   "source": [
    "import re\n",
    "s=\"\"\"1,jayaram,9676622023,JAY123ram@gmail.com\n",
    "Vedha98@yahoo.co.in,2,vedha,9676622024\n",
    "3,saillaxmi,saiLAXMI@redifff.org.in,9676622025\n",
    "\"\"\"\n",
    "print(re.findall(\"[0-9]+\",s))"
   ]
  },
  {
   "cell_type": "code",
   "execution_count": 26,
   "metadata": {},
   "outputs": [
    {
     "name": "stdout",
     "output_type": "stream",
     "text": [
      "['1', '', '', '', '', '', '', '', '', '', '9676622023', '', '', '', '', '123', '', '', '', '', '', '', '', '', '', '', '', '', '', '', '', '', '', '', '', '98', '', '', '', '', '', '', '', '', '', '', '', '', '', '2', '', '', '', '', '', '', '', '9676622024', '', '3', '', '', '', '', '', '', '', '', '', '', '', '', '', '', '', '', '', '', '', '', '', '', '', '', '', '', '', '', '', '', '', '', '', '', '', '9676622025', '', '']\n"
     ]
    }
   ],
   "source": [
    "import re\n",
    "s=\"\"\"1,jayaram,9676622023,JAY123ram@gmail.com\n",
    "Vedha98@yahoo.co.in,2,vedha,9676622024\n",
    "3,saillaxmi,saiLAXMI@redifff.org.in,9676622025\n",
    "\"\"\"\n",
    "print(re.findall(\"[0-9]{0,}\",s))"
   ]
  },
  {
   "cell_type": "code",
   "execution_count": 29,
   "metadata": {},
   "outputs": [
    {
     "name": "stdout",
     "output_type": "stream",
     "text": [
      "['1', '', '', '', '', '', '', '', '', '', '9676622023', '', '', '', '', '123', '', '', '', '', '', '', '', '', '', '', '', '', '', '', '', '', '', '', '', '98', '', '', '', '', '', '', '', '', '', '', '', '', '', '2', '', '', '', '', '', '', '', '9676622024', '', '3', '', '', '', '', '', '', '', '', '', '', '', '', '', '', '', '', '', '', '', '', '', '', '', '', '', '', '', '', '', '', '', '', '', '', '', '9676622025', '', '']\n"
     ]
    }
   ],
   "source": [
    "import re\n",
    "s=\"\"\"1,jayaram,9676622023,JAY123ram@gmail.com\n",
    "Vedha98@yahoo.co.in,2,vedha,9676622024\n",
    "3,saillaxmi,saiLAXMI@redifff.org.in,9676622025\n",
    "\"\"\"\n",
    "print(re.findall(\"[0-9]*\",s))"
   ]
  },
  {
   "cell_type": "code",
   "execution_count": 30,
   "metadata": {},
   "outputs": [
    {
     "name": "stdout",
     "output_type": "stream",
     "text": [
      "['1', '', '', '', '', '', '', '', '', '', '9', '6', '7', '6', '6', '2', '2', '0', '2', '3', '', '', '', '', '1', '2', '3', '', '', '', '', '', '', '', '', '', '', '', '', '', '', '', '', '', '', '', '9', '8', '', '', '', '', '', '', '', '', '', '', '', '', '', '2', '', '', '', '', '', '', '', '9', '6', '7', '6', '6', '2', '2', '0', '2', '4', '', '3', '', '', '', '', '', '', '', '', '', '', '', '', '', '', '', '', '', '', '', '', '', '', '', '', '', '', '', '', '', '', '', '', '', '', '', '9', '6', '7', '6', '6', '2', '2', '0', '2', '5', '', '']\n"
     ]
    }
   ],
   "source": [
    "import re\n",
    "s=\"\"\"1,jayaram,9676622023,JAY123ram@gmail.com\n",
    "Vedha98@yahoo.co.in,2,vedha,9676622024\n",
    "3,saillaxmi,saiLAXMI@redifff.org.in,9676622025\n",
    "\"\"\"\n",
    "print(re.findall(\"[0-9]{0,1}\",s))"
   ]
  },
  {
   "cell_type": "code",
   "execution_count": 31,
   "metadata": {},
   "outputs": [
    {
     "name": "stdout",
     "output_type": "stream",
     "text": [
      "['1', '', '', '', '', '', '', '', '', '', '9', '6', '7', '6', '6', '2', '2', '0', '2', '3', '', '', '', '', '1', '2', '3', '', '', '', '', '', '', '', '', '', '', '', '', '', '', '', '', '', '', '', '9', '8', '', '', '', '', '', '', '', '', '', '', '', '', '', '2', '', '', '', '', '', '', '', '9', '6', '7', '6', '6', '2', '2', '0', '2', '4', '', '3', '', '', '', '', '', '', '', '', '', '', '', '', '', '', '', '', '', '', '', '', '', '', '', '', '', '', '', '', '', '', '', '', '', '', '', '9', '6', '7', '6', '6', '2', '2', '0', '2', '5', '', '']\n"
     ]
    }
   ],
   "source": [
    "import re\n",
    "s=\"\"\"1,jayaram,9676622023,JAY123ram@gmail.com\n",
    "Vedha98@yahoo.co.in,2,vedha,9676622024\n",
    "3,saillaxmi,saiLAXMI@redifff.org.in,9676622025\n",
    "\"\"\"\n",
    "print(re.findall(\"[0-9]?\",s))"
   ]
  },
  {
   "cell_type": "code",
   "execution_count": 32,
   "metadata": {},
   "outputs": [
    {
     "name": "stdout",
     "output_type": "stream",
     "text": [
      "['1', ',', 'j', 'a', 'y', 'a', 'r', 'a', 'm', ',', '9', '6', '7', '6', '6', '2', '2', '0', '2', '3', ',', 'J', 'A', 'Y', '1', '2', '3', 'r', 'a', 'm', '@', 'g', 'm', 'a', 'i', 'l', '.', 'c', 'o', 'm', 'V', 'e', 'd', 'h', 'a', '9', '8', '@', 'y', 'a', 'h', 'o', 'o', '.', 'c', 'o', '.', 'i', 'n', ',', '2', ',', 'v', 'e', 'd', 'h', 'a', ',', '9', '6', '7', '6', '6', '2', '2', '0', '2', '4', '3', ',', 's', 'a', 'i', 'l', 'l', 'a', 'x', 'm', 'i', ',', 's', 'a', 'i', 'L', 'A', 'X', 'M', 'I', '@', 'r', 'e', 'd', 'i', 'f', 'f', 'f', '.', 'o', 'r', 'g', '.', 'i', 'n', ',', '9', '6', '7', '6', '6', '2', '2', '0', '2', '5']\n"
     ]
    }
   ],
   "source": [
    "import re\n",
    "s=\"\"\"1,jayaram,9676622023,JAY123ram@gmail.com\n",
    "Vedha98@yahoo.co.in,2,vedha,9676622024\n",
    "3,saillaxmi,saiLAXMI@redifff.org.in,9676622025\n",
    "\"\"\"\n",
    "print(re.findall(\".\",s))"
   ]
  },
  {
   "cell_type": "code",
   "execution_count": 33,
   "metadata": {},
   "outputs": [
    {
     "data": {
      "text/plain": [
       "'1,jayaram,9676622023,JAY123ram@gmail.com\\nVedha98@yahoo.co.in,2,vedha,9676622024\\n3,saillaxmi,saiLAXMI@redifff.org.in,9676622025\\n'"
      ]
     },
     "execution_count": 33,
     "metadata": {},
     "output_type": "execute_result"
    }
   ],
   "source": [
    "s"
   ]
  },
  {
   "cell_type": "code",
   "execution_count": 34,
   "metadata": {},
   "outputs": [
    {
     "name": "stdout",
     "output_type": "stream",
     "text": [
      "['1', ',', 'j', 'a', 'y', 'a', 'r', 'a', 'm', ',', '9', '6', '7', '6', '6', '2', '2', '0', '2', '3', ',', 'J', 'A', 'Y', '1', '2', '3', 'r', 'a', 'm', '@', 'g', 'm', 'a', 'i', 'l', '.', 'c', 'o', 'm', '\\n', 'V', 'e', 'd', 'h', 'a', '9', '8', '@', 'y', 'a', 'h', 'o', 'o', '.', 'c', 'o', '.', 'i', 'n', ',', '2', ',', 'v', 'e', 'd', 'h', 'a', ',', '9', '6', '7', '6', '6', '2', '2', '0', '2', '4', '\\n', '3', ',', 's', 'a', 'i', 'l', 'l', 'a', 'x', 'm', 'i', ',', 's', 'a', 'i', 'L', 'A', 'X', 'M', 'I', '@', 'r', 'e', 'd', 'i', 'f', 'f', 'f', '.', 'o', 'r', 'g', '.', 'i', 'n', ',', '9', '6', '7', '6', '6', '2', '2', '0', '2', '5', '\\n']\n"
     ]
    }
   ],
   "source": [
    "import re\n",
    "s=\"\"\"1,jayaram,9676622023,JAY123ram@gmail.com\n",
    "Vedha98@yahoo.co.in,2,vedha,9676622024\n",
    "3,saillaxmi,saiLAXMI@redifff.org.in,9676622025\n",
    "\"\"\"\n",
    "print(re.findall(\".\",s,re.DOTALL))"
   ]
  },
  {
   "cell_type": "code",
   "execution_count": 35,
   "metadata": {},
   "outputs": [
    {
     "name": "stdout",
     "output_type": "stream",
     "text": [
      "['.', '.', '.', '.', '.']\n"
     ]
    }
   ],
   "source": [
    "import re\n",
    "s=\"\"\"1,jayaram,9676622023,JAY123ram@gmail.com\n",
    "Vedha98@yahoo.co.in,2,vedha,9676622024\n",
    "3,saillaxmi,saiLAXMI@redifff.org.in,9676622025\n",
    "\"\"\"\n",
    "print(re.findall(\"\\.\",s,re.DOTALL))"
   ]
  },
  {
   "cell_type": "code",
   "execution_count": 36,
   "metadata": {},
   "outputs": [
    {
     "name": "stdout",
     "output_type": "stream",
     "text": [
      "['.', '.', '.', '.', '.']\n"
     ]
    }
   ],
   "source": [
    "import re\n",
    "s=\"\"\"1,jayaram,9676622023,JAY123ram@gmail.com\n",
    "Vedha98@yahoo.co.in,2,vedha,9676622024\n",
    "3,saillaxmi,saiLAXMI@redifff.org.in,9676622025\n",
    "\"\"\"\n",
    "print(re.findall(\"[.]\",s,re.DOTALL))"
   ]
  },
  {
   "cell_type": "code",
   "execution_count": 37,
   "metadata": {},
   "outputs": [
    {
     "ename": "error",
     "evalue": "unterminated character set at position 0",
     "output_type": "error",
     "traceback": [
      "\u001b[0;31m---------------------------------------------------------------------------\u001b[0m",
      "\u001b[0;31merror\u001b[0m                                     Traceback (most recent call last)",
      "\u001b[0;32m<ipython-input-37-5b4b6f8702fe>\u001b[0m in \u001b[0;36m<module>\u001b[0;34m()\u001b[0m\n\u001b[1;32m      4\u001b[0m \u001b[0;36m3\u001b[0m\u001b[0;34m,\u001b[0m\u001b[0msaillaxmi\u001b[0m\u001b[0;34m,\u001b[0m\u001b[0msaiLAXMI\u001b[0m\u001b[0;34m@\u001b[0m\u001b[0mredifff\u001b[0m\u001b[0;34m.\u001b[0m\u001b[0morg\u001b[0m\u001b[0;34m.\u001b[0m\u001b[0;32min\u001b[0m\u001b[0;34m,\u001b[0m\u001b[0;36m9676622025\u001b[0m\u001b[0;34m\u001b[0m\u001b[0m\n\u001b[1;32m      5\u001b[0m \"\"\"\n\u001b[0;32m----> 6\u001b[0;31m \u001b[0mprint\u001b[0m\u001b[0;34m(\u001b[0m\u001b[0mre\u001b[0m\u001b[0;34m.\u001b[0m\u001b[0mfindall\u001b[0m\u001b[0;34m(\u001b[0m\u001b[0;34m\"[]\"\u001b[0m\u001b[0;34m,\u001b[0m\u001b[0ms\u001b[0m\u001b[0;34m,\u001b[0m\u001b[0mre\u001b[0m\u001b[0;34m.\u001b[0m\u001b[0mDOTALL\u001b[0m\u001b[0;34m)\u001b[0m\u001b[0;34m)\u001b[0m\u001b[0;34m\u001b[0m\u001b[0m\n\u001b[0m",
      "\u001b[0;32m~/anaconda3/lib/python3.7/re.py\u001b[0m in \u001b[0;36mfindall\u001b[0;34m(pattern, string, flags)\u001b[0m\n\u001b[1;32m    221\u001b[0m \u001b[0;34m\u001b[0m\u001b[0m\n\u001b[1;32m    222\u001b[0m     Empty matches are included in the result.\"\"\"\n\u001b[0;32m--> 223\u001b[0;31m     \u001b[0;32mreturn\u001b[0m \u001b[0m_compile\u001b[0m\u001b[0;34m(\u001b[0m\u001b[0mpattern\u001b[0m\u001b[0;34m,\u001b[0m \u001b[0mflags\u001b[0m\u001b[0;34m)\u001b[0m\u001b[0;34m.\u001b[0m\u001b[0mfindall\u001b[0m\u001b[0;34m(\u001b[0m\u001b[0mstring\u001b[0m\u001b[0;34m)\u001b[0m\u001b[0;34m\u001b[0m\u001b[0m\n\u001b[0m\u001b[1;32m    224\u001b[0m \u001b[0;34m\u001b[0m\u001b[0m\n\u001b[1;32m    225\u001b[0m \u001b[0;32mdef\u001b[0m \u001b[0mfinditer\u001b[0m\u001b[0;34m(\u001b[0m\u001b[0mpattern\u001b[0m\u001b[0;34m,\u001b[0m \u001b[0mstring\u001b[0m\u001b[0;34m,\u001b[0m \u001b[0mflags\u001b[0m\u001b[0;34m=\u001b[0m\u001b[0;36m0\u001b[0m\u001b[0;34m)\u001b[0m\u001b[0;34m:\u001b[0m\u001b[0;34m\u001b[0m\u001b[0m\n",
      "\u001b[0;32m~/anaconda3/lib/python3.7/re.py\u001b[0m in \u001b[0;36m_compile\u001b[0;34m(pattern, flags)\u001b[0m\n\u001b[1;32m    284\u001b[0m     \u001b[0;32mif\u001b[0m \u001b[0;32mnot\u001b[0m \u001b[0msre_compile\u001b[0m\u001b[0;34m.\u001b[0m\u001b[0misstring\u001b[0m\u001b[0;34m(\u001b[0m\u001b[0mpattern\u001b[0m\u001b[0;34m)\u001b[0m\u001b[0;34m:\u001b[0m\u001b[0;34m\u001b[0m\u001b[0m\n\u001b[1;32m    285\u001b[0m         \u001b[0;32mraise\u001b[0m \u001b[0mTypeError\u001b[0m\u001b[0;34m(\u001b[0m\u001b[0;34m\"first argument must be string or compiled pattern\"\u001b[0m\u001b[0;34m)\u001b[0m\u001b[0;34m\u001b[0m\u001b[0m\n\u001b[0;32m--> 286\u001b[0;31m     \u001b[0mp\u001b[0m \u001b[0;34m=\u001b[0m \u001b[0msre_compile\u001b[0m\u001b[0;34m.\u001b[0m\u001b[0mcompile\u001b[0m\u001b[0;34m(\u001b[0m\u001b[0mpattern\u001b[0m\u001b[0;34m,\u001b[0m \u001b[0mflags\u001b[0m\u001b[0;34m)\u001b[0m\u001b[0;34m\u001b[0m\u001b[0m\n\u001b[0m\u001b[1;32m    287\u001b[0m     \u001b[0;32mif\u001b[0m \u001b[0;32mnot\u001b[0m \u001b[0;34m(\u001b[0m\u001b[0mflags\u001b[0m \u001b[0;34m&\u001b[0m \u001b[0mDEBUG\u001b[0m\u001b[0;34m)\u001b[0m\u001b[0;34m:\u001b[0m\u001b[0;34m\u001b[0m\u001b[0m\n\u001b[1;32m    288\u001b[0m         \u001b[0;32mif\u001b[0m \u001b[0mlen\u001b[0m\u001b[0;34m(\u001b[0m\u001b[0m_cache\u001b[0m\u001b[0;34m)\u001b[0m \u001b[0;34m>=\u001b[0m \u001b[0m_MAXCACHE\u001b[0m\u001b[0;34m:\u001b[0m\u001b[0;34m\u001b[0m\u001b[0m\n",
      "\u001b[0;32m~/anaconda3/lib/python3.7/sre_compile.py\u001b[0m in \u001b[0;36mcompile\u001b[0;34m(p, flags)\u001b[0m\n\u001b[1;32m    762\u001b[0m     \u001b[0;32mif\u001b[0m \u001b[0misstring\u001b[0m\u001b[0;34m(\u001b[0m\u001b[0mp\u001b[0m\u001b[0;34m)\u001b[0m\u001b[0;34m:\u001b[0m\u001b[0;34m\u001b[0m\u001b[0m\n\u001b[1;32m    763\u001b[0m         \u001b[0mpattern\u001b[0m \u001b[0;34m=\u001b[0m \u001b[0mp\u001b[0m\u001b[0;34m\u001b[0m\u001b[0m\n\u001b[0;32m--> 764\u001b[0;31m         \u001b[0mp\u001b[0m \u001b[0;34m=\u001b[0m \u001b[0msre_parse\u001b[0m\u001b[0;34m.\u001b[0m\u001b[0mparse\u001b[0m\u001b[0;34m(\u001b[0m\u001b[0mp\u001b[0m\u001b[0;34m,\u001b[0m \u001b[0mflags\u001b[0m\u001b[0;34m)\u001b[0m\u001b[0;34m\u001b[0m\u001b[0m\n\u001b[0m\u001b[1;32m    765\u001b[0m     \u001b[0;32melse\u001b[0m\u001b[0;34m:\u001b[0m\u001b[0;34m\u001b[0m\u001b[0m\n\u001b[1;32m    766\u001b[0m         \u001b[0mpattern\u001b[0m \u001b[0;34m=\u001b[0m \u001b[0;32mNone\u001b[0m\u001b[0;34m\u001b[0m\u001b[0m\n",
      "\u001b[0;32m~/anaconda3/lib/python3.7/sre_parse.py\u001b[0m in \u001b[0;36mparse\u001b[0;34m(str, flags, pattern)\u001b[0m\n\u001b[1;32m    928\u001b[0m \u001b[0;34m\u001b[0m\u001b[0m\n\u001b[1;32m    929\u001b[0m     \u001b[0;32mtry\u001b[0m\u001b[0;34m:\u001b[0m\u001b[0;34m\u001b[0m\u001b[0m\n\u001b[0;32m--> 930\u001b[0;31m         \u001b[0mp\u001b[0m \u001b[0;34m=\u001b[0m \u001b[0m_parse_sub\u001b[0m\u001b[0;34m(\u001b[0m\u001b[0msource\u001b[0m\u001b[0;34m,\u001b[0m \u001b[0mpattern\u001b[0m\u001b[0;34m,\u001b[0m \u001b[0mflags\u001b[0m \u001b[0;34m&\u001b[0m \u001b[0mSRE_FLAG_VERBOSE\u001b[0m\u001b[0;34m,\u001b[0m \u001b[0;36m0\u001b[0m\u001b[0;34m)\u001b[0m\u001b[0;34m\u001b[0m\u001b[0m\n\u001b[0m\u001b[1;32m    931\u001b[0m     \u001b[0;32mexcept\u001b[0m \u001b[0mVerbose\u001b[0m\u001b[0;34m:\u001b[0m\u001b[0;34m\u001b[0m\u001b[0m\n\u001b[1;32m    932\u001b[0m         \u001b[0;31m# the VERBOSE flag was switched on inside the pattern.  to be\u001b[0m\u001b[0;34m\u001b[0m\u001b[0;34m\u001b[0m\u001b[0m\n",
      "\u001b[0;32m~/anaconda3/lib/python3.7/sre_parse.py\u001b[0m in \u001b[0;36m_parse_sub\u001b[0;34m(source, state, verbose, nested)\u001b[0m\n\u001b[1;32m    424\u001b[0m     \u001b[0;32mwhile\u001b[0m \u001b[0;32mTrue\u001b[0m\u001b[0;34m:\u001b[0m\u001b[0;34m\u001b[0m\u001b[0m\n\u001b[1;32m    425\u001b[0m         itemsappend(_parse(source, state, verbose, nested + 1,\n\u001b[0;32m--> 426\u001b[0;31m                            not nested and not items))\n\u001b[0m\u001b[1;32m    427\u001b[0m         \u001b[0;32mif\u001b[0m \u001b[0;32mnot\u001b[0m \u001b[0msourcematch\u001b[0m\u001b[0;34m(\u001b[0m\u001b[0;34m\"|\"\u001b[0m\u001b[0;34m)\u001b[0m\u001b[0;34m:\u001b[0m\u001b[0;34m\u001b[0m\u001b[0m\n\u001b[1;32m    428\u001b[0m             \u001b[0;32mbreak\u001b[0m\u001b[0;34m\u001b[0m\u001b[0m\n",
      "\u001b[0;32m~/anaconda3/lib/python3.7/sre_parse.py\u001b[0m in \u001b[0;36m_parse\u001b[0;34m(source, state, verbose, nested, first)\u001b[0m\n\u001b[1;32m    530\u001b[0m                 \u001b[0;32mif\u001b[0m \u001b[0mthis\u001b[0m \u001b[0;32mis\u001b[0m \u001b[0;32mNone\u001b[0m\u001b[0;34m:\u001b[0m\u001b[0;34m\u001b[0m\u001b[0m\n\u001b[1;32m    531\u001b[0m                     raise source.error(\"unterminated character set\",\n\u001b[0;32m--> 532\u001b[0;31m                                        source.tell() - here)\n\u001b[0m\u001b[1;32m    533\u001b[0m                 \u001b[0;32mif\u001b[0m \u001b[0mthis\u001b[0m \u001b[0;34m==\u001b[0m \u001b[0;34m\"]\"\u001b[0m \u001b[0;32mand\u001b[0m \u001b[0mset\u001b[0m\u001b[0;34m:\u001b[0m\u001b[0;34m\u001b[0m\u001b[0m\n\u001b[1;32m    534\u001b[0m                     \u001b[0;32mbreak\u001b[0m\u001b[0;34m\u001b[0m\u001b[0m\n",
      "\u001b[0;31merror\u001b[0m: unterminated character set at position 0"
     ]
    }
   ],
   "source": [
    "import re\n",
    "s=\"\"\"1,jayaram,9676622023,JAY123ram@gmail.com\n",
    "Vedha98@yahoo.co.in,2,vedha,9676622024\n",
    "3,saillaxmi,saiLAXMI@redifff.org.in,9676622025\n",
    "\"\"\"\n",
    "print(re.findall(\"[]\",s,re.DOTALL))"
   ]
  },
  {
   "cell_type": "code",
   "execution_count": 38,
   "metadata": {},
   "outputs": [
    {
     "name": "stdout",
     "output_type": "stream",
     "text": [
      "['@', '@', '@']\n"
     ]
    }
   ],
   "source": [
    "import re\n",
    "s=\"\"\"1,jayaram,9676622023,JAY123ram@gmail.com\n",
    "Vedha98@yahoo.co.in,2,vedha,9676622024\n",
    "3,saillaxmi,saiLAXMI@redifff.org.in,9676622025\n",
    "\"\"\"\n",
    "print(re.findall(\"@\",s,re.DOTALL))"
   ]
  },
  {
   "cell_type": "code",
   "execution_count": 39,
   "metadata": {},
   "outputs": [
    {
     "name": "stdout",
     "output_type": "stream",
     "text": [
      "['m@', '8@', 'I@']\n"
     ]
    }
   ],
   "source": [
    "import re\n",
    "s=\"\"\"1,jayaram,9676622023,JAY123ram@gmail.com\n",
    "Vedha98@yahoo.co.in,2,vedha,9676622024\n",
    "3,saillaxmi,saiLAXMI@redifff.org.in,9676622025\n",
    "\"\"\"\n",
    "print(re.findall(\"[a-z0-9-_]@\",s,re.DOTALL|re.I))"
   ]
  },
  {
   "cell_type": "code",
   "execution_count": 40,
   "metadata": {},
   "outputs": [
    {
     "name": "stdout",
     "output_type": "stream",
     "text": [
      "['JAY123ram@', 'Vedha98@', 'saiLAXMI@']\n"
     ]
    }
   ],
   "source": [
    "import re\n",
    "s=\"\"\"1,jayaram,9676622023,JAY123ram@gmail.com\n",
    "Vedha98@yahoo.co.in,2,vedha,9676622024\n",
    "3,saillaxmi,saiLAXMI@redifff.org.in,9676622025\n",
    "\"\"\"\n",
    "print(re.findall(\"[a-z0-9-_]{1,}@\",s,re.DOTALL|re.I))"
   ]
  },
  {
   "cell_type": "code",
   "execution_count": 41,
   "metadata": {},
   "outputs": [
    {
     "name": "stdout",
     "output_type": "stream",
     "text": [
      "['JAY123ram@', 'Vedha98@', 'saiLAXMI@']\n"
     ]
    }
   ],
   "source": [
    "import re\n",
    "s=\"\"\"1,jayaram,9676622023,JAY123ram@gmail.com\n",
    "Vedha98@yahoo.co.in,2,vedha,9676622024\n",
    "3,saillaxmi,saiLAXMI@redifff.org.in,9676622025\n",
    "\"\"\"\n",
    "print(re.findall(\"[a-z0-9-_]+@\",s,re.DOTALL|re.I))"
   ]
  },
  {
   "cell_type": "code",
   "execution_count": 42,
   "metadata": {},
   "outputs": [
    {
     "name": "stdout",
     "output_type": "stream",
     "text": [
      "['JAY123ram@g', 'Vedha98@y', 'saiLAXMI@r']\n"
     ]
    }
   ],
   "source": [
    "import re\n",
    "s=\"\"\"1,jayaram,9676622023,JAY123ram@gmail.com\n",
    "Vedha98@yahoo.co.in,2,vedha,9676622024\n",
    "3,saillaxmi,saiLAXMI@redifff.org.in,9676622025\n",
    "\"\"\"\n",
    "print(re.findall(\"[a-z0-9-_]+@[a-z]\",s,re.DOTALL|re.I))"
   ]
  },
  {
   "cell_type": "code",
   "execution_count": 43,
   "metadata": {},
   "outputs": [
    {
     "name": "stdout",
     "output_type": "stream",
     "text": [
      "['JAY123ram@gmail', 'Vedha98@yahoo', 'saiLAXMI@redifff']\n"
     ]
    }
   ],
   "source": [
    "import re\n",
    "s=\"\"\"1,jayaram,9676622023,JAY123ram@gmail.com\n",
    "Vedha98@yahoo.co.in,2,vedha,9676622024\n",
    "3,saillaxmi,saiLAXMI@redifff.org.in,9676622025\n",
    "\"\"\"\n",
    "print(re.findall(\"[a-z0-9-_]+@[a-z]+\",s,re.DOTALL|re.I))"
   ]
  },
  {
   "cell_type": "code",
   "execution_count": 44,
   "metadata": {},
   "outputs": [
    {
     "name": "stdout",
     "output_type": "stream",
     "text": [
      "['JAY123ram@gmail.', 'Vedha98@yahoo.', 'saiLAXMI@redifff.']\n"
     ]
    }
   ],
   "source": [
    "import re\n",
    "s=\"\"\"1,jayaram,9676622023,JAY123ram@gmail.com\n",
    "Vedha98@yahoo.co.in,2,vedha,9676622024\n",
    "3,saillaxmi,saiLAXMI@redifff.org.in,9676622025\n",
    "\"\"\"\n",
    "print(re.findall(\"[a-z0-9-_]+@[a-z]+\\.\",s,re.DOTALL|re.I))"
   ]
  },
  {
   "cell_type": "code",
   "execution_count": 46,
   "metadata": {},
   "outputs": [
    {
     "name": "stdout",
     "output_type": "stream",
     "text": [
      "['JAY123ram@gmail.com', 'Vedha98@yahoo.co.in', 'saiLAXMI@redifff.org.in']\n"
     ]
    }
   ],
   "source": [
    "import re\n",
    "s=\"\"\"1,jayaram,9676622023,JAY123ram@gmail.com\n",
    "Vedha98@yahoo.co.in,2,vedha,9676622024\n",
    "3,saillaxmi,saiLAXMI@redifff.org.in,9676622025\n",
    "\"\"\"\n",
    "print(re.findall(\"[a-z0-9-_]+@[a-z]+\\.[a-z.]+\",s,re.DOTALL|re.I))"
   ]
  },
  {
   "cell_type": "code",
   "execution_count": 48,
   "metadata": {},
   "outputs": [
    {
     "name": "stdout",
     "output_type": "stream",
     "text": [
      "['JAY123ram@gmail.com', 'Vedha98@yahoo.co.in', 'saiLAXMI@redifff.org.in']\n"
     ]
    }
   ],
   "source": [
    "import re\n",
    "s=\"\"\"1,jayaram,9676622023,JAY123ram@gmail.com\n",
    "Vedha98@yahoo.co.in,2,vedha,9676622024\n",
    "3,saillaxmi,saiLAXMI@redifff.org.in,9676622025\n",
    "\"\"\"\n",
    "print(re.findall(\"\\w+@[a-z]+\\.[a-z.]+\",s,re.DOTALL|re.I))"
   ]
  },
  {
   "cell_type": "code",
   "execution_count": 49,
   "metadata": {},
   "outputs": [
    {
     "name": "stdout",
     "output_type": "stream",
     "text": [
      "<re.Match object; span=(21, 40), match='JAY123ram@gmail.com'>\n"
     ]
    }
   ],
   "source": [
    "import re\n",
    "s=\"\"\"1,jayaram,9676622023,JAY123ram@gmail.com\n",
    "Vedha98@yahoo.co.in,2,vedha,9676622024\n",
    "3,saillaxmi,saiLAXMI@redifff.org.in,9676622025\n",
    "\"\"\"\n",
    "print(re.search(\"\\w+@[a-z]+\\.[a-z.]+\",s,re.DOTALL|re.I))"
   ]
  },
  {
   "cell_type": "code",
   "execution_count": 50,
   "metadata": {},
   "outputs": [
    {
     "name": "stdout",
     "output_type": "stream",
     "text": [
      "data contains emails\n"
     ]
    }
   ],
   "source": [
    "import re\n",
    "s=\"\"\"1,jayaram,9676622023,JAY123ram@gmail.com\n",
    "Vedha98@yahoo.co.in,2,vedha,9676622024\n",
    "3,saillaxmi,saiLAXMI@redifff.org.in,9676622025\n",
    "\"\"\"\n",
    "if re.search(\"\\w+@[a-z]+\\.[a-z.]+\",s,re.DOTALL|re.I):\n",
    "    print(\"data contains emails\")\n",
    "else:\n",
    "    print(\"data not contains email\")"
   ]
  },
  {
   "cell_type": "code",
   "execution_count": 52,
   "metadata": {},
   "outputs": [
    {
     "name": "stdout",
     "output_type": "stream",
     "text": [
      "data not started with  email\n"
     ]
    }
   ],
   "source": [
    "import re\n",
    "s=\"\"\"1,jayaram,9676622023,JAY123ram@gmail.com\n",
    "Vedha98@yahoo.co.in,2,vedha,9676622024\n",
    "3,saillaxmi,saiLAXMI@redifff.org.in,9676622025\n",
    "\"\"\"\n",
    "if re.match(\"\\w+@[a-z]+\\.[a-z.]+\",s,re.DOTALL|re.I):\n",
    "    print(\"data stareted with emails\")\n",
    "else:\n",
    "    print(\"data not started with  email\")"
   ]
  },
  {
   "cell_type": "code",
   "execution_count": 53,
   "metadata": {},
   "outputs": [
    {
     "name": "stdout",
     "output_type": "stream",
     "text": [
      "data stareted with emails\n"
     ]
    }
   ],
   "source": [
    "import re\n",
    "s=\"\"\"JAY123ram@gmail.com,1,jayaram,9676622023\n",
    "Vedha98@yahoo.co.in,2,vedha,9676622024\n",
    "3,saillaxmi,saiLAXMI@redifff.org.in,9676622025\n",
    "\"\"\"\n",
    "if re.match(\"\\w+@[a-z]+\\.[a-z.]+\",s,re.DOTALL|re.I):\n",
    "    print(\"data stareted with emails\")\n",
    "else:\n",
    "    print(\"data not started with  email\")"
   ]
  },
  {
   "cell_type": "code",
   "execution_count": 55,
   "metadata": {},
   "outputs": [
    {
     "name": "stdout",
     "output_type": "stream",
     "text": [
      "['JAY123ram@gmail.com']\n"
     ]
    }
   ],
   "source": [
    "import re\n",
    "s=\"\"\"JAY123ram@gmail.com,1,jayaram,9676622023\n",
    "Vedha98@yahoo.co.in,2,vedha,9676622024\n",
    "3,saillaxmi,saiLAXMI@redifff.org.in,9676622025\n",
    "\"\"\"\n",
    "print(re.findall(\"^\\w+@[a-z]+\\.[a-z.]+\",s,re.I))\n",
    "    "
   ]
  },
  {
   "cell_type": "code",
   "execution_count": 56,
   "metadata": {},
   "outputs": [
    {
     "name": "stdout",
     "output_type": "stream",
     "text": [
      "['JAY123ram@gmail.com', 'Vedha98@yahoo.co.in']\n"
     ]
    }
   ],
   "source": [
    "import re\n",
    "s=\"\"\"JAY123ram@gmail.com,1,jayaram,9676622023\n",
    "Vedha98@yahoo.co.in,2,vedha,9676622024\n",
    "3,saillaxmi,saiLAXMI@redifff.org.in,9676622025\n",
    "\"\"\"\n",
    "print(re.findall(\"^\\w+@[a-z]+\\.[a-z.]+\",s,re.M|re.I))\n",
    "    "
   ]
  },
  {
   "cell_type": "code",
   "execution_count": 57,
   "metadata": {},
   "outputs": [
    {
     "name": "stdout",
     "output_type": "stream",
     "text": [
      "[]\n"
     ]
    }
   ],
   "source": [
    "import re\n",
    "s=\"\"\"JAY123ram@gmail.com,1,jayaram,9676622023\n",
    "Vedha98@yahoo.co.in,2,vedha,9676622024\n",
    "3,saillaxmi,saiLAXMI@redifff.org.in,9676622025\n",
    "\"\"\"\n",
    "print(re.findall(\"\\w+@[a-z]+\\.[a-z.]+$\",s,re.M|re.I))\n",
    "    "
   ]
  },
  {
   "cell_type": "code",
   "execution_count": 58,
   "metadata": {},
   "outputs": [
    {
     "name": "stdout",
     "output_type": "stream",
     "text": [
      "['JAY123ram@gmail.com']\n"
     ]
    }
   ],
   "source": [
    "import re\n",
    "s=\"\"\"1,jayaram,9676622023,JAY123ram@gmail.com\n",
    "Vedha98@yahoo.co.in,2,vedha,9676622024\n",
    "3,saillaxmi,saiLAXMI@redifff.org.in,9676622025\n",
    "\"\"\"\n",
    "print(re.findall(\"\\w+@[a-z]+\\.[a-z.]+$\",s,re.M|re.I))\n",
    "    "
   ]
  },
  {
   "cell_type": "code",
   "execution_count": 60,
   "metadata": {},
   "outputs": [
    {
     "data": {
      "text/plain": [
       "['JAY123ram@gmail.com', 'Vedha98@yahoo.co.in', 'saiLAXMI@redifff.org.in']"
      ]
     },
     "execution_count": 60,
     "metadata": {},
     "output_type": "execute_result"
    }
   ],
   "source": [
    "# constants.py\n",
    "import re\n",
    "email_reg = re.compile(\"\\w+@[a-z]+\\.[a-z.]+\")\n",
    "\n",
    "# sales.py\n",
    "#import re\n",
    "# from constants import email_reg\n",
    "s=\"\"\"1,jayaram,9676622023,JAY123ram@gmail.com\n",
    "Vedha98@yahoo.co.in,2,vedha,9676622024\n",
    "3,saillaxmi,saiLAXMI@redifff.org.in,9676622025\n",
    "\"\"\"\n",
    "email_reg.findall(s)"
   ]
  },
  {
   "cell_type": "code",
   "execution_count": 61,
   "metadata": {},
   "outputs": [
    {
     "data": {
      "text/plain": [
       "<callable_iterator at 0x7fb364f75da0>"
      ]
     },
     "execution_count": 61,
     "metadata": {},
     "output_type": "execute_result"
    }
   ],
   "source": [
    "# constants.py\n",
    "import re\n",
    "email_reg = re.compile(\"\\w+@[a-z]+\\.[a-z.]+\")\n",
    "\n",
    "# sales.py\n",
    "#import re\n",
    "# from constants import email_reg\n",
    "s=\"\"\"1,jayaram,9676622023,JAY123ram@gmail.com\n",
    "Vedha98@yahoo.co.in,2,vedha,9676622024\n",
    "3,saillaxmi,saiLAXMI@redifff.org.in,9676622025\n",
    "\"\"\"\n",
    "email_reg.finditer(s)"
   ]
  },
  {
   "cell_type": "code",
   "execution_count": 63,
   "metadata": {},
   "outputs": [
    {
     "name": "stdout",
     "output_type": "stream",
     "text": [
      "<re.Match object; span=(21, 40), match='JAY123ram@gmail.com'>\n",
      "<re.Match object; span=(41, 60), match='Vedha98@yahoo.co.in'>\n",
      "<re.Match object; span=(92, 115), match='saiLAXMI@redifff.org.in'>\n"
     ]
    }
   ],
   "source": [
    "# constants.py\n",
    "import re\n",
    "email_reg = re.compile(\"\\w+@[a-z]+\\.[a-z.]+\")\n",
    "\n",
    "# sales.py\n",
    "#import re\n",
    "# from constants import email_reg\n",
    "s=\"\"\"1,jayaram,9676622023,JAY123ram@gmail.com\n",
    "Vedha98@yahoo.co.in,2,vedha,9676622024\n",
    "3,saillaxmi,saiLAXMI@redifff.org.in,9676622025\n",
    "\"\"\"\n",
    "for email in email_reg.finditer(s):\n",
    "    print(email)"
   ]
  },
  {
   "cell_type": "code",
   "execution_count": 64,
   "metadata": {},
   "outputs": [
    {
     "name": "stdout",
     "output_type": "stream",
     "text": [
      "<re.Match object; span=(21, 40), match='JAY123ram@gmail.com'>\n",
      "<re.Match object; span=(41, 60), match='Vedha98@yahoo.co.in'>\n",
      "<re.Match object; span=(92, 115), match='saiLAXMI@redifff.org.in'>\n"
     ]
    }
   ],
   "source": [
    "# constants.py\n",
    "import re\n",
    "email_reg = re.compile(\"\\w+@[a-z]+\\.[a-z.]+\")\n",
    "\n",
    "# sales.py\n",
    "#import re\n",
    "# from constants import email_reg\n",
    "s=\"\"\"1,jayaram,9676622023,JAY123ram@gmail.com\n",
    "Vedha98@yahoo.co.in,2,vedha,9676622024\n",
    "3,saillaxmi,saiLAXMI@redifff.org.in,9676622025\n",
    "\"\"\"\n",
    "for email in email_reg.finditer(s):\n",
    "    print(email)"
   ]
  },
  {
   "cell_type": "code",
   "execution_count": 66,
   "metadata": {},
   "outputs": [
    {
     "name": "stdout",
     "output_type": "stream",
     "text": [
      "JAY123ram@gmail.com\n",
      "Vedha98@yahoo.co.in\n",
      "saiLAXMI@redifff.org.in\n"
     ]
    }
   ],
   "source": [
    "# constants.py\n",
    "import re\n",
    "email_reg = re.compile(\"\\w+@[a-z]+\\.[a-z.]+\")\n",
    "\n",
    "# sales.py\n",
    "#import re\n",
    "# from constants import email_reg\n",
    "s=\"\"\"1,jayaram,9676622023,JAY123ram@gmail.com\n",
    "Vedha98@yahoo.co.in,2,vedha,9676622024\n",
    "3,saillaxmi,saiLAXMI@redifff.org.in,9676622025\n",
    "\"\"\"\n",
    "for email in email_reg.finditer(s):\n",
    "    print(email.group(0))"
   ]
  },
  {
   "cell_type": "code",
   "execution_count": 67,
   "metadata": {},
   "outputs": [
    {
     "data": {
      "text/plain": [
       "<re.Match object; span=(0, 19), match='JAY123ram@gmail.com'>"
      ]
     },
     "execution_count": 67,
     "metadata": {},
     "output_type": "execute_result"
    }
   ],
   "source": [
    "# constants.py\n",
    "import re\n",
    "email_reg = re.compile(\"\\w+@[a-z]+\\.[a-z.]+\")\n",
    "\n",
    "# sales.py\n",
    "#import re\n",
    "# from constants import email_reg\n",
    "s=\"\"\"JAY123ram@gmail.com,1,jayaram,9676622023\n",
    "Vedha98@yahoo.co.in,2,vedha,9676622024\n",
    "3,saillaxmi,saiLAXMI@redifff.org.in,9676622025\n",
    "\"\"\"\n",
    "email_reg.match(s)"
   ]
  },
  {
   "cell_type": "code",
   "execution_count": 69,
   "metadata": {},
   "outputs": [
    {
     "data": {
      "text/plain": [
       "'JAY123ram@gmail.com'"
      ]
     },
     "execution_count": 69,
     "metadata": {},
     "output_type": "execute_result"
    }
   ],
   "source": [
    "# constants.py\n",
    "import re\n",
    "email_reg = re.compile(\"\\w+@[a-z]+\\.[a-z.]+\")\n",
    "\n",
    "# sales.py\n",
    "#import re\n",
    "# from constants import email_reg\n",
    "s=\"\"\"JAY123ram@gmail.com,1,jayaram,9676622023\n",
    "Vedha98@yahoo.co.in,2,vedha,9676622024\n",
    "3,saillaxmi,saiLAXMI@redifff.org.in,9676622025\n",
    "\"\"\"\n",
    "email_reg.match(s).group(0)"
   ]
  },
  {
   "cell_type": "code",
   "execution_count": null,
   "metadata": {},
   "outputs": [],
   "source": []
  }
 ],
 "metadata": {
  "kernelspec": {
   "display_name": "Python 3",
   "language": "python",
   "name": "python3"
  },
  "language_info": {
   "codemirror_mode": {
    "name": "ipython",
    "version": 3
   },
   "file_extension": ".py",
   "mimetype": "text/x-python",
   "name": "python",
   "nbconvert_exporter": "python",
   "pygments_lexer": "ipython3",
   "version": "3.7.0"
  }
 },
 "nbformat": 4,
 "nbformat_minor": 2
}
