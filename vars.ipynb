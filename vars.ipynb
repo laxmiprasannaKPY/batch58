{
 "cells": [
  {
   "cell_type": "code",
   "execution_count": 2,
   "metadata": {},
   "outputs": [
    {
     "name": "stdout",
     "output_type": "stream",
     "text": [
      "1000 2000 1000 3000 1000\n"
     ]
    }
   ],
   "source": [
    "a=1000\n",
    "b=2000\n",
    "c=a\n",
    "d=3000\n",
    "e=1000\n",
    "print(a,b,c,d,e)"
   ]
  },
  {
   "cell_type": "code",
   "execution_count": null,
   "metadata": {},
   "outputs": [],
   "source": [
    "\"\"\"\n",
    "#include <stdio.h>\n",
    "#include<conio.h>\n",
    "void mail(){\n",
    "int a,b,c,d,e;\n",
    "a=1000;\n",
    "b=2000;\n",
    "c=a;\n",
    "d=3000;\n",
    "e=1000;\n",
    "a=12.34\n",
    "println(a,b,c,d,e)\n",
    "}\n",
    "\"\"\""
   ]
  },
  {
   "cell_type": "code",
   "execution_count": 5,
   "metadata": {},
   "outputs": [],
   "source": [
    "a=1000\n",
    "a=\"str2\"\n",
    "a=[1,2,3,4]\n",
    "a={1,2,3}"
   ]
  },
  {
   "cell_type": "code",
   "execution_count": null,
   "metadata": {},
   "outputs": [],
   "source": [
    "int fun(int a):\n",
    "    return a+10\n",
    "fun(10)\n",
    "fun(10.23)"
   ]
  },
  {
   "cell_type": "code",
   "execution_count": null,
   "metadata": {},
   "outputs": [],
   "source": [
    "def fun(a):\n",
    "    if isinstance(a,int):\n",
    "        return a+10\n",
    "    \n",
    "fun(10)\n",
    "fun(10.23)"
   ]
  },
  {
   "cell_type": "code",
   "execution_count": 4,
   "metadata": {},
   "outputs": [
    {
     "name": "stdout",
     "output_type": "stream",
     "text": [
      "1000 2000 1000 3000 1000\n"
     ]
    }
   ],
   "source": [
    "a=1000\n",
    "b=2000\n",
    "c=a\n",
    "d=3000\n",
    "e=1000\n",
    "print(a,b,c,d,e)"
   ]
  },
  {
   "cell_type": "code",
   "execution_count": 1,
   "metadata": {},
   "outputs": [],
   "source": [
    "\"\"\"\n",
    "file1:\n",
    "1TB DATA\n",
    "RAM: 2GB\n",
    "\"\"\"\n",
    "i=\"1GB\"\n",
    "# got the emails\n",
    "j=\"1GB\"\n"
   ]
  },
  {
   "cell_type": "code",
   "execution_count": null,
   "metadata": {},
   "outputs": [],
   "source": []
  },
  {
   "cell_type": "code",
   "execution_count": 2,
   "metadata": {},
   "outputs": [],
   "source": [
    "#opensource"
   ]
  },
  {
   "cell_type": "code",
   "execution_count": 3,
   "metadata": {},
   "outputs": [],
   "source": [
    "#extensible"
   ]
  },
  {
   "cell_type": "code",
   "execution_count": 4,
   "metadata": {},
   "outputs": [],
   "source": [
    "#dynamic type"
   ]
  },
  {
   "cell_type": "code",
   "execution_count": 5,
   "metadata": {},
   "outputs": [],
   "source": [
    "#portable and pI"
   ]
  },
  {
   "cell_type": "code",
   "execution_count": 6,
   "metadata": {},
   "outputs": [],
   "source": [
    "#scalable"
   ]
  },
  {
   "cell_type": "code",
   "execution_count": 7,
   "metadata": {},
   "outputs": [],
   "source": [
    "s1=\"python \"\n",
    "s2=s1\n",
    "s3=\"apple\"\n",
    "s4=\"python \""
   ]
  },
  {
   "cell_type": "code",
   "execution_count": 8,
   "metadata": {},
   "outputs": [
    {
     "name": "stdout",
     "output_type": "stream",
     "text": [
      "python \n",
      "139901286626392\n",
      "<class 'str'>\n"
     ]
    }
   ],
   "source": [
    "print(s1)\n",
    "print(id(s1))\n",
    "print(type(s1))"
   ]
  },
  {
   "cell_type": "code",
   "execution_count": 11,
   "metadata": {},
   "outputs": [
    {
     "name": "stdout",
     "output_type": "stream",
     "text": [
      "p\n",
      "139901718910992\n",
      "<class 'str'>\n"
     ]
    }
   ],
   "source": [
    "print(s1[0])\n",
    "print(id(s1[0]))\n",
    "print(type(s1[0]))"
   ]
  },
  {
   "cell_type": "code",
   "execution_count": 12,
   "metadata": {},
   "outputs": [
    {
     "name": "stdout",
     "output_type": "stream",
     "text": [
      "139901718910992\n",
      "139901718910992\n",
      "139901718910992\n",
      "139901718910992\n"
     ]
    }
   ],
   "source": [
    "print(id(s1[0]))\n",
    "print(id(s2[0]))\n",
    "print(id(s3[1]))\n",
    "print(id(s3[2]))"
   ]
  },
  {
   "cell_type": "code",
   "execution_count": 13,
   "metadata": {},
   "outputs": [
    {
     "ename": "SyntaxError",
     "evalue": "invalid syntax (<ipython-input-13-e6dd25de600e>, line 7)",
     "output_type": "error",
     "traceback": [
      "\u001b[0;36m  File \u001b[0;32m\"<ipython-input-13-e6dd25de600e>\"\u001b[0;36m, line \u001b[0;32m7\u001b[0m\n\u001b[0;31m    a={1:2,3}\u001b[0m\n\u001b[0m            ^\u001b[0m\n\u001b[0;31mSyntaxError\u001b[0m\u001b[0;31m:\u001b[0m invalid syntax\n"
     ]
    }
   ],
   "source": [
    "a=100\n",
    "a=1.2\n",
    "a=1+2j\n",
    "a=[1,2,3,4]\n",
    "a=(1,2,3,4)\n",
    "a={1,2,3}\n",
    "a={1:2,3:4}"
   ]
  },
  {
   "cell_type": "code",
   "execution_count": 15,
   "metadata": {},
   "outputs": [
    {
     "data": {
      "text/plain": [
       "False"
      ]
     },
     "execution_count": 15,
     "metadata": {},
     "output_type": "execute_result"
    }
   ],
   "source": [
    "a=1000\n",
    "b=2000\n",
    "# +, -, *, /, //, **, %\n",
    "#>,<,>=,<=,==,is,in, not,k not in\n",
    "#&, |, ^\n",
    "a>b"
   ]
  },
  {
   "cell_type": "code",
   "execution_count": 16,
   "metadata": {},
   "outputs": [],
   "source": [
    "a=1.2\n",
    "b=\"python program\"\n",
    "c=a\n",
    "d=b\n",
    "a=2000\n",
    "b=\"python\"\n",
    "e=23.45"
   ]
  },
  {
   "cell_type": "code",
   "execution_count": null,
   "metadata": {},
   "outputs": [],
   "source": []
  }
 ],
 "metadata": {
  "kernelspec": {
   "display_name": "Python 3",
   "language": "python",
   "name": "python3"
  },
  "language_info": {
   "codemirror_mode": {
    "name": "ipython",
    "version": 3
   },
   "file_extension": ".py",
   "mimetype": "text/x-python",
   "name": "python",
   "nbconvert_exporter": "python",
   "pygments_lexer": "ipython3",
   "version": "3.7.0"
  }
 },
 "nbformat": 4,
 "nbformat_minor": 2
}
