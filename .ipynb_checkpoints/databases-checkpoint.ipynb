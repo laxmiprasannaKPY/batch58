{
 "cells": [
  {
   "cell_type": "code",
   "execution_count": 1,
   "metadata": {},
   "outputs": [],
   "source": [
    "import sqlite3"
   ]
  },
  {
   "cell_type": "code",
   "execution_count": 3,
   "metadata": {},
   "outputs": [],
   "source": [
    "con = sqlite3.connect(\"db.sqlite3\")"
   ]
  },
  {
   "cell_type": "code",
   "execution_count": 4,
   "metadata": {},
   "outputs": [
    {
     "data": {
      "text/plain": [
       "<sqlite3.Connection at 0x7fd47c0d6490>"
      ]
     },
     "execution_count": 4,
     "metadata": {},
     "output_type": "execute_result"
    }
   ],
   "source": [
    "con"
   ]
  },
  {
   "cell_type": "code",
   "execution_count": 5,
   "metadata": {},
   "outputs": [
    {
     "data": {
      "text/plain": [
       "'/home/khyaathipython/batch58'"
      ]
     },
     "execution_count": 5,
     "metadata": {},
     "output_type": "execute_result"
    }
   ],
   "source": [
    "pwd"
   ]
  },
  {
   "cell_type": "code",
   "execution_count": 6,
   "metadata": {},
   "outputs": [],
   "source": [
    "cur = con.cursor()"
   ]
  },
  {
   "cell_type": "code",
   "execution_count": 7,
   "metadata": {},
   "outputs": [
    {
     "data": {
      "text/plain": [
       "<sqlite3.Cursor at 0x7fd47c04b9d0>"
      ]
     },
     "execution_count": 7,
     "metadata": {},
     "output_type": "execute_result"
    }
   ],
   "source": [
    "cur.execute(\"create table product(id integer, name varchar(250), costprice integer)\")"
   ]
  },
  {
   "cell_type": "code",
   "execution_count": 10,
   "metadata": {},
   "outputs": [
    {
     "data": {
      "text/plain": [
       "<sqlite3.Cursor at 0x7fd47c04b9d0>"
      ]
     },
     "execution_count": 10,
     "metadata": {},
     "output_type": "execute_result"
    }
   ],
   "source": [
    "cur.execute(\"insert into product(id,name,costprice) values(1,'mi6A',6700)\")"
   ]
  },
  {
   "cell_type": "code",
   "execution_count": 11,
   "metadata": {},
   "outputs": [],
   "source": [
    "con.commit()"
   ]
  },
  {
   "cell_type": "code",
   "execution_count": 12,
   "metadata": {},
   "outputs": [],
   "source": [
    "#con.close() if you close the databas connection without commit, the buffer transactions are erased without effecting \n",
    "# in to database.\n"
   ]
  },
  {
   "cell_type": "code",
   "execution_count": 21,
   "metadata": {},
   "outputs": [
    {
     "data": {
      "text/plain": [
       "'phani'"
      ]
     },
     "execution_count": 21,
     "metadata": {},
     "output_type": "execute_result"
    }
   ],
   "source": [
    "names=[\"samba\",\"chaithanya\",\"sriniva\",\"phani\",\"pooja\",\"vamshi\",\"madhu\"]\n",
    "costs=range(30,300000)\n",
    "import random\n",
    "random.choice(names)"
   ]
  },
  {
   "cell_type": "code",
   "execution_count": 22,
   "metadata": {},
   "outputs": [
    {
     "name": "stdout",
     "output_type": "stream",
     "text": [
      "insert into product(id, name, costprice) values(2,'vamshi',225595)\n",
      "insert into product(id, name, costprice) values(3,'chaithanya',273222)\n",
      "insert into product(id, name, costprice) values(4,'madhu',133616)\n",
      "insert into product(id, name, costprice) values(5,'samba',39973)\n",
      "insert into product(id, name, costprice) values(6,'vamshi',188622)\n",
      "insert into product(id, name, costprice) values(7,'vamshi',60275)\n",
      "insert into product(id, name, costprice) values(8,'madhu',193982)\n",
      "insert into product(id, name, costprice) values(9,'vamshi',279309)\n",
      "insert into product(id, name, costprice) values(10,'vamshi',30148)\n",
      "insert into product(id, name, costprice) values(11,'chaithanya',273344)\n",
      "insert into product(id, name, costprice) values(12,'samba',65975)\n",
      "insert into product(id, name, costprice) values(13,'sriniva',8613)\n",
      "insert into product(id, name, costprice) values(14,'vamshi',40945)\n",
      "insert into product(id, name, costprice) values(15,'chaithanya',73025)\n",
      "insert into product(id, name, costprice) values(16,'pooja',149873)\n",
      "insert into product(id, name, costprice) values(17,'chaithanya',20598)\n",
      "insert into product(id, name, costprice) values(18,'vamshi',291812)\n",
      "insert into product(id, name, costprice) values(19,'vamshi',218016)\n",
      "insert into product(id, name, costprice) values(20,'madhu',125680)\n",
      "insert into product(id, name, costprice) values(21,'phani',100777)\n",
      "insert into product(id, name, costprice) values(22,'samba',134402)\n",
      "insert into product(id, name, costprice) values(23,'madhu',163067)\n",
      "insert into product(id, name, costprice) values(24,'phani',125452)\n",
      "insert into product(id, name, costprice) values(25,'pooja',57293)\n",
      "insert into product(id, name, costprice) values(26,'vamshi',67757)\n",
      "insert into product(id, name, costprice) values(27,'sriniva',82034)\n",
      "insert into product(id, name, costprice) values(28,'samba',50086)\n",
      "insert into product(id, name, costprice) values(29,'chaithanya',100007)\n",
      "insert into product(id, name, costprice) values(30,'pooja',205648)\n",
      "insert into product(id, name, costprice) values(31,'sriniva',36956)\n",
      "insert into product(id, name, costprice) values(32,'madhu',11030)\n",
      "insert into product(id, name, costprice) values(33,'pooja',249263)\n",
      "insert into product(id, name, costprice) values(34,'pooja',294290)\n",
      "insert into product(id, name, costprice) values(35,'pooja',101385)\n",
      "insert into product(id, name, costprice) values(36,'pooja',53216)\n",
      "insert into product(id, name, costprice) values(37,'sriniva',227732)\n",
      "insert into product(id, name, costprice) values(38,'vamshi',120198)\n",
      "insert into product(id, name, costprice) values(39,'samba',219346)\n",
      "insert into product(id, name, costprice) values(40,'chaithanya',219188)\n",
      "insert into product(id, name, costprice) values(41,'chaithanya',225201)\n",
      "insert into product(id, name, costprice) values(42,'madhu',214284)\n",
      "insert into product(id, name, costprice) values(43,'pooja',142764)\n",
      "insert into product(id, name, costprice) values(44,'pooja',280176)\n",
      "insert into product(id, name, costprice) values(45,'madhu',178529)\n",
      "insert into product(id, name, costprice) values(46,'phani',51818)\n",
      "insert into product(id, name, costprice) values(47,'pooja',59812)\n",
      "insert into product(id, name, costprice) values(48,'chaithanya',143162)\n",
      "insert into product(id, name, costprice) values(49,'phani',149539)\n",
      "insert into product(id, name, costprice) values(50,'phani',54952)\n",
      "insert into product(id, name, costprice) values(51,'madhu',61253)\n",
      "insert into product(id, name, costprice) values(52,'pooja',142427)\n",
      "insert into product(id, name, costprice) values(53,'vamshi',235154)\n",
      "insert into product(id, name, costprice) values(54,'phani',244725)\n",
      "insert into product(id, name, costprice) values(55,'chaithanya',274594)\n",
      "insert into product(id, name, costprice) values(56,'samba',282168)\n",
      "insert into product(id, name, costprice) values(57,'sriniva',281531)\n",
      "insert into product(id, name, costprice) values(58,'vamshi',59776)\n",
      "insert into product(id, name, costprice) values(59,'madhu',252745)\n",
      "insert into product(id, name, costprice) values(60,'vamshi',33310)\n",
      "insert into product(id, name, costprice) values(61,'sriniva',67742)\n",
      "insert into product(id, name, costprice) values(62,'chaithanya',162596)\n",
      "insert into product(id, name, costprice) values(63,'vamshi',126865)\n",
      "insert into product(id, name, costprice) values(64,'pooja',289801)\n",
      "insert into product(id, name, costprice) values(65,'vamshi',278528)\n",
      "insert into product(id, name, costprice) values(66,'samba',104012)\n",
      "insert into product(id, name, costprice) values(67,'chaithanya',121738)\n",
      "insert into product(id, name, costprice) values(68,'chaithanya',19625)\n",
      "insert into product(id, name, costprice) values(69,'chaithanya',38504)\n",
      "insert into product(id, name, costprice) values(70,'vamshi',267676)\n",
      "insert into product(id, name, costprice) values(71,'samba',72613)\n",
      "insert into product(id, name, costprice) values(72,'samba',73712)\n",
      "insert into product(id, name, costprice) values(73,'madhu',37638)\n",
      "insert into product(id, name, costprice) values(74,'pooja',103719)\n",
      "insert into product(id, name, costprice) values(75,'pooja',181613)\n",
      "insert into product(id, name, costprice) values(76,'chaithanya',142678)\n",
      "insert into product(id, name, costprice) values(77,'madhu',159844)\n",
      "insert into product(id, name, costprice) values(78,'vamshi',189292)\n",
      "insert into product(id, name, costprice) values(79,'sriniva',59804)\n",
      "insert into product(id, name, costprice) values(80,'sriniva',218873)\n",
      "insert into product(id, name, costprice) values(81,'samba',125366)\n",
      "insert into product(id, name, costprice) values(82,'madhu',158323)\n",
      "insert into product(id, name, costprice) values(83,'chaithanya',127831)\n",
      "insert into product(id, name, costprice) values(84,'vamshi',73906)\n",
      "insert into product(id, name, costprice) values(85,'madhu',161998)\n",
      "insert into product(id, name, costprice) values(86,'chaithanya',145045)\n",
      "insert into product(id, name, costprice) values(87,'pooja',77273)\n",
      "insert into product(id, name, costprice) values(88,'phani',115869)\n",
      "insert into product(id, name, costprice) values(89,'phani',156029)\n",
      "insert into product(id, name, costprice) values(90,'vamshi',113103)\n",
      "insert into product(id, name, costprice) values(91,'madhu',178284)\n",
      "insert into product(id, name, costprice) values(92,'chaithanya',193787)\n",
      "insert into product(id, name, costprice) values(93,'chaithanya',123283)\n",
      "insert into product(id, name, costprice) values(94,'chaithanya',147424)\n",
      "insert into product(id, name, costprice) values(95,'chaithanya',252865)\n",
      "insert into product(id, name, costprice) values(96,'phani',49960)\n",
      "insert into product(id, name, costprice) values(97,'madhu',299398)\n",
      "insert into product(id, name, costprice) values(98,'phani',76993)\n",
      "insert into product(id, name, costprice) values(99,'pooja',32121)\n",
      "insert into product(id, name, costprice) values(100,'madhu',228531)\n",
      "insert into product(id, name, costprice) values(101,'vamshi',131093)\n",
      "insert into product(id, name, costprice) values(102,'pooja',188536)\n",
      "insert into product(id, name, costprice) values(103,'vamshi',192376)\n",
      "insert into product(id, name, costprice) values(104,'phani',220348)\n",
      "insert into product(id, name, costprice) values(105,'chaithanya',166872)\n",
      "insert into product(id, name, costprice) values(106,'sriniva',268936)\n",
      "insert into product(id, name, costprice) values(107,'madhu',116320)\n",
      "insert into product(id, name, costprice) values(108,'pooja',128738)\n",
      "insert into product(id, name, costprice) values(109,'phani',62191)\n",
      "insert into product(id, name, costprice) values(110,'chaithanya',11385)\n",
      "insert into product(id, name, costprice) values(111,'samba',233514)\n",
      "insert into product(id, name, costprice) values(112,'sriniva',19198)\n",
      "insert into product(id, name, costprice) values(113,'chaithanya',48626)\n",
      "insert into product(id, name, costprice) values(114,'chaithanya',173508)\n",
      "insert into product(id, name, costprice) values(115,'phani',252319)\n",
      "insert into product(id, name, costprice) values(116,'sriniva',234717)\n",
      "insert into product(id, name, costprice) values(117,'samba',20414)\n",
      "insert into product(id, name, costprice) values(118,'pooja',70624)\n",
      "insert into product(id, name, costprice) values(119,'vamshi',38564)\n",
      "insert into product(id, name, costprice) values(120,'samba',156586)\n",
      "insert into product(id, name, costprice) values(121,'madhu',207934)\n",
      "insert into product(id, name, costprice) values(122,'vamshi',296249)\n",
      "insert into product(id, name, costprice) values(123,'sriniva',204211)\n",
      "insert into product(id, name, costprice) values(124,'pooja',38417)\n",
      "insert into product(id, name, costprice) values(125,'madhu',101300)\n",
      "insert into product(id, name, costprice) values(126,'vamshi',258599)\n",
      "insert into product(id, name, costprice) values(127,'pooja',279384)\n",
      "insert into product(id, name, costprice) values(128,'phani',104786)\n",
      "insert into product(id, name, costprice) values(129,'samba',235449)\n",
      "insert into product(id, name, costprice) values(130,'pooja',139696)\n",
      "insert into product(id, name, costprice) values(131,'sriniva',272107)\n",
      "insert into product(id, name, costprice) values(132,'vamshi',286303)\n",
      "insert into product(id, name, costprice) values(133,'vamshi',48378)\n",
      "insert into product(id, name, costprice) values(134,'chaithanya',21675)\n",
      "insert into product(id, name, costprice) values(135,'vamshi',128789)\n",
      "insert into product(id, name, costprice) values(136,'samba',288139)\n",
      "insert into product(id, name, costprice) values(137,'pooja',264882)\n",
      "insert into product(id, name, costprice) values(138,'madhu',141662)\n",
      "insert into product(id, name, costprice) values(139,'chaithanya',25660)\n",
      "insert into product(id, name, costprice) values(140,'pooja',184388)\n",
      "insert into product(id, name, costprice) values(141,'phani',87094)\n",
      "insert into product(id, name, costprice) values(142,'phani',50012)\n",
      "insert into product(id, name, costprice) values(143,'vamshi',88618)\n",
      "insert into product(id, name, costprice) values(144,'pooja',66519)\n",
      "insert into product(id, name, costprice) values(145,'sriniva',175434)\n",
      "insert into product(id, name, costprice) values(146,'madhu',259)\n",
      "insert into product(id, name, costprice) values(147,'chaithanya',275106)\n",
      "insert into product(id, name, costprice) values(148,'madhu',91355)\n",
      "insert into product(id, name, costprice) values(149,'phani',235526)\n",
      "insert into product(id, name, costprice) values(150,'vamshi',83085)\n",
      "insert into product(id, name, costprice) values(151,'vamshi',48814)\n",
      "insert into product(id, name, costprice) values(152,'chaithanya',282245)\n",
      "insert into product(id, name, costprice) values(153,'vamshi',269955)\n",
      "insert into product(id, name, costprice) values(154,'madhu',82420)\n",
      "insert into product(id, name, costprice) values(155,'pooja',48705)\n",
      "insert into product(id, name, costprice) values(156,'chaithanya',35442)\n",
      "insert into product(id, name, costprice) values(157,'pooja',149916)\n",
      "insert into product(id, name, costprice) values(158,'samba',15308)\n",
      "insert into product(id, name, costprice) values(159,'chaithanya',109270)\n",
      "insert into product(id, name, costprice) values(160,'pooja',163435)\n",
      "insert into product(id, name, costprice) values(161,'phani',122658)\n",
      "insert into product(id, name, costprice) values(162,'madhu',129323)\n",
      "insert into product(id, name, costprice) values(163,'madhu',255008)\n",
      "insert into product(id, name, costprice) values(164,'phani',162545)\n",
      "insert into product(id, name, costprice) values(165,'vamshi',192053)\n",
      "insert into product(id, name, costprice) values(166,'madhu',135150)\n",
      "insert into product(id, name, costprice) values(167,'vamshi',68236)\n",
      "insert into product(id, name, costprice) values(168,'sriniva',192122)\n",
      "insert into product(id, name, costprice) values(169,'pooja',70939)\n",
      "insert into product(id, name, costprice) values(170,'sriniva',158676)\n",
      "insert into product(id, name, costprice) values(171,'chaithanya',107291)\n",
      "insert into product(id, name, costprice) values(172,'madhu',161843)\n",
      "insert into product(id, name, costprice) values(173,'sriniva',132783)\n",
      "insert into product(id, name, costprice) values(174,'phani',92290)\n",
      "insert into product(id, name, costprice) values(175,'samba',19326)\n",
      "insert into product(id, name, costprice) values(176,'madhu',199122)\n",
      "insert into product(id, name, costprice) values(177,'chaithanya',119779)\n",
      "insert into product(id, name, costprice) values(178,'pooja',243365)\n",
      "insert into product(id, name, costprice) values(179,'madhu',78134)\n",
      "insert into product(id, name, costprice) values(180,'chaithanya',205019)\n",
      "insert into product(id, name, costprice) values(181,'chaithanya',42035)\n",
      "insert into product(id, name, costprice) values(182,'samba',270989)\n",
      "insert into product(id, name, costprice) values(183,'pooja',108836)\n",
      "insert into product(id, name, costprice) values(184,'samba',203940)\n",
      "insert into product(id, name, costprice) values(185,'chaithanya',190746)\n",
      "insert into product(id, name, costprice) values(186,'pooja',6619)\n",
      "insert into product(id, name, costprice) values(187,'phani',194918)\n",
      "insert into product(id, name, costprice) values(188,'madhu',68297)\n",
      "insert into product(id, name, costprice) values(189,'vamshi',83180)\n",
      "insert into product(id, name, costprice) values(190,'chaithanya',289133)\n",
      "insert into product(id, name, costprice) values(191,'madhu',110844)\n",
      "insert into product(id, name, costprice) values(192,'madhu',146958)\n",
      "insert into product(id, name, costprice) values(193,'samba',284598)\n",
      "insert into product(id, name, costprice) values(194,'pooja',265513)\n",
      "insert into product(id, name, costprice) values(195,'phani',288379)\n",
      "insert into product(id, name, costprice) values(196,'pooja',221167)\n",
      "insert into product(id, name, costprice) values(197,'pooja',170991)\n",
      "insert into product(id, name, costprice) values(198,'samba',216248)\n",
      "insert into product(id, name, costprice) values(199,'pooja',143811)\n"
     ]
    },
    {
     "data": {
      "text/plain": [
       "'vamshi'"
      ]
     },
     "execution_count": 22,
     "metadata": {},
     "output_type": "execute_result"
    }
   ],
   "source": [
    "names=[\"samba\",\"chaithanya\",\"sriniva\",\"phani\",\"pooja\",\"vamshi\",\"madhu\"]\n",
    "costs=range(30,300000)\n",
    "import random\n",
    "for i in range(2,200):\n",
    "    q=f\"insert into product(id, name, costprice) values({i},'{random.choice(names)}',{random.choice(costs)})\"\n",
    "    print(q)\n",
    "random.choice(names)"
   ]
  },
  {
   "cell_type": "code",
   "execution_count": 23,
   "metadata": {},
   "outputs": [
    {
     "data": {
      "text/plain": [
       "'chaithanya'"
      ]
     },
     "execution_count": 23,
     "metadata": {},
     "output_type": "execute_result"
    }
   ],
   "source": [
    "names=[\"samba\",\"chaithanya\",\"sriniva\",\"phani\",\"pooja\",\"vamshi\",\"madhu\"]\n",
    "costs=range(30,300000)\n",
    "import random\n",
    "for i in range(2,200):\n",
    "    q=f\"insert into product(id, name, costprice) values({i},'{random.choice(names)}',{random.choice(costs)})\"\n",
    "    cur.execute(q)\n",
    "    con.commit()\n",
    "random.choice(names)"
   ]
  },
  {
   "cell_type": "code",
   "execution_count": 24,
   "metadata": {},
   "outputs": [],
   "source": [
    "q=\"update product set costprice=221028 where id=3\"\n",
    "cur.execute(q)\n",
    "con.commit()"
   ]
  },
  {
   "cell_type": "code",
   "execution_count": 25,
   "metadata": {},
   "outputs": [],
   "source": [
    "q=\"delete from product where id=3\"\n",
    "cur.execute(q)\n",
    "con.commit()"
   ]
  },
  {
   "cell_type": "code",
   "execution_count": 26,
   "metadata": {},
   "outputs": [],
   "source": [
    "con.close()"
   ]
  },
  {
   "cell_type": "code",
   "execution_count": 27,
   "metadata": {},
   "outputs": [],
   "source": [
    "import psycopg2\n",
    "# pip install psycopg2"
   ]
  },
  {
   "cell_type": "code",
   "execution_count": 29,
   "metadata": {},
   "outputs": [],
   "source": [
    "con = psycopg2.connect(host=\"localhost\",user=\"postgres\",password=\"root\",database=\"batch58\",port=5432)"
   ]
  },
  {
   "cell_type": "code",
   "execution_count": 30,
   "metadata": {},
   "outputs": [],
   "source": [
    "cur = con.cursor()"
   ]
  },
  {
   "cell_type": "code",
   "execution_count": 31,
   "metadata": {},
   "outputs": [
    {
     "name": "stdout",
     "output_type": "stream",
     "text": [
      "insert into product(id, name, costprice) values(1,'madhu',67484)\n",
      "insert into product(id, name, costprice) values(2,'chaithanya',242184)\n",
      "insert into product(id, name, costprice) values(3,'chaithanya',65647)\n",
      "insert into product(id, name, costprice) values(4,'chaithanya',251850)\n",
      "insert into product(id, name, costprice) values(5,'chaithanya',227876)\n",
      "insert into product(id, name, costprice) values(6,'madhu',59882)\n",
      "insert into product(id, name, costprice) values(7,'sriniva',86693)\n",
      "insert into product(id, name, costprice) values(8,'pooja',161738)\n",
      "insert into product(id, name, costprice) values(9,'phani',286910)\n",
      "insert into product(id, name, costprice) values(10,'samba',232923)\n",
      "insert into product(id, name, costprice) values(11,'samba',224344)\n",
      "insert into product(id, name, costprice) values(12,'vamshi',62325)\n",
      "insert into product(id, name, costprice) values(13,'sriniva',282249)\n",
      "insert into product(id, name, costprice) values(14,'sriniva',35390)\n",
      "insert into product(id, name, costprice) values(15,'madhu',67101)\n",
      "insert into product(id, name, costprice) values(16,'phani',70811)\n",
      "insert into product(id, name, costprice) values(17,'madhu',112804)\n",
      "insert into product(id, name, costprice) values(18,'vamshi',157707)\n",
      "insert into product(id, name, costprice) values(19,'vamshi',148519)\n",
      "insert into product(id, name, costprice) values(20,'sriniva',193285)\n",
      "insert into product(id, name, costprice) values(21,'samba',175811)\n",
      "insert into product(id, name, costprice) values(22,'pooja',111848)\n",
      "insert into product(id, name, costprice) values(23,'sriniva',293772)\n",
      "insert into product(id, name, costprice) values(24,'chaithanya',88347)\n",
      "insert into product(id, name, costprice) values(25,'sriniva',270701)\n",
      "insert into product(id, name, costprice) values(26,'chaithanya',112453)\n",
      "insert into product(id, name, costprice) values(27,'chaithanya',65250)\n",
      "insert into product(id, name, costprice) values(28,'sriniva',295327)\n",
      "insert into product(id, name, costprice) values(29,'sriniva',162059)\n",
      "insert into product(id, name, costprice) values(30,'vamshi',40748)\n",
      "insert into product(id, name, costprice) values(31,'vamshi',145795)\n",
      "insert into product(id, name, costprice) values(32,'vamshi',192396)\n",
      "insert into product(id, name, costprice) values(33,'madhu',283173)\n",
      "insert into product(id, name, costprice) values(34,'pooja',249357)\n",
      "insert into product(id, name, costprice) values(35,'sriniva',142205)\n",
      "insert into product(id, name, costprice) values(36,'pooja',105579)\n",
      "insert into product(id, name, costprice) values(37,'sriniva',80643)\n",
      "insert into product(id, name, costprice) values(38,'pooja',110112)\n",
      "insert into product(id, name, costprice) values(39,'vamshi',119007)\n",
      "insert into product(id, name, costprice) values(40,'phani',25239)\n",
      "insert into product(id, name, costprice) values(41,'vamshi',267715)\n",
      "insert into product(id, name, costprice) values(42,'pooja',108171)\n",
      "insert into product(id, name, costprice) values(43,'pooja',254580)\n",
      "insert into product(id, name, costprice) values(44,'pooja',186070)\n",
      "insert into product(id, name, costprice) values(45,'samba',263456)\n",
      "insert into product(id, name, costprice) values(46,'samba',19980)\n",
      "insert into product(id, name, costprice) values(47,'pooja',14221)\n",
      "insert into product(id, name, costprice) values(48,'madhu',275754)\n",
      "insert into product(id, name, costprice) values(49,'sriniva',279661)\n",
      "insert into product(id, name, costprice) values(50,'madhu',264102)\n",
      "insert into product(id, name, costprice) values(51,'phani',46044)\n",
      "insert into product(id, name, costprice) values(52,'phani',55716)\n",
      "insert into product(id, name, costprice) values(53,'sriniva',121022)\n",
      "insert into product(id, name, costprice) values(54,'phani',134502)\n",
      "insert into product(id, name, costprice) values(55,'phani',128282)\n",
      "insert into product(id, name, costprice) values(56,'madhu',225420)\n",
      "insert into product(id, name, costprice) values(57,'pooja',267001)\n",
      "insert into product(id, name, costprice) values(58,'samba',121204)\n",
      "insert into product(id, name, costprice) values(59,'pooja',101819)\n",
      "insert into product(id, name, costprice) values(60,'sriniva',97635)\n",
      "insert into product(id, name, costprice) values(61,'vamshi',1243)\n",
      "insert into product(id, name, costprice) values(62,'pooja',248408)\n",
      "insert into product(id, name, costprice) values(63,'chaithanya',127221)\n",
      "insert into product(id, name, costprice) values(64,'pooja',180054)\n",
      "insert into product(id, name, costprice) values(65,'madhu',4061)\n",
      "insert into product(id, name, costprice) values(66,'samba',84425)\n",
      "insert into product(id, name, costprice) values(67,'madhu',51403)\n",
      "insert into product(id, name, costprice) values(68,'pooja',90438)\n",
      "insert into product(id, name, costprice) values(69,'phani',206224)\n",
      "insert into product(id, name, costprice) values(70,'samba',76557)\n",
      "insert into product(id, name, costprice) values(71,'vamshi',236278)\n",
      "insert into product(id, name, costprice) values(72,'madhu',5191)\n",
      "insert into product(id, name, costprice) values(73,'vamshi',179009)\n",
      "insert into product(id, name, costprice) values(74,'chaithanya',201694)\n",
      "insert into product(id, name, costprice) values(75,'vamshi',218072)\n",
      "insert into product(id, name, costprice) values(76,'chaithanya',258749)\n",
      "insert into product(id, name, costprice) values(77,'phani',144386)\n",
      "insert into product(id, name, costprice) values(78,'samba',557)\n",
      "insert into product(id, name, costprice) values(79,'madhu',75331)\n",
      "insert into product(id, name, costprice) values(80,'sriniva',243391)\n",
      "insert into product(id, name, costprice) values(81,'samba',269005)\n",
      "insert into product(id, name, costprice) values(82,'madhu',104836)\n",
      "insert into product(id, name, costprice) values(83,'sriniva',24001)\n",
      "insert into product(id, name, costprice) values(84,'madhu',80175)\n",
      "insert into product(id, name, costprice) values(85,'chaithanya',143483)\n",
      "insert into product(id, name, costprice) values(86,'vamshi',212475)\n",
      "insert into product(id, name, costprice) values(87,'vamshi',109786)\n",
      "insert into product(id, name, costprice) values(88,'pooja',160437)\n",
      "insert into product(id, name, costprice) values(89,'sriniva',236655)\n",
      "insert into product(id, name, costprice) values(90,'chaithanya',152780)\n",
      "insert into product(id, name, costprice) values(91,'sriniva',256620)\n",
      "insert into product(id, name, costprice) values(92,'pooja',252386)\n",
      "insert into product(id, name, costprice) values(93,'vamshi',251457)\n",
      "insert into product(id, name, costprice) values(94,'madhu',167218)\n",
      "insert into product(id, name, costprice) values(95,'chaithanya',190325)\n",
      "insert into product(id, name, costprice) values(96,'chaithanya',209167)\n",
      "insert into product(id, name, costprice) values(97,'pooja',211714)\n",
      "insert into product(id, name, costprice) values(98,'chaithanya',51141)\n",
      "insert into product(id, name, costprice) values(99,'sriniva',111205)\n",
      "insert into product(id, name, costprice) values(100,'madhu',204242)\n",
      "insert into product(id, name, costprice) values(101,'sriniva',130559)\n",
      "insert into product(id, name, costprice) values(102,'samba',166984)\n",
      "insert into product(id, name, costprice) values(103,'phani',38648)\n",
      "insert into product(id, name, costprice) values(104,'madhu',157350)\n",
      "insert into product(id, name, costprice) values(105,'madhu',66668)\n",
      "insert into product(id, name, costprice) values(106,'pooja',255625)\n",
      "insert into product(id, name, costprice) values(107,'chaithanya',248136)\n",
      "insert into product(id, name, costprice) values(108,'vamshi',48455)\n",
      "insert into product(id, name, costprice) values(109,'phani',296141)\n",
      "insert into product(id, name, costprice) values(110,'madhu',265391)\n",
      "insert into product(id, name, costprice) values(111,'vamshi',186030)\n",
      "insert into product(id, name, costprice) values(112,'samba',44934)\n",
      "insert into product(id, name, costprice) values(113,'chaithanya',284133)\n",
      "insert into product(id, name, costprice) values(114,'sriniva',71684)\n",
      "insert into product(id, name, costprice) values(115,'samba',36401)\n",
      "insert into product(id, name, costprice) values(116,'madhu',238083)\n",
      "insert into product(id, name, costprice) values(117,'madhu',173017)\n",
      "insert into product(id, name, costprice) values(118,'vamshi',56422)\n",
      "insert into product(id, name, costprice) values(119,'phani',12408)\n",
      "insert into product(id, name, costprice) values(120,'chaithanya',118069)\n",
      "insert into product(id, name, costprice) values(121,'madhu',65020)\n",
      "insert into product(id, name, costprice) values(122,'pooja',176390)\n",
      "insert into product(id, name, costprice) values(123,'pooja',93420)\n",
      "insert into product(id, name, costprice) values(124,'phani',46928)\n",
      "insert into product(id, name, costprice) values(125,'sriniva',14984)\n",
      "insert into product(id, name, costprice) values(126,'sriniva',66276)\n",
      "insert into product(id, name, costprice) values(127,'samba',209413)\n",
      "insert into product(id, name, costprice) values(128,'sriniva',106294)\n",
      "insert into product(id, name, costprice) values(129,'pooja',192872)\n",
      "insert into product(id, name, costprice) values(130,'pooja',34546)\n",
      "insert into product(id, name, costprice) values(131,'phani',288488)\n",
      "insert into product(id, name, costprice) values(132,'madhu',266466)\n",
      "insert into product(id, name, costprice) values(133,'chaithanya',7186)\n",
      "insert into product(id, name, costprice) values(134,'madhu',290128)\n",
      "insert into product(id, name, costprice) values(135,'phani',192299)\n",
      "insert into product(id, name, costprice) values(136,'vamshi',22577)\n",
      "insert into product(id, name, costprice) values(137,'chaithanya',174775)\n",
      "insert into product(id, name, costprice) values(138,'phani',187400)\n",
      "insert into product(id, name, costprice) values(139,'samba',61414)\n",
      "insert into product(id, name, costprice) values(140,'sriniva',285330)\n",
      "insert into product(id, name, costprice) values(141,'sriniva',234836)\n",
      "insert into product(id, name, costprice) values(142,'madhu',256477)\n",
      "insert into product(id, name, costprice) values(143,'sriniva',194973)\n",
      "insert into product(id, name, costprice) values(144,'chaithanya',286960)\n",
      "insert into product(id, name, costprice) values(145,'samba',182077)\n",
      "insert into product(id, name, costprice) values(146,'samba',198027)\n",
      "insert into product(id, name, costprice) values(147,'phani',242497)\n",
      "insert into product(id, name, costprice) values(148,'madhu',130283)\n",
      "insert into product(id, name, costprice) values(149,'vamshi',74644)\n",
      "insert into product(id, name, costprice) values(150,'chaithanya',28127)\n",
      "insert into product(id, name, costprice) values(151,'madhu',264825)\n",
      "insert into product(id, name, costprice) values(152,'sriniva',91729)\n",
      "insert into product(id, name, costprice) values(153,'pooja',256875)\n",
      "insert into product(id, name, costprice) values(154,'sriniva',90178)\n",
      "insert into product(id, name, costprice) values(155,'vamshi',256273)\n",
      "insert into product(id, name, costprice) values(156,'chaithanya',290271)\n",
      "insert into product(id, name, costprice) values(157,'pooja',81178)\n",
      "insert into product(id, name, costprice) values(158,'vamshi',174837)\n",
      "insert into product(id, name, costprice) values(159,'sriniva',201038)\n",
      "insert into product(id, name, costprice) values(160,'madhu',175480)\n",
      "insert into product(id, name, costprice) values(161,'madhu',206196)\n",
      "insert into product(id, name, costprice) values(162,'chaithanya',286932)\n",
      "insert into product(id, name, costprice) values(163,'phani',274274)\n",
      "insert into product(id, name, costprice) values(164,'samba',271492)\n",
      "insert into product(id, name, costprice) values(165,'samba',45337)\n",
      "insert into product(id, name, costprice) values(166,'vamshi',242274)\n",
      "insert into product(id, name, costprice) values(167,'phani',295876)\n",
      "insert into product(id, name, costprice) values(168,'phani',117871)\n",
      "insert into product(id, name, costprice) values(169,'madhu',77954)\n",
      "insert into product(id, name, costprice) values(170,'samba',67882)\n",
      "insert into product(id, name, costprice) values(171,'samba',163434)\n",
      "insert into product(id, name, costprice) values(172,'chaithanya',130050)\n",
      "insert into product(id, name, costprice) values(173,'pooja',226656)\n",
      "insert into product(id, name, costprice) values(174,'chaithanya',261228)\n",
      "insert into product(id, name, costprice) values(175,'samba',158191)\n",
      "insert into product(id, name, costprice) values(176,'madhu',294781)\n",
      "insert into product(id, name, costprice) values(177,'samba',84210)\n",
      "insert into product(id, name, costprice) values(178,'vamshi',263630)\n",
      "insert into product(id, name, costprice) values(179,'chaithanya',80510)\n",
      "insert into product(id, name, costprice) values(180,'vamshi',245045)\n",
      "insert into product(id, name, costprice) values(181,'chaithanya',54707)\n",
      "insert into product(id, name, costprice) values(182,'sriniva',84740)\n",
      "insert into product(id, name, costprice) values(183,'madhu',168170)\n",
      "insert into product(id, name, costprice) values(184,'phani',234457)\n",
      "insert into product(id, name, costprice) values(185,'madhu',69005)\n",
      "insert into product(id, name, costprice) values(186,'vamshi',39472)\n",
      "insert into product(id, name, costprice) values(187,'phani',233452)\n",
      "insert into product(id, name, costprice) values(188,'chaithanya',150265)\n",
      "insert into product(id, name, costprice) values(189,'samba',205344)\n",
      "insert into product(id, name, costprice) values(190,'chaithanya',296284)\n",
      "insert into product(id, name, costprice) values(191,'chaithanya',294456)\n",
      "insert into product(id, name, costprice) values(192,'pooja',72410)\n",
      "insert into product(id, name, costprice) values(193,'samba',238448)\n",
      "insert into product(id, name, costprice) values(194,'vamshi',54254)\n",
      "insert into product(id, name, costprice) values(195,'vamshi',257688)\n",
      "insert into product(id, name, costprice) values(196,'phani',219825)\n",
      "insert into product(id, name, costprice) values(197,'vamshi',176154)\n",
      "insert into product(id, name, costprice) values(198,'chaithanya',97570)\n",
      "insert into product(id, name, costprice) values(199,'sriniva',100280)\n"
     ]
    },
    {
     "data": {
      "text/plain": [
       "'vamshi'"
      ]
     },
     "execution_count": 31,
     "metadata": {},
     "output_type": "execute_result"
    }
   ],
   "source": [
    "cur.execute(\"create table product(id integer, name varchar(250), costprice integer)\")\n",
    "names=[\"samba\",\"chaithanya\",\"sriniva\",\"phani\",\"pooja\",\"vamshi\",\"madhu\"]\n",
    "costs=range(30,300000)\n",
    "import random\n",
    "for i in range(1,200):\n",
    "    q=f\"insert into product(id, name, costprice) values({i},'{random.choice(names)}',{random.choice(costs)})\"\n",
    "    print(q)\n",
    "random.choice(names)"
   ]
  },
  {
   "cell_type": "code",
   "execution_count": 32,
   "metadata": {},
   "outputs": [
    {
     "data": {
      "text/plain": [
       "'pooja'"
      ]
     },
     "execution_count": 32,
     "metadata": {},
     "output_type": "execute_result"
    }
   ],
   "source": [
    "names=[\"samba\",\"chaithanya\",\"sriniva\",\"phani\",\"pooja\",\"vamshi\",\"madhu\"]\n",
    "costs=range(30,300000)\n",
    "import random\n",
    "for i in range(1,200):\n",
    "    q=f\"insert into product(id, name, costprice) values({i},'{random.choice(names)}',{random.choice(costs)})\"\n",
    "    cur.execute(q)\n",
    "    con.commit()\n",
    "random.choice(names)"
   ]
  },
  {
   "cell_type": "code",
   "execution_count": 33,
   "metadata": {},
   "outputs": [],
   "source": [
    "q=\"select * from product where id=4\"\n",
    "cur.execute(q)"
   ]
  },
  {
   "cell_type": "code",
   "execution_count": 34,
   "metadata": {},
   "outputs": [
    {
     "data": {
      "text/plain": [
       "[(4, 'phani', 263629)]"
      ]
     },
     "execution_count": 34,
     "metadata": {},
     "output_type": "execute_result"
    }
   ],
   "source": [
    "cur.fetchall()"
   ]
  },
  {
   "cell_type": "code",
   "execution_count": 44,
   "metadata": {},
   "outputs": [
    {
     "ename": "InternalError",
     "evalue": "current transaction is aborted, commands ignored until end of transaction block\n",
     "output_type": "error",
     "traceback": [
      "\u001b[0;31m---------------------------------------------------------------------------\u001b[0m",
      "\u001b[0;31mInternalError\u001b[0m                             Traceback (most recent call last)",
      "\u001b[0;32m<ipython-input-44-8e0b74f225f4>\u001b[0m in \u001b[0;36m<module>\u001b[0;34m()\u001b[0m\n\u001b[1;32m      1\u001b[0m \u001b[0mq\u001b[0m\u001b[0;34m=\u001b[0m\u001b[0;34m\"select count(*) as c,name from product group by name\"\u001b[0m\u001b[0;34m\u001b[0m\u001b[0m\n\u001b[0;32m----> 2\u001b[0;31m \u001b[0mcur\u001b[0m\u001b[0;34m.\u001b[0m\u001b[0mexecute\u001b[0m\u001b[0;34m(\u001b[0m\u001b[0mq\u001b[0m\u001b[0;34m)\u001b[0m\u001b[0;34m\u001b[0m\u001b[0m\n\u001b[0m",
      "\u001b[0;31mInternalError\u001b[0m: current transaction is aborted, commands ignored until end of transaction block\n"
     ]
    }
   ],
   "source": [
    "q=\"select count(*) as c,name from product group by name\"\n",
    "cur.execute(q)"
   ]
  },
  {
   "cell_type": "code",
   "execution_count": 46,
   "metadata": {},
   "outputs": [
    {
     "ename": "InternalError",
     "evalue": "current transaction is aborted, commands ignored until end of transaction block\n",
     "output_type": "error",
     "traceback": [
      "\u001b[0;31m---------------------------------------------------------------------------\u001b[0m",
      "\u001b[0;31mInternalError\u001b[0m                             Traceback (most recent call last)",
      "\u001b[0;32m<ipython-input-46-e9b0dd5d687f>\u001b[0m in \u001b[0;36m<module>\u001b[0;34m()\u001b[0m\n\u001b[0;32m----> 1\u001b[0;31m \u001b[0mcur\u001b[0m\u001b[0;34m.\u001b[0m\u001b[0mexecute\u001b[0m\u001b[0;34m(\u001b[0m\u001b[0;34m\"select * from product\"\u001b[0m\u001b[0;34m)\u001b[0m\u001b[0;34m\u001b[0m\u001b[0m\n\u001b[0m",
      "\u001b[0;31mInternalError\u001b[0m: current transaction is aborted, commands ignored until end of transaction block\n"
     ]
    }
   ],
   "source": [
    "cur.execute(\"select * from product\")"
   ]
  },
  {
   "cell_type": "code",
   "execution_count": 48,
   "metadata": {},
   "outputs": [
    {
     "name": "stdout",
     "output_type": "stream",
     "text": [
      "[(26, 'vamshi'), (38, 'sriniva'), (26, 'pooja'), (33, 'phani'), (19, 'madhu'), (27, 'samba'), (30, 'chaithanya')]\n"
     ]
    }
   ],
   "source": [
    "con.close()\n",
    "con = psycopg2.connect(host=\"localhost\",user=\"postgres\",password=\"root\",database=\"batch58\",port=5432)\n",
    "cur = con.cursor()\n",
    "q=\"select count(*) as c,name from product group by name\"\n",
    "cur.execute(q)\n",
    "print(cur.fetchall())"
   ]
  },
  {
   "cell_type": "code",
   "execution_count": 49,
   "metadata": {},
   "outputs": [
    {
     "data": {
      "text/plain": [
       "[(19, 'madhu'),\n",
       " (26, 'vamshi'),\n",
       " (26, 'pooja'),\n",
       " (27, 'samba'),\n",
       " (30, 'chaithanya'),\n",
       " (33, 'phani'),\n",
       " (38, 'sriniva')]"
      ]
     },
     "execution_count": 49,
     "metadata": {},
     "output_type": "execute_result"
    }
   ],
   "source": [
    "l = [(26, 'vamshi'), (38, 'sriniva'), (26, 'pooja'), (33, 'phani'), (19, 'madhu'), (27, 'samba'), (30, 'chaithanya')]\n",
    "l.sort(key=lambda x:x[0])\n",
    "l"
   ]
  },
  {
   "cell_type": "code",
   "execution_count": 50,
   "metadata": {},
   "outputs": [
    {
     "data": {
      "text/plain": [
       "[(30, 'chaithanya'),\n",
       " (19, 'madhu'),\n",
       " (33, 'phani'),\n",
       " (26, 'pooja'),\n",
       " (27, 'samba'),\n",
       " (38, 'sriniva'),\n",
       " (26, 'vamshi')]"
      ]
     },
     "execution_count": 50,
     "metadata": {},
     "output_type": "execute_result"
    }
   ],
   "source": [
    "l = [(26, 'vamshi'), (38, 'sriniva'), (26, 'pooja'), (33, 'phani'), (19, 'madhu'), (27, 'samba'), (30, 'chaithanya')]\n",
    "l.sort(key=lambda x:x[1])\n",
    "l"
   ]
  },
  {
   "cell_type": "code",
   "execution_count": null,
   "metadata": {},
   "outputs": [],
   "source": []
  }
 ],
 "metadata": {
  "kernelspec": {
   "display_name": "Python 3",
   "language": "python",
   "name": "python3"
  },
  "language_info": {
   "codemirror_mode": {
    "name": "ipython",
    "version": 3
   },
   "file_extension": ".py",
   "mimetype": "text/x-python",
   "name": "python",
   "nbconvert_exporter": "python",
   "pygments_lexer": "ipython3",
   "version": "3.7.0"
  }
 },
 "nbformat": 4,
 "nbformat_minor": 2
}
