{
 "cells": [
  {
   "cell_type": "code",
   "execution_count": 1,
   "metadata": {},
   "outputs": [
    {
     "name": "stdout",
     "output_type": "stream",
     "text": [
      "<function fun at 0x7fac8c2439d8>\n"
     ]
    }
   ],
   "source": [
    "def fun():\n",
    "    print(\"this is fun\")\n",
    "print(fun)"
   ]
  },
  {
   "cell_type": "code",
   "execution_count": 2,
   "metadata": {},
   "outputs": [
    {
     "name": "stdout",
     "output_type": "stream",
     "text": [
      "this is fun\n",
      "None\n"
     ]
    }
   ],
   "source": [
    "def fun():\n",
    "    print(\"this is fun\")\n",
    "print(fun())"
   ]
  },
  {
   "cell_type": "code",
   "execution_count": 3,
   "metadata": {},
   "outputs": [
    {
     "name": "stdout",
     "output_type": "stream",
     "text": [
      "<function fun at 0x7fac8c243a60>\n"
     ]
    }
   ],
   "source": [
    "def fun():\n",
    "    print(\"this is fun\")\n",
    "a=fun\n",
    "print(a)"
   ]
  },
  {
   "cell_type": "code",
   "execution_count": 4,
   "metadata": {},
   "outputs": [
    {
     "name": "stdout",
     "output_type": "stream",
     "text": [
      "this is fun\n"
     ]
    }
   ],
   "source": [
    "def fun():\n",
    "    print(\"this is fun\")\n",
    "a=fun\n",
    "a()"
   ]
  },
  {
   "cell_type": "code",
   "execution_count": 5,
   "metadata": {},
   "outputs": [
    {
     "name": "stdout",
     "output_type": "stream",
     "text": [
      "this is fun\n"
     ]
    }
   ],
   "source": [
    "def fun1(f):\n",
    "    f()\n",
    "def fun():\n",
    "    print(\"this is fun\")\n",
    "fun1(fun)"
   ]
  },
  {
   "cell_type": "code",
   "execution_count": 6,
   "metadata": {},
   "outputs": [
    {
     "name": "stdout",
     "output_type": "stream",
     "text": [
      "this is outer\n"
     ]
    }
   ],
   "source": [
    "def outer(f):\n",
    "    print(\"this is outer\")\n",
    "    def inner(*args):\n",
    "        print(\"this is inner\")\n",
    "\n",
    "o1 = outer(10)"
   ]
  },
  {
   "cell_type": "code",
   "execution_count": 7,
   "metadata": {},
   "outputs": [
    {
     "name": "stdout",
     "output_type": "stream",
     "text": [
      "this is outer\n",
      "this is inner\n"
     ]
    }
   ],
   "source": [
    "def outer(f):\n",
    "    print(\"this is outer\")\n",
    "    def inner(*args):\n",
    "        print(\"this is inner\")\n",
    "    inner()\n",
    "\n",
    "o1 = outer(10)"
   ]
  },
  {
   "cell_type": "code",
   "execution_count": 8,
   "metadata": {},
   "outputs": [
    {
     "name": "stdout",
     "output_type": "stream",
     "text": [
      "this is outer\n",
      "<function outer.<locals>.inner at 0x7fac8c243b70>\n"
     ]
    }
   ],
   "source": [
    "def outer(f):\n",
    "    print(\"this is outer\")\n",
    "    def inner(*args):\n",
    "        print(\"this is inner\")\n",
    "    return inner\n",
    "o1 = outer(10)\n",
    "print(o1)"
   ]
  },
  {
   "cell_type": "code",
   "execution_count": 9,
   "metadata": {},
   "outputs": [
    {
     "name": "stdout",
     "output_type": "stream",
     "text": [
      "this is outer\n",
      "this is inner\n",
      "None\n"
     ]
    }
   ],
   "source": [
    "def outer(f):\n",
    "    print(\"this is outer\")\n",
    "    def inner(*args):\n",
    "        print(\"this is inner\")\n",
    "    return inner\n",
    "o1 = outer(10)\n",
    "res = o1()\n",
    "print(res)"
   ]
  },
  {
   "cell_type": "code",
   "execution_count": 12,
   "metadata": {},
   "outputs": [
    {
     "name": "stdout",
     "output_type": "stream",
     "text": [
      "result= The result of 10 and 20 is: 30\n"
     ]
    }
   ],
   "source": [
    "def outer(f):\n",
    "    def inner(x,y):\n",
    "        res = f(x,y)\n",
    "        res1 = f\"The result of {x} and {y} is: {res}\"\n",
    "        return res1\n",
    "    return inner\n",
    "def add(x,y):\n",
    "    return x+y\n",
    "def sub(x,y):\n",
    "    return x-y\n",
    "def mul(x,y):\n",
    "    return x*y\n",
    "o1 = outer(add)\n",
    "res = o1(10,20)\n",
    "print(\"result=\",res)"
   ]
  },
  {
   "cell_type": "code",
   "execution_count": 14,
   "metadata": {},
   "outputs": [
    {
     "name": "stdout",
     "output_type": "stream",
     "text": [
      "30\n",
      "-10\n",
      "200\n"
     ]
    }
   ],
   "source": [
    "def add(x,y):\n",
    "    return x+y\n",
    "def sub(x,y):\n",
    "    return x-y\n",
    "def mul(x,y):\n",
    "    return x*y\n",
    "res = add(10,20)\n",
    "print(res)\n",
    "res = sub(10,20)\n",
    "print(res)\n",
    "res = mul(10,20)\n",
    "print(res)"
   ]
  },
  {
   "cell_type": "code",
   "execution_count": 15,
   "metadata": {},
   "outputs": [
    {
     "name": "stdout",
     "output_type": "stream",
     "text": [
      "30\n",
      "-10\n",
      "200\n"
     ]
    }
   ],
   "source": [
    "def outer(f):\n",
    "    def inner(x,y):\n",
    "        res = f(x,y)\n",
    "        res1 = f\"The result of {x} and {y} is: {res}\"\n",
    "        return res1\n",
    "    return inner\n",
    "\n",
    "def add(x,y):\n",
    "    return x+y\n",
    "def sub(x,y):\n",
    "    return x-y\n",
    "def mul(x,y):\n",
    "    return x*y\n",
    "res = add(10,20)\n",
    "print(res)\n",
    "res = sub(10,20)\n",
    "print(res)\n",
    "res = mul(10,20)\n",
    "print(res)"
   ]
  },
  {
   "cell_type": "code",
   "execution_count": 16,
   "metadata": {},
   "outputs": [
    {
     "name": "stdout",
     "output_type": "stream",
     "text": [
      "The result of 10 and 20 is: 30\n",
      "The result of 10 and 20 is: -10\n",
      "200\n"
     ]
    }
   ],
   "source": [
    "def outer(f):\n",
    "    def inner(x,y):\n",
    "        res = f(x,y)\n",
    "        res1 = f\"The result of {x} and {y} is: {res}\"\n",
    "        return res1\n",
    "    return inner\n",
    "@outer\n",
    "def add(x,y):\n",
    "    return x+y\n",
    "@outer\n",
    "def sub(x,y):\n",
    "    return x-y\n",
    "def mul(x,y):\n",
    "    return x*y\n",
    "res = add(10,20)\n",
    "print(res)\n",
    "res = sub(10,20)\n",
    "print(res)\n",
    "res = mul(10,20)\n",
    "print(res)"
   ]
  },
  {
   "cell_type": "code",
   "execution_count": 17,
   "metadata": {},
   "outputs": [
    {
     "name": "stdout",
     "output_type": "stream",
     "text": [
      "The result of 10 and 20 is: 30\n"
     ]
    }
   ],
   "source": [
    "def outer(f):\n",
    "    def inner(x,y):\n",
    "        res = f(x,y)\n",
    "        res1 = f\"The result of {x} and {y} is: {res}\"\n",
    "        return res1\n",
    "    return inner\n",
    "\n",
    "def add(x,y):\n",
    "    return x+y\n",
    "@outer\n",
    "def sub(x,y):\n",
    "    return x-y\n",
    "def mul(x,y):\n",
    "    return x*y\n",
    "r1 = outer(add)\n",
    "res = r1(10,20)\n",
    "print(res)"
   ]
  },
  {
   "cell_type": "code",
   "execution_count": 18,
   "metadata": {},
   "outputs": [
    {
     "name": "stdout",
     "output_type": "stream",
     "text": [
      "The result of 10 and 20 is: -10\n"
     ]
    }
   ],
   "source": [
    "def outer(f):\n",
    "    def inner(x,y):\n",
    "        \n",
    "        res = f(x,y)\n",
    "        res1 = f\"The result of {x} and {y} is: {res}\"\n",
    "        return res1\n",
    "    return inner\n",
    "\n",
    "def add(x,y):\n",
    "    return x+y\n",
    "@outer\n",
    "def sub(x,y):\n",
    "    return x-y\n",
    "def mul(x,y):\n",
    "    return x*y\n",
    "'''\n",
    "r1 = outer(add)\n",
    "res = r1(10,20)\n",
    "'''\n",
    "res = sub(10,20)\n",
    "print(res)"
   ]
  },
  {
   "cell_type": "code",
   "execution_count": 19,
   "metadata": {},
   "outputs": [
    {
     "name": "stdout",
     "output_type": "stream",
     "text": [
      "The result of 10 and 20 is: -10\n"
     ]
    }
   ],
   "source": [
    "def outer(f):\n",
    "    def inner(x,y):\n",
    "        if isinstance(x,int) and isinstance(y,int):\n",
    "            res = f(x,y)\n",
    "            res1 = f\"The result of {x} and {y} is: {res}\"\n",
    "        else:\n",
    "            res1=\"invalid input\"\n",
    "        return res1\n",
    "    return inner\n",
    "@outer\n",
    "def add(x,y):\n",
    "    return x+y\n",
    "@outer\n",
    "def sub(x,y):\n",
    "    return x-y\n",
    "@outer\n",
    "def mul(x,y):\n",
    "    return x*y\n",
    "'''\n",
    "r1 = outer(add)\n",
    "res = r1(10,20)\n",
    "'''\n",
    "res = sub(10,20)\n",
    "print(res)"
   ]
  },
  {
   "cell_type": "code",
   "execution_count": 20,
   "metadata": {},
   "outputs": [
    {
     "name": "stdout",
     "output_type": "stream",
     "text": [
      "invalid input\n"
     ]
    }
   ],
   "source": [
    "#closure\n",
    "def outer(f):\n",
    "    def inner(x,y):\n",
    "        if isinstance(x,int) and isinstance(y,int):\n",
    "            res = f(x,y)\n",
    "            res1 = f\"The result of {x} and {y} is: {res}\"\n",
    "        else:\n",
    "            res1=\"invalid input\"\n",
    "        return res1\n",
    "    return inner\n",
    "@outer\n",
    "def add(x,y):\n",
    "    return x+y\n",
    "@outer\n",
    "def sub(x,y):\n",
    "    return x-y\n",
    "@outer\n",
    "def mul(x,y):\n",
    "    return x*y\n",
    "'''\n",
    "r1 = outer(add)\n",
    "res = r1(10,20)\n",
    "'''\n",
    "res = sub(10,20.3)\n",
    "print(res)"
   ]
  },
  {
   "cell_type": "code",
   "execution_count": 21,
   "metadata": {},
   "outputs": [
    {
     "name": "stdout",
     "output_type": "stream",
     "text": [
      "('JAYARAM', 'KHYAATHI', 'maithrivanam')\n"
     ]
    }
   ],
   "source": [
    "class Emp:\n",
    "    company_name=\"KHYAATHI\"\n",
    "    company_address=\"maithrivanam\"\n",
    "    def __init__(self, name):\n",
    "        self.name = name\n",
    "    def get(self): # instance method\n",
    "        return self.name, self.company_name, self.company_address\n",
    "jay=Emp(\"JAYARAM\")\n",
    "print(jay.get())\n",
    "    "
   ]
  },
  {
   "cell_type": "code",
   "execution_count": 22,
   "metadata": {},
   "outputs": [
    {
     "name": "stdout",
     "output_type": "stream",
     "text": [
      "('JAYARAM', 'KHYAATHI', 'maithrivanam')\n",
      "('KHYAATHI', 'maithrivanam')\n"
     ]
    }
   ],
   "source": [
    "class Emp:\n",
    "    company_name=\"KHYAATHI\"\n",
    "    company_address=\"maithrivanam\"\n",
    "    def __init__(self, name):\n",
    "        self.name = name\n",
    "    def get_company_details(self):\n",
    "        return self.company_name,self.company_address\n",
    "    def get(self): # instance method\n",
    "        return self.name, self.company_name, self.company_address\n",
    "jay=Emp(\"JAYARAM\")\n",
    "print(jay.get())\n",
    "print(jay.get_company_details())"
   ]
  },
  {
   "cell_type": "code",
   "execution_count": 23,
   "metadata": {},
   "outputs": [
    {
     "name": "stdout",
     "output_type": "stream",
     "text": [
      "<class '__main__.Emp'>\n",
      "('JAYARAM', 'KHYAATHI', 'maithrivanam')\n",
      "<class '__main__.Emp'>\n",
      "('KHYAATHI', 'maithrivanam')\n"
     ]
    }
   ],
   "source": [
    "class Emp:\n",
    "    company_name=\"KHYAATHI\"\n",
    "    company_address=\"maithrivanam\"\n",
    "    def __init__(self, name):\n",
    "        self.name = name\n",
    "    @classmethod\n",
    "    def get_company_details(self):\n",
    "        print(self)\n",
    "        return self.company_name,self.company_address\n",
    "    def get(self): # instance method\n",
    "        return self.name, self.company_name, self.company_address\n",
    "jay=Emp(\"JAYARAM\")\n",
    "print(Emp)\n",
    "print(jay.get())\n",
    "print(jay.get_company_details())"
   ]
  },
  {
   "cell_type": "code",
   "execution_count": 24,
   "metadata": {},
   "outputs": [
    {
     "name": "stdout",
     "output_type": "stream",
     "text": [
      "<class '__main__.Emp'>\n",
      "('JAYARAM', 'KHYAATHI', 'maithrivanam')\n",
      "<class '__main__.Emp'>\n",
      "('KHYAATHI', 'maithrivanam')\n",
      "<class '__main__.Emp'>\n",
      "('KHYAATHI', 'maithrivanam')\n"
     ]
    }
   ],
   "source": [
    "class Emp:\n",
    "    company_name=\"KHYAATHI\"\n",
    "    company_address=\"maithrivanam\"\n",
    "    def __init__(self, name):\n",
    "        self.name = name\n",
    "    @classmethod\n",
    "    def get_company_details(self):\n",
    "        print(self)\n",
    "        return self.company_name,self.company_address\n",
    "    def get(self): # instance method\n",
    "        return self.name, self.company_name, self.company_address\n",
    "jay=Emp(\"JAYARAM\")\n",
    "print(Emp)\n",
    "print(jay.get())\n",
    "print(jay.get_company_details())\n",
    "print(Emp.get_company_details())"
   ]
  },
  {
   "cell_type": "code",
   "execution_count": 25,
   "metadata": {},
   "outputs": [
    {
     "name": "stdout",
     "output_type": "stream",
     "text": [
      "<class '__main__.Emp'>\n",
      "('JAYARAM', 'KHYAATHI', 'maithrivanam')\n",
      "<__main__.Emp object at 0x7fac8c1fae48>\n",
      "('KHYAATHI', 'maithrivanam')\n"
     ]
    },
    {
     "ename": "TypeError",
     "evalue": "get_company_details() missing 1 required positional argument: 'self'",
     "output_type": "error",
     "traceback": [
      "\u001b[0;31m---------------------------------------------------------------------------\u001b[0m",
      "\u001b[0;31mTypeError\u001b[0m                                 Traceback (most recent call last)",
      "\u001b[0;32m<ipython-input-25-b685f6bf3adc>\u001b[0m in \u001b[0;36m<module>\u001b[0;34m()\u001b[0m\n\u001b[1;32m     13\u001b[0m \u001b[0mprint\u001b[0m\u001b[0;34m(\u001b[0m\u001b[0mjay\u001b[0m\u001b[0;34m.\u001b[0m\u001b[0mget\u001b[0m\u001b[0;34m(\u001b[0m\u001b[0;34m)\u001b[0m\u001b[0;34m)\u001b[0m\u001b[0;34m\u001b[0m\u001b[0m\n\u001b[1;32m     14\u001b[0m \u001b[0mprint\u001b[0m\u001b[0;34m(\u001b[0m\u001b[0mjay\u001b[0m\u001b[0;34m.\u001b[0m\u001b[0mget_company_details\u001b[0m\u001b[0;34m(\u001b[0m\u001b[0;34m)\u001b[0m\u001b[0;34m)\u001b[0m\u001b[0;34m\u001b[0m\u001b[0m\n\u001b[0;32m---> 15\u001b[0;31m \u001b[0mprint\u001b[0m\u001b[0;34m(\u001b[0m\u001b[0mEmp\u001b[0m\u001b[0;34m.\u001b[0m\u001b[0mget_company_details\u001b[0m\u001b[0;34m(\u001b[0m\u001b[0;34m)\u001b[0m\u001b[0;34m)\u001b[0m\u001b[0;34m\u001b[0m\u001b[0m\n\u001b[0m",
      "\u001b[0;31mTypeError\u001b[0m: get_company_details() missing 1 required positional argument: 'self'"
     ]
    }
   ],
   "source": [
    "class Emp:\n",
    "    company_name=\"KHYAATHI\"\n",
    "    company_address=\"maithrivanam\"\n",
    "    def __init__(self, name):\n",
    "        self.name = name\n",
    "    def get_company_details(self):\n",
    "        print(self)\n",
    "        return self.company_name,self.company_address\n",
    "    def get(self): # instance method\n",
    "        return self.name, self.company_name, self.company_address\n",
    "jay=Emp(\"JAYARAM\")\n",
    "print(Emp)\n",
    "print(jay.get())\n",
    "print(jay.get_company_details())\n",
    "print(Emp.get_company_details())"
   ]
  },
  {
   "cell_type": "code",
   "execution_count": 26,
   "metadata": {},
   "outputs": [
    {
     "name": "stdout",
     "output_type": "stream",
     "text": [
      "<class '__main__.Emp'>\n",
      "('JAYARAM', 'KHYAATHI', 'maithrivanam')\n",
      "('KHYAATHI', 'maithrivanam')\n",
      "('KHYAATHI', 'maithrivanam')\n"
     ]
    }
   ],
   "source": [
    "class Emp:\n",
    "    company_name=\"KHYAATHI\"\n",
    "    company_address=\"maithrivanam\"\n",
    "    def __init__(self, name):\n",
    "        self.name = name\n",
    "    @classmethod\n",
    "    def get_company_details(cls):\n",
    "        return cls.company_name,cls.company_address\n",
    "    def get(self): # instance method\n",
    "        return self.name, self.company_name, self.company_address\n",
    "    \n",
    "jay=Emp(\"JAYARAM\")\n",
    "print(Emp)\n",
    "print(jay.get())\n",
    "print(jay.get_company_details())\n",
    "print(Emp.get_company_details())"
   ]
  },
  {
   "cell_type": "code",
   "execution_count": 27,
   "metadata": {},
   "outputs": [
    {
     "name": "stdout",
     "output_type": "stream",
     "text": [
      "<class '__main__.Emp'>\n",
      "('JAYARAM', 'KHYAATHI', 'maithrivanam')\n",
      "('KHYAATHI', 'maithrivanam')\n",
      "('KHYAATHI', 'maithrivanam')\n",
      "10 20\n",
      "100 200\n"
     ]
    }
   ],
   "source": [
    "class Emp:\n",
    "    company_name=\"KHYAATHI\"\n",
    "    company_address=\"maithrivanam\"\n",
    "    def __init__(self, name):\n",
    "        self.name = name\n",
    "    @staticmethod\n",
    "    def sta(x,y): # static method\n",
    "        print(x,y)\n",
    "    @classmethod\n",
    "    def get_company_details(cls): # class method\n",
    "        return cls.company_name,cls.company_address\n",
    "    def get(self): # instance method\n",
    "        return self.name, self.company_name, self.company_address\n",
    "    \n",
    "jay=Emp(\"JAYARAM\")\n",
    "print(Emp)\n",
    "print(jay.get())\n",
    "print(jay.get_company_details())\n",
    "print(Emp.get_company_details())\n",
    "Emp.sta(10,20)\n",
    "jay.sta(100,200)"
   ]
  },
  {
   "cell_type": "code",
   "execution_count": null,
   "metadata": {},
   "outputs": [],
   "source": []
  }
 ],
 "metadata": {
  "kernelspec": {
   "display_name": "Python 3",
   "language": "python",
   "name": "python3"
  },
  "language_info": {
   "codemirror_mode": {
    "name": "ipython",
    "version": 3
   },
   "file_extension": ".py",
   "mimetype": "text/x-python",
   "name": "python",
   "nbconvert_exporter": "python",
   "pygments_lexer": "ipython3",
   "version": "3.7.0"
  }
 },
 "nbformat": 4,
 "nbformat_minor": 2
}
