{
 "cells": [
  {
   "cell_type": "code",
   "execution_count": 1,
   "metadata": {},
   "outputs": [],
   "source": [
    "product=10"
   ]
  },
  {
   "cell_type": "code",
   "execution_count": 2,
   "metadata": {},
   "outputs": [
    {
     "ename": "SyntaxError",
     "evalue": "invalid syntax (<ipython-input-2-8b44727aeabb>, line 1)",
     "output_type": "error",
     "traceback": [
      "\u001b[0;36m  File \u001b[0;32m\"<ipython-input-2-8b44727aeabb>\"\u001b[0;36m, line \u001b[0;32m1\u001b[0m\n\u001b[0;31m    product discount=10\u001b[0m\n\u001b[0m                   ^\u001b[0m\n\u001b[0;31mSyntaxError\u001b[0m\u001b[0;31m:\u001b[0m invalid syntax\n"
     ]
    }
   ],
   "source": [
    "product discount=10"
   ]
  },
  {
   "cell_type": "code",
   "execution_count": 3,
   "metadata": {},
   "outputs": [],
   "source": [
    "product_discount=10"
   ]
  },
  {
   "cell_type": "code",
   "execution_count": 4,
   "metadata": {},
   "outputs": [],
   "source": [
    "product_dis4count1=10"
   ]
  },
  {
   "cell_type": "code",
   "execution_count": 5,
   "metadata": {},
   "outputs": [
    {
     "ename": "SyntaxError",
     "evalue": "invalid syntax (<ipython-input-5-48d47b8fdeda>, line 1)",
     "output_type": "error",
     "traceback": [
      "\u001b[0;36m  File \u001b[0;32m\"<ipython-input-5-48d47b8fdeda>\"\u001b[0;36m, line \u001b[0;32m1\u001b[0m\n\u001b[0;31m    2product_discount=10\u001b[0m\n\u001b[0m                    ^\u001b[0m\n\u001b[0;31mSyntaxError\u001b[0m\u001b[0;31m:\u001b[0m invalid syntax\n"
     ]
    }
   ],
   "source": [
    "2product_discount=10"
   ]
  },
  {
   "cell_type": "code",
   "execution_count": 6,
   "metadata": {},
   "outputs": [],
   "source": [
    "_product_discount=10"
   ]
  },
  {
   "cell_type": "code",
   "execution_count": 7,
   "metadata": {},
   "outputs": [
    {
     "name": "stdout",
     "output_type": "stream",
     "text": [
      "welcome\n",
      "thank you!!\n"
     ]
    }
   ],
   "source": [
    "print(\"welcome\")\n",
    "def FUN():\n",
    "    print(\"fun started\")\n",
    "    print(\"this is fun\")\n",
    "    print(\"fun ended\")\n",
    "print(\"thank you!!\")"
   ]
  },
  {
   "cell_type": "code",
   "execution_count": 8,
   "metadata": {},
   "outputs": [
    {
     "name": "stdout",
     "output_type": "stream",
     "text": [
      "welcome\n",
      "thank you!!\n"
     ]
    }
   ],
   "source": [
    "print(\"welcome\")\n",
    "def fun():\n",
    "    print(\"fun started\")\n",
    "    print(\"this is fun\")\n",
    "    print(\"fun ended\")\n",
    "print(\"thank you!!\")"
   ]
  },
  {
   "cell_type": "code",
   "execution_count": 9,
   "metadata": {},
   "outputs": [
    {
     "name": "stdout",
     "output_type": "stream",
     "text": [
      "welcome\n",
      "thank you!!\n",
      "fun started\n",
      "this is fun\n",
      "fun ended\n"
     ]
    }
   ],
   "source": [
    "print(\"welcome\")\n",
    "def fun():\n",
    "    print(\"fun started\")\n",
    "    print(\"this is fun\")\n",
    "    print(\"fun ended\")\n",
    "print(\"thank you!!\")\n",
    "fun()"
   ]
  },
  {
   "cell_type": "code",
   "execution_count": 10,
   "metadata": {},
   "outputs": [
    {
     "name": "stdout",
     "output_type": "stream",
     "text": [
      "welcome\n",
      "fun started\n",
      "this is fun\n",
      "fun ended\n",
      "thank you!!\n",
      "fun started\n",
      "this is fun\n",
      "fun ended\n"
     ]
    }
   ],
   "source": [
    "print(\"welcome\")\n",
    "def fun():\n",
    "    print(\"fun started\")\n",
    "    print(\"this is fun\")\n",
    "    print(\"fun ended\")\n",
    "fun()\n",
    "print(\"thank you!!\")\n",
    "fun()"
   ]
  },
  {
   "cell_type": "code",
   "execution_count": 11,
   "metadata": {},
   "outputs": [
    {
     "name": "stdout",
     "output_type": "stream",
     "text": [
      "welcome\n",
      "thank you!!\n",
      "a=10,b=20\n",
      "res= 30\n"
     ]
    }
   ],
   "source": [
    "print(\"welcome\")\n",
    "def fun(a,b): # a,b is parameter\n",
    "    print(f\"a={a},b={b}\")\n",
    "    res=a+b\n",
    "    print(\"res=\",res)\n",
    "    \n",
    "print(\"thank you!!\")\n",
    "fun(10,20) # 10,20 is an arguments"
   ]
  },
  {
   "cell_type": "code",
   "execution_count": 13,
   "metadata": {},
   "outputs": [
    {
     "name": "stdout",
     "output_type": "stream",
     "text": [
      "adding two numbers\n",
      "a=10,b=20\n",
      "result=30\n",
      "adding two numbers\n",
      "a=100,b=200\n",
      "result=300\n",
      "adding two numbers\n",
      "a=1000,b=2000\n",
      "result=3000\n",
      "substracting two numbers\n",
      "a=1,b=2\n",
      "result=-1\n",
      "substracting two numbers\n",
      "a=20,b=10\n",
      "result=10\n",
      "substracting two numbers\n",
      "a=200,b=30\n",
      "result=170\n",
      "multiplying two numbers\n",
      "a=1,b=2\n",
      "result=2\n",
      "multiplying two numbers\n",
      "a=10,b=-20\n",
      "result=-200\n",
      "dividing two numbers\n",
      "a=100,b=10\n",
      "result=10.0\n",
      "dividing two numbers\n",
      "a=200,b=3\n",
      "result=66.66666666666667\n"
     ]
    }
   ],
   "source": [
    "# define four functions to do addition, substraction, multiplcation, division.\n",
    "#these four functions should take two arguments and print the argument values in the function,\n",
    "# calculate the coresponding result and print the result.\n",
    "def addition(a,b):\n",
    "    print(\"adding two numbers\")\n",
    "    print(f\"a={a},b={b}\")\n",
    "    res=a+b\n",
    "    print(f\"result={res}\")\n",
    "def substraction(a,b):\n",
    "    print(\"substracting two numbers\")\n",
    "    print(f\"a={a},b={b}\")\n",
    "    res=a-b\n",
    "    print(f\"result={res}\")\n",
    "def multplication(a,b):\n",
    "    print(\"multiplying two numbers\")\n",
    "    print(f\"a={a},b={b}\")\n",
    "    res=a*b\n",
    "    print(f\"result={res}\")\n",
    "def division(a,b):\n",
    "    print(\"dividing two numbers\")\n",
    "    print(f\"a={a},b={b}\")\n",
    "    res=a/b\n",
    "    print(f\"result={res}\")\n",
    "    \n",
    "addition(10,20)\n",
    "addition(100,200)\n",
    "addition(1000,2000)\n",
    "substraction(1,2)\n",
    "substraction(20,10)\n",
    "substraction(200,30)\n",
    "multplication(1,2)\n",
    "multplication(10,-20)\n",
    "division(100,10)\n",
    "division(200,3)"
   ]
  },
  {
   "cell_type": "code",
   "execution_count": 14,
   "metadata": {},
   "outputs": [
    {
     "name": "stdout",
     "output_type": "stream",
     "text": [
      "Enter a value:12\n",
      "Enter b value:34\n",
      "result= 46.0\n"
     ]
    }
   ],
   "source": [
    "def fun():\n",
    "    a=input(\"Enter a value:\")\n",
    "    b=input(\"Enter b value:\")\n",
    "    a=float(a)\n",
    "    b=float(b)\n",
    "    res=a+b\n",
    "    print(\"result=\",res)\n",
    "fun()"
   ]
  },
  {
   "cell_type": "code",
   "execution_count": 17,
   "metadata": {},
   "outputs": [
    {
     "name": "stdout",
     "output_type": "stream",
     "text": [
      "2³\n"
     ]
    }
   ],
   "source": [
    "print(\"2\\u00b3\")"
   ]
  },
  {
   "cell_type": "code",
   "execution_count": 18,
   "metadata": {},
   "outputs": [
    {
     "name": "stdout",
     "output_type": "stream",
     "text": [
      "3¶\n"
     ]
    }
   ],
   "source": [
    "print(\"3\\u00b6\")"
   ]
  },
  {
   "cell_type": "code",
   "execution_count": 20,
   "metadata": {},
   "outputs": [
    {
     "name": "stdout",
     "output_type": "stream",
     "text": [
      "3e³\n"
     ]
    }
   ],
   "source": [
    "print(\"3e\\u00b3\")"
   ]
  },
  {
   "cell_type": "code",
   "execution_count": 1,
   "metadata": {},
   "outputs": [
    {
     "data": {
      "text/plain": [
       "48"
      ]
     },
     "execution_count": 1,
     "metadata": {},
     "output_type": "execute_result"
    }
   ],
   "source": [
    "ord(\"0\")"
   ]
  },
  {
   "cell_type": "code",
   "execution_count": 2,
   "metadata": {},
   "outputs": [
    {
     "data": {
      "text/plain": [
       "57"
      ]
     },
     "execution_count": 2,
     "metadata": {},
     "output_type": "execute_result"
    }
   ],
   "source": [
    "ord(\"9\")"
   ]
  },
  {
   "cell_type": "code",
   "execution_count": 3,
   "metadata": {},
   "outputs": [
    {
     "name": "stdout",
     "output_type": "stream",
     "text": [
      "Enter string:2345678\n",
      "contains only digits\n"
     ]
    }
   ],
   "source": [
    "s=input(\"Enter string:\")\n",
    "for i in s:\n",
    "    if ord(i)>=48 and ord(i)<=57:\n",
    "        continue\n",
    "    else:\n",
    "        print(\"it contains other chars also\")\n",
    "        break\n",
    "else:\n",
    "    print(\"contains only digits\")"
   ]
  },
  {
   "cell_type": "code",
   "execution_count": 4,
   "metadata": {},
   "outputs": [
    {
     "name": "stdout",
     "output_type": "stream",
     "text": [
      "Enter string:we234$\n",
      "it contains other chars also\n"
     ]
    }
   ],
   "source": [
    "s=input(\"Enter string:\")\n",
    "for i in s:\n",
    "    if ord(i)>=48 and ord(i)<=57:\n",
    "        continue\n",
    "    else:\n",
    "        print(\"it contains other chars also\")\n",
    "        break\n",
    "else:\n",
    "    print(\"contains only digits\")"
   ]
  },
  {
   "cell_type": "code",
   "execution_count": 5,
   "metadata": {},
   "outputs": [
    {
     "data": {
      "text/plain": [
       "48"
      ]
     },
     "execution_count": 5,
     "metadata": {},
     "output_type": "execute_result"
    }
   ],
   "source": [
    "ord(\"0\")"
   ]
  },
  {
   "cell_type": "code",
   "execution_count": 6,
   "metadata": {},
   "outputs": [
    {
     "data": {
      "text/plain": [
       "'0'"
      ]
     },
     "execution_count": 6,
     "metadata": {},
     "output_type": "execute_result"
    }
   ],
   "source": [
    "chr(48)"
   ]
  },
  {
   "cell_type": "code",
   "execution_count": 7,
   "metadata": {},
   "outputs": [
    {
     "data": {
      "text/plain": [
       "'9'"
      ]
     },
     "execution_count": 7,
     "metadata": {},
     "output_type": "execute_result"
    }
   ],
   "source": [
    "chr(57)"
   ]
  },
  {
   "cell_type": "code",
   "execution_count": 9,
   "metadata": {},
   "outputs": [
    {
     "name": "stdout",
     "output_type": "stream",
     "text": [
      "10 20\n",
      "30\n",
      "100 200\n",
      "300\n",
      "10000 2000\n",
      "12000\n"
     ]
    }
   ],
   "source": [
    "def fun(a,b):\n",
    "    print(a,b)\n",
    "    res=a+b\n",
    "    print(res)\n",
    "fun(10,20)\n",
    "fun(100,200)\n",
    "fun(10000,2000)"
   ]
  },
  {
   "cell_type": "code",
   "execution_count": 10,
   "metadata": {},
   "outputs": [
    {
     "ename": "TypeError",
     "evalue": "fun() missing 1 required positional argument: 'b'",
     "output_type": "error",
     "traceback": [
      "\u001b[0;31m---------------------------------------------------------------------------\u001b[0m",
      "\u001b[0;31mTypeError\u001b[0m                                 Traceback (most recent call last)",
      "\u001b[0;32m<ipython-input-10-26665ae69cab>\u001b[0m in \u001b[0;36m<module>\u001b[0;34m()\u001b[0m\n\u001b[1;32m      3\u001b[0m     \u001b[0mres\u001b[0m\u001b[0;34m=\u001b[0m\u001b[0ma\u001b[0m\u001b[0;34m+\u001b[0m\u001b[0mb\u001b[0m\u001b[0;34m\u001b[0m\u001b[0m\n\u001b[1;32m      4\u001b[0m     \u001b[0mprint\u001b[0m\u001b[0;34m(\u001b[0m\u001b[0mres\u001b[0m\u001b[0;34m)\u001b[0m\u001b[0;34m\u001b[0m\u001b[0m\n\u001b[0;32m----> 5\u001b[0;31m \u001b[0mfun\u001b[0m\u001b[0;34m(\u001b[0m\u001b[0;36m10\u001b[0m\u001b[0;34m)\u001b[0m\u001b[0;34m\u001b[0m\u001b[0m\n\u001b[0m",
      "\u001b[0;31mTypeError\u001b[0m: fun() missing 1 required positional argument: 'b'"
     ]
    }
   ],
   "source": [
    "def fun(a,b):\n",
    "    print(a,b)\n",
    "    res=a+b\n",
    "    print(res)\n",
    "fun(10)"
   ]
  },
  {
   "cell_type": "code",
   "execution_count": 11,
   "metadata": {},
   "outputs": [
    {
     "name": "stdout",
     "output_type": "stream",
     "text": [
      "a=10,b=0,c=0,d=0\n",
      "result= 10\n",
      "a=10,b=20,c=0,d=0\n",
      "result= 30\n",
      "a=10,b=20,c=30,d=0\n",
      "result= 60\n",
      "a=10,b=20,c=30,d=40\n",
      "result= 100\n"
     ]
    }
   ],
   "source": [
    "def fun(a,b=0,c=0,d=0):\n",
    "    \"\"\"\n",
    "    a mandatory\n",
    "    b,c,d are optional parameters\n",
    "    \"\"\"\n",
    "    print(f\"a={a},b={b},c={c},d={d}\")\n",
    "    res=a+b+c+d\n",
    "    print(\"result=\",res)\n",
    "fun(10)\n",
    "fun(10,20)\n",
    "fun(10,20,30)\n",
    "fun(10,20,30,40)"
   ]
  },
  {
   "cell_type": "code",
   "execution_count": 12,
   "metadata": {},
   "outputs": [
    {
     "name": "stdout",
     "output_type": "stream",
     "text": [
      "a=10,b=200,c=0,d=0\n",
      "result= 210\n"
     ]
    }
   ],
   "source": [
    "def fun(a,b=0,c=0,d=0):\n",
    "    \"\"\"\n",
    "    a mandatory\n",
    "    b,c,d are optional parameters\n",
    "    \"\"\"\n",
    "    print(f\"a={a},b={b},c={c},d={d}\")\n",
    "    res=a+b+c+d\n",
    "    print(\"result=\",res)\n",
    "fun(10,200)"
   ]
  },
  {
   "cell_type": "code",
   "execution_count": 13,
   "metadata": {},
   "outputs": [
    {
     "ename": "SyntaxError",
     "evalue": "invalid syntax (<ipython-input-13-b91e979afebb>, line 9)",
     "output_type": "error",
     "traceback": [
      "\u001b[0;36m  File \u001b[0;32m\"<ipython-input-13-b91e979afebb>\"\u001b[0;36m, line \u001b[0;32m9\u001b[0m\n\u001b[0;31m    fun(10,,200)\u001b[0m\n\u001b[0m           ^\u001b[0m\n\u001b[0;31mSyntaxError\u001b[0m\u001b[0;31m:\u001b[0m invalid syntax\n"
     ]
    }
   ],
   "source": [
    "def fun(a,b=0,c=0,d=0):\n",
    "    \"\"\"\n",
    "    a mandatory\n",
    "    b,c,d are optional parameters\n",
    "    \"\"\"\n",
    "    print(f\"a={a},b={b},c={c},d={d}\")\n",
    "    res=a+b+c+d\n",
    "    print(\"result=\",res)\n",
    "fun(10,,200)"
   ]
  },
  {
   "cell_type": "code",
   "execution_count": 14,
   "metadata": {},
   "outputs": [
    {
     "name": "stdout",
     "output_type": "stream",
     "text": [
      "a=10,b=0,c=200,d=0\n",
      "result= 210\n"
     ]
    }
   ],
   "source": [
    "def fun(a,b=0,c=0,d=0):\n",
    "    \"\"\"\n",
    "    a mandatory\n",
    "    b,c,d are optional parameters\n",
    "    \"\"\"\n",
    "    print(f\"a={a},b={b},c={c},d={d}\")\n",
    "    res=a+b+c+d\n",
    "    print(\"result=\",res)\n",
    "fun(10,0,200)"
   ]
  },
  {
   "cell_type": "code",
   "execution_count": 15,
   "metadata": {},
   "outputs": [
    {
     "name": "stdout",
     "output_type": "stream",
     "text": [
      "a=10,b=0,c=0,d=200\n",
      "result= 210\n"
     ]
    }
   ],
   "source": [
    "def fun(a,b=0,c=0,d=0):\n",
    "    \"\"\"\n",
    "    a mandatory\n",
    "    b,c,d are optional parameters\n",
    "    \"\"\"\n",
    "    print(f\"a={a},b={b},c={c},d={d}\")\n",
    "    res=a+b+c+d\n",
    "    print(\"result=\",res)\n",
    "fun(10,0,0,200)"
   ]
  },
  {
   "cell_type": "code",
   "execution_count": 16,
   "metadata": {},
   "outputs": [],
   "source": [
    "import pandas as pd\n",
    "pd.read_csv?"
   ]
  },
  {
   "cell_type": "code",
   "execution_count": 18,
   "metadata": {},
   "outputs": [
    {
     "name": "stdout",
     "output_type": "stream",
     "text": [
      "a=10,b=0,c=200,d=0\n",
      "result= 210\n"
     ]
    }
   ],
   "source": [
    "def fun(a,b=0,c=0,d=0): # default argumnets\n",
    "    \"\"\"\n",
    "    a mandatory\n",
    "    b,c,d are optional parameters\n",
    "    \"\"\"\n",
    "    print(f\"a={a},b={b},c={c},d={d}\")\n",
    "    res=a+b+c+d\n",
    "    print(\"result=\",res)\n",
    "fun(10,c=200)# keyword argumnets"
   ]
  },
  {
   "cell_type": "code",
   "execution_count": 19,
   "metadata": {},
   "outputs": [
    {
     "name": "stdout",
     "output_type": "stream",
     "text": [
      "a=300,b=10,c=200,d=0\n",
      "result= 510\n"
     ]
    }
   ],
   "source": [
    "def fun(a,b=0,c=0,d=0): # default argumnets\n",
    "    \"\"\"\n",
    "    a mandatory\n",
    "    b,c,d are optional parameters\n",
    "    \"\"\"\n",
    "    print(f\"a={a},b={b},c={c},d={d}\")\n",
    "    res=a+b+c+d\n",
    "    print(\"result=\",res)\n",
    "fun(b=10,c=200,a=300)# keyword argumnets"
   ]
  },
  {
   "cell_type": "code",
   "execution_count": 20,
   "metadata": {},
   "outputs": [
    {
     "ename": "TypeError",
     "evalue": "fun() missing 1 required positional argument: 'a'",
     "output_type": "error",
     "traceback": [
      "\u001b[0;31m---------------------------------------------------------------------------\u001b[0m",
      "\u001b[0;31mTypeError\u001b[0m                                 Traceback (most recent call last)",
      "\u001b[0;32m<ipython-input-20-093980d69f9a>\u001b[0m in \u001b[0;36m<module>\u001b[0;34m()\u001b[0m\n\u001b[1;32m      7\u001b[0m     \u001b[0mres\u001b[0m\u001b[0;34m=\u001b[0m\u001b[0ma\u001b[0m\u001b[0;34m+\u001b[0m\u001b[0mb\u001b[0m\u001b[0;34m+\u001b[0m\u001b[0mc\u001b[0m\u001b[0;34m+\u001b[0m\u001b[0md\u001b[0m\u001b[0;34m\u001b[0m\u001b[0m\n\u001b[1;32m      8\u001b[0m     \u001b[0mprint\u001b[0m\u001b[0;34m(\u001b[0m\u001b[0;34m\"result=\"\u001b[0m\u001b[0;34m,\u001b[0m\u001b[0mres\u001b[0m\u001b[0;34m)\u001b[0m\u001b[0;34m\u001b[0m\u001b[0m\n\u001b[0;32m----> 9\u001b[0;31m \u001b[0mfun\u001b[0m\u001b[0;34m(\u001b[0m\u001b[0mb\u001b[0m\u001b[0;34m=\u001b[0m\u001b[0;36m10\u001b[0m\u001b[0;34m,\u001b[0m\u001b[0mc\u001b[0m\u001b[0;34m=\u001b[0m\u001b[0;36m200\u001b[0m\u001b[0;34m)\u001b[0m\u001b[0;31m# keyword argumnets\u001b[0m\u001b[0;34m\u001b[0m\u001b[0m\n\u001b[0m",
      "\u001b[0;31mTypeError\u001b[0m: fun() missing 1 required positional argument: 'a'"
     ]
    }
   ],
   "source": [
    "def fun(a,b=0,c=0,d=0): # default argumnets\n",
    "    \"\"\"\n",
    "    a mandatory\n",
    "    b,c,d are optional parameters\n",
    "    \"\"\"\n",
    "    print(f\"a={a},b={b},c={c},d={d}\")\n",
    "    res=a+b+c+d\n",
    "    print(\"result=\",res)\n",
    "fun(b=10,c=200)# keyword argumnets"
   ]
  },
  {
   "cell_type": "code",
   "execution_count": 22,
   "metadata": {},
   "outputs": [
    {
     "ename": "TypeError",
     "evalue": "fun() takes from 1 to 4 positional arguments but 5 were given",
     "output_type": "error",
     "traceback": [
      "\u001b[0;31m---------------------------------------------------------------------------\u001b[0m",
      "\u001b[0;31mTypeError\u001b[0m                                 Traceback (most recent call last)",
      "\u001b[0;32m<ipython-input-22-4eb2d351bd94>\u001b[0m in \u001b[0;36m<module>\u001b[0;34m()\u001b[0m\n\u001b[1;32m      8\u001b[0m     \u001b[0mprint\u001b[0m\u001b[0;34m(\u001b[0m\u001b[0;34m\"result=\"\u001b[0m\u001b[0;34m,\u001b[0m\u001b[0mres\u001b[0m\u001b[0;34m)\u001b[0m\u001b[0;34m\u001b[0m\u001b[0m\n\u001b[1;32m      9\u001b[0m \u001b[0;31m#fun(b=10,c=200)# keyword argumnets\u001b[0m\u001b[0;34m\u001b[0m\u001b[0;34m\u001b[0m\u001b[0m\n\u001b[0;32m---> 10\u001b[0;31m \u001b[0mfun\u001b[0m\u001b[0;34m(\u001b[0m\u001b[0;36m10\u001b[0m\u001b[0;34m,\u001b[0m\u001b[0;36m20\u001b[0m\u001b[0;34m,\u001b[0m\u001b[0;36m30\u001b[0m\u001b[0;34m,\u001b[0m\u001b[0;36m40\u001b[0m\u001b[0;34m,\u001b[0m\u001b[0;36m50\u001b[0m\u001b[0;34m)\u001b[0m\u001b[0;34m\u001b[0m\u001b[0m\n\u001b[0m",
      "\u001b[0;31mTypeError\u001b[0m: fun() takes from 1 to 4 positional arguments but 5 were given"
     ]
    }
   ],
   "source": [
    "def fun(a,b=0,c=0,d=0): # default argumnets\n",
    "    \"\"\"\n",
    "    a mandatory\n",
    "    b,c,d are optional parameters\n",
    "    \"\"\"\n",
    "    print(f\"a={a},b={b},c={c},d={d}\")\n",
    "    res=a+b+c+d\n",
    "    print(\"result=\",res)\n",
    "#fun(b=10,c=200)# keyword argumnets\n",
    "fun(10,20,30,40,50)\n"
   ]
  },
  {
   "cell_type": "code",
   "execution_count": 23,
   "metadata": {},
   "outputs": [
    {
     "ename": "TypeError",
     "evalue": "fun() got an unexpected keyword argument 'e'",
     "output_type": "error",
     "traceback": [
      "\u001b[0;31m---------------------------------------------------------------------------\u001b[0m",
      "\u001b[0;31mTypeError\u001b[0m                                 Traceback (most recent call last)",
      "\u001b[0;32m<ipython-input-23-a20c8b5c64e3>\u001b[0m in \u001b[0;36m<module>\u001b[0;34m()\u001b[0m\n\u001b[1;32m      8\u001b[0m     \u001b[0mprint\u001b[0m\u001b[0;34m(\u001b[0m\u001b[0;34m\"result=\"\u001b[0m\u001b[0;34m,\u001b[0m\u001b[0mres\u001b[0m\u001b[0;34m)\u001b[0m\u001b[0;34m\u001b[0m\u001b[0m\n\u001b[1;32m      9\u001b[0m \u001b[0;31m#fun(b=10,c=200)# keyword argumnets\u001b[0m\u001b[0;34m\u001b[0m\u001b[0;34m\u001b[0m\u001b[0m\n\u001b[0;32m---> 10\u001b[0;31m \u001b[0mfun\u001b[0m\u001b[0;34m(\u001b[0m\u001b[0me\u001b[0m\u001b[0;34m=\u001b[0m\u001b[0;36m500\u001b[0m\u001b[0;34m)\u001b[0m\u001b[0;34m\u001b[0m\u001b[0m\n\u001b[0m",
      "\u001b[0;31mTypeError\u001b[0m: fun() got an unexpected keyword argument 'e'"
     ]
    }
   ],
   "source": [
    "def fun(a,b=0,c=0,d=0): # default argumnets\n",
    "    \"\"\"\n",
    "    a mandatory\n",
    "    b,c,d are optional parameters\n",
    "    \"\"\"\n",
    "    print(f\"a={a},b={b},c={c},d={d}\")\n",
    "    res=a+b+c+d\n",
    "    print(\"result=\",res)\n",
    "#fun(b=10,c=200)# keyword argumnets\n",
    "fun(e=500)\n"
   ]
  },
  {
   "cell_type": "code",
   "execution_count": 24,
   "metadata": {},
   "outputs": [
    {
     "name": "stdout",
     "output_type": "stream",
     "text": [
      "() <class 'tuple'>\n",
      "(10,) <class 'tuple'>\n",
      "(10, 20) <class 'tuple'>\n",
      "(10, 20, 3) <class 'tuple'>\n",
      "(10, 20, 30, 40) <class 'tuple'>\n",
      "(1, 2, 3, 4, 5, 6, 7, 8, 9, 1, 2, 3, 4, 5, 6, 7, 8, 9) <class 'tuple'>\n"
     ]
    }
   ],
   "source": [
    "def fun(*a): # *args\n",
    "    print(a,type(a))\n",
    "    \n",
    "fun()\n",
    "fun(10)\n",
    "fun(10,20)\n",
    "fun(10,20,3)\n",
    "fun(10,20,30,40)\n",
    "fun(1,2,3,4,5,6,7,8,9,1,2,3,4,5,6,7,8,9)"
   ]
  },
  {
   "cell_type": "code",
   "execution_count": 26,
   "metadata": {},
   "outputs": [],
   "source": [
    "s=(10,20,30,4,\"sdfsd\",[1,2,3,4],{1:2,3:4},1+2j)"
   ]
  },
  {
   "cell_type": "code",
   "execution_count": 28,
   "metadata": {},
   "outputs": [
    {
     "ename": "TypeError",
     "evalue": "fun() got an unexpected keyword argument 'c'",
     "output_type": "error",
     "traceback": [
      "\u001b[0;31m---------------------------------------------------------------------------\u001b[0m",
      "\u001b[0;31mTypeError\u001b[0m                                 Traceback (most recent call last)",
      "\u001b[0;32m<ipython-input-28-286660dfb1c3>\u001b[0m in \u001b[0;36m<module>\u001b[0;34m()\u001b[0m\n\u001b[1;32m      1\u001b[0m \u001b[0;32mdef\u001b[0m \u001b[0mfun\u001b[0m\u001b[0;34m(\u001b[0m\u001b[0;34m*\u001b[0m\u001b[0ma\u001b[0m\u001b[0;34m)\u001b[0m\u001b[0;34m:\u001b[0m \u001b[0;31m# *args\u001b[0m\u001b[0;34m\u001b[0m\u001b[0m\n\u001b[1;32m      2\u001b[0m     \u001b[0mprint\u001b[0m\u001b[0;34m(\u001b[0m\u001b[0ma\u001b[0m\u001b[0;34m,\u001b[0m\u001b[0mtype\u001b[0m\u001b[0;34m(\u001b[0m\u001b[0ma\u001b[0m\u001b[0;34m)\u001b[0m\u001b[0;34m)\u001b[0m\u001b[0;34m\u001b[0m\u001b[0m\n\u001b[0;32m----> 3\u001b[0;31m \u001b[0mfun\u001b[0m\u001b[0;34m(\u001b[0m\u001b[0mc\u001b[0m\u001b[0;34m=\u001b[0m\u001b[0;36m1000\u001b[0m\u001b[0;34m,\u001b[0m\u001b[0md\u001b[0m\u001b[0;34m=\u001b[0m\u001b[0;36m2000\u001b[0m\u001b[0;34m,\u001b[0m\u001b[0me\u001b[0m\u001b[0;34m=\u001b[0m\u001b[0;36m3000\u001b[0m\u001b[0;34m)\u001b[0m\u001b[0;34m\u001b[0m\u001b[0m\n\u001b[0m",
      "\u001b[0;31mTypeError\u001b[0m: fun() got an unexpected keyword argument 'c'"
     ]
    }
   ],
   "source": [
    "def fun(*a): # *args\n",
    "    print(a,type(a))\n",
    "fun(c=1000,d=2000,e=3000)\n"
   ]
  },
  {
   "cell_type": "code",
   "execution_count": 30,
   "metadata": {},
   "outputs": [
    {
     "name": "stdout",
     "output_type": "stream",
     "text": [
      "{'c': 1000, 'd': 2000, 'e': 3000} <class 'dict'>\n",
      "{} <class 'dict'>\n",
      "{'a1': 10, 'a2': 20, 'a3': 30} <class 'dict'>\n"
     ]
    }
   ],
   "source": [
    "def fun(**a): # **kwargs\n",
    "    print(a,type(a))\n",
    "fun(c=1000,d=2000,e=3000)\n",
    "fun()\n",
    "fun(a1=10,a2=20,a3=30)"
   ]
  },
  {
   "cell_type": "code",
   "execution_count": 31,
   "metadata": {},
   "outputs": [
    {
     "name": "stdout",
     "output_type": "stream",
     "text": [
      "() <class 'tuple'>\n",
      "0\n",
      "(10,) <class 'tuple'>\n",
      "10\n",
      "(10, 20) <class 'tuple'>\n",
      "30\n",
      "(10, 20, 3) <class 'tuple'>\n",
      "33\n",
      "(10, 20, 30, 40) <class 'tuple'>\n",
      "100\n",
      "(1, 2, 3, 4, 5, 6, 7, 8, 9, 1, 2, 3, 4, 5, 6, 7, 8, 9) <class 'tuple'>\n",
      "90\n"
     ]
    }
   ],
   "source": [
    "def fun(*a): # *args\n",
    "    print(a,type(a))\n",
    "    print(sum(a))\n",
    "    \n",
    "fun()\n",
    "fun(10)\n",
    "fun(10,20)\n",
    "fun(10,20,3)\n",
    "fun(10,20,30,40)\n",
    "fun(1,2,3,4,5,6,7,8,9,1,2,3,4,5,6,7,8,9)"
   ]
  },
  {
   "cell_type": "code",
   "execution_count": 35,
   "metadata": {},
   "outputs": [
    {
     "name": "stdout",
     "output_type": "stream",
     "text": [
      "name=sailaxmi, dob=24/03/1989,address=BCM,phone=None,passport=None    args=(), kwargs={}\n",
      "********************\n",
      "name=vedha, dob=14/06/2018,address=devendernagar,phone=None,passport=233rwert    args=(), kwargs={'school_name': 'Tatva'}\n"
     ]
    }
   ],
   "source": [
    "def Adhar(name, dob, address, phone=None, passport=None,*args, **kwargs):\n",
    "    print(f\"name={name}, dob={dob},address={address},phone={phone},passport={passport}\\\n",
    "    args={args}, kwargs={kwargs}\")\n",
    "Adhar(\"sailaxmi\",\"24/03/1989\",\"BCM\")\n",
    "print(\"*\"*20)\n",
    "Adhar(\"vedha\",\"14/06/2018\",\"devendernagar\",passport=\"233rwert\",school_name=\"Tatva\")\n",
    "\n"
   ]
  },
  {
   "cell_type": "code",
   "execution_count": 36,
   "metadata": {},
   "outputs": [
    {
     "name": "stdout",
     "output_type": "stream",
     "text": [
      "name=sailaxmi, dob=24/03/1989,address=BCM,phone=9676622023,passport=1243ewqrwr2344    args=('BRCP824234', '1324er234', '234.5656'), kwargs={'voter_id': 'werew', 'ration_card': '3535'}\n"
     ]
    }
   ],
   "source": [
    "def Adhar(name, dob, address, phone=None, passport=None,*args, **kwargs):\n",
    "    print(f\"name={name}, dob={dob},address={address},phone={phone},passport={passport}\\\n",
    "    args={args}, kwargs={kwargs}\")\n",
    "Adhar(\"sailaxmi\",\"24/03/1989\",\"BCM\",\"9676622023\",\"1243ewqrwr2344\",\"BRCP824234\",\"1324er234\",\n",
    "      \"234.5656\",voter_id=\"werew\", ration_card=\"3535\")"
   ]
  },
  {
   "cell_type": "code",
   "execution_count": null,
   "metadata": {},
   "outputs": [],
   "source": [
    "def Adhar(name, dob, address, phone=None, passport=None,*args, **kwargs):\n",
    "    print(f\"name={name}, dob={dob},address={address},phone={phone},passport={passport}\\\n",
    "    args={args}, kwargs={kwargs}\")\n",
    "Adhar(\"sailaxmi\",\"24/03/1989\",\"BCM\",\"9676622023\",\"1243ewqrwr2344\",\"BRCP824234\",\"1324er234\",\n",
    "      \"234.5656\",voter_id=\"werew\", ration_card=\"3535\",\"234234\")"
   ]
  },
  {
   "cell_type": "code",
   "execution_count": 37,
   "metadata": {},
   "outputs": [],
   "source": [
    "def fun(a,b,*args,**kwargs):\n",
    "    pass\n",
    "fun(10,20)"
   ]
  },
  {
   "cell_type": "code",
   "execution_count": 38,
   "metadata": {},
   "outputs": [
    {
     "name": "stdout",
     "output_type": "stream",
     "text": [
      "10 20 (30, 40, 50, 6)\n"
     ]
    }
   ],
   "source": [
    "def fun(a,b,*args,**kwargs):\n",
    "    print(a,b,args)\n",
    "fun(10,20,30,40,50,6,)"
   ]
  },
  {
   "cell_type": "code",
   "execution_count": 39,
   "metadata": {},
   "outputs": [
    {
     "ename": "SyntaxError",
     "evalue": "positional argument follows keyword argument (<ipython-input-39-ab69e548ab0c>, line 3)",
     "output_type": "error",
     "traceback": [
      "\u001b[0;36m  File \u001b[0;32m\"<ipython-input-39-ab69e548ab0c>\"\u001b[0;36m, line \u001b[0;32m3\u001b[0m\n\u001b[0;31m    fun(a=10,b=20,30,40,50,6,)\u001b[0m\n\u001b[0m                 ^\u001b[0m\n\u001b[0;31mSyntaxError\u001b[0m\u001b[0;31m:\u001b[0m positional argument follows keyword argument\n"
     ]
    }
   ],
   "source": [
    "def fun(a,b,*args,**kwargs):\n",
    "    print(a,b,args)\n",
    "fun(a=10,b=20,30,40,50,6,)"
   ]
  },
  {
   "cell_type": "code",
   "execution_count": 41,
   "metadata": {},
   "outputs": [
    {
     "name": "stdout",
     "output_type": "stream",
     "text": [
      "10 20 (30, 40, 50, 6) {'c': 20, 'd': 40}\n"
     ]
    }
   ],
   "source": [
    "def fun(a,b,*args,**kwargs):\n",
    "    print(a,b,args, kwargs)\n",
    "fun(10,20,30,40,50,6,c=20,d=40)"
   ]
  },
  {
   "cell_type": "code",
   "execution_count": 42,
   "metadata": {},
   "outputs": [
    {
     "ename": "TypeError",
     "evalue": "fun() got multiple values for argument 'c'",
     "output_type": "error",
     "traceback": [
      "\u001b[0;31m---------------------------------------------------------------------------\u001b[0m",
      "\u001b[0;31mTypeError\u001b[0m                                 Traceback (most recent call last)",
      "\u001b[0;32m<ipython-input-42-2e5348af963f>\u001b[0m in \u001b[0;36m<module>\u001b[0;34m()\u001b[0m\n\u001b[1;32m      1\u001b[0m \u001b[0;32mdef\u001b[0m \u001b[0mfun\u001b[0m\u001b[0;34m(\u001b[0m\u001b[0ma\u001b[0m\u001b[0;34m,\u001b[0m\u001b[0mb\u001b[0m\u001b[0;34m,\u001b[0m\u001b[0mc\u001b[0m\u001b[0;34m=\u001b[0m\u001b[0;36m0\u001b[0m\u001b[0;34m,\u001b[0m\u001b[0md\u001b[0m\u001b[0;34m=\u001b[0m\u001b[0;36m0\u001b[0m\u001b[0;34m,\u001b[0m\u001b[0;34m*\u001b[0m\u001b[0margs\u001b[0m\u001b[0;34m,\u001b[0m\u001b[0;34m**\u001b[0m\u001b[0mkwargs\u001b[0m\u001b[0;34m)\u001b[0m\u001b[0;34m:\u001b[0m\u001b[0;34m\u001b[0m\u001b[0m\n\u001b[1;32m      2\u001b[0m     \u001b[0mprint\u001b[0m\u001b[0;34m(\u001b[0m\u001b[0ma\u001b[0m\u001b[0;34m,\u001b[0m\u001b[0mb\u001b[0m\u001b[0;34m,\u001b[0m\u001b[0margs\u001b[0m\u001b[0;34m,\u001b[0m \u001b[0mkwargs\u001b[0m\u001b[0;34m)\u001b[0m\u001b[0;34m\u001b[0m\u001b[0m\n\u001b[0;32m----> 3\u001b[0;31m \u001b[0mfun\u001b[0m\u001b[0;34m(\u001b[0m\u001b[0;36m10\u001b[0m\u001b[0;34m,\u001b[0m\u001b[0;36m20\u001b[0m\u001b[0;34m,\u001b[0m\u001b[0;36m30\u001b[0m\u001b[0;34m,\u001b[0m\u001b[0;36m40\u001b[0m\u001b[0;34m,\u001b[0m\u001b[0;36m50\u001b[0m\u001b[0;34m,\u001b[0m\u001b[0;36m6\u001b[0m\u001b[0;34m,\u001b[0m\u001b[0mc\u001b[0m\u001b[0;34m=\u001b[0m\u001b[0;36m20\u001b[0m\u001b[0;34m,\u001b[0m\u001b[0md\u001b[0m\u001b[0;34m=\u001b[0m\u001b[0;36m40\u001b[0m\u001b[0;34m)\u001b[0m\u001b[0;34m\u001b[0m\u001b[0m\n\u001b[0m",
      "\u001b[0;31mTypeError\u001b[0m: fun() got multiple values for argument 'c'"
     ]
    }
   ],
   "source": [
    "def fun(a,b,c=0,d=0,*args,**kwargs):\n",
    "    print(a,b,args, kwargs)\n",
    "fun(10,20,30,40,50,6,c=20,d=40)"
   ]
  },
  {
   "cell_type": "code",
   "execution_count": 44,
   "metadata": {},
   "outputs": [
    {
     "name": "stdout",
     "output_type": "stream",
     "text": [
      "10 20 (50, 6) {'c1': 20, 'd1': 40}\n"
     ]
    }
   ],
   "source": [
    "def fun(a,b,c=0,d=0,*args,**kwargs):\n",
    "    print(a,b,args, kwargs)\n",
    "fun(10,20,30,40,50,6,c1=20,d1=40)"
   ]
  },
  {
   "cell_type": "code",
   "execution_count": 45,
   "metadata": {},
   "outputs": [
    {
     "ename": "SyntaxError",
     "evalue": "non-default argument follows default argument (<ipython-input-45-9fb3031ba4bd>, line 1)",
     "output_type": "error",
     "traceback": [
      "\u001b[0;36m  File \u001b[0;32m\"<ipython-input-45-9fb3031ba4bd>\"\u001b[0;36m, line \u001b[0;32m1\u001b[0m\n\u001b[0;31m    def fun(c=0,d=0,a,b,*args,**kwargs):\u001b[0m\n\u001b[0m           ^\u001b[0m\n\u001b[0;31mSyntaxError\u001b[0m\u001b[0;31m:\u001b[0m non-default argument follows default argument\n"
     ]
    }
   ],
   "source": [
    "def fun(c=0,d=0,a,b,*args,**kwargs):\n",
    "    print(a,b,args, kwargs)\n",
    "fun(10,20)"
   ]
  },
  {
   "cell_type": "code",
   "execution_count": 47,
   "metadata": {},
   "outputs": [
    {
     "ename": "SyntaxError",
     "evalue": "invalid syntax (<ipython-input-47-5c5e4a3105b5>, line 2)",
     "output_type": "error",
     "traceback": [
      "\u001b[0;36m  File \u001b[0;32m\"<ipython-input-47-5c5e4a3105b5>\"\u001b[0;36m, line \u001b[0;32m2\u001b[0m\n\u001b[0;31m    def fun(a,b,c=0,d=0,**kwargs,*args):\u001b[0m\n\u001b[0m                                 ^\u001b[0m\n\u001b[0;31mSyntaxError\u001b[0m\u001b[0;31m:\u001b[0m invalid syntax\n"
     ]
    }
   ],
   "source": [
    "print(\"hello\")\n",
    "def fun(a,b,c=0,d=0,**kwargs,*args):\n",
    "    print(a,b,args, kwargs)\n",
    "fun(10,20,30,40,50,6,c1=20,d1=40)"
   ]
  },
  {
   "cell_type": "code",
   "execution_count": 48,
   "metadata": {},
   "outputs": [
    {
     "name": "stdout",
     "output_type": "stream",
     "text": [
      "{'a': 10, 'b': 20}\n"
     ]
    }
   ],
   "source": [
    "def fun(**kwargs):\n",
    "    print(kwargs)\n",
    "fun(a=10,b=20)"
   ]
  },
  {
   "cell_type": "code",
   "execution_count": 49,
   "metadata": {},
   "outputs": [
    {
     "ename": "TypeError",
     "evalue": "fun() takes 0 positional arguments but 2 were given",
     "output_type": "error",
     "traceback": [
      "\u001b[0;31m---------------------------------------------------------------------------\u001b[0m",
      "\u001b[0;31mTypeError\u001b[0m                                 Traceback (most recent call last)",
      "\u001b[0;32m<ipython-input-49-a63645430234>\u001b[0m in \u001b[0;36m<module>\u001b[0;34m()\u001b[0m\n\u001b[1;32m      1\u001b[0m \u001b[0;32mdef\u001b[0m \u001b[0mfun\u001b[0m\u001b[0;34m(\u001b[0m\u001b[0;34m**\u001b[0m\u001b[0mkwargs\u001b[0m\u001b[0;34m)\u001b[0m\u001b[0;34m:\u001b[0m\u001b[0;34m\u001b[0m\u001b[0m\n\u001b[1;32m      2\u001b[0m     \u001b[0mprint\u001b[0m\u001b[0;34m(\u001b[0m\u001b[0mkwargs\u001b[0m\u001b[0;34m)\u001b[0m\u001b[0;34m\u001b[0m\u001b[0m\n\u001b[0;32m----> 3\u001b[0;31m \u001b[0mfun\u001b[0m\u001b[0;34m(\u001b[0m\u001b[0;36m10\u001b[0m\u001b[0;34m,\u001b[0m\u001b[0;36m20\u001b[0m\u001b[0;34m)\u001b[0m\u001b[0;34m\u001b[0m\u001b[0m\n\u001b[0m",
      "\u001b[0;31mTypeError\u001b[0m: fun() takes 0 positional arguments but 2 were given"
     ]
    }
   ],
   "source": [
    "def fun(**kwargs):\n",
    "    print(kwargs)\n",
    "fun(10,20)"
   ]
  },
  {
   "cell_type": "code",
   "execution_count": 51,
   "metadata": {},
   "outputs": [
    {
     "name": "stdout",
     "output_type": "stream",
     "text": [
      "{'a': 10, 'b': 20}\n",
      "()\n",
      "********************\n",
      "{}\n",
      "(10, 20)\n"
     ]
    }
   ],
   "source": [
    "def fun(*args,**kwargs):\n",
    "    print(kwargs)\n",
    "    print(args)\n",
    "fun(a=10,b=20)\n",
    "print(\"*\"*20)\n",
    "fun(10,20)"
   ]
  },
  {
   "cell_type": "code",
   "execution_count": 53,
   "metadata": {},
   "outputs": [
    {
     "ename": "SyntaxError",
     "evalue": "positional argument follows keyword argument (<ipython-input-53-57cbaf431bf5>, line 4)",
     "output_type": "error",
     "traceback": [
      "\u001b[0;36m  File \u001b[0;32m\"<ipython-input-53-57cbaf431bf5>\"\u001b[0;36m, line \u001b[0;32m4\u001b[0m\n\u001b[0;31m    fun(a=10,b=20,3000)\u001b[0m\n\u001b[0m                 ^\u001b[0m\n\u001b[0;31mSyntaxError\u001b[0m\u001b[0;31m:\u001b[0m positional argument follows keyword argument\n"
     ]
    }
   ],
   "source": [
    "def fun(*args,**kwargs):\n",
    "    print(kwargs)\n",
    "    print(args)\n",
    "fun(a=10,b=20,3000)\n",
    "fun(10,20)"
   ]
  },
  {
   "cell_type": "code",
   "execution_count": 54,
   "metadata": {},
   "outputs": [
    {
     "name": "stdout",
     "output_type": "stream",
     "text": [
      "{'a': 10, 'b': 20}\n",
      "(100, 200)\n",
      "{'c': 300, 'd': 400}\n",
      "(10, 20)\n"
     ]
    }
   ],
   "source": [
    "def fun(*args,**kwargs):\n",
    "    print(kwargs)\n",
    "    print(args)\n",
    "fun(100,200,a=10,b=20)\n",
    "fun(10,20,c=300,d=400)"
   ]
  },
  {
   "cell_type": "code",
   "execution_count": 56,
   "metadata": {},
   "outputs": [
    {
     "name": "stdout",
     "output_type": "stream",
     "text": [
      "{}\n",
      "()\n",
      "********************\n",
      "{'a': 10, 'b': 20}\n",
      "(100, 200)\n",
      "********************\n",
      "{'c': 300, 'd': 400}\n",
      "(10, 20)\n"
     ]
    }
   ],
   "source": [
    "def fun(*args,**kwargs):\n",
    "    print(kwargs)\n",
    "    print(args)\n",
    "fun()\n",
    "print(\"*\"*20)\n",
    "fun(100,200,a=10,b=20)\n",
    "print(\"*\"*20)\n",
    "fun(10,20,c=300,d=400)"
   ]
  },
  {
   "cell_type": "code",
   "execution_count": 57,
   "metadata": {},
   "outputs": [
    {
     "name": "stdout",
     "output_type": "stream",
     "text": [
      "{}\n",
      "()\n",
      "{}\n",
      "('a', 'b', 'c')\n",
      "********************\n",
      "{'a': 10, 'b': 20}\n",
      "(100, 200)\n",
      "********************\n",
      "{'c': 300, 'd': 400}\n",
      "(10, 20)\n"
     ]
    }
   ],
   "source": [
    "def fun(*args,**kwargs):\n",
    "    print(kwargs)\n",
    "    print(args)\n",
    "fun()\n",
    "fun(\"a\",\"b\",\"c\") # positional arguments\n",
    "print(\"*\"*20)\n",
    "fun(100,200,a=10,b=20)\n",
    "print(\"*\"*20)\n",
    "fun(10,20,c=300,d=400)"
   ]
  },
  {
   "cell_type": "code",
   "execution_count": 58,
   "metadata": {},
   "outputs": [
    {
     "name": "stdout",
     "output_type": "stream",
     "text": [
      "()\n",
      "(10, 20, 30, 40, 5)\n"
     ]
    }
   ],
   "source": [
    "def fun(*args):\n",
    "    print(args)\n",
    "fun()\n",
    "fun(10,20,30,40,5)"
   ]
  },
  {
   "cell_type": "code",
   "execution_count": 59,
   "metadata": {},
   "outputs": [
    {
     "name": "stdout",
     "output_type": "stream",
     "text": [
      "()\n",
      "(10, 20, 30, 40, 5)\n"
     ]
    },
    {
     "ename": "TypeError",
     "evalue": "fun() got an unexpected keyword argument 'a'",
     "output_type": "error",
     "traceback": [
      "\u001b[0;31m---------------------------------------------------------------------------\u001b[0m",
      "\u001b[0;31mTypeError\u001b[0m                                 Traceback (most recent call last)",
      "\u001b[0;32m<ipython-input-59-c17b0f57139f>\u001b[0m in \u001b[0;36m<module>\u001b[0;34m()\u001b[0m\n\u001b[1;32m      3\u001b[0m \u001b[0mfun\u001b[0m\u001b[0;34m(\u001b[0m\u001b[0;34m)\u001b[0m\u001b[0;34m\u001b[0m\u001b[0m\n\u001b[1;32m      4\u001b[0m \u001b[0mfun\u001b[0m\u001b[0;34m(\u001b[0m\u001b[0;36m10\u001b[0m\u001b[0;34m,\u001b[0m\u001b[0;36m20\u001b[0m\u001b[0;34m,\u001b[0m\u001b[0;36m30\u001b[0m\u001b[0;34m,\u001b[0m\u001b[0;36m40\u001b[0m\u001b[0;34m,\u001b[0m\u001b[0;36m5\u001b[0m\u001b[0;34m)\u001b[0m\u001b[0;34m\u001b[0m\u001b[0m\n\u001b[0;32m----> 5\u001b[0;31m \u001b[0mfun\u001b[0m\u001b[0;34m(\u001b[0m\u001b[0ma\u001b[0m\u001b[0;34m=\u001b[0m\u001b[0;36m10\u001b[0m\u001b[0;34m,\u001b[0m\u001b[0mb\u001b[0m\u001b[0;34m=\u001b[0m\u001b[0;36m20\u001b[0m\u001b[0;34m)\u001b[0m\u001b[0;34m\u001b[0m\u001b[0m\n\u001b[0m",
      "\u001b[0;31mTypeError\u001b[0m: fun() got an unexpected keyword argument 'a'"
     ]
    }
   ],
   "source": [
    "def fun(*args):\n",
    "    print(args)\n",
    "fun()\n",
    "fun(10,20,30,40,5)\n",
    "fun(a=10,b=20)"
   ]
  },
  {
   "cell_type": "code",
   "execution_count": 60,
   "metadata": {},
   "outputs": [
    {
     "name": "stdout",
     "output_type": "stream",
     "text": [
      "{}\n"
     ]
    }
   ],
   "source": [
    "def fun(**kwargs):\n",
    "    print(kwargs)\n",
    "fun()"
   ]
  },
  {
   "cell_type": "code",
   "execution_count": 61,
   "metadata": {},
   "outputs": [
    {
     "name": "stdout",
     "output_type": "stream",
     "text": [
      "1 20 30 4\n"
     ]
    }
   ],
   "source": [
    "def fun(a,b,c,d):\n",
    "    print(a,b,c,d)\n",
    "fun(1,20,30,4)"
   ]
  },
  {
   "cell_type": "code",
   "execution_count": 62,
   "metadata": {},
   "outputs": [
    {
     "name": "stdout",
     "output_type": "stream",
     "text": [
      "{}\n"
     ]
    },
    {
     "ename": "TypeError",
     "evalue": "fun() takes 0 positional arguments but 1 was given",
     "output_type": "error",
     "traceback": [
      "\u001b[0;31m---------------------------------------------------------------------------\u001b[0m",
      "\u001b[0;31mTypeError\u001b[0m                                 Traceback (most recent call last)",
      "\u001b[0;32m<ipython-input-62-9ddbe2d2ab07>\u001b[0m in \u001b[0;36m<module>\u001b[0;34m()\u001b[0m\n\u001b[1;32m      2\u001b[0m     \u001b[0mprint\u001b[0m\u001b[0;34m(\u001b[0m\u001b[0mkwargs\u001b[0m\u001b[0;34m)\u001b[0m\u001b[0;34m\u001b[0m\u001b[0m\n\u001b[1;32m      3\u001b[0m \u001b[0mfun\u001b[0m\u001b[0;34m(\u001b[0m\u001b[0;34m)\u001b[0m\u001b[0;34m\u001b[0m\u001b[0m\n\u001b[0;32m----> 4\u001b[0;31m \u001b[0mfun\u001b[0m\u001b[0;34m(\u001b[0m\u001b[0;36m10\u001b[0m\u001b[0;34m)\u001b[0m\u001b[0;34m\u001b[0m\u001b[0m\n\u001b[0m",
      "\u001b[0;31mTypeError\u001b[0m: fun() takes 0 positional arguments but 1 was given"
     ]
    }
   ],
   "source": [
    "def fun(**kwargs):\n",
    "    print(kwargs)\n",
    "fun()\n",
    "fun(10)"
   ]
  },
  {
   "cell_type": "code",
   "execution_count": 63,
   "metadata": {},
   "outputs": [
    {
     "ename": "TypeError",
     "evalue": "fun() takes 0 positional arguments but 1 was given",
     "output_type": "error",
     "traceback": [
      "\u001b[0;31m---------------------------------------------------------------------------\u001b[0m",
      "\u001b[0;31mTypeError\u001b[0m                                 Traceback (most recent call last)",
      "\u001b[0;32m<ipython-input-63-ab05d284a0db>\u001b[0m in \u001b[0;36m<module>\u001b[0;34m()\u001b[0m\n\u001b[1;32m      1\u001b[0m \u001b[0;32mdef\u001b[0m \u001b[0mfun\u001b[0m\u001b[0;34m(\u001b[0m\u001b[0;34m**\u001b[0m\u001b[0mkwargs\u001b[0m\u001b[0;34m)\u001b[0m\u001b[0;34m:\u001b[0m\u001b[0;34m\u001b[0m\u001b[0m\n\u001b[1;32m      2\u001b[0m     \u001b[0mprint\u001b[0m\u001b[0;34m(\u001b[0m\u001b[0mkwargs\u001b[0m\u001b[0;34m)\u001b[0m\u001b[0;34m\u001b[0m\u001b[0m\n\u001b[0;32m----> 3\u001b[0;31m \u001b[0mfun\u001b[0m\u001b[0;34m(\u001b[0m\u001b[0;36m1000\u001b[0m\u001b[0;34m)\u001b[0m\u001b[0;34m\u001b[0m\u001b[0m\n\u001b[0m",
      "\u001b[0;31mTypeError\u001b[0m: fun() takes 0 positional arguments but 1 was given"
     ]
    }
   ],
   "source": [
    "def fun(**kwargs):\n",
    "    print(kwargs)\n",
    "fun(1000)"
   ]
  },
  {
   "cell_type": "code",
   "execution_count": 64,
   "metadata": {},
   "outputs": [
    {
     "name": "stdout",
     "output_type": "stream",
     "text": [
      "(1000,)\n",
      "{}\n",
      "()\n",
      "{'a': 1000}\n"
     ]
    }
   ],
   "source": [
    "def fun(*args,**kwargs):\n",
    "    print(args)\n",
    "    print(kwargs)\n",
    "fun(1000) #positiional arguments\n",
    "fun(a=1000) # keyword arguments"
   ]
  },
  {
   "cell_type": "code",
   "execution_count": 65,
   "metadata": {},
   "outputs": [
    {
     "name": "stdout",
     "output_type": "stream",
     "text": [
      "1000 ()\n",
      "1000 ()\n"
     ]
    }
   ],
   "source": [
    "def fun(a,*args):\n",
    "    print(a,args)\n",
    "fun(1000) #positiional arguments\n",
    "fun(a=1000) # keyword arguments"
   ]
  },
  {
   "cell_type": "code",
   "execution_count": 66,
   "metadata": {},
   "outputs": [
    {
     "name": "stdout",
     "output_type": "stream",
     "text": [
      "1000 ()\n",
      "1000 ()\n"
     ]
    },
    {
     "ename": "TypeError",
     "evalue": "fun() got multiple values for argument 'a'",
     "output_type": "error",
     "traceback": [
      "\u001b[0;31m---------------------------------------------------------------------------\u001b[0m",
      "\u001b[0;31mTypeError\u001b[0m                                 Traceback (most recent call last)",
      "\u001b[0;32m<ipython-input-66-188a2286fb9a>\u001b[0m in \u001b[0;36m<module>\u001b[0;34m()\u001b[0m\n\u001b[1;32m      3\u001b[0m \u001b[0mfun\u001b[0m\u001b[0;34m(\u001b[0m\u001b[0;36m1000\u001b[0m\u001b[0;34m)\u001b[0m \u001b[0;31m#positiional arguments\u001b[0m\u001b[0;34m\u001b[0m\u001b[0m\n\u001b[1;32m      4\u001b[0m \u001b[0mfun\u001b[0m\u001b[0;34m(\u001b[0m\u001b[0ma\u001b[0m\u001b[0;34m=\u001b[0m\u001b[0;36m1000\u001b[0m\u001b[0;34m)\u001b[0m \u001b[0;31m# keyword arguments\u001b[0m\u001b[0;34m\u001b[0m\u001b[0m\n\u001b[0;32m----> 5\u001b[0;31m \u001b[0mfun\u001b[0m\u001b[0;34m(\u001b[0m\u001b[0;36m1000\u001b[0m\u001b[0;34m,\u001b[0m\u001b[0ma\u001b[0m\u001b[0;34m=\u001b[0m\u001b[0;36m1000\u001b[0m\u001b[0;34m,\u001b[0m\u001b[0mb\u001b[0m\u001b[0;34m=\u001b[0m\u001b[0;36m2000\u001b[0m\u001b[0;34m)\u001b[0m\u001b[0;34m\u001b[0m\u001b[0m\n\u001b[0m",
      "\u001b[0;31mTypeError\u001b[0m: fun() got multiple values for argument 'a'"
     ]
    }
   ],
   "source": [
    "def fun(a,*args):\n",
    "    print(a,args)\n",
    "fun(1000) #positiional arguments\n",
    "fun(a=1000) # keyword arguments\n",
    "fun(1000,a=1000,b=2000)"
   ]
  },
  {
   "cell_type": "code",
   "execution_count": 68,
   "metadata": {},
   "outputs": [
    {
     "name": "stdout",
     "output_type": "stream",
     "text": [
      "1000 () {}\n",
      "1000 () {}\n",
      "1000 () {'a1': 1000, 'b': 2000}\n"
     ]
    }
   ],
   "source": [
    "def fun(a,*args,**kwargs):\n",
    "    print(a,args,kwargs)\n",
    "fun(1000) #positiional arguments\n",
    "fun(a=1000) # keyword arguments\n",
    "fun(1000,a1=1000,b=2000)"
   ]
  },
  {
   "cell_type": "code",
   "execution_count": 69,
   "metadata": {},
   "outputs": [
    {
     "name": "stdout",
     "output_type": "stream",
     "text": [
      "name=sailaxmi, dob=24/03/1989,address=BCM,phone=9676622023,passport=None    args=(), kwargs={'voter_id': '1243ewqrwr2344', 'pan': 'BRCP824234', 'e_moternumer': '1324er234', 'RC': '234.5656'}\n"
     ]
    }
   ],
   "source": [
    "def Adhar(name, dob, address, phone=None, passport=None,*args, **kwargs):\n",
    "    print(f\"name={name}, dob={dob},address={address},phone={phone},passport={passport}\\\n",
    "    args={args}, kwargs={kwargs}\")\n",
    "Adhar(name=\"sailaxmi\",\n",
    "      dob=\"24/03/1989\",\n",
    "      address=\"BCM\",\n",
    "      phone=\"9676622023\",\n",
    "      voter_id=\"1243ewqrwr2344\",\n",
    "      pan=\"BRCP824234\",\n",
    "      e_moternumer=\"1324er234\",\n",
    "      RC=\"234.5656\")"
   ]
  },
  {
   "cell_type": "code",
   "execution_count": 70,
   "metadata": {},
   "outputs": [
    {
     "name": "stdout",
     "output_type": "stream",
     "text": [
      "name=sailaxmi, dob=24/03/1989,address=BCM,phone=9676622023,passport=None     kwargs={'voter_id': '1243ewqrwr2344', 'pan': 'BRCP824234', 'e_moternumer': '1324er234', 'RC': '234.5656'}\n"
     ]
    }
   ],
   "source": [
    "def Adhar(name, dob, address, phone=None, passport=None,**kwargs):\n",
    "    print(f\"name={name}, dob={dob},address={address},phone={phone},passport={passport}\\\n",
    "     kwargs={kwargs}\")\n",
    "Adhar(name=\"sailaxmi\",\n",
    "      dob=\"24/03/1989\",\n",
    "      address=\"BCM\",\n",
    "      phone=\"9676622023\",\n",
    "      voter_id=\"1243ewqrwr2344\",\n",
    "      pan=\"BRCP824234\",\n",
    "      e_moternumer=\"1324er234\",\n",
    "      RC=\"234.5656\")\n"
   ]
  },
  {
   "cell_type": "code",
   "execution_count": 71,
   "metadata": {},
   "outputs": [
    {
     "name": "stdout",
     "output_type": "stream",
     "text": [
      "10 20 30\n"
     ]
    }
   ],
   "source": [
    "def fun(a,b=0,c=0):\n",
    "    print(a+b+c)\n",
    "print(10,20,30)\n"
   ]
  },
  {
   "cell_type": "code",
   "execution_count": 73,
   "metadata": {},
   "outputs": [
    {
     "name": "stdout",
     "output_type": "stream",
     "text": [
      "10 20 sdaf\n"
     ]
    },
    {
     "ename": "TypeError",
     "evalue": "unsupported operand type(s) for +: 'int' and 'str'",
     "output_type": "error",
     "traceback": [
      "\u001b[0;31m---------------------------------------------------------------------------\u001b[0m",
      "\u001b[0;31mTypeError\u001b[0m                                 Traceback (most recent call last)",
      "\u001b[0;32m<ipython-input-73-a84d96eae305>\u001b[0m in \u001b[0;36m<module>\u001b[0;34m()\u001b[0m\n\u001b[1;32m      2\u001b[0m     \u001b[0mprint\u001b[0m\u001b[0;34m(\u001b[0m\u001b[0ma\u001b[0m\u001b[0;34m,\u001b[0m\u001b[0mb\u001b[0m\u001b[0;34m,\u001b[0m\u001b[0mc\u001b[0m\u001b[0;34m)\u001b[0m\u001b[0;34m\u001b[0m\u001b[0m\n\u001b[1;32m      3\u001b[0m     \u001b[0mprint\u001b[0m\u001b[0;34m(\u001b[0m\u001b[0ma\u001b[0m\u001b[0;34m+\u001b[0m\u001b[0mb\u001b[0m\u001b[0;34m+\u001b[0m\u001b[0mc\u001b[0m\u001b[0;34m)\u001b[0m\u001b[0;34m\u001b[0m\u001b[0m\n\u001b[0;32m----> 4\u001b[0;31m \u001b[0mfun\u001b[0m\u001b[0;34m(\u001b[0m\u001b[0;36m10\u001b[0m\u001b[0;34m,\u001b[0m\u001b[0;36m20\u001b[0m\u001b[0;34m,\u001b[0m\u001b[0;34m\"sdaf\"\u001b[0m\u001b[0;34m)\u001b[0m\u001b[0;34m\u001b[0m\u001b[0m\n\u001b[0m",
      "\u001b[0;32m<ipython-input-73-a84d96eae305>\u001b[0m in \u001b[0;36mfun\u001b[0;34m(a, b, c)\u001b[0m\n\u001b[1;32m      1\u001b[0m \u001b[0;32mdef\u001b[0m \u001b[0mfun\u001b[0m\u001b[0;34m(\u001b[0m\u001b[0ma\u001b[0m\u001b[0;34m,\u001b[0m\u001b[0mb\u001b[0m\u001b[0;34m=\u001b[0m\u001b[0;36m0\u001b[0m\u001b[0;34m,\u001b[0m\u001b[0mc\u001b[0m\u001b[0;34m=\u001b[0m\u001b[0;36m0\u001b[0m\u001b[0;34m)\u001b[0m\u001b[0;34m:\u001b[0m\u001b[0;34m\u001b[0m\u001b[0m\n\u001b[1;32m      2\u001b[0m     \u001b[0mprint\u001b[0m\u001b[0;34m(\u001b[0m\u001b[0ma\u001b[0m\u001b[0;34m,\u001b[0m\u001b[0mb\u001b[0m\u001b[0;34m,\u001b[0m\u001b[0mc\u001b[0m\u001b[0;34m)\u001b[0m\u001b[0;34m\u001b[0m\u001b[0m\n\u001b[0;32m----> 3\u001b[0;31m     \u001b[0mprint\u001b[0m\u001b[0;34m(\u001b[0m\u001b[0ma\u001b[0m\u001b[0;34m+\u001b[0m\u001b[0mb\u001b[0m\u001b[0;34m+\u001b[0m\u001b[0mc\u001b[0m\u001b[0;34m)\u001b[0m\u001b[0;34m\u001b[0m\u001b[0m\n\u001b[0m\u001b[1;32m      4\u001b[0m \u001b[0mfun\u001b[0m\u001b[0;34m(\u001b[0m\u001b[0;36m10\u001b[0m\u001b[0;34m,\u001b[0m\u001b[0;36m20\u001b[0m\u001b[0;34m,\u001b[0m\u001b[0;34m\"sdaf\"\u001b[0m\u001b[0;34m)\u001b[0m\u001b[0;34m\u001b[0m\u001b[0m\n",
      "\u001b[0;31mTypeError\u001b[0m: unsupported operand type(s) for +: 'int' and 'str'"
     ]
    }
   ],
   "source": [
    "def fun(a,b=0,c=0):\n",
    "    print(a,b,c)\n",
    "    print(a+b+c)\n",
    "fun(10,20,\"sdaf\")\n"
   ]
  },
  {
   "cell_type": "code",
   "execution_count": 74,
   "metadata": {},
   "outputs": [
    {
     "name": "stdout",
     "output_type": "stream",
     "text": [
      "10 20 sdaf\n"
     ]
    },
    {
     "ename": "TypeError",
     "evalue": "unsupported operand type(s) for +: 'int' and 'str'",
     "output_type": "error",
     "traceback": [
      "\u001b[0;31m---------------------------------------------------------------------------\u001b[0m",
      "\u001b[0;31mTypeError\u001b[0m                                 Traceback (most recent call last)",
      "\u001b[0;32m<ipython-input-74-c38577cb7f1e>\u001b[0m in \u001b[0;36m<module>\u001b[0;34m()\u001b[0m\n\u001b[1;32m      6\u001b[0m     \u001b[0mprint\u001b[0m\u001b[0;34m(\u001b[0m\u001b[0ma\u001b[0m\u001b[0;34m,\u001b[0m\u001b[0mb\u001b[0m\u001b[0;34m,\u001b[0m\u001b[0mc\u001b[0m\u001b[0;34m)\u001b[0m\u001b[0;34m\u001b[0m\u001b[0m\n\u001b[1;32m      7\u001b[0m     \u001b[0mprint\u001b[0m\u001b[0;34m(\u001b[0m\u001b[0ma\u001b[0m\u001b[0;34m+\u001b[0m\u001b[0mb\u001b[0m\u001b[0;34m+\u001b[0m\u001b[0mc\u001b[0m\u001b[0;34m)\u001b[0m\u001b[0;34m\u001b[0m\u001b[0m\n\u001b[0;32m----> 8\u001b[0;31m \u001b[0mfun\u001b[0m\u001b[0;34m(\u001b[0m\u001b[0;36m10\u001b[0m\u001b[0;34m,\u001b[0m\u001b[0;36m20\u001b[0m\u001b[0;34m,\u001b[0m\u001b[0;34m\"sdaf\"\u001b[0m\u001b[0;34m)\u001b[0m\u001b[0;34m\u001b[0m\u001b[0m\n\u001b[0m",
      "\u001b[0;32m<ipython-input-74-c38577cb7f1e>\u001b[0m in \u001b[0;36mfun\u001b[0;34m(a, b, c)\u001b[0m\n\u001b[1;32m      5\u001b[0m     \"\"\"\n\u001b[1;32m      6\u001b[0m     \u001b[0mprint\u001b[0m\u001b[0;34m(\u001b[0m\u001b[0ma\u001b[0m\u001b[0;34m,\u001b[0m\u001b[0mb\u001b[0m\u001b[0;34m,\u001b[0m\u001b[0mc\u001b[0m\u001b[0;34m)\u001b[0m\u001b[0;34m\u001b[0m\u001b[0m\n\u001b[0;32m----> 7\u001b[0;31m     \u001b[0mprint\u001b[0m\u001b[0;34m(\u001b[0m\u001b[0ma\u001b[0m\u001b[0;34m+\u001b[0m\u001b[0mb\u001b[0m\u001b[0;34m+\u001b[0m\u001b[0mc\u001b[0m\u001b[0;34m)\u001b[0m\u001b[0;34m\u001b[0m\u001b[0m\n\u001b[0m\u001b[1;32m      8\u001b[0m \u001b[0mfun\u001b[0m\u001b[0;34m(\u001b[0m\u001b[0;36m10\u001b[0m\u001b[0;34m,\u001b[0m\u001b[0;36m20\u001b[0m\u001b[0;34m,\u001b[0m\u001b[0;34m\"sdaf\"\u001b[0m\u001b[0;34m)\u001b[0m\u001b[0;34m\u001b[0m\u001b[0m\n",
      "\u001b[0;31mTypeError\u001b[0m: unsupported operand type(s) for +: 'int' and 'str'"
     ]
    }
   ],
   "source": [
    "def fun(a,b=0,c=0):\n",
    "    \"\"\"\n",
    "    a,b,c: int\n",
    "    We are not responsible for other dataty crashings\n",
    "    \"\"\"\n",
    "    print(a,b,c)\n",
    "    print(a+b+c)\n",
    "fun(10,20,\"sdaf\")\n"
   ]
  },
  {
   "cell_type": "code",
   "execution_count": 77,
   "metadata": {},
   "outputs": [
    {
     "name": "stdout",
     "output_type": "stream",
     "text": [
      "a before fun call: 1000\n",
      "a inside fun: 1\n",
      "a after fun call: 1000\n"
     ]
    }
   ],
   "source": [
    "a=1000\n",
    "print(\"a before fun call:\",a)\n",
    "def fun():\n",
    "    a=1\n",
    "    \n",
    "    print(\"a inside fun:\",a)\n",
    "fun()\n",
    "print(\"a after fun call:\",a)\n",
    "    "
   ]
  },
  {
   "cell_type": "code",
   "execution_count": 78,
   "metadata": {},
   "outputs": [
    {
     "name": "stdout",
     "output_type": "stream",
     "text": [
      "a before fun call: 1000\n",
      "a inside fun: 1\n",
      "a12= 20\n",
      "a after fun call: 1000\n"
     ]
    }
   ],
   "source": [
    "a=1000\n",
    "print(\"a before fun call:\",a)\n",
    "def fun():\n",
    "    a=1\n",
    "    a12=20\n",
    "    print(\"a inside fun:\",a)\n",
    "    print(\"a12=\",a12)\n",
    "fun()\n",
    "print(\"a after fun call:\",a)\n",
    "    "
   ]
  },
  {
   "cell_type": "code",
   "execution_count": 79,
   "metadata": {},
   "outputs": [
    {
     "name": "stdout",
     "output_type": "stream",
     "text": [
      "a before fun call: 1000\n",
      "a inside fun: 1\n",
      "a12= 20\n",
      "a after fun call: 1000\n"
     ]
    },
    {
     "ename": "NameError",
     "evalue": "name 'a12' is not defined",
     "output_type": "error",
     "traceback": [
      "\u001b[0;31m---------------------------------------------------------------------------\u001b[0m",
      "\u001b[0;31mNameError\u001b[0m                                 Traceback (most recent call last)",
      "\u001b[0;32m<ipython-input-79-f0397783ebc3>\u001b[0m in \u001b[0;36m<module>\u001b[0;34m()\u001b[0m\n\u001b[1;32m      8\u001b[0m \u001b[0mfun\u001b[0m\u001b[0;34m(\u001b[0m\u001b[0;34m)\u001b[0m\u001b[0;34m\u001b[0m\u001b[0m\n\u001b[1;32m      9\u001b[0m \u001b[0mprint\u001b[0m\u001b[0;34m(\u001b[0m\u001b[0;34m\"a after fun call:\"\u001b[0m\u001b[0;34m,\u001b[0m\u001b[0ma\u001b[0m\u001b[0;34m)\u001b[0m\u001b[0;34m\u001b[0m\u001b[0m\n\u001b[0;32m---> 10\u001b[0;31m \u001b[0mprint\u001b[0m\u001b[0;34m(\u001b[0m\u001b[0;34m\"a12 outside fun:\"\u001b[0m\u001b[0;34m,\u001b[0m\u001b[0ma12\u001b[0m\u001b[0;34m)\u001b[0m\u001b[0;34m\u001b[0m\u001b[0m\n\u001b[0m",
      "\u001b[0;31mNameError\u001b[0m: name 'a12' is not defined"
     ]
    }
   ],
   "source": [
    "a=1000\n",
    "print(\"a before fun call:\",a)\n",
    "def fun():\n",
    "    a=1\n",
    "    a12=20\n",
    "    print(\"a inside fun:\",a)\n",
    "    print(\"a12=\",a12)\n",
    "fun()\n",
    "print(\"a after fun call:\",a)\n",
    "print(\"a12 outside fun:\",a12)"
   ]
  },
  {
   "cell_type": "code",
   "execution_count": 80,
   "metadata": {},
   "outputs": [
    {
     "ename": "NameError",
     "evalue": "name 'x' is not defined",
     "output_type": "error",
     "traceback": [
      "\u001b[0;31m---------------------------------------------------------------------------\u001b[0m",
      "\u001b[0;31mNameError\u001b[0m                                 Traceback (most recent call last)",
      "\u001b[0;32m<ipython-input-80-eb9f083905ac>\u001b[0m in \u001b[0;36m<module>\u001b[0;34m()\u001b[0m\n\u001b[1;32m      2\u001b[0m     \u001b[0;32mpass\u001b[0m\u001b[0;34m\u001b[0m\u001b[0m\n\u001b[1;32m      3\u001b[0m \u001b[0mfun\u001b[0m\u001b[0;34m(\u001b[0m\u001b[0;36m1000\u001b[0m\u001b[0;34m,\u001b[0m\u001b[0;36m2000\u001b[0m\u001b[0;34m)\u001b[0m\u001b[0;34m\u001b[0m\u001b[0m\n\u001b[0;32m----> 4\u001b[0;31m \u001b[0mprint\u001b[0m\u001b[0;34m(\u001b[0m\u001b[0mx\u001b[0m\u001b[0;34m)\u001b[0m\u001b[0;34m\u001b[0m\u001b[0m\n\u001b[0m",
      "\u001b[0;31mNameError\u001b[0m: name 'x' is not defined"
     ]
    }
   ],
   "source": [
    "def fun(x,y):\n",
    "    pass\n",
    "fun(1000,2000)\n",
    "print(x)"
   ]
  },
  {
   "cell_type": "code",
   "execution_count": 81,
   "metadata": {},
   "outputs": [
    {
     "ename": "NameError",
     "evalue": "name 'res' is not defined",
     "output_type": "error",
     "traceback": [
      "\u001b[0;31m---------------------------------------------------------------------------\u001b[0m",
      "\u001b[0;31mNameError\u001b[0m                                 Traceback (most recent call last)",
      "\u001b[0;32m<ipython-input-81-99fecfef4622>\u001b[0m in \u001b[0;36m<module>\u001b[0;34m()\u001b[0m\n\u001b[1;32m      2\u001b[0m     \u001b[0mres\u001b[0m\u001b[0;34m=\u001b[0m\u001b[0mx\u001b[0m\u001b[0;34m+\u001b[0m\u001b[0mx\u001b[0m\u001b[0;34m\u001b[0m\u001b[0m\n\u001b[1;32m      3\u001b[0m \u001b[0mfun\u001b[0m\u001b[0;34m(\u001b[0m\u001b[0;36m1000\u001b[0m\u001b[0;34m,\u001b[0m\u001b[0;36m2000\u001b[0m\u001b[0;34m)\u001b[0m\u001b[0;34m\u001b[0m\u001b[0m\n\u001b[0;32m----> 4\u001b[0;31m \u001b[0mprint\u001b[0m\u001b[0;34m(\u001b[0m\u001b[0mres\u001b[0m\u001b[0;34m)\u001b[0m\u001b[0;34m\u001b[0m\u001b[0m\n\u001b[0m",
      "\u001b[0;31mNameError\u001b[0m: name 'res' is not defined"
     ]
    }
   ],
   "source": [
    "def fun(x,y):\n",
    "    res=x+x\n",
    "fun(1000,2000)\n",
    "print(res)"
   ]
  },
  {
   "cell_type": "code",
   "execution_count": 82,
   "metadata": {},
   "outputs": [
    {
     "name": "stdout",
     "output_type": "stream",
     "text": [
      "r1= 2000\n"
     ]
    }
   ],
   "source": [
    "def fun(x,y):\n",
    "    res=x+x\n",
    "    return res\n",
    "r1 = fun(1000,2000)\n",
    "print(\"r1=\",r1)"
   ]
  },
  {
   "cell_type": "code",
   "execution_count": 83,
   "metadata": {},
   "outputs": [
    {
     "name": "stdout",
     "output_type": "stream",
     "text": [
      "r1= None\n"
     ]
    }
   ],
   "source": [
    "def fun(x,y):\n",
    "    res=x+x\n",
    "    #return res\n",
    "r1 = fun(1000,2000)\n",
    "print(\"r1=\",r1)"
   ]
  },
  {
   "cell_type": "code",
   "execution_count": 85,
   "metadata": {},
   "outputs": [
    {
     "ename": "NameError",
     "evalue": "name 'res' is not defined",
     "output_type": "error",
     "traceback": [
      "\u001b[0;31m---------------------------------------------------------------------------\u001b[0m",
      "\u001b[0;31mNameError\u001b[0m                                 Traceback (most recent call last)",
      "\u001b[0;32m<ipython-input-85-9b6ec49e775d>\u001b[0m in \u001b[0;36m<module>\u001b[0;34m()\u001b[0m\n\u001b[1;32m      2\u001b[0m     \u001b[0mres\u001b[0m\u001b[0;34m=\u001b[0m\u001b[0mx\u001b[0m\u001b[0;34m+\u001b[0m\u001b[0my\u001b[0m\u001b[0;34m\u001b[0m\u001b[0m\n\u001b[1;32m      3\u001b[0m \u001b[0mfun\u001b[0m\u001b[0;34m(\u001b[0m\u001b[0;36m10\u001b[0m\u001b[0;34m,\u001b[0m\u001b[0;36m20\u001b[0m\u001b[0;34m)\u001b[0m\u001b[0;34m\u001b[0m\u001b[0m\n\u001b[0;32m----> 4\u001b[0;31m \u001b[0mprint\u001b[0m\u001b[0;34m(\u001b[0m\u001b[0;34m\"res=\"\u001b[0m\u001b[0;34m,\u001b[0m\u001b[0mres\u001b[0m\u001b[0;34m)\u001b[0m\u001b[0;34m\u001b[0m\u001b[0m\n\u001b[0m",
      "\u001b[0;31mNameError\u001b[0m: name 'res' is not defined"
     ]
    }
   ],
   "source": [
    "def fun(x,y):\n",
    "    res=x+y\n",
    "fun(10,20)\n",
    "print(\"res=\",res)"
   ]
  },
  {
   "cell_type": "code",
   "execution_count": 87,
   "metadata": {},
   "outputs": [
    {
     "name": "stdout",
     "output_type": "stream",
     "text": [
      "r1= 30\n"
     ]
    }
   ],
   "source": [
    "def fun(x,y):\n",
    "    res=x+y\n",
    "    return res\n",
    "r1 = fun(10,20)\n",
    "print(\"r1=\",r1)"
   ]
  },
  {
   "cell_type": "code",
   "execution_count": 88,
   "metadata": {},
   "outputs": [
    {
     "name": "stdout",
     "output_type": "stream",
     "text": [
      "r1= None\n"
     ]
    }
   ],
   "source": [
    "def fun(x,y):\n",
    "    a=x+y\n",
    "    b=x-y\n",
    "    c=x*y\n",
    "    d=x/y\n",
    "\n",
    "r1 = fun(10,20)\n",
    "print(\"r1=\",r1)"
   ]
  },
  {
   "cell_type": "code",
   "execution_count": 89,
   "metadata": {},
   "outputs": [
    {
     "name": "stdout",
     "output_type": "stream",
     "text": [
      "a=30\n",
      "r1= None\n"
     ]
    }
   ],
   "source": [
    "def fun(x,y):\n",
    "    a=x+y\n",
    "    b=x-y\n",
    "    c=x*y\n",
    "    d=x/y\n",
    "    print(f\"a={a}\")\n",
    "r1 = fun(10,20)\n",
    "print(\"r1=\",r1)"
   ]
  },
  {
   "cell_type": "code",
   "execution_count": 90,
   "metadata": {},
   "outputs": [
    {
     "name": "stdout",
     "output_type": "stream",
     "text": [
      "a=30\n",
      "r1= 30\n"
     ]
    }
   ],
   "source": [
    "def fun(x,y):\n",
    "    a=x+y\n",
    "    b=x-y\n",
    "    c=x*y\n",
    "    d=x/y\n",
    "    print(f\"a={a}\")\n",
    "    return a\n",
    "r1 = fun(10,20)\n",
    "print(\"r1=\",r1)"
   ]
  },
  {
   "cell_type": "code",
   "execution_count": 91,
   "metadata": {},
   "outputs": [
    {
     "name": "stdout",
     "output_type": "stream",
     "text": [
      "a=30\n",
      "r1= (30, -10, 200, 0.5)\n"
     ]
    }
   ],
   "source": [
    "def fun(x,y):\n",
    "    a=x+y\n",
    "    b=x-y\n",
    "    c=x*y\n",
    "    d=x/y\n",
    "    print(f\"a={a}\")\n",
    "    return a,b,c,d\n",
    "r1 = fun(10,20)\n",
    "print(\"r1=\",r1)"
   ]
  },
  {
   "cell_type": "code",
   "execution_count": 92,
   "metadata": {},
   "outputs": [
    {
     "ename": "NameError",
     "evalue": "name 'x1' is not defined",
     "output_type": "error",
     "traceback": [
      "\u001b[0;31m---------------------------------------------------------------------------\u001b[0m",
      "\u001b[0;31mNameError\u001b[0m                                 Traceback (most recent call last)",
      "\u001b[0;32m<ipython-input-92-d00d999d9d5c>\u001b[0m in \u001b[0;36m<module>\u001b[0;34m()\u001b[0m\n\u001b[1;32m      2\u001b[0m     \u001b[0mx1\u001b[0m\u001b[0;34m=\u001b[0m\u001b[0;36m1000\u001b[0m\u001b[0;34m\u001b[0m\u001b[0m\n\u001b[1;32m      3\u001b[0m \u001b[0mfun\u001b[0m\u001b[0;34m(\u001b[0m\u001b[0;34m)\u001b[0m\u001b[0;34m\u001b[0m\u001b[0m\n\u001b[0;32m----> 4\u001b[0;31m \u001b[0mprint\u001b[0m\u001b[0;34m(\u001b[0m\u001b[0;34m\"x1=\"\u001b[0m\u001b[0;34m,\u001b[0m\u001b[0mx1\u001b[0m\u001b[0;34m)\u001b[0m\u001b[0;34m\u001b[0m\u001b[0m\n\u001b[0m",
      "\u001b[0;31mNameError\u001b[0m: name 'x1' is not defined"
     ]
    }
   ],
   "source": [
    "def fun():\n",
    "    x1=1000\n",
    "fun()\n",
    "print(\"x1=\",x1)"
   ]
  },
  {
   "cell_type": "code",
   "execution_count": 93,
   "metadata": {},
   "outputs": [
    {
     "name": "stdout",
     "output_type": "stream",
     "text": [
      "x1= 1000\n"
     ]
    }
   ],
   "source": [
    "def fun():\n",
    "    global x1\n",
    "    x1=1000\n",
    "fun()\n",
    "print(\"x1=\",x1)"
   ]
  },
  {
   "cell_type": "code",
   "execution_count": 94,
   "metadata": {},
   "outputs": [
    {
     "name": "stdout",
     "output_type": "stream",
     "text": [
      "hello\n",
      "a= 10\n",
      "b= 20\n",
      "res= 30\n",
      "hi\n",
      "a= 100\n",
      "b= 200\n",
      "res= 300\n",
      "hyd\n",
      "a= 1000\n",
      "b= 2000\n",
      "res= 3000\n",
      "bang\n",
      "a= 10000\n",
      "b= 20000\n",
      "res= 30000\n"
     ]
    }
   ],
   "source": [
    "#\"hello\"\n",
    "#a=10\n",
    "#b=20\n",
    "#res=30\n",
    "#\"hi\"\n",
    "#a=100\n",
    "#b=200\n",
    "#res=300\n",
    "#a=1000\n",
    "#b=2000\n",
    "#res=3000\n",
    "#\"hyd\"\n",
    "#a=10000\n",
    "#b=20000\n",
    "#res=30000\n",
    "#\"bang\"\n",
    "print(\"hello\")\n",
    "a=10\n",
    "b=20\n",
    "print(\"a=\",a)\n",
    "print(\"b=\",b)\n",
    "res=a+b\n",
    "print(\"res=\",res)\n",
    "print(\"hi\")\n",
    "a=100\n",
    "b=200\n",
    "print(\"a=\",a)\n",
    "print(\"b=\",b)\n",
    "res=a+b\n",
    "print(\"res=\",res)\n",
    "print(\"hyd\")\n",
    "a=1000\n",
    "b=2000\n",
    "print(\"a=\",a)\n",
    "print(\"b=\",b)\n",
    "res=a+b\n",
    "print(\"res=\",res)\n",
    "print(\"bang\")\n",
    "a=10000\n",
    "b=20000\n",
    "print(\"a=\",a)\n",
    "print(\"b=\",b)\n",
    "res=a+b\n",
    "print(\"res=\",res)"
   ]
  },
  {
   "cell_type": "code",
   "execution_count": 96,
   "metadata": {},
   "outputs": [
    {
     "name": "stdout",
     "output_type": "stream",
     "text": [
      "hello\n",
      "a=10\n",
      "b=20\n",
      "res=30\n",
      "hi\n",
      "a=100\n",
      "b=200\n",
      "res=300\n",
      "hyd\n",
      "a=1000\n",
      "b=2000\n",
      "res=3000\n",
      "bang\n",
      "a=10000\n",
      "b=20000\n",
      "res=30000\n"
     ]
    }
   ],
   "source": [
    "#\"hello\"\n",
    "#a=10\n",
    "#b=20\n",
    "#res=30\n",
    "#\"hi\"\n",
    "#a=100\n",
    "#b=200\n",
    "#res=300\n",
    "#a=1000\n",
    "#b=2000\n",
    "#res=3000\n",
    "#\"hyd\"\n",
    "#a=10000\n",
    "#b=20000\n",
    "#res=30000\n",
    "#\"bang\"\n",
    "def fun(a,b):\n",
    "    print(f\"a={a}\")\n",
    "    print(f\"b={b}\")\n",
    "    res=a+b\n",
    "    print(f\"res={res}\")\n",
    "print(\"hello\")\n",
    "fun(10,20)\n",
    "print(\"hi\")\n",
    "fun(100,200)\n",
    "print(\"hyd\")\n",
    "fun(1000,2000)\n",
    "print(\"bang\")\n",
    "fun(10000,20000)"
   ]
  },
  {
   "cell_type": "code",
   "execution_count": 97,
   "metadata": {},
   "outputs": [
    {
     "name": "stdout",
     "output_type": "stream",
     "text": [
      "hello\n",
      "a=10\n",
      "b=20\n",
      "summation=30\n",
      "hi\n",
      "a=100\n",
      "b=200\n",
      "summation=300\n",
      "hyd\n",
      "a=1000\n",
      "b=2000\n",
      "summation=3000\n",
      "bang\n",
      "a=10000\n",
      "b=20000\n",
      "summation=30000\n"
     ]
    }
   ],
   "source": [
    "#\"hello\"\n",
    "#a=10\n",
    "#b=20\n",
    "#res=30\n",
    "#\"hi\"\n",
    "#a=100\n",
    "#b=200\n",
    "#res=300\n",
    "#a=1000\n",
    "#b=2000\n",
    "#res=3000\n",
    "#\"hyd\"\n",
    "#a=10000\n",
    "#b=20000\n",
    "#res=30000\n",
    "#\"bang\"\n",
    "def fun(a,b):\n",
    "    print(f\"a={a}\")\n",
    "    print(f\"b={b}\")\n",
    "    res=a+b\n",
    "    print(f\"summation={res}\")\n",
    "print(\"hello\")\n",
    "fun(10,20)\n",
    "print(\"hi\")\n",
    "fun(100,200)\n",
    "print(\"hyd\")\n",
    "fun(1000,2000)\n",
    "print(\"bang\")\n",
    "fun(10000,20000)"
   ]
  },
  {
   "cell_type": "code",
   "execution_count": 98,
   "metadata": {},
   "outputs": [
    {
     "data": {
      "text/plain": [
       "'apple'"
      ]
     },
     "execution_count": 98,
     "metadata": {},
     "output_type": "execute_result"
    }
   ],
   "source": [
    "s=r\"orange;banana;apple;guva\"\n",
    "s.split(\";\")[2]\n"
   ]
  },
  {
   "cell_type": "code",
   "execution_count": 100,
   "metadata": {},
   "outputs": [
    {
     "name": "stdout",
     "output_type": "stream",
     "text": [
      "orange\n",
      "banana\n",
      "apple\n",
      "guva\n"
     ]
    }
   ],
   "source": [
    "s=\"orange;banana;apple;guva\"\n",
    "sub=\"\"\n",
    "for i in s:\n",
    "    if i==\";\":\n",
    "        print(sub)\n",
    "        sub=\"\"\n",
    "    else:\n",
    "        sub=sub+i\n",
    "print(sub)\n",
    "    "
   ]
  },
  {
   "cell_type": "code",
   "execution_count": 101,
   "metadata": {},
   "outputs": [
    {
     "name": "stdout",
     "output_type": "stream",
     "text": [
      "orange\n",
      "banana\n",
      "apple\n",
      "guva\n"
     ]
    }
   ],
   "source": [
    "s=r\"orange;banana;apple;guva\"\n",
    "sub=\"\"\n",
    "for i in s:\n",
    "    if i==\";\":\n",
    "        print(sub)\n",
    "        sub=\"\"\n",
    "    else:\n",
    "        sub=sub+i\n",
    "print(sub)\n",
    "    "
   ]
  },
  {
   "cell_type": "code",
   "execution_count": 102,
   "metadata": {},
   "outputs": [
    {
     "name": "stdout",
     "output_type": "stream",
     "text": [
      "Enter fruits:apple;orange;grapes;banana\n",
      "apple\n",
      "orange\n",
      "grapes\n",
      "banana\n"
     ]
    }
   ],
   "source": [
    "s=input(\"Enter fruits:\")\n",
    "sub=\"\"\n",
    "for i in s:\n",
    "    if i==\";\":\n",
    "        print(sub)\n",
    "        sub=\"\"\n",
    "    else:\n",
    "        sub=sub+i\n",
    "print(sub)\n",
    "    "
   ]
  },
  {
   "cell_type": "code",
   "execution_count": 103,
   "metadata": {},
   "outputs": [
    {
     "name": "stdout",
     "output_type": "stream",
     "text": [
      "Enter fruitname:apple\n",
      "find the fruit\n"
     ]
    }
   ],
   "source": [
    "s=\"apple;orange;grapes;banana\"\n",
    "sub_u=input(\"Enter fruitname:\")\n",
    "sub=\"\"\n",
    "for i in s:\n",
    "    if i==\";\":\n",
    "        if sub_u==sub:\n",
    "            print(\"find the fruit\")\n",
    "            break\n",
    "        sub=\"\"\n",
    "    else:\n",
    "        sub=sub+i\n",
    "else:\n",
    "    print(\"does not find the fruit\")\n",
    "    "
   ]
  },
  {
   "cell_type": "code",
   "execution_count": 104,
   "metadata": {},
   "outputs": [
    {
     "name": "stdout",
     "output_type": "stream",
     "text": [
      "Enter fruitname:pineapple\n",
      "does not find the fruit\n"
     ]
    }
   ],
   "source": [
    "s=\"apple;orange;grapes;banana\"\n",
    "sub_u=input(\"Enter fruitname:\")\n",
    "sub=\"\"\n",
    "for i in s:\n",
    "    if i==\";\":\n",
    "        if sub_u==sub:\n",
    "            print(\"find the fruit\")\n",
    "            break\n",
    "        sub=\"\"\n",
    "    else:\n",
    "        sub=sub+i\n",
    "else:\n",
    "    print(\"does not find the fruit\")\n",
    "    "
   ]
  },
  {
   "cell_type": "code",
   "execution_count": 105,
   "metadata": {},
   "outputs": [
    {
     "name": "stdout",
     "output_type": "stream",
     "text": [
      "enter string:apple\n",
      "find\n"
     ]
    }
   ],
   "source": [
    "s=r\"apple;orange;grapes;banana\"\n",
    "sub=input(\"enter string:\")\n",
    "if sub in s:\n",
    "    print(\"find\")\n",
    "else:\n",
    "    print(\"not find\")"
   ]
  },
  {
   "cell_type": "code",
   "execution_count": 106,
   "metadata": {},
   "outputs": [
    {
     "name": "stdout",
     "output_type": "stream",
     "text": [
      "sdfsd\n",
      "fsdfsd\tsdfdsfs\n",
      "sfdsf\tsdfsd\n",
      "\t\n"
     ]
    }
   ],
   "source": [
    "s=\"sdfsd\\nfsdfsd\\tsdfdsfs\\nsfdsf\\tsdfsd\\n\\t\"\n",
    "print(s)"
   ]
  },
  {
   "cell_type": "code",
   "execution_count": 107,
   "metadata": {},
   "outputs": [
    {
     "name": "stdout",
     "output_type": "stream",
     "text": [
      "sdfsd\\nfsdfsd\\tsdfdsfs\\nsfdsf\\tsdfsd\\n\\t\n"
     ]
    }
   ],
   "source": [
    "s=\"sdfsd\\\\nfsdfsd\\\\tsdfdsfs\\\\nsfdsf\\\\tsdfsd\\\\n\\\\t\"\n",
    "print(s)"
   ]
  },
  {
   "cell_type": "code",
   "execution_count": 108,
   "metadata": {},
   "outputs": [
    {
     "name": "stdout",
     "output_type": "stream",
     "text": [
      "sdfsd\\nfsdfsd\\tsdfdsfs\\nsfdsf\\tsdfsd\\n\\t\n"
     ]
    }
   ],
   "source": [
    "s=r\"sdfsd\\nfsdfsd\\tsdfdsfs\\nsfdsf\\tsdfsd\\n\\t\"\n",
    "print(s)"
   ]
  },
  {
   "cell_type": "code",
   "execution_count": 109,
   "metadata": {},
   "outputs": [
    {
     "data": {
      "text/plain": [
       "97"
      ]
     },
     "execution_count": 109,
     "metadata": {},
     "output_type": "execute_result"
    }
   ],
   "source": [
    "ord(\"a\")\n"
   ]
  },
  {
   "cell_type": "code",
   "execution_count": 110,
   "metadata": {},
   "outputs": [
    {
     "data": {
      "text/plain": [
       "122"
      ]
     },
     "execution_count": 110,
     "metadata": {},
     "output_type": "execute_result"
    }
   ],
   "source": [
    "ord(\"z\")"
   ]
  },
  {
   "cell_type": "code",
   "execution_count": 111,
   "metadata": {},
   "outputs": [
    {
     "data": {
      "text/plain": [
       "65"
      ]
     },
     "execution_count": 111,
     "metadata": {},
     "output_type": "execute_result"
    }
   ],
   "source": [
    "ord(\"A\")"
   ]
  },
  {
   "cell_type": "code",
   "execution_count": 112,
   "metadata": {},
   "outputs": [
    {
     "data": {
      "text/plain": [
       "90"
      ]
     },
     "execution_count": 112,
     "metadata": {},
     "output_type": "execute_result"
    }
   ],
   "source": [
    "ord(\"Z\")"
   ]
  },
  {
   "cell_type": "code",
   "execution_count": 113,
   "metadata": {},
   "outputs": [
    {
     "data": {
      "text/plain": [
       "48"
      ]
     },
     "execution_count": 113,
     "metadata": {},
     "output_type": "execute_result"
    }
   ],
   "source": [
    "ord(\"0\")"
   ]
  },
  {
   "cell_type": "code",
   "execution_count": 114,
   "metadata": {},
   "outputs": [
    {
     "data": {
      "text/plain": [
       "57"
      ]
     },
     "execution_count": 114,
     "metadata": {},
     "output_type": "execute_result"
    }
   ],
   "source": [
    "ord(\"9\")"
   ]
  },
  {
   "cell_type": "code",
   "execution_count": null,
   "metadata": {},
   "outputs": [],
   "source": [
    "s=\"apple;orange;apple;banana;apple;grape; apple\""
   ]
  }
 ],
 "metadata": {
  "kernelspec": {
   "display_name": "Python 3",
   "language": "python",
   "name": "python3"
  },
  "language_info": {
   "codemirror_mode": {
    "name": "ipython",
    "version": 3
   },
   "file_extension": ".py",
   "mimetype": "text/x-python",
   "name": "python",
   "nbconvert_exporter": "python",
   "pygments_lexer": "ipython3",
   "version": "3.7.0"
  }
 },
 "nbformat": 4,
 "nbformat_minor": 2
}
