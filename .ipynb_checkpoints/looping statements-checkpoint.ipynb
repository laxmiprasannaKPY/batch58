{
 "cells": [
  {
   "cell_type": "code",
   "execution_count": 1,
   "metadata": {},
   "outputs": [
    {
     "name": "stdout",
     "output_type": "stream",
     "text": [
      "st1\n",
      "st2\n",
      "st3\n",
      "st4\n",
      "st5\n"
     ]
    }
   ],
   "source": [
    "print(\"st1\")\n",
    "print(\"st2\")\n",
    "print(\"st3\")\n",
    "print(\"st4\")\n",
    "print(\"st5\")"
   ]
  },
  {
   "cell_type": "code",
   "execution_count": 2,
   "metadata": {},
   "outputs": [
    {
     "name": "stdout",
     "output_type": "stream",
     "text": [
      "st1\n",
      "st2\n",
      "st3\n",
      "st4\n",
      "st5\n"
     ]
    }
   ],
   "source": [
    "for i in range(1,6):\n",
    "    print(\"st%s\"%i)"
   ]
  },
  {
   "cell_type": "code",
   "execution_count": 3,
   "metadata": {},
   "outputs": [
    {
     "name": "stdout",
     "output_type": "stream",
     "text": [
      "welcome\n",
      "0\n",
      "thank you!!\n"
     ]
    }
   ],
   "source": [
    "print(\"welcome\")\n",
    "i=0\n",
    "if i<10:\n",
    "    print(i)\n",
    "    i=i+1\n",
    "print(\"thank you!!\")"
   ]
  },
  {
   "cell_type": "code",
   "execution_count": 4,
   "metadata": {},
   "outputs": [
    {
     "name": "stdout",
     "output_type": "stream",
     "text": [
      "welcome\n",
      "0\n",
      "1\n",
      "2\n",
      "3\n",
      "4\n",
      "5\n",
      "6\n",
      "7\n",
      "8\n",
      "9\n",
      "thank you!!\n"
     ]
    }
   ],
   "source": [
    "print(\"welcome\")\n",
    "i=0\n",
    "while i<10:\n",
    "    print(i)\n",
    "    i=i+1\n",
    "print(\"thank you!!\")"
   ]
  },
  {
   "cell_type": "code",
   "execution_count": 6,
   "metadata": {},
   "outputs": [
    {
     "name": "stdout",
     "output_type": "stream",
     "text": [
      "apple\n",
      "orange\n",
      "banana\n",
      "grapes\n"
     ]
    }
   ],
   "source": [
    "l = [\"apple\",\"orange\",\"banana\",\"grapes\"]\n",
    "print(l[0])\n",
    "print(l[1])\n",
    "print(l[2])\n",
    "print(l[3])"
   ]
  },
  {
   "cell_type": "code",
   "execution_count": 7,
   "metadata": {},
   "outputs": [
    {
     "name": "stdout",
     "output_type": "stream",
     "text": [
      "0\n",
      "1\n",
      "2\n",
      "3\n"
     ]
    }
   ],
   "source": [
    "i=0\n",
    "while i<4:\n",
    "    print(i)\n",
    "    i=i+1"
   ]
  },
  {
   "cell_type": "code",
   "execution_count": 8,
   "metadata": {},
   "outputs": [
    {
     "name": "stdout",
     "output_type": "stream",
     "text": [
      "apple\n",
      "orange\n",
      "banana\n",
      "grapes\n"
     ]
    }
   ],
   "source": [
    "l = [\"apple\",\"orange\",\"banana\",\"grapes\"]\n",
    "i=0\n",
    "while i<4:\n",
    "    print(l[i])\n",
    "    i=i+1"
   ]
  },
  {
   "cell_type": "code",
   "execution_count": 9,
   "metadata": {},
   "outputs": [
    {
     "name": "stdout",
     "output_type": "stream",
     "text": [
      "apple\n",
      "orange\n",
      "banana\n",
      "grapes\n"
     ]
    }
   ],
   "source": [
    "l = [\"apple\",\"orange\",\"banana\",\"grapes\"]\n",
    "i=0\n",
    "while i<len(l):\n",
    "    print(l[i])\n",
    "    i=i+1"
   ]
  },
  {
   "cell_type": "code",
   "execution_count": 10,
   "metadata": {},
   "outputs": [
    {
     "name": "stdout",
     "output_type": "stream",
     "text": [
      "i iout side the loop: 10\n"
     ]
    }
   ],
   "source": [
    "i=10\n",
    "while i<3:\n",
    "    print(i)\n",
    "    i=i+1\n",
    "print(\"i iout side the loop:\",i)"
   ]
  },
  {
   "cell_type": "code",
   "execution_count": 11,
   "metadata": {},
   "outputs": [
    {
     "name": "stdout",
     "output_type": "stream",
     "text": [
      "0\n",
      "1\n",
      "2\n",
      "i iout side the loop: 3\n"
     ]
    }
   ],
   "source": [
    "i=0\n",
    "while i<3:\n",
    "    print(i)\n",
    "    i=i+1\n",
    "print(\"i iout side the loop:\",i)"
   ]
  },
  {
   "cell_type": "code",
   "execution_count": 12,
   "metadata": {},
   "outputs": [
    {
     "name": "stdout",
     "output_type": "stream",
     "text": [
      "apple\n",
      "orange\n",
      "banana\n",
      "grapes\n"
     ]
    }
   ],
   "source": [
    "l = [\"apple\",\"orange\",\"banana\",\"grapes\"]\n",
    "# for i=0; i<len(l), i++{}\n",
    "for i in l:\n",
    "    print(i)"
   ]
  },
  {
   "cell_type": "code",
   "execution_count": 13,
   "metadata": {},
   "outputs": [
    {
     "name": "stdout",
     "output_type": "stream",
     "text": [
      "welcome\n",
      "iter started\n",
      "apple\n",
      "iter ended\n",
      "iter started\n",
      "orange\n",
      "iter ended\n",
      "iter started\n",
      "banana\n",
      "iter ended\n",
      "iter started\n",
      "grapes\n",
      "iter ended\n",
      "thank you!!\n"
     ]
    }
   ],
   "source": [
    "print(\"welcome\")\n",
    "l = [\"apple\",\"orange\",\"banana\",\"grapes\"]\n",
    "# for i=0; i<len(l), i++{}\n",
    "for i in l:\n",
    "    print(\"iter started\")\n",
    "    print(i)\n",
    "    print(\"iter ended\")\n",
    "print(\"thank you!!\")"
   ]
  },
  {
   "cell_type": "code",
   "execution_count": 14,
   "metadata": {},
   "outputs": [
    {
     "name": "stdout",
     "output_type": "stream",
     "text": [
      "23\n",
      "45\n",
      "14\n",
      "16\n",
      "78\n",
      "79\n"
     ]
    }
   ],
   "source": [
    "l=[23,45,14,16,78,79]\n",
    "# 23-->odd\n",
    "# 45-->odd\n",
    "# 14-->even\n",
    "# 16-->even\n",
    "# 78-->even\n",
    "# 79-->odd\n",
    "for i in l:\n",
    "    print(i)"
   ]
  },
  {
   "cell_type": "code",
   "execution_count": 15,
   "metadata": {},
   "outputs": [
    {
     "name": "stdout",
     "output_type": "stream",
     "text": [
      "23-->odd\n",
      "45-->odd\n",
      "14-->even\n",
      "16-->even\n",
      "78-->even\n",
      "79-->odd\n"
     ]
    }
   ],
   "source": [
    "l=[23,45,14,16,78,79]\n",
    "# 23-->odd\n",
    "# 45-->odd\n",
    "# 14-->even\n",
    "# 16-->even\n",
    "# 78-->even\n",
    "# 79-->odd\n",
    "for i in l:\n",
    "    if i%2==0:\n",
    "        print(\"%s-->even\"%(i))\n",
    "    else:\n",
    "        print(\"%s-->odd\"%(i))"
   ]
  },
  {
   "cell_type": "code",
   "execution_count": 18,
   "metadata": {},
   "outputs": [
    {
     "name": "stdout",
     "output_type": "stream",
     "text": [
      "23 -->odd\n",
      "45 -->odd\n",
      "14 -->even\n",
      "16 -->even\n",
      "78 -->even\n",
      "79 -->odd\n"
     ]
    }
   ],
   "source": [
    "l=[23,45,14,16,78,79]\n",
    "# 23-->odd\n",
    "# 45-->odd\n",
    "# 14-->even\n",
    "# 16-->even\n",
    "# 78-->even\n",
    "# 79-->odd\n",
    "for i in l:\n",
    "    if i%2==0:\n",
    "        print(i,\"-->even\")\n",
    "    else:\n",
    "        print(i,\"-->odd\")"
   ]
  },
  {
   "cell_type": "code",
   "execution_count": 19,
   "metadata": {},
   "outputs": [
    {
     "name": "stdout",
     "output_type": "stream",
     "text": [
      "23-->odd\n",
      "45-->odd\n",
      "14-->even\n",
      "16-->even\n",
      "78-->even\n",
      "79-->odd\n"
     ]
    }
   ],
   "source": [
    "l=[23,45,14,16,78,79]\n",
    "for i in l:\n",
    "    if i%2==0:\n",
    "        print(i,\"-->even\",sep=\"\")\n",
    "    else:\n",
    "        print(i,\"-->odd\",sep=\"\")"
   ]
  },
  {
   "cell_type": "code",
   "execution_count": 20,
   "metadata": {},
   "outputs": [
    {
     "name": "stdout",
     "output_type": "stream",
     "text": [
      "23-->odd\n",
      "45-->odd\n",
      "14-->even\n",
      "16-->even\n",
      "78-->even\n",
      "79-->odd\n"
     ]
    }
   ],
   "source": [
    "l=[23,45,14,16,78,79]\n",
    "for i in l:\n",
    "    res = \"even\" if i%2==0 else \"odd\"\n",
    "    print(\"%s-->%s\"%(i,res))"
   ]
  },
  {
   "cell_type": "code",
   "execution_count": 21,
   "metadata": {},
   "outputs": [
    {
     "name": "stdout",
     "output_type": "stream",
     "text": [
      "even count: 3\n"
     ]
    }
   ],
   "source": [
    "l=[23,45,14,16,78,79]\n",
    "#WAP to find how many number of even numbers are there: 3\n",
    "even_count=0\n",
    "for i in l:\n",
    "    if i%2==0:\n",
    "        even_count=even_count+1\n",
    "print(\"even count:\",even_count)\n",
    "    "
   ]
  },
  {
   "cell_type": "code",
   "execution_count": 22,
   "metadata": {},
   "outputs": [
    {
     "ename": "SyntaxError",
     "evalue": "invalid syntax (<ipython-input-22-289718cc4a9c>, line 5)",
     "output_type": "error",
     "traceback": [
      "\u001b[0;36m  File \u001b[0;32m\"<ipython-input-22-289718cc4a9c>\"\u001b[0;36m, line \u001b[0;32m5\u001b[0m\n\u001b[0;31m    a=a+1 if i%2==0\u001b[0m\n\u001b[0m                   ^\u001b[0m\n\u001b[0;31mSyntaxError\u001b[0m\u001b[0;31m:\u001b[0m invalid syntax\n"
     ]
    }
   ],
   "source": [
    "l=[23,45,14,16,78,79]\n",
    "#WAP to find how many number of even numbers are there: 3\n",
    "a=0\n",
    "\n",
    "for i in l:\n",
    "    a=a+1 if i%2==0\n",
    "print(a)"
   ]
  },
  {
   "cell_type": "code",
   "execution_count": 23,
   "metadata": {},
   "outputs": [
    {
     "name": "stdout",
     "output_type": "stream",
     "text": [
      "3\n"
     ]
    }
   ],
   "source": [
    "l=[23,45,14,16,78,79]\n",
    "#WAP to find how many number of even numbers are there: 3\n",
    "a=0\n",
    "\n",
    "for i in l:\n",
    "    a=a+1 if i%2==0 else a\n",
    "print(a)"
   ]
  },
  {
   "cell_type": "code",
   "execution_count": 24,
   "metadata": {},
   "outputs": [
    {
     "ename": "SyntaxError",
     "evalue": "can't assign to conditional expression (<ipython-input-24-483f5c0ec772>, line 6)",
     "output_type": "error",
     "traceback": [
      "\u001b[0;36m  File \u001b[0;32m\"<ipython-input-24-483f5c0ec772>\"\u001b[0;36m, line \u001b[0;32m6\u001b[0m\n\u001b[0;31m    a=a+1 if i%2==0 else b=b+1\u001b[0m\n\u001b[0m     ^\u001b[0m\n\u001b[0;31mSyntaxError\u001b[0m\u001b[0;31m:\u001b[0m can't assign to conditional expression\n"
     ]
    }
   ],
   "source": [
    "l=[23,45,14,16,78,79]\n",
    "#WAP to find how many number of even numbers are there: 3\n",
    "a=0\n",
    "b=0\n",
    "for i in l:\n",
    "    a=a+1 if i%2==0 else b=b+1\n",
    "print(a)"
   ]
  },
  {
   "cell_type": "code",
   "execution_count": 25,
   "metadata": {},
   "outputs": [
    {
     "ename": "NameError",
     "evalue": "name 'b' is not defined",
     "output_type": "error",
     "traceback": [
      "\u001b[0;31m---------------------------------------------------------------------------\u001b[0m",
      "\u001b[0;31mNameError\u001b[0m                                 Traceback (most recent call last)",
      "\u001b[0;32m<ipython-input-25-7eae778d9b2b>\u001b[0m in \u001b[0;36m<module>\u001b[0;34m()\u001b[0m\n\u001b[0;32m----> 1\u001b[0;31m \u001b[0ma\u001b[0m\u001b[0;34m=\u001b[0m\u001b[0mb\u001b[0m\u001b[0;34m=\u001b[0m\u001b[0mb\u001b[0m\u001b[0;34m+\u001b[0m\u001b[0;36m1\u001b[0m\u001b[0;34m\u001b[0m\u001b[0m\n\u001b[0m",
      "\u001b[0;31mNameError\u001b[0m: name 'b' is not defined"
     ]
    }
   ],
   "source": [
    "a=b=b+1"
   ]
  },
  {
   "cell_type": "code",
   "execution_count": 26,
   "metadata": {},
   "outputs": [
    {
     "name": "stdout",
     "output_type": "stream",
     "text": [
      "6\n"
     ]
    }
   ],
   "source": [
    "l=[23,45,14,16,78,79]\n",
    "#WAP to find how many number of even numbers are there: 3\n",
    "a=0\n",
    "b=0\n",
    "for i in l:\n",
    "    a+=1 if i%2==0 else a\n",
    "print(a)"
   ]
  },
  {
   "cell_type": "code",
   "execution_count": 27,
   "metadata": {},
   "outputs": [
    {
     "name": "stdout",
     "output_type": "stream",
     "text": [
      "3\n"
     ]
    }
   ],
   "source": [
    "l=[23,45,14,16,78,79]\n",
    "#WAP to find how many number of even numbers are there: 3\n",
    "a=0\n",
    "b=0\n",
    "for i in l:\n",
    "    a+=1 if i%2==0 else 0\n",
    "print(a)"
   ]
  },
  {
   "cell_type": "code",
   "execution_count": 28,
   "metadata": {},
   "outputs": [
    {
     "name": "stdout",
     "output_type": "stream",
     "text": [
      "not contains even\n",
      "not contains even\n",
      "contains even\n",
      "contains even\n",
      "contains even\n",
      "not contains even\n"
     ]
    }
   ],
   "source": [
    "l=[23,45,14,16,78,79]\n",
    "#WAP to check given list contains even numbers or not.\n",
    "for i in l:\n",
    "    if i%2==0:\n",
    "        print(\"contains even\")\n",
    "    else:\n",
    "        print(\"not contains even\")"
   ]
  },
  {
   "cell_type": "code",
   "execution_count": 29,
   "metadata": {},
   "outputs": [
    {
     "name": "stdout",
     "output_type": "stream",
     "text": [
      "contains even\n"
     ]
    }
   ],
   "source": [
    "l=[23,45,14,16,78,79]\n",
    "#WAP to check given list contains even numbers or not.\n",
    "for i in l:\n",
    "    if i%2==0:\n",
    "        print(\"contains even\")\n",
    "        break"
   ]
  },
  {
   "cell_type": "code",
   "execution_count": 30,
   "metadata": {},
   "outputs": [],
   "source": [
    "l=[23,45,15,19,71,79]\n",
    "#WAP to check given list contains even numbers or not.\n",
    "for i in l:\n",
    "    if i%2==0:\n",
    "        print(\"contains even\")\n",
    "        break"
   ]
  },
  {
   "cell_type": "code",
   "execution_count": 31,
   "metadata": {},
   "outputs": [
    {
     "name": "stdout",
     "output_type": "stream",
     "text": [
      "does not contains even\n",
      "does not contains even\n",
      "does not contains even\n",
      "does not contains even\n",
      "does not contains even\n",
      "does not contains even\n"
     ]
    }
   ],
   "source": [
    "l=[23,45,15,19,71,79]\n",
    "#WAP to check given list contains even numbers or not.\n",
    "for i in l:\n",
    "    if i%2==0:\n",
    "        print(\"contains even\")\n",
    "        break\n",
    "    else:\n",
    "        print(\"does not contains even\")\n",
    "        "
   ]
  },
  {
   "cell_type": "code",
   "execution_count": 32,
   "metadata": {},
   "outputs": [
    {
     "name": "stdout",
     "output_type": "stream",
     "text": [
      "does not contains even\n"
     ]
    }
   ],
   "source": [
    "l=[23,45,15,19,71,79]\n",
    "#WAP to check given list contains even numbers or not.\n",
    "for i in l:\n",
    "    if i%2==0:\n",
    "        print(\"contains even\")\n",
    "        break\n",
    "    else:\n",
    "        print(\"does not contains even\")\n",
    "        break"
   ]
  },
  {
   "cell_type": "code",
   "execution_count": 33,
   "metadata": {},
   "outputs": [
    {
     "name": "stdout",
     "output_type": "stream",
     "text": [
      "does not contains even\n"
     ]
    }
   ],
   "source": [
    "l=[23,12,45,15,19,71,79]\n",
    "#WAP to check given list contains even numbers or not.\n",
    "for i in l:\n",
    "    if i%2==0:\n",
    "        print(\"contains even\")\n",
    "        break\n",
    "    else:\n",
    "        print(\"does not contains even\")\n",
    "        break"
   ]
  },
  {
   "cell_type": "code",
   "execution_count": 1,
   "metadata": {},
   "outputs": [
    {
     "name": "stdout",
     "output_type": "stream",
     "text": [
      "contains evens\n"
     ]
    }
   ],
   "source": [
    "l=[23,12,45,15,19,71,79]\n",
    "#WAP to check given list contains even numbers or not.\n",
    "e_c=0\n",
    "for i in l:\n",
    "    if i%2==0:\n",
    "        e_c = e_c+1\n",
    "if e_c==0:\n",
    "    print(\"it's not contains even numbers\")\n",
    "else:\n",
    "    print(\"contains evens\")"
   ]
  },
  {
   "cell_type": "code",
   "execution_count": 2,
   "metadata": {},
   "outputs": [
    {
     "name": "stdout",
     "output_type": "stream",
     "text": [
      "it's not contains even numbers\n"
     ]
    }
   ],
   "source": [
    "l=[23,13,45,15,19,71,79]\n",
    "#WAP to check given list contains even numbers or not.\n",
    "e_c=0\n",
    "for i in l:\n",
    "    if i%2==0:\n",
    "        e_c = e_c+1\n",
    "if e_c==0:\n",
    "    print(\"it's not contains even numbers\")\n",
    "else:\n",
    "    print(\"contains evens\")"
   ]
  },
  {
   "cell_type": "code",
   "execution_count": 4,
   "metadata": {},
   "outputs": [
    {
     "name": "stdout",
     "output_type": "stream",
     "text": [
      "12\n",
      "23\n",
      "13\n",
      "45\n",
      "15\n",
      "19\n",
      "71\n",
      "79\n",
      "contains evens\n"
     ]
    }
   ],
   "source": [
    "l=[12,23,13,45,15,19,71,79]\n",
    "#WAP to check given list contains even numbers or not.\n",
    "e_c=0\n",
    "for i in l:\n",
    "    print(i)\n",
    "    if i%2==0:\n",
    "        e_c = e_c+1\n",
    "if e_c==0:\n",
    "    print(\"it's not contains even numbers\")\n",
    "else:\n",
    "    print(\"contains evens\")"
   ]
  },
  {
   "cell_type": "code",
   "execution_count": 5,
   "metadata": {},
   "outputs": [
    {
     "name": "stdout",
     "output_type": "stream",
     "text": [
      "12\n",
      "contains evens\n"
     ]
    }
   ],
   "source": [
    "l=[12,23,13,45,15,19,71,79]\n",
    "#WAP to check given list contains even numbers or not.\n",
    "e_c=0\n",
    "for i in l:\n",
    "    print(i)\n",
    "    if i%2==0:\n",
    "        e_c = e_c+1\n",
    "        break\n",
    "if e_c==0:\n",
    "    print(\"it's not contains even numbers\")\n",
    "else:\n",
    "    print(\"contains evens\")"
   ]
  },
  {
   "cell_type": "code",
   "execution_count": 6,
   "metadata": {},
   "outputs": [
    {
     "name": "stdout",
     "output_type": "stream",
     "text": [
      "23\n",
      "13\n",
      "45\n",
      "15\n",
      "12\n",
      "contains evens\n"
     ]
    }
   ],
   "source": [
    "l=[23,13,45,15,12,19,71,79]\n",
    "#WAP to check given list contains even numbers or not.\n",
    "e_c=0\n",
    "for i in l:\n",
    "    print(i)\n",
    "    if i%2==0:\n",
    "        e_c = e_c+1\n",
    "        break\n",
    "if e_c==0:\n",
    "    print(\"it's not contains even numbers\")\n",
    "else:\n",
    "    print(\"contains evens\")"
   ]
  },
  {
   "cell_type": "code",
   "execution_count": 7,
   "metadata": {},
   "outputs": [
    {
     "name": "stdout",
     "output_type": "stream",
     "text": [
      "23\n",
      "13\n",
      "45\n",
      "15\n",
      "19\n",
      "71\n",
      "79\n",
      "it's not contains even numbers\n"
     ]
    }
   ],
   "source": [
    "l=[23,13,45,15,19,71,79]\n",
    "#WAP to check given list contains even numbers or not.\n",
    "e_c=0\n",
    "for i in l:\n",
    "    print(i)\n",
    "    if i%2==0:\n",
    "        e_c = e_c+1\n",
    "        break\n",
    "if e_c==0:\n",
    "    print(\"it's not contains even numbers\")\n",
    "else:\n",
    "    print(\"contains evens\")"
   ]
  },
  {
   "cell_type": "code",
   "execution_count": 8,
   "metadata": {},
   "outputs": [
    {
     "name": "stdout",
     "output_type": "stream",
     "text": [
      "12\n"
     ]
    }
   ],
   "source": [
    "l=[12,23,13,45,15,19,71,79]\n",
    "#WAP to check given list contains even numbers or not.\n",
    "e_c=0\n",
    "for i in l:\n",
    "    print(i)\n",
    "    if i%2==0:\n",
    "        e_c = e_c+1\n",
    "        break\n",
    "        print(\"it contains even\")\n",
    "if e_c==0:\n",
    "    print(\"it's not contains even numbers\")\n"
   ]
  },
  {
   "cell_type": "code",
   "execution_count": 9,
   "metadata": {},
   "outputs": [
    {
     "name": "stdout",
     "output_type": "stream",
     "text": [
      "12\n",
      "it contains even\n"
     ]
    }
   ],
   "source": [
    "l=[12,23,13,45,15,19,71,79]\n",
    "#WAP to check given list contains even numbers or not.\n",
    "e_c=0\n",
    "for i in l:\n",
    "    print(i)\n",
    "    if i%2==0:\n",
    "        e_c = e_c+1\n",
    "        print(\"it contains even\")\n",
    "        break\n",
    "if e_c==0:\n",
    "    print(\"it's not contains even numbers\")\n"
   ]
  },
  {
   "cell_type": "code",
   "execution_count": null,
   "metadata": {},
   "outputs": [],
   "source": [
    "l=[23,13,45,15,19,71,79]\n",
    "#WAP to check given list contains even numbers or not.\n",
    "e_c=0\n",
    "for i in l:\n",
    "    print(i)\n",
    "    if i%2==0:\n",
    "        e_c = e_c+1\n",
    "        break\n",
    "if e_c==0:\n",
    "    print(\"it's not contains even numbers\")\n",
    "else:\n",
    "    print(\"contains evens\")"
   ]
  },
  {
   "cell_type": "code",
   "execution_count": 10,
   "metadata": {},
   "outputs": [
    {
     "name": "stdout",
     "output_type": "stream",
     "text": [
      "welcome\n",
      "p\n",
      "y\n",
      "t\n",
      "h\n",
      "o\n",
      "n\n",
      "else\n",
      "thank you\n"
     ]
    }
   ],
   "source": [
    "print(\"welcome\")\n",
    "for i in \"python\":\n",
    "    print(i)\n",
    "else:\n",
    "    print(\"else\")\n",
    "print(\"thank you\")"
   ]
  },
  {
   "cell_type": "code",
   "execution_count": 11,
   "metadata": {},
   "outputs": [
    {
     "name": "stdout",
     "output_type": "stream",
     "text": [
      "welcome\n",
      "p\n",
      "thank you\n"
     ]
    }
   ],
   "source": [
    "print(\"welcome\")\n",
    "for i in \"python\":\n",
    "    print(i)\n",
    "    break\n",
    "else:\n",
    "    print(\"else\")\n",
    "print(\"thank you\")"
   ]
  },
  {
   "cell_type": "code",
   "execution_count": 12,
   "metadata": {},
   "outputs": [
    {
     "name": "stdout",
     "output_type": "stream",
     "text": [
      "welcome\n",
      "p\n",
      "y\n",
      "t\n",
      "h\n",
      "o\n",
      "thank you\n"
     ]
    }
   ],
   "source": [
    "print(\"welcome\")\n",
    "for i in \"python\":\n",
    "    print(i)\n",
    "    if i==\"o\":\n",
    "        break\n",
    "else:\n",
    "    print(\"else\")\n",
    "print(\"thank you\")"
   ]
  },
  {
   "cell_type": "code",
   "execution_count": 13,
   "metadata": {},
   "outputs": [
    {
     "name": "stdout",
     "output_type": "stream",
     "text": [
      "welcome\n",
      "p\n",
      "y\n",
      "t\n",
      "h\n",
      "o\n",
      "n\n",
      "else\n",
      "thank you\n"
     ]
    }
   ],
   "source": [
    "print(\"welcome\")\n",
    "for i in \"python\":\n",
    "    print(i)\n",
    "    if i==\"m\":\n",
    "        break\n",
    "else:\n",
    "    print(\"else\")\n",
    "print(\"thank you\")"
   ]
  },
  {
   "cell_type": "code",
   "execution_count": 14,
   "metadata": {},
   "outputs": [
    {
     "name": "stdout",
     "output_type": "stream",
     "text": [
      "welcome\n",
      "p\n",
      "y\n",
      "t\n",
      "h\n",
      "o\n",
      "thank you\n"
     ]
    }
   ],
   "source": [
    "print(\"welcome\")\n",
    "for i in \"pythonoooo\":\n",
    "    print(i)\n",
    "    if i==\"o\":\n",
    "        break\n",
    "else:\n",
    "    print(\"else\")\n",
    "print(\"thank you\")"
   ]
  },
  {
   "cell_type": "code",
   "execution_count": 15,
   "metadata": {},
   "outputs": [
    {
     "name": "stdout",
     "output_type": "stream",
     "text": [
      "it's not contains even numbers\n"
     ]
    }
   ],
   "source": [
    "l=[23,13,45,15,19,71,79]\n",
    "#WAP to check given list contains even numbers or not.\n",
    "for i in l:\n",
    "    if i%2==0:\n",
    "        print(\"contains even\")\n",
    "        break\n",
    "else:\n",
    "    print(\"it's not contains even numbers\")"
   ]
  },
  {
   "cell_type": "code",
   "execution_count": 16,
   "metadata": {},
   "outputs": [
    {
     "name": "stdout",
     "output_type": "stream",
     "text": [
      "contains even\n"
     ]
    }
   ],
   "source": [
    "l=[12,23,13,45,15,19,71,79]\n",
    "#WAP to check given list contains even numbers or not.\n",
    "for i in l:\n",
    "    if i%2==0:\n",
    "        print(\"contains even\")\n",
    "        break\n",
    "else:\n",
    "    print(\"it's not contains even numbers\")"
   ]
  },
  {
   "cell_type": "code",
   "execution_count": 17,
   "metadata": {},
   "outputs": [
    {
     "name": "stdout",
     "output_type": "stream",
     "text": [
      "contains even\n"
     ]
    }
   ],
   "source": [
    "l=[23,13,45,15,12,19,71,79]\n",
    "#WAP to check given list contains even numbers or not.\n",
    "for i in l:\n",
    "    if i%2==0:\n",
    "        print(\"contains even\")\n",
    "        break\n",
    "else:\n",
    "    print(\"it's not contains even numbers\")"
   ]
  },
  {
   "cell_type": "code",
   "execution_count": 18,
   "metadata": {},
   "outputs": [
    {
     "name": "stdout",
     "output_type": "stream",
     "text": [
      "contains even\n"
     ]
    }
   ],
   "source": [
    "l=[23,13,45,15,19,71,79,12]\n",
    "#WAP to check given list contains even numbers or not.\n",
    "for i in l:\n",
    "    if i%2==0:\n",
    "        print(\"contains even\")\n",
    "        break\n",
    "else:\n",
    "    print(\"it's not contains even numbers\")"
   ]
  },
  {
   "cell_type": "code",
   "execution_count": null,
   "metadata": {},
   "outputs": [],
   "source": []
  }
 ],
 "metadata": {
  "kernelspec": {
   "display_name": "Python 3",
   "language": "python",
   "name": "python3"
  },
  "language_info": {
   "codemirror_mode": {
    "name": "ipython",
    "version": 3
   },
   "file_extension": ".py",
   "mimetype": "text/x-python",
   "name": "python",
   "nbconvert_exporter": "python",
   "pygments_lexer": "ipython3",
   "version": "3.7.0"
  }
 },
 "nbformat": 4,
 "nbformat_minor": 2
}
