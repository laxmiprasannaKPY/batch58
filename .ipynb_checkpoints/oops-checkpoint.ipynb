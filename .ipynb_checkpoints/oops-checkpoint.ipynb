{
 "cells": [
  {
   "cell_type": "code",
   "execution_count": 1,
   "metadata": {},
   "outputs": [],
   "source": [
    "l=[1,2,3]"
   ]
  },
  {
   "cell_type": "code",
   "execution_count": 2,
   "metadata": {},
   "outputs": [
    {
     "name": "stdout",
     "output_type": "stream",
     "text": [
      "this is class\n"
     ]
    }
   ],
   "source": [
    "def fun():\n",
    "    print(\"this is fun\")\n",
    "class EmpClass:\n",
    "    print(\"this is class\")"
   ]
  },
  {
   "cell_type": "code",
   "execution_count": 4,
   "metadata": {},
   "outputs": [
    {
     "name": "stdout",
     "output_type": "stream",
     "text": [
      "khyaathi\n",
      "maithrivanam\n"
     ]
    }
   ],
   "source": [
    "class Emp:\n",
    "    COMPANY_NAME=\"khyaathi\"\n",
    "    COMPANY_ADDRESS = \"maithrivanam\"\n",
    "    print(COMPANY_NAME)\n",
    "    print(COMPANY_ADDRESS)"
   ]
  },
  {
   "cell_type": "code",
   "execution_count": 5,
   "metadata": {},
   "outputs": [
    {
     "ename": "NameError",
     "evalue": "name 'COMPANY_NAME' is not defined",
     "output_type": "error",
     "traceback": [
      "\u001b[0;31m---------------------------------------------------------------------------\u001b[0m",
      "\u001b[0;31mNameError\u001b[0m                                 Traceback (most recent call last)",
      "\u001b[0;32m<ipython-input-5-f29c063dc54d>\u001b[0m in \u001b[0;36m<module>\u001b[0;34m()\u001b[0m\n\u001b[1;32m      5\u001b[0m         \u001b[0mprint\u001b[0m\u001b[0;34m(\u001b[0m\u001b[0;34m\"this is fun\"\u001b[0m\u001b[0;34m)\u001b[0m\u001b[0;34m\u001b[0m\u001b[0m\n\u001b[1;32m      6\u001b[0m \u001b[0;34m\u001b[0m\u001b[0m\n\u001b[0;32m----> 7\u001b[0;31m \u001b[0mprint\u001b[0m\u001b[0;34m(\u001b[0m\u001b[0mCOMPANY_NAME\u001b[0m\u001b[0;34m)\u001b[0m\u001b[0;34m\u001b[0m\u001b[0m\n\u001b[0m\u001b[1;32m      8\u001b[0m \u001b[0mprint\u001b[0m\u001b[0;34m(\u001b[0m\u001b[0mCOMPANY_ADDRESS\u001b[0m\u001b[0;34m)\u001b[0m\u001b[0;34m\u001b[0m\u001b[0m\n",
      "\u001b[0;31mNameError\u001b[0m: name 'COMPANY_NAME' is not defined"
     ]
    }
   ],
   "source": [
    "class Emp:\n",
    "    COMPANY_NAME=\"khyaathi\"\n",
    "    COMPANY_ADDRESS = \"maithrivanam\"\n",
    "    def fun(x):\n",
    "        print(\"this is fun\")\n",
    "    \n",
    "print(COMPANY_NAME)\n",
    "print(COMPANY_ADDRESS)"
   ]
  },
  {
   "cell_type": "code",
   "execution_count": 6,
   "metadata": {},
   "outputs": [
    {
     "name": "stdout",
     "output_type": "stream",
     "text": [
      "khyaathi\n",
      "maithrivanam\n"
     ]
    }
   ],
   "source": [
    "class Emp:\n",
    "    COMPANY_NAME=\"khyaathi\"\n",
    "    COMPANY_ADDRESS = \"maithrivanam\"\n",
    "    def fun(x):\n",
    "        print(\"this is fun\")\n",
    "    \n",
    "print(Emp.COMPANY_NAME)\n",
    "print(Emp.COMPANY_ADDRESS)"
   ]
  },
  {
   "cell_type": "code",
   "execution_count": 7,
   "metadata": {},
   "outputs": [],
   "source": [
    "class emp:\n",
    "    pass"
   ]
  },
  {
   "cell_type": "code",
   "execution_count": 8,
   "metadata": {},
   "outputs": [],
   "source": [
    "class EMP:\n",
    "    pass"
   ]
  },
  {
   "cell_type": "code",
   "execution_count": 9,
   "metadata": {},
   "outputs": [
    {
     "name": "stdout",
     "output_type": "stream",
     "text": [
      "sailaxmi\n",
      "jayaram\n"
     ]
    },
    {
     "ename": "AttributeError",
     "evalue": "'Emp' object has no attribute 'passport'",
     "output_type": "error",
     "traceback": [
      "\u001b[0;31m---------------------------------------------------------------------------\u001b[0m",
      "\u001b[0;31mAttributeError\u001b[0m                            Traceback (most recent call last)",
      "\u001b[0;32m<ipython-input-9-465972f9587f>\u001b[0m in \u001b[0;36m<module>\u001b[0;34m()\u001b[0m\n\u001b[1;32m     15\u001b[0m \u001b[0mprint\u001b[0m\u001b[0;34m(\u001b[0m\u001b[0msai\u001b[0m\u001b[0;34m.\u001b[0m\u001b[0mname\u001b[0m\u001b[0;34m)\u001b[0m\u001b[0;34m\u001b[0m\u001b[0m\n\u001b[1;32m     16\u001b[0m \u001b[0mprint\u001b[0m\u001b[0;34m(\u001b[0m\u001b[0mjay\u001b[0m\u001b[0;34m.\u001b[0m\u001b[0mname\u001b[0m\u001b[0;34m)\u001b[0m\u001b[0;34m\u001b[0m\u001b[0m\n\u001b[0;32m---> 17\u001b[0;31m \u001b[0mprint\u001b[0m\u001b[0;34m(\u001b[0m\u001b[0msai\u001b[0m\u001b[0;34m.\u001b[0m\u001b[0mpassport\u001b[0m\u001b[0;34m)\u001b[0m\u001b[0;34m\u001b[0m\u001b[0m\n\u001b[0m",
      "\u001b[0;31mAttributeError\u001b[0m: 'Emp' object has no attribute 'passport'"
     ]
    }
   ],
   "source": [
    "class Emp:\n",
    "    COMPANY_NAME=\"khyaathi\"\n",
    "    COMPANY_ADDRESS = \"maithrivanam\"\n",
    "    def fun(x):\n",
    "        print(\"this is fun\")\n",
    "    \n",
    "sai=Emp()\n",
    "sai.name=\"sailaxmi\"\n",
    "sai.empid=6973\n",
    "jay=Emp()\n",
    "jay.name=\"jayaram\"\n",
    "jay.empid=6974\n",
    "jay.adhar=234556\n",
    "jay.passport=345678a\n",
    "print(sai.name)\n",
    "print(jay.name)\n",
    "print(sai.passport)"
   ]
  },
  {
   "cell_type": "code",
   "execution_count": 11,
   "metadata": {},
   "outputs": [
    {
     "name": "stdout",
     "output_type": "stream",
     "text": [
      "khyaathi\n",
      "maithrivanam\n"
     ]
    }
   ],
   "source": [
    "class Emp:  # EMP is class object\n",
    "    COMPANY_NAME=\"khyaathi\"\n",
    "    COMPANY_ADDRESS = \"maithrivanam\"\n",
    "    def fun(x):\n",
    "        print(\"this is fun\")\n",
    "    \n",
    "sai=Emp() #EMP() is a data object. sai is a reference of data object, called as instance.\n",
    "sai.name=\"sailaxmi\"\n",
    "sai.empid=6973\n",
    "jay=Emp()\n",
    "jay.name=\"jayaram\"\n",
    "jay.empid=6974\n",
    "jay.adhar=234556\n",
    "jay.passport=345678\n",
    "print(sai.COMPANY_NAME)\n",
    "print(jay.COMPANY_ADDRESS)"
   ]
  },
  {
   "cell_type": "code",
   "execution_count": 12,
   "metadata": {},
   "outputs": [
    {
     "ename": "AttributeError",
     "evalue": "type object 'Emp' has no attribute 'adhar'",
     "output_type": "error",
     "traceback": [
      "\u001b[0;31m---------------------------------------------------------------------------\u001b[0m",
      "\u001b[0;31mAttributeError\u001b[0m                            Traceback (most recent call last)",
      "\u001b[0;32m<ipython-input-12-8cf8d0c45629>\u001b[0m in \u001b[0;36m<module>\u001b[0;34m()\u001b[0m\n\u001b[1;32m     13\u001b[0m \u001b[0mjay\u001b[0m\u001b[0;34m.\u001b[0m\u001b[0madhar\u001b[0m\u001b[0;34m=\u001b[0m\u001b[0;36m234556\u001b[0m\u001b[0;34m\u001b[0m\u001b[0m\n\u001b[1;32m     14\u001b[0m \u001b[0mjay\u001b[0m\u001b[0;34m.\u001b[0m\u001b[0mpassport\u001b[0m\u001b[0;34m=\u001b[0m\u001b[0;36m345678\u001b[0m\u001b[0;34m\u001b[0m\u001b[0m\n\u001b[0;32m---> 15\u001b[0;31m \u001b[0mprint\u001b[0m\u001b[0;34m(\u001b[0m\u001b[0mEmp\u001b[0m\u001b[0;34m.\u001b[0m\u001b[0madhar\u001b[0m\u001b[0;34m)\u001b[0m\u001b[0;34m\u001b[0m\u001b[0m\n\u001b[0m",
      "\u001b[0;31mAttributeError\u001b[0m: type object 'Emp' has no attribute 'adhar'"
     ]
    }
   ],
   "source": [
    "class Emp:  # EMP is class object\n",
    "    COMPANY_NAME=\"khyaathi\"\n",
    "    COMPANY_ADDRESS = \"maithrivanam\"\n",
    "    def fun(x):\n",
    "        print(\"this is fun\")\n",
    "    \n",
    "sai=Emp() #EMP() is a data object. sai is a reference of data object, called as instance.\n",
    "sai.name=\"sailaxmi\"\n",
    "sai.empid=6973\n",
    "jay=Emp()\n",
    "jay.name=\"jayaram\"\n",
    "jay.empid=6974\n",
    "jay.adhar=234556\n",
    "jay.passport=345678\n",
    "print(Emp.adhar)"
   ]
  },
  {
   "cell_type": "code",
   "execution_count": 13,
   "metadata": {},
   "outputs": [
    {
     "name": "stdout",
     "output_type": "stream",
     "text": [
      "maithrivanam\n",
      "this is fun\n"
     ]
    }
   ],
   "source": [
    "class Emp:  # EMP is class object\n",
    "    COMPANY_NAME=\"khyaathi\"\n",
    "    COMPANY_ADDRESS = \"maithrivanam\"\n",
    "    def fun(x):\n",
    "        print(\"this is fun\")\n",
    "    \n",
    "sai=Emp() #EMP() is a data object. sai is a reference of data object, called as instance.\n",
    "sai.name=\"sailaxmi\"\n",
    "sai.empid=6973\n",
    "jay=Emp()\n",
    "jay.name=\"jayaram\"\n",
    "jay.empid=6974\n",
    "jay.adhar=234556\n",
    "jay.passport=345678\n",
    "print(Emp.COMPANY_ADDRESS)\n",
    "Emp.fun(10)"
   ]
  },
  {
   "cell_type": "code",
   "execution_count": 14,
   "metadata": {},
   "outputs": [
    {
     "name": "stdout",
     "output_type": "stream",
     "text": [
      "maithrivanam\n",
      "this is fun\n",
      "this is fun\n"
     ]
    }
   ],
   "source": [
    "class Emp:  # EMP is class object\n",
    "    COMPANY_NAME=\"khyaathi\"\n",
    "    COMPANY_ADDRESS = \"maithrivanam\"\n",
    "    def fun(x):\n",
    "        print(\"this is fun\")\n",
    "    \n",
    "sai=Emp() #EMP() is a data object. sai is a reference of data object, called as instance.\n",
    "sai.name=\"sailaxmi\"\n",
    "sai.empid=6973\n",
    "jay=Emp()\n",
    "jay.name=\"jayaram\"\n",
    "jay.empid=6974\n",
    "jay.adhar=234556\n",
    "jay.passport=345678\n",
    "print(Emp.COMPANY_ADDRESS)\n",
    "#Emp.fun(10)\n",
    "sai.fun()\n",
    "jay.fun()"
   ]
  },
  {
   "cell_type": "code",
   "execution_count": 15,
   "metadata": {},
   "outputs": [
    {
     "ename": "TypeError",
     "evalue": "fun() missing 1 required positional argument: 'x'",
     "output_type": "error",
     "traceback": [
      "\u001b[0;31m---------------------------------------------------------------------------\u001b[0m",
      "\u001b[0;31mTypeError\u001b[0m                                 Traceback (most recent call last)",
      "\u001b[0;32m<ipython-input-15-9140949fe6c3>\u001b[0m in \u001b[0;36m<module>\u001b[0;34m()\u001b[0m\n\u001b[1;32m      1\u001b[0m \u001b[0;32mdef\u001b[0m \u001b[0mfun\u001b[0m\u001b[0;34m(\u001b[0m\u001b[0mx\u001b[0m\u001b[0;34m)\u001b[0m\u001b[0;34m:\u001b[0m\u001b[0;34m\u001b[0m\u001b[0m\n\u001b[1;32m      2\u001b[0m     \u001b[0mprint\u001b[0m\u001b[0;34m(\u001b[0m\u001b[0;34m\"this is fun\"\u001b[0m\u001b[0;34m)\u001b[0m\u001b[0;34m\u001b[0m\u001b[0m\n\u001b[0;32m----> 3\u001b[0;31m \u001b[0mfun\u001b[0m\u001b[0;34m(\u001b[0m\u001b[0;34m)\u001b[0m\u001b[0;34m\u001b[0m\u001b[0m\n\u001b[0m",
      "\u001b[0;31mTypeError\u001b[0m: fun() missing 1 required positional argument: 'x'"
     ]
    }
   ],
   "source": [
    "def fun(x):\n",
    "    print(\"this is fun\")\n",
    "fun()"
   ]
  },
  {
   "cell_type": "code",
   "execution_count": 16,
   "metadata": {},
   "outputs": [
    {
     "name": "stdout",
     "output_type": "stream",
     "text": [
      "this is fun\n"
     ]
    }
   ],
   "source": [
    "def fun(x=10):\n",
    "    print(\"this is fun\")\n",
    "fun()"
   ]
  },
  {
   "cell_type": "code",
   "execution_count": null,
   "metadata": {},
   "outputs": [],
   "source": [
    "class Emp:  \n",
    "    COMPANY_NAME=\"khyaathi\"\n",
    "    COMPANY_ADDRESS = \"maithrivanam\"\n",
    "    def fun(x):\n",
    "        print(\"this is fun\")\n",
    "    \n",
    "sai=Emp() #\n",
    "#Emp.fun(10)\n",
    "sai.fun()\n",
    "jay.fun()"
   ]
  },
  {
   "cell_type": "code",
   "execution_count": 18,
   "metadata": {},
   "outputs": [],
   "source": [
    "a=int(10)"
   ]
  },
  {
   "cell_type": "markdown",
   "metadata": {},
   "source": [
    "# "
   ]
  },
  {
   "cell_type": "code",
   "execution_count": 19,
   "metadata": {},
   "outputs": [],
   "source": [
    "a=10"
   ]
  },
  {
   "cell_type": "code",
   "execution_count": 20,
   "metadata": {},
   "outputs": [
    {
     "name": "stdout",
     "output_type": "stream",
     "text": [
      "this is fun: 10\n"
     ]
    }
   ],
   "source": [
    "class Emp:  \n",
    "    COMPANY_NAME=\"khyaathi\"\n",
    "    COMPANY_ADDRESS = \"maithrivanam\"\n",
    "    def fun(x):\n",
    "        print(\"this is fun:\",x)\n",
    "    \n",
    "sai=Emp()\n",
    "Emp.fun(10)\n"
   ]
  },
  {
   "cell_type": "code",
   "execution_count": 21,
   "metadata": {},
   "outputs": [
    {
     "ename": "AttributeError",
     "evalue": "'int' object has no attribute 'name'",
     "output_type": "error",
     "traceback": [
      "\u001b[0;31m---------------------------------------------------------------------------\u001b[0m",
      "\u001b[0;31mAttributeError\u001b[0m                            Traceback (most recent call last)",
      "\u001b[0;32m<ipython-input-21-17b6d7ff0f8e>\u001b[0m in \u001b[0;36m<module>\u001b[0;34m()\u001b[0m\n\u001b[1;32m      7\u001b[0m \u001b[0msai\u001b[0m\u001b[0;34m=\u001b[0m\u001b[0mEmp\u001b[0m\u001b[0;34m(\u001b[0m\u001b[0;34m)\u001b[0m\u001b[0;34m\u001b[0m\u001b[0m\n\u001b[1;32m      8\u001b[0m \u001b[0msai\u001b[0m\u001b[0;34m.\u001b[0m\u001b[0mname\u001b[0m\u001b[0;34m=\u001b[0m\u001b[0;34m\"sailaxmi\"\u001b[0m\u001b[0;34m\u001b[0m\u001b[0m\n\u001b[0;32m----> 9\u001b[0;31m \u001b[0mEmp\u001b[0m\u001b[0;34m.\u001b[0m\u001b[0mget_name\u001b[0m\u001b[0;34m(\u001b[0m\u001b[0;36m10\u001b[0m\u001b[0;34m)\u001b[0m\u001b[0;34m\u001b[0m\u001b[0m\n\u001b[0m",
      "\u001b[0;32m<ipython-input-21-17b6d7ff0f8e>\u001b[0m in \u001b[0;36mget_name\u001b[0;34m(x)\u001b[0m\n\u001b[1;32m      3\u001b[0m     \u001b[0mCOMPANY_ADDRESS\u001b[0m \u001b[0;34m=\u001b[0m \u001b[0;34m\"maithrivanam\"\u001b[0m\u001b[0;34m\u001b[0m\u001b[0m\n\u001b[1;32m      4\u001b[0m     \u001b[0;32mdef\u001b[0m \u001b[0mget_name\u001b[0m\u001b[0;34m(\u001b[0m\u001b[0mx\u001b[0m\u001b[0;34m)\u001b[0m\u001b[0;34m:\u001b[0m\u001b[0;34m\u001b[0m\u001b[0m\n\u001b[0;32m----> 5\u001b[0;31m         \u001b[0;32mreturn\u001b[0m \u001b[0mx\u001b[0m\u001b[0;34m.\u001b[0m\u001b[0mname\u001b[0m\u001b[0;34m\u001b[0m\u001b[0m\n\u001b[0m\u001b[1;32m      6\u001b[0m \u001b[0;34m\u001b[0m\u001b[0m\n\u001b[1;32m      7\u001b[0m \u001b[0msai\u001b[0m\u001b[0;34m=\u001b[0m\u001b[0mEmp\u001b[0m\u001b[0;34m(\u001b[0m\u001b[0;34m)\u001b[0m\u001b[0;34m\u001b[0m\u001b[0m\n",
      "\u001b[0;31mAttributeError\u001b[0m: 'int' object has no attribute 'name'"
     ]
    }
   ],
   "source": [
    "class Emp:  \n",
    "    COMPANY_NAME=\"khyaathi\"\n",
    "    COMPANY_ADDRESS = \"maithrivanam\"\n",
    "    def get_name(x):\n",
    "        return x.name\n",
    "    \n",
    "sai=Emp()\n",
    "sai.name=\"sailaxmi\"\n",
    "Emp.get_name(10)"
   ]
  },
  {
   "cell_type": "code",
   "execution_count": 22,
   "metadata": {},
   "outputs": [
    {
     "data": {
      "text/plain": [
       "'sailaxmi'"
      ]
     },
     "execution_count": 22,
     "metadata": {},
     "output_type": "execute_result"
    }
   ],
   "source": [
    "class Emp:  \n",
    "    COMPANY_NAME=\"khyaathi\"\n",
    "    COMPANY_ADDRESS = \"maithrivanam\"\n",
    "    def get_name(x):\n",
    "        return x.name\n",
    "    \n",
    "sai=Emp()\n",
    "sai.name=\"sailaxmi\"\n",
    "sai.address=\"devender nagar\"\n",
    "Emp.get_name(sai)"
   ]
  },
  {
   "cell_type": "code",
   "execution_count": 23,
   "metadata": {},
   "outputs": [
    {
     "data": {
      "text/plain": [
       "'sailaxmi'"
      ]
     },
     "execution_count": 23,
     "metadata": {},
     "output_type": "execute_result"
    }
   ],
   "source": [
    "class Emp:  \n",
    "    COMPANY_NAME=\"khyaathi\"\n",
    "    COMPANY_ADDRESS = \"maithrivanam\"\n",
    "    def get_name(x):\n",
    "        return x.name\n",
    "    \n",
    "sai=Emp()\n",
    "sai.name=\"sailaxmi\"\n",
    "sai.address=\"devender nagar\"\n",
    "#Emp.get_name(sai)\n",
    "sai.get_name()"
   ]
  },
  {
   "cell_type": "code",
   "execution_count": 24,
   "metadata": {},
   "outputs": [
    {
     "data": {
      "text/plain": [
       "'SAIlaxmi'"
      ]
     },
     "execution_count": 24,
     "metadata": {},
     "output_type": "execute_result"
    }
   ],
   "source": [
    "class Emp:  \n",
    "    COMPANY_NAME=\"khyaathi\"\n",
    "    COMPANY_ADDRESS = \"maithrivanam\"\n",
    "    def get_name(x):\n",
    "        return x.name\n",
    "    def update_name(x,new_name):\n",
    "        x.name=new_name\n",
    "    \n",
    "sai=Emp()\n",
    "sai.name=\"sailaxmi\"\n",
    "sai.address=\"devender nagar\"\n",
    "#Emp.get_name(sai)\n",
    "#Emp.update_name(sai,\"SAIlaxmi\")\n",
    "sai.update_name(\"SAIlaxmi\")\n",
    "sai.get_name()"
   ]
  },
  {
   "cell_type": "code",
   "execution_count": null,
   "metadata": {},
   "outputs": [],
   "source": [
    "class Emp:  \n",
    "    COMPANY_NAME=\"khyaathi\"\n",
    "    COMPANY_ADDRESS = \"maithrivanam\"\n",
    "    def get_name(self):\n",
    "        return self.name\n",
    "    def update_name(self,new_name):\n",
    "        self.name=new_name\n",
    "    \n",
    "sai=Emp()\n",
    "sai.name=\"sailaxmi\"\n",
    "sai.address=\"devender nagar\"\n",
    "#Emp.get_name(sai)\n",
    "#Emp.update_name(sai,\"SAIlaxmi\")\n",
    "sai.update_name(\"SAIlaxmi\")\n",
    "sai.get_name()\n",
    "\n",
    "# Product class name, costprice, profit as a data object attributes, discount as a class object attribute. write a method to \n",
    "# calculate sales price by considring the discount and profit\n",
    "# ware house"
   ]
  },
  {
   "cell_type": "code",
   "execution_count": 1,
   "metadata": {},
   "outputs": [
    {
     "data": {
      "text/plain": [
       "'SAIlaxmi'"
      ]
     },
     "execution_count": 1,
     "metadata": {},
     "output_type": "execute_result"
    }
   ],
   "source": [
    "class Emp:  \n",
    "    COMPANY_NAME=\"khyaathi\"\n",
    "    COMPANY_ADDRESS = \"maithrivanam\"\n",
    "    def get_name(self):\n",
    "        return self.name\n",
    "    def update_name(self,new_name):\n",
    "        self.name=new_name\n",
    "    \n",
    "sai=Emp()\n",
    "sai.name=\"sailaxmi\"\n",
    "sai.address=\"devender nagar\"\n",
    "Emp.update_name(sai,\"SAILAXMI\")\n",
    "sai.update_name(\"SAIlaxmi\")\n",
    "sai.get_name()"
   ]
  },
  {
   "cell_type": "code",
   "execution_count": 2,
   "metadata": {},
   "outputs": [
    {
     "name": "stdout",
     "output_type": "stream",
     "text": [
      "{'name': 'sailaxmi', 'address': 'devender nagar'}\n"
     ]
    }
   ],
   "source": [
    "class Emp:  \n",
    "    COMPANY_NAME=\"khyaathi\"\n",
    "    COMPANY_ADDRESS = \"maithrivanam\"\n",
    "    def get(self):\n",
    "        return self.__dict__\n",
    "    \n",
    "    \n",
    "    \n",
    "sai=Emp()\n",
    "sai.name=\"sailaxmi\"\n",
    "sai.address=\"devender nagar\"\n",
    "print(sai.get())"
   ]
  },
  {
   "cell_type": "code",
   "execution_count": 3,
   "metadata": {},
   "outputs": [
    {
     "name": "stdout",
     "output_type": "stream",
     "text": [
      "{'name': 'sailaxmi', 'address': 'devender nagar'}\n",
      "{'name': 'JAYARAM', 'address': 'anjaneyanagar'}\n"
     ]
    }
   ],
   "source": [
    "class Emp:  \n",
    "    COMPANY_NAME=\"khyaathi\"\n",
    "    COMPANY_ADDRESS = \"maithrivanam\"\n",
    "    def get(self):\n",
    "        return self.__dict__\n",
    "    \n",
    "    \n",
    "    \n",
    "sai=Emp()\n",
    "sai.name=\"sailaxmi\"\n",
    "sai.address=\"devender nagar\"\n",
    "jay=Emp()\n",
    "jay.name=\"JAYARAM\"\n",
    "jay.address=\"anjaneyanagar\"\n",
    "print(sai.get())\n",
    "print(jay.get())"
   ]
  },
  {
   "cell_type": "code",
   "execution_count": 4,
   "metadata": {},
   "outputs": [
    {
     "ename": "TypeError",
     "evalue": "get() takes 0 positional arguments but 1 was given",
     "output_type": "error",
     "traceback": [
      "\u001b[0;31m---------------------------------------------------------------------------\u001b[0m",
      "\u001b[0;31mTypeError\u001b[0m                                 Traceback (most recent call last)",
      "\u001b[0;32m<ipython-input-4-5e73b709e6d8>\u001b[0m in \u001b[0;36m<module>\u001b[0;34m()\u001b[0m\n\u001b[1;32m     13\u001b[0m \u001b[0mjay\u001b[0m\u001b[0;34m.\u001b[0m\u001b[0mname\u001b[0m\u001b[0;34m=\u001b[0m\u001b[0;34m\"JAYARAM\"\u001b[0m\u001b[0;34m\u001b[0m\u001b[0m\n\u001b[1;32m     14\u001b[0m \u001b[0mjay\u001b[0m\u001b[0;34m.\u001b[0m\u001b[0maddress\u001b[0m\u001b[0;34m=\u001b[0m\u001b[0;34m\"anjaneyanagar\"\u001b[0m\u001b[0;34m\u001b[0m\u001b[0m\n\u001b[0;32m---> 15\u001b[0;31m \u001b[0mprint\u001b[0m\u001b[0;34m(\u001b[0m\u001b[0msai\u001b[0m\u001b[0;34m.\u001b[0m\u001b[0mget\u001b[0m\u001b[0;34m(\u001b[0m\u001b[0;34m)\u001b[0m\u001b[0;34m)\u001b[0m\u001b[0;34m\u001b[0m\u001b[0m\n\u001b[0m\u001b[1;32m     16\u001b[0m \u001b[0mprint\u001b[0m\u001b[0;34m(\u001b[0m\u001b[0mjay\u001b[0m\u001b[0;34m.\u001b[0m\u001b[0mget\u001b[0m\u001b[0;34m(\u001b[0m\u001b[0;34m)\u001b[0m\u001b[0;34m)\u001b[0m\u001b[0;34m\u001b[0m\u001b[0m\n",
      "\u001b[0;31mTypeError\u001b[0m: get() takes 0 positional arguments but 1 was given"
     ]
    }
   ],
   "source": [
    "class Emp:  \n",
    "    COMPANY_NAME=\"khyaathi\"\n",
    "    COMPANY_ADDRESS = \"maithrivanam\"\n",
    "    def get():\n",
    "        print(\"dsafdsf\")\n",
    "    \n",
    "    \n",
    "    \n",
    "sai=Emp()\n",
    "sai.name=\"sailaxmi\"\n",
    "sai.address=\"devender nagar\"\n",
    "jay=Emp()\n",
    "jay.name=\"JAYARAM\"\n",
    "jay.address=\"anjaneyanagar\"\n",
    "print(sai.get())\n",
    "print(jay.get())"
   ]
  },
  {
   "cell_type": "code",
   "execution_count": 6,
   "metadata": {},
   "outputs": [
    {
     "name": "stdout",
     "output_type": "stream",
     "text": [
      "dsafdsf\n"
     ]
    }
   ],
   "source": [
    "class Emp:  \n",
    "    COMPANY_NAME=\"khyaathi\"\n",
    "    COMPANY_ADDRESS = \"maithrivanam\"\n",
    "    def get():\n",
    "        print(\"dsafdsf\")\n",
    "    \n",
    "    \n",
    "    \n",
    "sai=Emp()\n",
    "sai.name=\"sailaxmi\"\n",
    "sai.address=\"devender nagar\"\n",
    "jay=Emp()\n",
    "jay.name=\"JAYARAM\"\n",
    "jay.address=\"anjaneyanagar\"\n",
    "#print(sai.get())\n",
    "#print(jay.get())\n",
    "Emp.get()"
   ]
  },
  {
   "cell_type": "code",
   "execution_count": 7,
   "metadata": {},
   "outputs": [
    {
     "name": "stdout",
     "output_type": "stream",
     "text": [
      "dsafdsf\n",
      "None\n",
      "dsafdsf\n",
      "None\n"
     ]
    }
   ],
   "source": [
    "class Emp:  \n",
    "    COMPANY_NAME=\"khyaathi\"\n",
    "    COMPANY_ADDRESS = \"maithrivanam\"\n",
    "    def set_data(self,e_name,e_address):\n",
    "        self.name=e_name\n",
    "        self.address=e_address\n",
    "    def get(self):\n",
    "        print(\"dsafdsf\")\n",
    "    \n",
    "    \n",
    "    \n",
    "sai=Emp()\n",
    "sai.set_data(\"sailaxmi\",\"kailas hills\")\n",
    "#sai.name=\"sailaxmi\"\n",
    "#sai.address=\"devender nagar\"\n",
    "jay=Emp()\n",
    "jay.set_data(\"JAYARAM\",\"devender nagar\")\n",
    "#jay.name=\"JAYARAM\"\n",
    "#jay.address=\"anjaneyanagar\"\n",
    "print(sai.get())\n",
    "print(jay.get())"
   ]
  },
  {
   "cell_type": "code",
   "execution_count": 8,
   "metadata": {},
   "outputs": [
    {
     "name": "stdout",
     "output_type": "stream",
     "text": [
      "{'name': 'sailaxmi', 'address': 'kailas hills'}\n",
      "{'name': 'JAYARAM', 'address': 'devender nagar'}\n"
     ]
    }
   ],
   "source": [
    "class Emp:  \n",
    "    COMPANY_NAME=\"khyaathi\"\n",
    "    COMPANY_ADDRESS = \"maithrivanam\"\n",
    "    def set_data(self,e_name,e_address):\n",
    "        self.name=e_name\n",
    "        self.address=e_address\n",
    "    def get(self):\n",
    "        return self.__dict__\n",
    "    \n",
    "    \n",
    "    \n",
    "sai=Emp()\n",
    "sai.set_data(\"sailaxmi\",\"kailas hills\")\n",
    "#sai.name=\"sailaxmi\"\n",
    "#sai.address=\"devender nagar\"\n",
    "jay=Emp()\n",
    "jay.set_data(\"JAYARAM\",\"devender nagar\")\n",
    "#jay.name=\"JAYARAM\"\n",
    "#jay.address=\"anjaneyanagar\"\n",
    "print(sai.get())\n",
    "print(jay.get())"
   ]
  },
  {
   "cell_type": "code",
   "execution_count": 10,
   "metadata": {},
   "outputs": [
    {
     "name": "stdout",
     "output_type": "stream",
     "text": [
      "('sailaxmi', 'kailas hills', 'khyaathi', 'maithrivanam')\n",
      "('JAYARAM', 'devender nagar', 'khyaathi', 'maithrivanam')\n"
     ]
    }
   ],
   "source": [
    "class Emp:  \n",
    "    COMPANY_NAME=\"khyaathi\"\n",
    "    COMPANY_ADDRESS = \"maithrivanam\"\n",
    "    def set_data(self,e_name,e_address):\n",
    "        self.name=e_name\n",
    "        self.address=e_address\n",
    "    def get(self):\n",
    "        return self.name,self.address, self.COMPANY_NAME, self.COMPANY_ADDRESS\n",
    "sai=Emp()\n",
    "sai.set_data(\"sailaxmi\",\"kailas hills\")\n",
    "jay=Emp()\n",
    "jay.set_data(\"JAYARAM\",\"devender nagar\")\n",
    "print(sai.get())\n",
    "print(jay.get())"
   ]
  },
  {
   "cell_type": "code",
   "execution_count": 11,
   "metadata": {},
   "outputs": [
    {
     "ename": "NameError",
     "evalue": "name 'COMPANY_NAME' is not defined",
     "output_type": "error",
     "traceback": [
      "\u001b[0;31m---------------------------------------------------------------------------\u001b[0m",
      "\u001b[0;31mNameError\u001b[0m                                 Traceback (most recent call last)",
      "\u001b[0;32m<ipython-input-11-4caee965f14c>\u001b[0m in \u001b[0;36m<module>\u001b[0;34m()\u001b[0m\n\u001b[1;32m     11\u001b[0m \u001b[0mjay\u001b[0m\u001b[0;34m=\u001b[0m\u001b[0mEmp\u001b[0m\u001b[0;34m(\u001b[0m\u001b[0;34m)\u001b[0m\u001b[0;34m\u001b[0m\u001b[0m\n\u001b[1;32m     12\u001b[0m \u001b[0mjay\u001b[0m\u001b[0;34m.\u001b[0m\u001b[0mset_data\u001b[0m\u001b[0;34m(\u001b[0m\u001b[0;34m\"JAYARAM\"\u001b[0m\u001b[0;34m,\u001b[0m\u001b[0;34m\"devender nagar\"\u001b[0m\u001b[0;34m)\u001b[0m\u001b[0;34m\u001b[0m\u001b[0m\n\u001b[0;32m---> 13\u001b[0;31m \u001b[0mprint\u001b[0m\u001b[0;34m(\u001b[0m\u001b[0msai\u001b[0m\u001b[0;34m.\u001b[0m\u001b[0mget\u001b[0m\u001b[0;34m(\u001b[0m\u001b[0;34m)\u001b[0m\u001b[0;34m)\u001b[0m\u001b[0;34m\u001b[0m\u001b[0m\n\u001b[0m\u001b[1;32m     14\u001b[0m \u001b[0mprint\u001b[0m\u001b[0;34m(\u001b[0m\u001b[0mjay\u001b[0m\u001b[0;34m.\u001b[0m\u001b[0mget\u001b[0m\u001b[0;34m(\u001b[0m\u001b[0;34m)\u001b[0m\u001b[0;34m)\u001b[0m\u001b[0;34m\u001b[0m\u001b[0m\n",
      "\u001b[0;32m<ipython-input-11-4caee965f14c>\u001b[0m in \u001b[0;36mget\u001b[0;34m(self)\u001b[0m\n\u001b[1;32m      6\u001b[0m         \u001b[0mself\u001b[0m\u001b[0;34m.\u001b[0m\u001b[0maddress\u001b[0m\u001b[0;34m=\u001b[0m\u001b[0me_address\u001b[0m\u001b[0;34m\u001b[0m\u001b[0m\n\u001b[1;32m      7\u001b[0m     \u001b[0;32mdef\u001b[0m \u001b[0mget\u001b[0m\u001b[0;34m(\u001b[0m\u001b[0mself\u001b[0m\u001b[0;34m)\u001b[0m\u001b[0;34m:\u001b[0m\u001b[0;34m\u001b[0m\u001b[0m\n\u001b[0;32m----> 8\u001b[0;31m         \u001b[0;32mreturn\u001b[0m \u001b[0mself\u001b[0m\u001b[0;34m.\u001b[0m\u001b[0mname\u001b[0m\u001b[0;34m,\u001b[0m\u001b[0mself\u001b[0m\u001b[0;34m.\u001b[0m\u001b[0maddress\u001b[0m\u001b[0;34m,\u001b[0m \u001b[0mCOMPANY_NAME\u001b[0m\u001b[0;34m,\u001b[0m \u001b[0mCOMPANY_NAME\u001b[0m\u001b[0;34m\u001b[0m\u001b[0m\n\u001b[0m\u001b[1;32m      9\u001b[0m \u001b[0msai\u001b[0m\u001b[0;34m=\u001b[0m\u001b[0mEmp\u001b[0m\u001b[0;34m(\u001b[0m\u001b[0;34m)\u001b[0m\u001b[0;34m\u001b[0m\u001b[0m\n\u001b[1;32m     10\u001b[0m \u001b[0msai\u001b[0m\u001b[0;34m.\u001b[0m\u001b[0mset_data\u001b[0m\u001b[0;34m(\u001b[0m\u001b[0;34m\"sailaxmi\"\u001b[0m\u001b[0;34m,\u001b[0m\u001b[0;34m\"kailas hills\"\u001b[0m\u001b[0;34m)\u001b[0m\u001b[0;34m\u001b[0m\u001b[0m\n",
      "\u001b[0;31mNameError\u001b[0m: name 'COMPANY_NAME' is not defined"
     ]
    }
   ],
   "source": [
    "class Emp:  \n",
    "    COMPANY_NAME=\"khyaathi\"\n",
    "    COMPANY_ADDRESS = \"maithrivanam\"\n",
    "    def set_data(self,e_name,e_address):\n",
    "        self.name=e_name\n",
    "        self.address=e_address\n",
    "    def get(self):\n",
    "        return self.name,self.address, COMPANY_NAME, COMPANY_NAME\n",
    "sai=Emp()\n",
    "sai.set_data(\"sailaxmi\",\"kailas hills\")\n",
    "jay=Emp()\n",
    "jay.set_data(\"JAYARAM\",\"devender nagar\")\n",
    "print(sai.get())\n",
    "print(jay.get())"
   ]
  },
  {
   "cell_type": "code",
   "execution_count": 12,
   "metadata": {},
   "outputs": [
    {
     "name": "stdout",
     "output_type": "stream",
     "text": [
      "('sailaxmi', 'kailas hills', 'khyaathi', 'khyaathi')\n",
      "('JAYARAM', 'devender nagar', 'khyaathi', 'khyaathi')\n"
     ]
    }
   ],
   "source": [
    "class Emp:  \n",
    "    COMPANY_NAME=\"khyaathi\"\n",
    "    COMPANY_ADDRESS = \"maithrivanam\"\n",
    "    def set_data(self,e_name,e_address):\n",
    "        self.name=e_name\n",
    "        self.address=e_address\n",
    "    def get(self):\n",
    "        return self.name,self.address, self.COMPANY_NAME, self.COMPANY_NAME\n",
    "sai=Emp()\n",
    "sai.set_data(\"sailaxmi\",\"kailas hills\")\n",
    "jay=Emp()\n",
    "jay.set_data(\"JAYARAM\",\"devender nagar\")\n",
    "print(sai.get())\n",
    "print(jay.get())"
   ]
  },
  {
   "cell_type": "code",
   "execution_count": 14,
   "metadata": {},
   "outputs": [
    {
     "name": "stdout",
     "output_type": "stream",
     "text": [
      "('sailaxmi', 'kailas hills', 'khyaathi', 'khyaathi')\n",
      "('JAYARAM', 'devender nagar', 'khyaathi', 'khyaathi')\n"
     ]
    }
   ],
   "source": [
    "class Emp:  \n",
    "    COMPANY_NAME=\"khyaathi\"\n",
    "    COMPANY_ADDRESS = \"maithrivanam\"\n",
    "    def set_data(self,e_name,e_address):\n",
    "        self.name=e_name\n",
    "        self.address=e_address\n",
    "    def get(self):\n",
    "        return self.name,self.address, self.__class__.COMPANY_NAME, self.__class__.COMPANY_NAME\n",
    "sai=Emp()\n",
    "sai.set_data(\"sailaxmi\",\"kailas hills\")\n",
    "jay=Emp()\n",
    "jay.set_data(\"JAYARAM\",\"devender nagar\")\n",
    "print(sai.get())\n",
    "print(jay.get())"
   ]
  },
  {
   "cell_type": "code",
   "execution_count": null,
   "metadata": {},
   "outputs": [],
   "source": [
    "class Emp:  \n",
    "    COMPANY_NAME=\"khyaathi\"\n",
    "    COMPANY_ADDRESS = \"maithrivanam\"\n",
    "    def set_data(self,e_name,e_address):\n",
    "        self.name=e_name\n",
    "        self.address=e_address\n",
    "    def get(self):\n",
    "        return self.name,self.address, self.__class__.COMPANY_NAME, self.__class__.COMPANY_NAME\n",
    "sai=Emp()\n",
    "sai.set_data(\"sailaxmi\",\"kailas hills\")\n",
    "jay=Emp()\n",
    "jay.set_data(\"JAYARAM\",\"devender nagar\")\n",
    "print(sai.get())\n",
    "print(jay.get())\n",
    "vedha = Emp()\n",
    "print(vedha.get())"
   ]
  },
  {
   "cell_type": "code",
   "execution_count": 15,
   "metadata": {},
   "outputs": [
    {
     "name": "stdout",
     "output_type": "stream",
     "text": [
      "this is class\n"
     ]
    }
   ],
   "source": [
    "class c1:\n",
    "    print(\"this is class\")\n",
    "o1=c1()\n",
    "o2=c1()\n",
    "o3=c1()"
   ]
  },
  {
   "cell_type": "code",
   "execution_count": 16,
   "metadata": {},
   "outputs": [
    {
     "name": "stdout",
     "output_type": "stream",
     "text": [
      "this is class\n"
     ]
    }
   ],
   "source": [
    "class c1:\n",
    "    print(\"this is class\")\n",
    "    def get(self):\n",
    "        print(\"this is get\")"
   ]
  },
  {
   "cell_type": "code",
   "execution_count": 17,
   "metadata": {},
   "outputs": [
    {
     "name": "stdout",
     "output_type": "stream",
     "text": [
      "this is class\n"
     ]
    }
   ],
   "source": [
    "class c1:\n",
    "    print(\"this is class\")\n",
    "    a=100\n",
    "    b=200\n",
    "    def get(self):\n",
    "        print(\"this is get\")"
   ]
  },
  {
   "cell_type": "code",
   "execution_count": 18,
   "metadata": {},
   "outputs": [
    {
     "name": "stdout",
     "output_type": "stream",
     "text": [
      "this is class\n"
     ]
    }
   ],
   "source": [
    "class c1:\n",
    "    print(\"this is class\")\n",
    "    def __init__(self):\n",
    "        print(\"this is init\")\n",
    "    def get(self):\n",
    "        print(\"this is get\")"
   ]
  },
  {
   "cell_type": "code",
   "execution_count": 19,
   "metadata": {},
   "outputs": [
    {
     "name": "stdout",
     "output_type": "stream",
     "text": [
      "this is class\n",
      "this is init\n"
     ]
    }
   ],
   "source": [
    "class c1:\n",
    "    print(\"this is class\")\n",
    "    def __init__(self):\n",
    "        print(\"this is init\")\n",
    "    def get(self):\n",
    "        print(\"this is get\")\n",
    "o1=c1()"
   ]
  },
  {
   "cell_type": "code",
   "execution_count": 20,
   "metadata": {},
   "outputs": [
    {
     "name": "stdout",
     "output_type": "stream",
     "text": [
      "this is class\n"
     ]
    }
   ],
   "source": [
    "class c1:\n",
    "    print(\"this is class\")\n",
    "    def __init__(self):\n",
    "        print(\"this is init\")\n",
    "    def get(self):\n",
    "        print(\"this is get\")\n",
    "#o1=c1()"
   ]
  },
  {
   "cell_type": "code",
   "execution_count": 21,
   "metadata": {},
   "outputs": [
    {
     "name": "stdout",
     "output_type": "stream",
     "text": [
      "this is class\n",
      "this is init\n"
     ]
    }
   ],
   "source": [
    "class c1:\n",
    "    print(\"this is class\")\n",
    "    def __init__(self):\n",
    "        print(\"this is init\")\n",
    "    def get(self):\n",
    "        print(\"this is get\")\n",
    "o1=c1() # while creating the data object internally, it wil calls the __init__ method "
   ]
  },
  {
   "cell_type": "code",
   "execution_count": 22,
   "metadata": {},
   "outputs": [
    {
     "name": "stdout",
     "output_type": "stream",
     "text": [
      "this is class\n"
     ]
    }
   ],
   "source": [
    "class c1:\n",
    "    print(\"this is class\")\n",
    "    def get(self):\n",
    "        print(\"this is get\")\n",
    "o1=c1() # while creating the data object internally, it wil calls the __init__ method "
   ]
  },
  {
   "cell_type": "code",
   "execution_count": 23,
   "metadata": {},
   "outputs": [
    {
     "name": "stdout",
     "output_type": "stream",
     "text": [
      "this is class\n",
      "this is get\n"
     ]
    }
   ],
   "source": [
    "class c1:\n",
    "    print(\"this is class\")\n",
    "    def __init__(self):\n",
    "        print(\"this is init\")\n",
    "    def __init__(self):\n",
    "        print(\"this is get\")\n",
    "o1=c1() # while creating the data object internally, it wil calls the __init__ method "
   ]
  },
  {
   "cell_type": "code",
   "execution_count": 24,
   "metadata": {},
   "outputs": [
    {
     "name": "stdout",
     "output_type": "stream",
     "text": [
      "this is class\n"
     ]
    },
    {
     "ename": "TypeError",
     "evalue": "__init__() missing 2 required positional arguments: 'a' and 'b'",
     "output_type": "error",
     "traceback": [
      "\u001b[0;31m---------------------------------------------------------------------------\u001b[0m",
      "\u001b[0;31mTypeError\u001b[0m                                 Traceback (most recent call last)",
      "\u001b[0;32m<ipython-input-24-3ab74941bb44>\u001b[0m in \u001b[0;36m<module>\u001b[0;34m()\u001b[0m\n\u001b[1;32m      5\u001b[0m     \u001b[0;32mdef\u001b[0m \u001b[0m__init__\u001b[0m\u001b[0;34m(\u001b[0m\u001b[0mself\u001b[0m\u001b[0;34m,\u001b[0m\u001b[0ma\u001b[0m\u001b[0;34m,\u001b[0m\u001b[0mb\u001b[0m\u001b[0;34m)\u001b[0m\u001b[0;34m:\u001b[0m\u001b[0;34m\u001b[0m\u001b[0m\n\u001b[1;32m      6\u001b[0m         \u001b[0mprint\u001b[0m\u001b[0;34m(\u001b[0m\u001b[0;34m\"this is get\"\u001b[0m\u001b[0;34m)\u001b[0m\u001b[0;34m\u001b[0m\u001b[0m\n\u001b[0;32m----> 7\u001b[0;31m \u001b[0mo1\u001b[0m\u001b[0;34m=\u001b[0m\u001b[0mc1\u001b[0m\u001b[0;34m(\u001b[0m\u001b[0;34m)\u001b[0m \u001b[0;31m# while creating the data object internally, it wil calls the __init__ method\u001b[0m\u001b[0;34m\u001b[0m\u001b[0m\n\u001b[0m",
      "\u001b[0;31mTypeError\u001b[0m: __init__() missing 2 required positional arguments: 'a' and 'b'"
     ]
    }
   ],
   "source": [
    "class c1:\n",
    "    print(\"this is class\")\n",
    "    def __init__(self):\n",
    "        print(\"this is init\")\n",
    "    def __init__(self,a,b):\n",
    "        print(\"this is get\")\n",
    "o1=c1() # while creating the data object internally, it wil calls the __init__ method "
   ]
  },
  {
   "cell_type": "code",
   "execution_count": 25,
   "metadata": {},
   "outputs": [
    {
     "name": "stdout",
     "output_type": "stream",
     "text": [
      "this is class\n",
      "this is init\n"
     ]
    }
   ],
   "source": [
    "class c1:\n",
    "    print(\"this is class\")\n",
    "    def __init__(self):\n",
    "        print(\"this is init\")\n",
    "    def get(self):\n",
    "        print(\"this is get\")\n",
    "o1=c1() # while creating the data object internally, it wil calls the __init__ method "
   ]
  },
  {
   "cell_type": "code",
   "execution_count": 27,
   "metadata": {},
   "outputs": [
    {
     "name": "stdout",
     "output_type": "stream",
     "text": [
      "this is class\n",
      "1000 2000\n",
      "this is init\n"
     ]
    }
   ],
   "source": [
    "class c1:\n",
    "    print(\"this is class\")\n",
    "    def __init__(self,a,b):\n",
    "        print(a,b)\n",
    "        print(\"this is init\")\n",
    "    def get(self):\n",
    "        print(\"this is get\")\n",
    "o1=c1(1000,2000)  # (__init__(bject of o1,1000,2000))data object of o1 as first argument, that is refer by self.\n",
    "# next it will pass 10000,2000 reffer by a,b. "
   ]
  },
  {
   "cell_type": "code",
   "execution_count": 28,
   "metadata": {},
   "outputs": [
    {
     "name": "stdout",
     "output_type": "stream",
     "text": [
      "('sailaxmi', 'kailas hills', 'khyaathi', 'khyaathi')\n",
      "('JAYARAM', 'devender nagar', 'khyaathi', 'khyaathi')\n"
     ]
    },
    {
     "ename": "TypeError",
     "evalue": "__init__() missing 2 required positional arguments: 'e_name' and 'e_address'",
     "output_type": "error",
     "traceback": [
      "\u001b[0;31m---------------------------------------------------------------------------\u001b[0m",
      "\u001b[0;31mTypeError\u001b[0m                                 Traceback (most recent call last)",
      "\u001b[0;32m<ipython-input-28-fc2c5d074ba4>\u001b[0m in \u001b[0;36m<module>\u001b[0;34m()\u001b[0m\n\u001b[1;32m     13\u001b[0m \u001b[0mprint\u001b[0m\u001b[0;34m(\u001b[0m\u001b[0msai\u001b[0m\u001b[0;34m.\u001b[0m\u001b[0mget\u001b[0m\u001b[0;34m(\u001b[0m\u001b[0;34m)\u001b[0m\u001b[0;34m)\u001b[0m\u001b[0;34m\u001b[0m\u001b[0m\n\u001b[1;32m     14\u001b[0m \u001b[0mprint\u001b[0m\u001b[0;34m(\u001b[0m\u001b[0mjay\u001b[0m\u001b[0;34m.\u001b[0m\u001b[0mget\u001b[0m\u001b[0;34m(\u001b[0m\u001b[0;34m)\u001b[0m\u001b[0;34m)\u001b[0m\u001b[0;34m\u001b[0m\u001b[0m\n\u001b[0;32m---> 15\u001b[0;31m \u001b[0mvedha\u001b[0m \u001b[0;34m=\u001b[0m \u001b[0mEmp\u001b[0m\u001b[0;34m(\u001b[0m\u001b[0;34m)\u001b[0m\u001b[0;34m\u001b[0m\u001b[0m\n\u001b[0m\u001b[1;32m     16\u001b[0m \u001b[0mprint\u001b[0m\u001b[0;34m(\u001b[0m\u001b[0mvedha\u001b[0m\u001b[0;34m.\u001b[0m\u001b[0mget\u001b[0m\u001b[0;34m(\u001b[0m\u001b[0;34m)\u001b[0m\u001b[0;34m)\u001b[0m\u001b[0;34m\u001b[0m\u001b[0m\n",
      "\u001b[0;31mTypeError\u001b[0m: __init__() missing 2 required positional arguments: 'e_name' and 'e_address'"
     ]
    }
   ],
   "source": [
    "class Emp:  \n",
    "    COMPANY_NAME=\"khyaathi\"\n",
    "    COMPANY_ADDRESS = \"maithrivanam\"\n",
    "    def __init__(self,e_name,e_address):\n",
    "        self.name=e_name\n",
    "        self.address=e_address\n",
    "    def get(self):\n",
    "        return self.name,self.address, self.__class__.COMPANY_NAME, self.__class__.COMPANY_NAME\n",
    "sai=Emp(\"sailaxmi\",\"kailas hills\")\n",
    "#sai.set_data(\"sailaxmi\",\"kailas hills\")\n",
    "jay=Emp(\"JAYARAM\",\"devender nagar\")\n",
    "#jay.set_data(\"JAYARAM\",\"devender nagar\")\n",
    "print(sai.get())\n",
    "print(jay.get())\n",
    "vedha = Emp()\n",
    "print(vedha.get())"
   ]
  },
  {
   "cell_type": "code",
   "execution_count": 30,
   "metadata": {},
   "outputs": [
    {
     "name": "stdout",
     "output_type": "stream",
     "text": [
      "('sailaxmi', 'kailas hills', 'khyaathi', 'khyaathi')\n",
      "('JAYARAM', 'devender nagar', 'khyaathi', 'khyaathi')\n"
     ]
    }
   ],
   "source": [
    "class Emp:  \n",
    "    COMPANY_NAME=\"khyaathi\"\n",
    "    COMPANY_ADDRESS = \"maithrivanam\"\n",
    "    def __init__(self,e_name,e_address):\n",
    "        # constructor\n",
    "        self.name=e_name\n",
    "        self.address=e_address\n",
    "    def get(self):\n",
    "        return self.name,self.address, self.__class__.COMPANY_NAME, self.__class__.COMPANY_NAME\n",
    "sai=Emp(\"sailaxmi\",\"kailas hills\")\n",
    "jay=Emp(\"JAYARAM\",\"devender nagar\")\n",
    "print(sai.get())\n",
    "print(jay.get())\n"
   ]
  },
  {
   "cell_type": "code",
   "execution_count": 31,
   "metadata": {},
   "outputs": [
    {
     "ename": "TypeError",
     "evalue": "__init__() should return None, not 'str'",
     "output_type": "error",
     "traceback": [
      "\u001b[0;31m---------------------------------------------------------------------------\u001b[0m",
      "\u001b[0;31mTypeError\u001b[0m                                 Traceback (most recent call last)",
      "\u001b[0;32m<ipython-input-31-71d64c36e3f0>\u001b[0m in \u001b[0;36m<module>\u001b[0;34m()\u001b[0m\n\u001b[1;32m      9\u001b[0m     \u001b[0;32mdef\u001b[0m \u001b[0mget\u001b[0m\u001b[0;34m(\u001b[0m\u001b[0mself\u001b[0m\u001b[0;34m)\u001b[0m\u001b[0;34m:\u001b[0m\u001b[0;34m\u001b[0m\u001b[0m\n\u001b[1;32m     10\u001b[0m         \u001b[0;32mreturn\u001b[0m \u001b[0mself\u001b[0m\u001b[0;34m.\u001b[0m\u001b[0mname\u001b[0m\u001b[0;34m,\u001b[0m\u001b[0mself\u001b[0m\u001b[0;34m.\u001b[0m\u001b[0maddress\u001b[0m\u001b[0;34m,\u001b[0m \u001b[0mself\u001b[0m\u001b[0;34m.\u001b[0m\u001b[0m__class__\u001b[0m\u001b[0;34m.\u001b[0m\u001b[0mCOMPANY_NAME\u001b[0m\u001b[0;34m,\u001b[0m \u001b[0mself\u001b[0m\u001b[0;34m.\u001b[0m\u001b[0m__class__\u001b[0m\u001b[0;34m.\u001b[0m\u001b[0mCOMPANY_NAME\u001b[0m\u001b[0;34m\u001b[0m\u001b[0m\n\u001b[0;32m---> 11\u001b[0;31m \u001b[0msai\u001b[0m\u001b[0;34m=\u001b[0m\u001b[0mEmp\u001b[0m\u001b[0;34m(\u001b[0m\u001b[0;34m\"sailaxmi\"\u001b[0m\u001b[0;34m,\u001b[0m\u001b[0;34m\"kailas hills\"\u001b[0m\u001b[0;34m)\u001b[0m\u001b[0;34m\u001b[0m\u001b[0m\n\u001b[0m\u001b[1;32m     12\u001b[0m \u001b[0mjay\u001b[0m\u001b[0;34m=\u001b[0m\u001b[0mEmp\u001b[0m\u001b[0;34m(\u001b[0m\u001b[0;34m\"JAYARAM\"\u001b[0m\u001b[0;34m,\u001b[0m\u001b[0;34m\"devender nagar\"\u001b[0m\u001b[0;34m)\u001b[0m\u001b[0;34m\u001b[0m\u001b[0m\n\u001b[1;32m     13\u001b[0m \u001b[0mprint\u001b[0m\u001b[0;34m(\u001b[0m\u001b[0msai\u001b[0m\u001b[0;34m.\u001b[0m\u001b[0mget\u001b[0m\u001b[0;34m(\u001b[0m\u001b[0;34m)\u001b[0m\u001b[0;34m)\u001b[0m\u001b[0;34m\u001b[0m\u001b[0m\n",
      "\u001b[0;31mTypeError\u001b[0m: __init__() should return None, not 'str'"
     ]
    }
   ],
   "source": [
    "class Emp:  \n",
    "    COMPANY_NAME=\"khyaathi\"\n",
    "    COMPANY_ADDRESS = \"maithrivanam\"\n",
    "    def __init__(self,e_name,e_address):\n",
    "        # constructor\n",
    "        self.name=e_name\n",
    "        self.address=e_address\n",
    "        return \"some data\"\n",
    "    def get(self):\n",
    "        return self.name,self.address, self.__class__.COMPANY_NAME, self.__class__.COMPANY_NAME\n",
    "sai=Emp(\"sailaxmi\",\"kailas hills\")\n",
    "jay=Emp(\"JAYARAM\",\"devender nagar\")\n",
    "print(sai.get())\n",
    "print(jay.get())\n"
   ]
  },
  {
   "cell_type": "code",
   "execution_count": 32,
   "metadata": {},
   "outputs": [
    {
     "name": "stdout",
     "output_type": "stream",
     "text": [
      "('sailaxmi', 'kailas hills', 'khyaathi', 'khyaathi')\n",
      "('JAYARAM', 'devender nagar', 'khyaathi', 'khyaathi')\n"
     ]
    }
   ],
   "source": [
    "class Emp:  \n",
    "    COMPANY_NAME=\"khyaathi\"\n",
    "    COMPANY_ADDRESS = \"maithrivanam\"\n",
    "    def __init__(self,e_name,e_address):\n",
    "        # constructor\n",
    "        self.name=e_name\n",
    "        self.address=e_address\n",
    "        return None\n",
    "    def get(self):\n",
    "        return self.name,self.address, self.__class__.COMPANY_NAME, self.__class__.COMPANY_NAME\n",
    "sai=Emp(\"sailaxmi\",\"kailas hills\")\n",
    "jay=Emp(\"JAYARAM\",\"devender nagar\")\n",
    "print(sai.get())\n",
    "print(jay.get())\n"
   ]
  },
  {
   "cell_type": "code",
   "execution_count": 33,
   "metadata": {},
   "outputs": [
    {
     "ename": "TypeError",
     "evalue": "__init__() should return None, not 'int'",
     "output_type": "error",
     "traceback": [
      "\u001b[0;31m---------------------------------------------------------------------------\u001b[0m",
      "\u001b[0;31mTypeError\u001b[0m                                 Traceback (most recent call last)",
      "\u001b[0;32m<ipython-input-33-b6b98de86c9d>\u001b[0m in \u001b[0;36m<module>\u001b[0;34m()\u001b[0m\n\u001b[1;32m      9\u001b[0m     \u001b[0;32mdef\u001b[0m \u001b[0mget\u001b[0m\u001b[0;34m(\u001b[0m\u001b[0mself\u001b[0m\u001b[0;34m)\u001b[0m\u001b[0;34m:\u001b[0m\u001b[0;34m\u001b[0m\u001b[0m\n\u001b[1;32m     10\u001b[0m         \u001b[0;32mreturn\u001b[0m \u001b[0mself\u001b[0m\u001b[0;34m.\u001b[0m\u001b[0mname\u001b[0m\u001b[0;34m,\u001b[0m\u001b[0mself\u001b[0m\u001b[0;34m.\u001b[0m\u001b[0maddress\u001b[0m\u001b[0;34m,\u001b[0m \u001b[0mself\u001b[0m\u001b[0;34m.\u001b[0m\u001b[0m__class__\u001b[0m\u001b[0;34m.\u001b[0m\u001b[0mCOMPANY_NAME\u001b[0m\u001b[0;34m,\u001b[0m \u001b[0mself\u001b[0m\u001b[0;34m.\u001b[0m\u001b[0m__class__\u001b[0m\u001b[0;34m.\u001b[0m\u001b[0mCOMPANY_NAME\u001b[0m\u001b[0;34m\u001b[0m\u001b[0m\n\u001b[0;32m---> 11\u001b[0;31m \u001b[0msai\u001b[0m\u001b[0;34m=\u001b[0m\u001b[0mEmp\u001b[0m\u001b[0;34m(\u001b[0m\u001b[0;34m\"sailaxmi\"\u001b[0m\u001b[0;34m,\u001b[0m\u001b[0;34m\"kailas hills\"\u001b[0m\u001b[0;34m)\u001b[0m\u001b[0;34m\u001b[0m\u001b[0m\n\u001b[0m\u001b[1;32m     12\u001b[0m \u001b[0mjay\u001b[0m\u001b[0;34m=\u001b[0m\u001b[0mEmp\u001b[0m\u001b[0;34m(\u001b[0m\u001b[0;34m\"JAYARAM\"\u001b[0m\u001b[0;34m,\u001b[0m\u001b[0;34m\"devender nagar\"\u001b[0m\u001b[0;34m)\u001b[0m\u001b[0;34m\u001b[0m\u001b[0m\n\u001b[1;32m     13\u001b[0m \u001b[0mprint\u001b[0m\u001b[0;34m(\u001b[0m\u001b[0msai\u001b[0m\u001b[0;34m.\u001b[0m\u001b[0mget\u001b[0m\u001b[0;34m(\u001b[0m\u001b[0;34m)\u001b[0m\u001b[0;34m)\u001b[0m\u001b[0;34m\u001b[0m\u001b[0m\n",
      "\u001b[0;31mTypeError\u001b[0m: __init__() should return None, not 'int'"
     ]
    }
   ],
   "source": [
    "class Emp:  \n",
    "    COMPANY_NAME=\"khyaathi\"\n",
    "    COMPANY_ADDRESS = \"maithrivanam\"\n",
    "    def __init__(self,e_name,e_address):\n",
    "        # constructor\n",
    "        self.name=e_name\n",
    "        self.address=e_address\n",
    "        return 0\n",
    "    def get(self):\n",
    "        return self.name,self.address, self.__class__.COMPANY_NAME, self.__class__.COMPANY_NAME\n",
    "sai=Emp(\"sailaxmi\",\"kailas hills\")\n",
    "jay=Emp(\"JAYARAM\",\"devender nagar\")\n",
    "print(sai.get())\n",
    "print(jay.get())\n"
   ]
  },
  {
   "cell_type": "code",
   "execution_count": 36,
   "metadata": {},
   "outputs": [
    {
     "name": "stdout",
     "output_type": "stream",
     "text": [
      "(72.45, 'sailaxmi', 'kailas hills', 'khyaathi', 'khyaathi')\n"
     ]
    }
   ],
   "source": [
    "class Emp:  \n",
    "    COMPANY_NAME=\"khyaathi\"\n",
    "    COMPANY_ADDRESS = \"maithrivanam\"\n",
    "    def __init__(self,e_name,e_address,weight):\n",
    "        # constructor\n",
    "        self.name=e_name\n",
    "        self.address=e_address\n",
    "        self.weight=weight\n",
    "\n",
    "    def get(self):\n",
    "        return self.weight, self.name,self.address, self.__class__.COMPANY_NAME, self.__class__.COMPANY_NAME\n",
    "sai=Emp(\"sailaxmi\",\"kailas hills\",72.45)\n",
    "print(sai.get())\n"
   ]
  },
  {
   "cell_type": "code",
   "execution_count": 37,
   "metadata": {},
   "outputs": [
    {
     "name": "stdout",
     "output_type": "stream",
     "text": [
      "(80, 'sailaxmi', 'kailas hills', 'khyaathi', 'khyaathi')\n"
     ]
    }
   ],
   "source": [
    "class Emp:  \n",
    "    COMPANY_NAME=\"khyaathi\"\n",
    "    COMPANY_ADDRESS = \"maithrivanam\"\n",
    "    def __init__(self,e_name,e_address,weight):\n",
    "        # constructor\n",
    "        self.name=e_name\n",
    "        self.address=e_address\n",
    "        self.weight=weight\n",
    "\n",
    "    def get(self):\n",
    "        return self.weight, self.name,self.address, self.__class__.COMPANY_NAME, self.__class__.COMPANY_NAME\n",
    "sai=Emp(\"sailaxmi\",\"kailas hills\",72.45)\n",
    "sai.weight=80\n",
    "print(sai.get())\n"
   ]
  },
  {
   "cell_type": "code",
   "execution_count": 38,
   "metadata": {},
   "outputs": [
    {
     "name": "stdout",
     "output_type": "stream",
     "text": [
      "(72.45, 'sailaxmi', 'kailas hills', 'khyaathi', 'khyaathi')\n"
     ]
    }
   ],
   "source": [
    "class Emp:  \n",
    "    COMPANY_NAME=\"khyaathi\"\n",
    "    COMPANY_ADDRESS = \"maithrivanam\"\n",
    "    def __init__(self,e_name,e_address,weight):\n",
    "        # constructor\n",
    "        self.name=e_name\n",
    "        self.address=e_address\n",
    "        self.__weight=weight\n",
    "\n",
    "    def get(self):\n",
    "        return self.__weight, self.name,self.address, self.__class__.COMPANY_NAME, self.__class__.COMPANY_NAME\n",
    "sai=Emp(\"sailaxmi\",\"kailas hills\",72.45)\n",
    "sai.__weight=80\n",
    "print(sai.get())\n"
   ]
  },
  {
   "cell_type": "code",
   "execution_count": 39,
   "metadata": {},
   "outputs": [
    {
     "name": "stdout",
     "output_type": "stream",
     "text": [
      "(80, 'sailaxmi', 'kailas hills', 'khyaathi', 'khyaathi')\n"
     ]
    }
   ],
   "source": [
    "class Emp:  \n",
    "    COMPANY_NAME=\"khyaathi\"\n",
    "    COMPANY_ADDRESS = \"maithrivanam\"\n",
    "    def __init__(self,e_name,e_address,weight):\n",
    "        # constructor\n",
    "        self.name=e_name\n",
    "        self.address=e_address\n",
    "        self.__weight=weight\n",
    "    def update_weight(self, new_weight):\n",
    "        # authorization code here\n",
    "        self.__weight=new_weight\n",
    "\n",
    "    def get(self):\n",
    "        return self.__weight, self.name,self.address, self.__class__.COMPANY_NAME, self.__class__.COMPANY_NAME\n",
    "sai=Emp(\"sailaxmi\",\"kailas hills\",72.45)\n",
    "sai.update_weight(80)\n",
    "print(sai.get())\n"
   ]
  },
  {
   "cell_type": "code",
   "execution_count": 40,
   "metadata": {},
   "outputs": [
    {
     "ename": "AttributeError",
     "evalue": "'Emp' object has no attribute '__update_weight'",
     "output_type": "error",
     "traceback": [
      "\u001b[0;31m---------------------------------------------------------------------------\u001b[0m",
      "\u001b[0;31mAttributeError\u001b[0m                            Traceback (most recent call last)",
      "\u001b[0;32m<ipython-input-40-7785b464d941>\u001b[0m in \u001b[0;36m<module>\u001b[0;34m()\u001b[0m\n\u001b[1;32m     14\u001b[0m         \u001b[0;32mreturn\u001b[0m \u001b[0mself\u001b[0m\u001b[0;34m.\u001b[0m\u001b[0m__weight\u001b[0m\u001b[0;34m,\u001b[0m \u001b[0mself\u001b[0m\u001b[0;34m.\u001b[0m\u001b[0mname\u001b[0m\u001b[0;34m,\u001b[0m\u001b[0mself\u001b[0m\u001b[0;34m.\u001b[0m\u001b[0maddress\u001b[0m\u001b[0;34m,\u001b[0m \u001b[0mself\u001b[0m\u001b[0;34m.\u001b[0m\u001b[0m__class__\u001b[0m\u001b[0;34m.\u001b[0m\u001b[0mCOMPANY_NAME\u001b[0m\u001b[0;34m,\u001b[0m \u001b[0mself\u001b[0m\u001b[0;34m.\u001b[0m\u001b[0m__class__\u001b[0m\u001b[0;34m.\u001b[0m\u001b[0mCOMPANY_NAME\u001b[0m\u001b[0;34m\u001b[0m\u001b[0m\n\u001b[1;32m     15\u001b[0m \u001b[0msai\u001b[0m\u001b[0;34m=\u001b[0m\u001b[0mEmp\u001b[0m\u001b[0;34m(\u001b[0m\u001b[0;34m\"sailaxmi\"\u001b[0m\u001b[0;34m,\u001b[0m\u001b[0;34m\"kailas hills\"\u001b[0m\u001b[0;34m,\u001b[0m\u001b[0;36m72.45\u001b[0m\u001b[0;34m)\u001b[0m\u001b[0;34m\u001b[0m\u001b[0m\n\u001b[0;32m---> 16\u001b[0;31m \u001b[0msai\u001b[0m\u001b[0;34m.\u001b[0m\u001b[0m__update_weight\u001b[0m\u001b[0;34m(\u001b[0m\u001b[0;36m80\u001b[0m\u001b[0;34m)\u001b[0m\u001b[0;34m\u001b[0m\u001b[0m\n\u001b[0m\u001b[1;32m     17\u001b[0m \u001b[0mprint\u001b[0m\u001b[0;34m(\u001b[0m\u001b[0msai\u001b[0m\u001b[0;34m.\u001b[0m\u001b[0mget\u001b[0m\u001b[0;34m(\u001b[0m\u001b[0;34m)\u001b[0m\u001b[0;34m)\u001b[0m\u001b[0;34m\u001b[0m\u001b[0m\n",
      "\u001b[0;31mAttributeError\u001b[0m: 'Emp' object has no attribute '__update_weight'"
     ]
    }
   ],
   "source": [
    "class Emp:  \n",
    "    COMPANY_NAME=\"khyaathi\"\n",
    "    COMPANY_ADDRESS = \"maithrivanam\"\n",
    "    def __init__(self,e_name,e_address,weight):\n",
    "        # constructor\n",
    "        self.name=e_name\n",
    "        self.address=e_address\n",
    "        self.__weight=weight\n",
    "    def __update_weight(self, new_weight):\n",
    "        # authorization code here\n",
    "        self.__weight=new_weight\n",
    "\n",
    "    def get(self):\n",
    "        return self.__weight, self.name,self.address, self.__class__.COMPANY_NAME, self.__class__.COMPANY_NAME\n",
    "sai=Emp(\"sailaxmi\",\"kailas hills\",72.45)\n",
    "sai.__update_weight(80)\n",
    "print(sai.get())\n"
   ]
  },
  {
   "cell_type": "code",
   "execution_count": 41,
   "metadata": {},
   "outputs": [
    {
     "name": "stdout",
     "output_type": "stream",
     "text": [
      "(80, 'sailaxmi', 'kailas hills', 'khyaathi', 'khyaathi')\n"
     ]
    }
   ],
   "source": [
    "# encapsulation\n",
    "class Emp:  \n",
    "    COMPANY_NAME=\"khyaathi\"\n",
    "    COMPANY_ADDRESS = \"maithrivanam\"\n",
    "    def __init__(self,e_name,e_address,weight):\n",
    "        # constructor\n",
    "        self.name=e_name\n",
    "        self.address=e_address\n",
    "        self.__weight=weight\n",
    "    def weight_change(self, new_weight):\n",
    "        # authorization code here\n",
    "        \n",
    "        self.__update_weight(new_weight)\n",
    "    def __update_weight(self, new_weight):\n",
    "    \n",
    "        self.__weight=new_weight\n",
    "\n",
    "    def get(self):\n",
    "        return self.__weight, self.name,self.address, self.__class__.COMPANY_NAME, self.__class__.COMPANY_NAME\n",
    "sai=Emp(\"sailaxmi\",\"kailas hills\",72.45)\n",
    "sai.weight_change(80)\n",
    "print(sai.get())\n"
   ]
  },
  {
   "cell_type": "code",
   "execution_count": 44,
   "metadata": {},
   "outputs": [
    {
     "name": "stdout",
     "output_type": "stream",
     "text": [
      "(None, None, 'sailaxmi', 'kailas hills', 'khyaathi', 'khyaathi')\n",
      "('12432423', None, 'jayaram', 'kailas hills', 'khyaathi', 'khyaathi')\n"
     ]
    }
   ],
   "source": [
    "#method overloading\n",
    "class Emp:  \n",
    "    COMPANY_NAME=\"khyaathi\"\n",
    "    COMPANY_ADDRESS = \"maithrivanam\"\n",
    "    def __init__(self,e_name,e_address,adhar=None, passport=None):\n",
    "        # constructor\n",
    "        self.name=e_name\n",
    "        self.address=e_address\n",
    "        self.adhar =adhar\n",
    "        self.passport = passport\n",
    "    def get(self):\n",
    "        return self.adhar, self.passport,self.name,self.address,\\\n",
    "            self.__class__.COMPANY_NAME, self.__class__.COMPANY_NAME\n",
    "sai=Emp(\"sailaxmi\",\"kailas hills\")\n",
    "jay=Emp(\"jayaram\",\"kailas hills\",\"12432423\")\n",
    "print(sai.get())\n",
    "print(jay.get())"
   ]
  },
  {
   "cell_type": "code",
   "execution_count": null,
   "metadata": {},
   "outputs": [],
   "source": [
    "def fun1(a,b):\n",
    "    print(a,b)\n",
    "def fun1(a,b,c):\n",
    "    print(a,b,c)\n",
    "fun1(10,20)"
   ]
  },
  {
   "cell_type": "code",
   "execution_count": 47,
   "metadata": {},
   "outputs": [
    {
     "name": "stdout",
     "output_type": "stream",
     "text": [
      "invalid data\n",
      "(72.45, 'sailaxmi', 'kailas hills', 'khyaathi', 'khyaathi')\n"
     ]
    }
   ],
   "source": [
    "# encapsulation\n",
    "class Emp:  \n",
    "    COMPANY_NAME=\"khyaathi\"\n",
    "    COMPANY_ADDRESS = \"maithrivanam\"\n",
    "    def __init__(self,e_name,e_address,weight):\n",
    "        # constructor\n",
    "        self.name=e_name\n",
    "        self.address=e_address\n",
    "        self.__weight=weight\n",
    "    def weight_change(self, new_weight):\n",
    "        # authorization code here\n",
    "        if not isinstance(new_weight,int):\n",
    "            return \"invalid data\"\n",
    "        self.__update_weight(new_weight)\n",
    "    def __update_weight(self, new_weight):\n",
    "    \n",
    "        self.__weight=new_weight\n",
    "\n",
    "    def get(self):\n",
    "        return self.__weight, self.name,self.address, self.__class__.COMPANY_NAME, self.__class__.COMPANY_NAME\n",
    "sai=Emp(\"sailaxmi\",\"kailas hills\",72.45)\n",
    "print(sai.weight_change(\"80\"))\n",
    "print(sai.get())\n"
   ]
  },
  {
   "cell_type": "code",
   "execution_count": 49,
   "metadata": {},
   "outputs": [
    {
     "name": "stdout",
     "output_type": "stream",
     "text": [
      "No permission\n",
      "(72.45, 'sailaxmi', 'kailas hills', 'khyaathi', 'khyaathi')\n"
     ]
    }
   ],
   "source": [
    "# encapsulation\n",
    "class Emp:  \n",
    "    COMPANY_NAME=\"khyaathi\"\n",
    "    COMPANY_ADDRESS = \"maithrivanam\"\n",
    "    def __init__(self,e_name,e_address,weight,role):\n",
    "        # constructor\n",
    "        self.name=e_name\n",
    "        self.address=e_address\n",
    "        self.__weight=weight\n",
    "        self.role=role\n",
    "    def weight_change(self, new_weight):\n",
    "        if not isinstance(new_weight,int):\n",
    "            return \"invalid data\"\n",
    "        if self.role == \"HRM\":\n",
    "            self.__update_weight(new_weight)\n",
    "        else:\n",
    "            return \"No permission\"\n",
    "    def __update_weight(self, new_weight):\n",
    "    \n",
    "        self.__weight=new_weight\n",
    "\n",
    "    def get(self):\n",
    "        return self.__weight, self.name,self.address, self.__class__.COMPANY_NAME, self.__class__.COMPANY_NAME\n",
    "sai=Emp(\"sailaxmi\",\"kailas hills\",72.45,\"employee\")\n",
    "jay=Emp(\"sailaxmi\",\"kailas hills\",72.45,\"HRM\")\n",
    "print(sai.weight_change(80))\n",
    "print(sai.get())\n"
   ]
  },
  {
   "cell_type": "code",
   "execution_count": 51,
   "metadata": {},
   "outputs": [
    {
     "name": "stdout",
     "output_type": "stream",
     "text": [
      "None\n",
      "(80, 'sailaxmi', 'kailas hills', 'khyaathi', 'khyaathi')\n"
     ]
    }
   ],
   "source": [
    "# encapsulation\n",
    "class Emp:  \n",
    "    COMPANY_NAME=\"khyaathi\"\n",
    "    COMPANY_ADDRESS = \"maithrivanam\"\n",
    "    def __init__(self,e_name,e_address,weight,role):\n",
    "        # constructor\n",
    "        self.name=e_name\n",
    "        self.address=e_address\n",
    "        self.__weight=weight\n",
    "        self.role=role\n",
    "    def weight_change(self, new_weight):\n",
    "        if not isinstance(new_weight,int):\n",
    "            return \"invalid data\"\n",
    "        if self.role == \"HRM\":\n",
    "            self.__update_weight(new_weight)\n",
    "        else:\n",
    "            return \"No permission\"\n",
    "    def __update_weight(self, new_weight):\n",
    "    \n",
    "        self.__weight=new_weight\n",
    "\n",
    "    def get(self):\n",
    "        return self.__weight, self.name,self.address, self.__class__.COMPANY_NAME, self.__class__.COMPANY_NAME\n",
    "sai=Emp(\"sailaxmi\",\"kailas hills\",72.45,\"employee\")\n",
    "jay=Emp(\"sailaxmi\",\"kailas hills\",72.45,\"HRM\")\n",
    "print(jay.weight_change(80))\n",
    "print(jay.get())\n"
   ]
  },
  {
   "cell_type": "code",
   "execution_count": null,
   "metadata": {},
   "outputs": [],
   "source": []
  }
 ],
 "metadata": {
  "kernelspec": {
   "display_name": "Python 3",
   "language": "python",
   "name": "python3"
  },
  "language_info": {
   "codemirror_mode": {
    "name": "ipython",
    "version": 3
   },
   "file_extension": ".py",
   "mimetype": "text/x-python",
   "name": "python",
   "nbconvert_exporter": "python",
   "pygments_lexer": "ipython3",
   "version": "3.7.0"
  }
 },
 "nbformat": 4,
 "nbformat_minor": 2
}
