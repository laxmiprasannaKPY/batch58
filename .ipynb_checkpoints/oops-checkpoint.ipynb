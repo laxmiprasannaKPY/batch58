{
 "cells": [
  {
   "cell_type": "code",
   "execution_count": 1,
   "metadata": {},
   "outputs": [],
   "source": [
    "l=[1,2,3]"
   ]
  },
  {
   "cell_type": "code",
   "execution_count": 2,
   "metadata": {},
   "outputs": [
    {
     "name": "stdout",
     "output_type": "stream",
     "text": [
      "this is class\n"
     ]
    }
   ],
   "source": [
    "def fun():\n",
    "    print(\"this is fun\")\n",
    "class EmpClass:\n",
    "    print(\"this is class\")"
   ]
  },
  {
   "cell_type": "code",
   "execution_count": 4,
   "metadata": {},
   "outputs": [
    {
     "name": "stdout",
     "output_type": "stream",
     "text": [
      "khyaathi\n",
      "maithrivanam\n"
     ]
    }
   ],
   "source": [
    "class Emp:\n",
    "    COMPANY_NAME=\"khyaathi\"\n",
    "    COMPANY_ADDRESS = \"maithrivanam\"\n",
    "    print(COMPANY_NAME)\n",
    "    print(COMPANY_ADDRESS)"
   ]
  },
  {
   "cell_type": "code",
   "execution_count": 5,
   "metadata": {},
   "outputs": [
    {
     "ename": "NameError",
     "evalue": "name 'COMPANY_NAME' is not defined",
     "output_type": "error",
     "traceback": [
      "\u001b[0;31m---------------------------------------------------------------------------\u001b[0m",
      "\u001b[0;31mNameError\u001b[0m                                 Traceback (most recent call last)",
      "\u001b[0;32m<ipython-input-5-f29c063dc54d>\u001b[0m in \u001b[0;36m<module>\u001b[0;34m()\u001b[0m\n\u001b[1;32m      5\u001b[0m         \u001b[0mprint\u001b[0m\u001b[0;34m(\u001b[0m\u001b[0;34m\"this is fun\"\u001b[0m\u001b[0;34m)\u001b[0m\u001b[0;34m\u001b[0m\u001b[0m\n\u001b[1;32m      6\u001b[0m \u001b[0;34m\u001b[0m\u001b[0m\n\u001b[0;32m----> 7\u001b[0;31m \u001b[0mprint\u001b[0m\u001b[0;34m(\u001b[0m\u001b[0mCOMPANY_NAME\u001b[0m\u001b[0;34m)\u001b[0m\u001b[0;34m\u001b[0m\u001b[0m\n\u001b[0m\u001b[1;32m      8\u001b[0m \u001b[0mprint\u001b[0m\u001b[0;34m(\u001b[0m\u001b[0mCOMPANY_ADDRESS\u001b[0m\u001b[0;34m)\u001b[0m\u001b[0;34m\u001b[0m\u001b[0m\n",
      "\u001b[0;31mNameError\u001b[0m: name 'COMPANY_NAME' is not defined"
     ]
    }
   ],
   "source": [
    "class Emp:\n",
    "    COMPANY_NAME=\"khyaathi\"\n",
    "    COMPANY_ADDRESS = \"maithrivanam\"\n",
    "    def fun(x):\n",
    "        print(\"this is fun\")\n",
    "    \n",
    "print(COMPANY_NAME)\n",
    "print(COMPANY_ADDRESS)"
   ]
  },
  {
   "cell_type": "code",
   "execution_count": 6,
   "metadata": {},
   "outputs": [
    {
     "name": "stdout",
     "output_type": "stream",
     "text": [
      "khyaathi\n",
      "maithrivanam\n"
     ]
    }
   ],
   "source": [
    "class Emp:\n",
    "    COMPANY_NAME=\"khyaathi\"\n",
    "    COMPANY_ADDRESS = \"maithrivanam\"\n",
    "    def fun(x):\n",
    "        print(\"this is fun\")\n",
    "    \n",
    "print(Emp.COMPANY_NAME)\n",
    "print(Emp.COMPANY_ADDRESS)"
   ]
  },
  {
   "cell_type": "code",
   "execution_count": 7,
   "metadata": {},
   "outputs": [],
   "source": [
    "class emp:\n",
    "    pass"
   ]
  },
  {
   "cell_type": "code",
   "execution_count": 8,
   "metadata": {},
   "outputs": [],
   "source": [
    "class EMP:\n",
    "    pass"
   ]
  },
  {
   "cell_type": "code",
   "execution_count": 9,
   "metadata": {},
   "outputs": [
    {
     "name": "stdout",
     "output_type": "stream",
     "text": [
      "sailaxmi\n",
      "jayaram\n"
     ]
    },
    {
     "ename": "AttributeError",
     "evalue": "'Emp' object has no attribute 'passport'",
     "output_type": "error",
     "traceback": [
      "\u001b[0;31m---------------------------------------------------------------------------\u001b[0m",
      "\u001b[0;31mAttributeError\u001b[0m                            Traceback (most recent call last)",
      "\u001b[0;32m<ipython-input-9-465972f9587f>\u001b[0m in \u001b[0;36m<module>\u001b[0;34m()\u001b[0m\n\u001b[1;32m     15\u001b[0m \u001b[0mprint\u001b[0m\u001b[0;34m(\u001b[0m\u001b[0msai\u001b[0m\u001b[0;34m.\u001b[0m\u001b[0mname\u001b[0m\u001b[0;34m)\u001b[0m\u001b[0;34m\u001b[0m\u001b[0m\n\u001b[1;32m     16\u001b[0m \u001b[0mprint\u001b[0m\u001b[0;34m(\u001b[0m\u001b[0mjay\u001b[0m\u001b[0;34m.\u001b[0m\u001b[0mname\u001b[0m\u001b[0;34m)\u001b[0m\u001b[0;34m\u001b[0m\u001b[0m\n\u001b[0;32m---> 17\u001b[0;31m \u001b[0mprint\u001b[0m\u001b[0;34m(\u001b[0m\u001b[0msai\u001b[0m\u001b[0;34m.\u001b[0m\u001b[0mpassport\u001b[0m\u001b[0;34m)\u001b[0m\u001b[0;34m\u001b[0m\u001b[0m\n\u001b[0m",
      "\u001b[0;31mAttributeError\u001b[0m: 'Emp' object has no attribute 'passport'"
     ]
    }
   ],
   "source": [
    "class Emp:\n",
    "    COMPANY_NAME=\"khyaathi\"\n",
    "    COMPANY_ADDRESS = \"maithrivanam\"\n",
    "    def fun(x):\n",
    "        print(\"this is fun\")\n",
    "    \n",
    "sai=Emp()\n",
    "sai.name=\"sailaxmi\"\n",
    "sai.empid=6973\n",
    "jay=Emp()\n",
    "jay.name=\"jayaram\"\n",
    "jay.empid=6974\n",
    "jay.adhar=234556\n",
    "jay.passport=345678a\n",
    "print(sai.name)\n",
    "print(jay.name)\n",
    "print(sai.passport)"
   ]
  },
  {
   "cell_type": "code",
   "execution_count": 11,
   "metadata": {},
   "outputs": [
    {
     "name": "stdout",
     "output_type": "stream",
     "text": [
      "khyaathi\n",
      "maithrivanam\n"
     ]
    }
   ],
   "source": [
    "class Emp:  # EMP is class object\n",
    "    COMPANY_NAME=\"khyaathi\"\n",
    "    COMPANY_ADDRESS = \"maithrivanam\"\n",
    "    def fun(x):\n",
    "        print(\"this is fun\")\n",
    "    \n",
    "sai=Emp() #EMP() is a data object. sai is a reference of data object, called as instance.\n",
    "sai.name=\"sailaxmi\"\n",
    "sai.empid=6973\n",
    "jay=Emp()\n",
    "jay.name=\"jayaram\"\n",
    "jay.empid=6974\n",
    "jay.adhar=234556\n",
    "jay.passport=345678\n",
    "print(sai.COMPANY_NAME)\n",
    "print(jay.COMPANY_ADDRESS)"
   ]
  },
  {
   "cell_type": "code",
   "execution_count": 12,
   "metadata": {},
   "outputs": [
    {
     "ename": "AttributeError",
     "evalue": "type object 'Emp' has no attribute 'adhar'",
     "output_type": "error",
     "traceback": [
      "\u001b[0;31m---------------------------------------------------------------------------\u001b[0m",
      "\u001b[0;31mAttributeError\u001b[0m                            Traceback (most recent call last)",
      "\u001b[0;32m<ipython-input-12-8cf8d0c45629>\u001b[0m in \u001b[0;36m<module>\u001b[0;34m()\u001b[0m\n\u001b[1;32m     13\u001b[0m \u001b[0mjay\u001b[0m\u001b[0;34m.\u001b[0m\u001b[0madhar\u001b[0m\u001b[0;34m=\u001b[0m\u001b[0;36m234556\u001b[0m\u001b[0;34m\u001b[0m\u001b[0m\n\u001b[1;32m     14\u001b[0m \u001b[0mjay\u001b[0m\u001b[0;34m.\u001b[0m\u001b[0mpassport\u001b[0m\u001b[0;34m=\u001b[0m\u001b[0;36m345678\u001b[0m\u001b[0;34m\u001b[0m\u001b[0m\n\u001b[0;32m---> 15\u001b[0;31m \u001b[0mprint\u001b[0m\u001b[0;34m(\u001b[0m\u001b[0mEmp\u001b[0m\u001b[0;34m.\u001b[0m\u001b[0madhar\u001b[0m\u001b[0;34m)\u001b[0m\u001b[0;34m\u001b[0m\u001b[0m\n\u001b[0m",
      "\u001b[0;31mAttributeError\u001b[0m: type object 'Emp' has no attribute 'adhar'"
     ]
    }
   ],
   "source": [
    "class Emp:  # EMP is class object\n",
    "    COMPANY_NAME=\"khyaathi\"\n",
    "    COMPANY_ADDRESS = \"maithrivanam\"\n",
    "    def fun(x):\n",
    "        print(\"this is fun\")\n",
    "    \n",
    "sai=Emp() #EMP() is a data object. sai is a reference of data object, called as instance.\n",
    "sai.name=\"sailaxmi\"\n",
    "sai.empid=6973\n",
    "jay=Emp()\n",
    "jay.name=\"jayaram\"\n",
    "jay.empid=6974\n",
    "jay.adhar=234556\n",
    "jay.passport=345678\n",
    "print(Emp.adhar)"
   ]
  },
  {
   "cell_type": "code",
   "execution_count": 13,
   "metadata": {},
   "outputs": [
    {
     "name": "stdout",
     "output_type": "stream",
     "text": [
      "maithrivanam\n",
      "this is fun\n"
     ]
    }
   ],
   "source": [
    "class Emp:  # EMP is class object\n",
    "    COMPANY_NAME=\"khyaathi\"\n",
    "    COMPANY_ADDRESS = \"maithrivanam\"\n",
    "    def fun(x):\n",
    "        print(\"this is fun\")\n",
    "    \n",
    "sai=Emp() #EMP() is a data object. sai is a reference of data object, called as instance.\n",
    "sai.name=\"sailaxmi\"\n",
    "sai.empid=6973\n",
    "jay=Emp()\n",
    "jay.name=\"jayaram\"\n",
    "jay.empid=6974\n",
    "jay.adhar=234556\n",
    "jay.passport=345678\n",
    "print(Emp.COMPANY_ADDRESS)\n",
    "Emp.fun(10)"
   ]
  },
  {
   "cell_type": "code",
   "execution_count": 14,
   "metadata": {},
   "outputs": [
    {
     "name": "stdout",
     "output_type": "stream",
     "text": [
      "maithrivanam\n",
      "this is fun\n",
      "this is fun\n"
     ]
    }
   ],
   "source": [
    "class Emp:  # EMP is class object\n",
    "    COMPANY_NAME=\"khyaathi\"\n",
    "    COMPANY_ADDRESS = \"maithrivanam\"\n",
    "    def fun(x):\n",
    "        print(\"this is fun\")\n",
    "    \n",
    "sai=Emp() #EMP() is a data object. sai is a reference of data object, called as instance.\n",
    "sai.name=\"sailaxmi\"\n",
    "sai.empid=6973\n",
    "jay=Emp()\n",
    "jay.name=\"jayaram\"\n",
    "jay.empid=6974\n",
    "jay.adhar=234556\n",
    "jay.passport=345678\n",
    "print(Emp.COMPANY_ADDRESS)\n",
    "#Emp.fun(10)\n",
    "sai.fun()\n",
    "jay.fun()"
   ]
  },
  {
   "cell_type": "code",
   "execution_count": 15,
   "metadata": {},
   "outputs": [
    {
     "ename": "TypeError",
     "evalue": "fun() missing 1 required positional argument: 'x'",
     "output_type": "error",
     "traceback": [
      "\u001b[0;31m---------------------------------------------------------------------------\u001b[0m",
      "\u001b[0;31mTypeError\u001b[0m                                 Traceback (most recent call last)",
      "\u001b[0;32m<ipython-input-15-9140949fe6c3>\u001b[0m in \u001b[0;36m<module>\u001b[0;34m()\u001b[0m\n\u001b[1;32m      1\u001b[0m \u001b[0;32mdef\u001b[0m \u001b[0mfun\u001b[0m\u001b[0;34m(\u001b[0m\u001b[0mx\u001b[0m\u001b[0;34m)\u001b[0m\u001b[0;34m:\u001b[0m\u001b[0;34m\u001b[0m\u001b[0m\n\u001b[1;32m      2\u001b[0m     \u001b[0mprint\u001b[0m\u001b[0;34m(\u001b[0m\u001b[0;34m\"this is fun\"\u001b[0m\u001b[0;34m)\u001b[0m\u001b[0;34m\u001b[0m\u001b[0m\n\u001b[0;32m----> 3\u001b[0;31m \u001b[0mfun\u001b[0m\u001b[0;34m(\u001b[0m\u001b[0;34m)\u001b[0m\u001b[0;34m\u001b[0m\u001b[0m\n\u001b[0m",
      "\u001b[0;31mTypeError\u001b[0m: fun() missing 1 required positional argument: 'x'"
     ]
    }
   ],
   "source": [
    "def fun(x):\n",
    "    print(\"this is fun\")\n",
    "fun()"
   ]
  },
  {
   "cell_type": "code",
   "execution_count": 16,
   "metadata": {},
   "outputs": [
    {
     "name": "stdout",
     "output_type": "stream",
     "text": [
      "this is fun\n"
     ]
    }
   ],
   "source": [
    "def fun(x=10):\n",
    "    print(\"this is fun\")\n",
    "fun()"
   ]
  },
  {
   "cell_type": "code",
   "execution_count": null,
   "metadata": {},
   "outputs": [],
   "source": [
    "class Emp:  \n",
    "    COMPANY_NAME=\"khyaathi\"\n",
    "    COMPANY_ADDRESS = \"maithrivanam\"\n",
    "    def fun(x):\n",
    "        print(\"this is fun\")\n",
    "    \n",
    "sai=Emp() #\n",
    "#Emp.fun(10)\n",
    "sai.fun()\n",
    "jay.fun()"
   ]
  },
  {
   "cell_type": "code",
   "execution_count": 18,
   "metadata": {},
   "outputs": [],
   "source": [
    "a=int(10)"
   ]
  },
  {
   "cell_type": "markdown",
   "metadata": {},
   "source": [
    "# "
   ]
  },
  {
   "cell_type": "code",
   "execution_count": 19,
   "metadata": {},
   "outputs": [],
   "source": [
    "a=10"
   ]
  },
  {
   "cell_type": "code",
   "execution_count": 20,
   "metadata": {},
   "outputs": [
    {
     "name": "stdout",
     "output_type": "stream",
     "text": [
      "this is fun: 10\n"
     ]
    }
   ],
   "source": [
    "class Emp:  \n",
    "    COMPANY_NAME=\"khyaathi\"\n",
    "    COMPANY_ADDRESS = \"maithrivanam\"\n",
    "    def fun(x):\n",
    "        print(\"this is fun:\",x)\n",
    "    \n",
    "sai=Emp()\n",
    "Emp.fun(10)\n"
   ]
  },
  {
   "cell_type": "code",
   "execution_count": 21,
   "metadata": {},
   "outputs": [
    {
     "ename": "AttributeError",
     "evalue": "'int' object has no attribute 'name'",
     "output_type": "error",
     "traceback": [
      "\u001b[0;31m---------------------------------------------------------------------------\u001b[0m",
      "\u001b[0;31mAttributeError\u001b[0m                            Traceback (most recent call last)",
      "\u001b[0;32m<ipython-input-21-17b6d7ff0f8e>\u001b[0m in \u001b[0;36m<module>\u001b[0;34m()\u001b[0m\n\u001b[1;32m      7\u001b[0m \u001b[0msai\u001b[0m\u001b[0;34m=\u001b[0m\u001b[0mEmp\u001b[0m\u001b[0;34m(\u001b[0m\u001b[0;34m)\u001b[0m\u001b[0;34m\u001b[0m\u001b[0m\n\u001b[1;32m      8\u001b[0m \u001b[0msai\u001b[0m\u001b[0;34m.\u001b[0m\u001b[0mname\u001b[0m\u001b[0;34m=\u001b[0m\u001b[0;34m\"sailaxmi\"\u001b[0m\u001b[0;34m\u001b[0m\u001b[0m\n\u001b[0;32m----> 9\u001b[0;31m \u001b[0mEmp\u001b[0m\u001b[0;34m.\u001b[0m\u001b[0mget_name\u001b[0m\u001b[0;34m(\u001b[0m\u001b[0;36m10\u001b[0m\u001b[0;34m)\u001b[0m\u001b[0;34m\u001b[0m\u001b[0m\n\u001b[0m",
      "\u001b[0;32m<ipython-input-21-17b6d7ff0f8e>\u001b[0m in \u001b[0;36mget_name\u001b[0;34m(x)\u001b[0m\n\u001b[1;32m      3\u001b[0m     \u001b[0mCOMPANY_ADDRESS\u001b[0m \u001b[0;34m=\u001b[0m \u001b[0;34m\"maithrivanam\"\u001b[0m\u001b[0;34m\u001b[0m\u001b[0m\n\u001b[1;32m      4\u001b[0m     \u001b[0;32mdef\u001b[0m \u001b[0mget_name\u001b[0m\u001b[0;34m(\u001b[0m\u001b[0mx\u001b[0m\u001b[0;34m)\u001b[0m\u001b[0;34m:\u001b[0m\u001b[0;34m\u001b[0m\u001b[0m\n\u001b[0;32m----> 5\u001b[0;31m         \u001b[0;32mreturn\u001b[0m \u001b[0mx\u001b[0m\u001b[0;34m.\u001b[0m\u001b[0mname\u001b[0m\u001b[0;34m\u001b[0m\u001b[0m\n\u001b[0m\u001b[1;32m      6\u001b[0m \u001b[0;34m\u001b[0m\u001b[0m\n\u001b[1;32m      7\u001b[0m \u001b[0msai\u001b[0m\u001b[0;34m=\u001b[0m\u001b[0mEmp\u001b[0m\u001b[0;34m(\u001b[0m\u001b[0;34m)\u001b[0m\u001b[0;34m\u001b[0m\u001b[0m\n",
      "\u001b[0;31mAttributeError\u001b[0m: 'int' object has no attribute 'name'"
     ]
    }
   ],
   "source": [
    "class Emp:  \n",
    "    COMPANY_NAME=\"khyaathi\"\n",
    "    COMPANY_ADDRESS = \"maithrivanam\"\n",
    "    def get_name(x):\n",
    "        return x.name\n",
    "    \n",
    "sai=Emp()\n",
    "sai.name=\"sailaxmi\"\n",
    "Emp.get_name(10)"
   ]
  },
  {
   "cell_type": "code",
   "execution_count": 22,
   "metadata": {},
   "outputs": [
    {
     "data": {
      "text/plain": [
       "'sailaxmi'"
      ]
     },
     "execution_count": 22,
     "metadata": {},
     "output_type": "execute_result"
    }
   ],
   "source": [
    "class Emp:  \n",
    "    COMPANY_NAME=\"khyaathi\"\n",
    "    COMPANY_ADDRESS = \"maithrivanam\"\n",
    "    def get_name(x):\n",
    "        return x.name\n",
    "    \n",
    "sai=Emp()\n",
    "sai.name=\"sailaxmi\"\n",
    "sai.address=\"devender nagar\"\n",
    "Emp.get_name(sai)"
   ]
  },
  {
   "cell_type": "code",
   "execution_count": 23,
   "metadata": {},
   "outputs": [
    {
     "data": {
      "text/plain": [
       "'sailaxmi'"
      ]
     },
     "execution_count": 23,
     "metadata": {},
     "output_type": "execute_result"
    }
   ],
   "source": [
    "class Emp:  \n",
    "    COMPANY_NAME=\"khyaathi\"\n",
    "    COMPANY_ADDRESS = \"maithrivanam\"\n",
    "    def get_name(x):\n",
    "        return x.name\n",
    "    \n",
    "sai=Emp()\n",
    "sai.name=\"sailaxmi\"\n",
    "sai.address=\"devender nagar\"\n",
    "#Emp.get_name(sai)\n",
    "sai.get_name()"
   ]
  },
  {
   "cell_type": "code",
   "execution_count": 24,
   "metadata": {},
   "outputs": [
    {
     "data": {
      "text/plain": [
       "'SAIlaxmi'"
      ]
     },
     "execution_count": 24,
     "metadata": {},
     "output_type": "execute_result"
    }
   ],
   "source": [
    "class Emp:  \n",
    "    COMPANY_NAME=\"khyaathi\"\n",
    "    COMPANY_ADDRESS = \"maithrivanam\"\n",
    "    def get_name(x):\n",
    "        return x.name\n",
    "    def update_name(x,new_name):\n",
    "        x.name=new_name\n",
    "    \n",
    "sai=Emp()\n",
    "sai.name=\"sailaxmi\"\n",
    "sai.address=\"devender nagar\"\n",
    "#Emp.get_name(sai)\n",
    "#Emp.update_name(sai,\"SAIlaxmi\")\n",
    "sai.update_name(\"SAIlaxmi\")\n",
    "sai.get_name()"
   ]
  },
  {
   "cell_type": "code",
   "execution_count": null,
   "metadata": {},
   "outputs": [],
   "source": [
    "class Emp:  \n",
    "    COMPANY_NAME=\"khyaathi\"\n",
    "    COMPANY_ADDRESS = \"maithrivanam\"\n",
    "    def get_name(self):\n",
    "        return self.name\n",
    "    def update_name(self,new_name):\n",
    "        self.name=new_name\n",
    "    \n",
    "sai=Emp()\n",
    "sai.name=\"sailaxmi\"\n",
    "sai.address=\"devender nagar\"\n",
    "#Emp.get_name(sai)\n",
    "#Emp.update_name(sai,\"SAIlaxmi\")\n",
    "sai.update_name(\"SAIlaxmi\")\n",
    "sai.get_name()\n",
    "\n",
    "# Product class name, costprice, profit as a data object attributes, discount as a class object attribute. write a method to \n",
    "# calculate sales price by considring the discount and profit\n",
    "# ware house"
   ]
  },
  {
   "cell_type": "code",
   "execution_count": 1,
   "metadata": {},
   "outputs": [
    {
     "data": {
      "text/plain": [
       "'SAIlaxmi'"
      ]
     },
     "execution_count": 1,
     "metadata": {},
     "output_type": "execute_result"
    }
   ],
   "source": [
    "class Emp:  \n",
    "    COMPANY_NAME=\"khyaathi\"\n",
    "    COMPANY_ADDRESS = \"maithrivanam\"\n",
    "    def get_name(self):\n",
    "        return self.name\n",
    "    def update_name(self,new_name):\n",
    "        self.name=new_name\n",
    "    \n",
    "sai=Emp()\n",
    "sai.name=\"sailaxmi\"\n",
    "sai.address=\"devender nagar\"\n",
    "Emp.update_name(sai,\"SAILAXMI\")\n",
    "sai.update_name(\"SAIlaxmi\")\n",
    "sai.get_name()"
   ]
  },
  {
   "cell_type": "code",
   "execution_count": 2,
   "metadata": {},
   "outputs": [
    {
     "name": "stdout",
     "output_type": "stream",
     "text": [
      "{'name': 'sailaxmi', 'address': 'devender nagar'}\n"
     ]
    }
   ],
   "source": [
    "class Emp:  \n",
    "    COMPANY_NAME=\"khyaathi\"\n",
    "    COMPANY_ADDRESS = \"maithrivanam\"\n",
    "    def get(self):\n",
    "        return self.__dict__\n",
    "    \n",
    "    \n",
    "    \n",
    "sai=Emp()\n",
    "sai.name=\"sailaxmi\"\n",
    "sai.address=\"devender nagar\"\n",
    "print(sai.get())"
   ]
  },
  {
   "cell_type": "code",
   "execution_count": 3,
   "metadata": {},
   "outputs": [
    {
     "name": "stdout",
     "output_type": "stream",
     "text": [
      "{'name': 'sailaxmi', 'address': 'devender nagar'}\n",
      "{'name': 'JAYARAM', 'address': 'anjaneyanagar'}\n"
     ]
    }
   ],
   "source": [
    "class Emp:  \n",
    "    COMPANY_NAME=\"khyaathi\"\n",
    "    COMPANY_ADDRESS = \"maithrivanam\"\n",
    "    def get(self):\n",
    "        return self.__dict__\n",
    "    \n",
    "    \n",
    "    \n",
    "sai=Emp()\n",
    "sai.name=\"sailaxmi\"\n",
    "sai.address=\"devender nagar\"\n",
    "jay=Emp()\n",
    "jay.name=\"JAYARAM\"\n",
    "jay.address=\"anjaneyanagar\"\n",
    "print(sai.get())\n",
    "print(jay.get())"
   ]
  },
  {
   "cell_type": "code",
   "execution_count": 4,
   "metadata": {},
   "outputs": [
    {
     "ename": "TypeError",
     "evalue": "get() takes 0 positional arguments but 1 was given",
     "output_type": "error",
     "traceback": [
      "\u001b[0;31m---------------------------------------------------------------------------\u001b[0m",
      "\u001b[0;31mTypeError\u001b[0m                                 Traceback (most recent call last)",
      "\u001b[0;32m<ipython-input-4-5e73b709e6d8>\u001b[0m in \u001b[0;36m<module>\u001b[0;34m()\u001b[0m\n\u001b[1;32m     13\u001b[0m \u001b[0mjay\u001b[0m\u001b[0;34m.\u001b[0m\u001b[0mname\u001b[0m\u001b[0;34m=\u001b[0m\u001b[0;34m\"JAYARAM\"\u001b[0m\u001b[0;34m\u001b[0m\u001b[0m\n\u001b[1;32m     14\u001b[0m \u001b[0mjay\u001b[0m\u001b[0;34m.\u001b[0m\u001b[0maddress\u001b[0m\u001b[0;34m=\u001b[0m\u001b[0;34m\"anjaneyanagar\"\u001b[0m\u001b[0;34m\u001b[0m\u001b[0m\n\u001b[0;32m---> 15\u001b[0;31m \u001b[0mprint\u001b[0m\u001b[0;34m(\u001b[0m\u001b[0msai\u001b[0m\u001b[0;34m.\u001b[0m\u001b[0mget\u001b[0m\u001b[0;34m(\u001b[0m\u001b[0;34m)\u001b[0m\u001b[0;34m)\u001b[0m\u001b[0;34m\u001b[0m\u001b[0m\n\u001b[0m\u001b[1;32m     16\u001b[0m \u001b[0mprint\u001b[0m\u001b[0;34m(\u001b[0m\u001b[0mjay\u001b[0m\u001b[0;34m.\u001b[0m\u001b[0mget\u001b[0m\u001b[0;34m(\u001b[0m\u001b[0;34m)\u001b[0m\u001b[0;34m)\u001b[0m\u001b[0;34m\u001b[0m\u001b[0m\n",
      "\u001b[0;31mTypeError\u001b[0m: get() takes 0 positional arguments but 1 was given"
     ]
    }
   ],
   "source": [
    "class Emp:  \n",
    "    COMPANY_NAME=\"khyaathi\"\n",
    "    COMPANY_ADDRESS = \"maithrivanam\"\n",
    "    def get():\n",
    "        print(\"dsafdsf\")\n",
    "    \n",
    "    \n",
    "    \n",
    "sai=Emp()\n",
    "sai.name=\"sailaxmi\"\n",
    "sai.address=\"devender nagar\"\n",
    "jay=Emp()\n",
    "jay.name=\"JAYARAM\"\n",
    "jay.address=\"anjaneyanagar\"\n",
    "print(sai.get())\n",
    "print(jay.get())"
   ]
  },
  {
   "cell_type": "code",
   "execution_count": 6,
   "metadata": {},
   "outputs": [
    {
     "name": "stdout",
     "output_type": "stream",
     "text": [
      "dsafdsf\n"
     ]
    }
   ],
   "source": [
    "class Emp:  \n",
    "    COMPANY_NAME=\"khyaathi\"\n",
    "    COMPANY_ADDRESS = \"maithrivanam\"\n",
    "    def get():\n",
    "        print(\"dsafdsf\")\n",
    "    \n",
    "    \n",
    "    \n",
    "sai=Emp()\n",
    "sai.name=\"sailaxmi\"\n",
    "sai.address=\"devender nagar\"\n",
    "jay=Emp()\n",
    "jay.name=\"JAYARAM\"\n",
    "jay.address=\"anjaneyanagar\"\n",
    "#print(sai.get())\n",
    "#print(jay.get())\n",
    "Emp.get()"
   ]
  },
  {
   "cell_type": "code",
   "execution_count": 7,
   "metadata": {},
   "outputs": [
    {
     "name": "stdout",
     "output_type": "stream",
     "text": [
      "dsafdsf\n",
      "None\n",
      "dsafdsf\n",
      "None\n"
     ]
    }
   ],
   "source": [
    "class Emp:  \n",
    "    COMPANY_NAME=\"khyaathi\"\n",
    "    COMPANY_ADDRESS = \"maithrivanam\"\n",
    "    def set_data(self,e_name,e_address):\n",
    "        self.name=e_name\n",
    "        self.address=e_address\n",
    "    def get(self):\n",
    "        print(\"dsafdsf\")\n",
    "    \n",
    "    \n",
    "    \n",
    "sai=Emp()\n",
    "sai.set_data(\"sailaxmi\",\"kailas hills\")\n",
    "#sai.name=\"sailaxmi\"\n",
    "#sai.address=\"devender nagar\"\n",
    "jay=Emp()\n",
    "jay.set_data(\"JAYARAM\",\"devender nagar\")\n",
    "#jay.name=\"JAYARAM\"\n",
    "#jay.address=\"anjaneyanagar\"\n",
    "print(sai.get())\n",
    "print(jay.get())"
   ]
  },
  {
   "cell_type": "code",
   "execution_count": 8,
   "metadata": {},
   "outputs": [
    {
     "name": "stdout",
     "output_type": "stream",
     "text": [
      "{'name': 'sailaxmi', 'address': 'kailas hills'}\n",
      "{'name': 'JAYARAM', 'address': 'devender nagar'}\n"
     ]
    }
   ],
   "source": [
    "class Emp:  \n",
    "    COMPANY_NAME=\"khyaathi\"\n",
    "    COMPANY_ADDRESS = \"maithrivanam\"\n",
    "    def set_data(self,e_name,e_address):\n",
    "        self.name=e_name\n",
    "        self.address=e_address\n",
    "    def get(self):\n",
    "        return self.__dict__\n",
    "    \n",
    "    \n",
    "    \n",
    "sai=Emp()\n",
    "sai.set_data(\"sailaxmi\",\"kailas hills\")\n",
    "#sai.name=\"sailaxmi\"\n",
    "#sai.address=\"devender nagar\"\n",
    "jay=Emp()\n",
    "jay.set_data(\"JAYARAM\",\"devender nagar\")\n",
    "#jay.name=\"JAYARAM\"\n",
    "#jay.address=\"anjaneyanagar\"\n",
    "print(sai.get())\n",
    "print(jay.get())"
   ]
  },
  {
   "cell_type": "code",
   "execution_count": 10,
   "metadata": {},
   "outputs": [
    {
     "name": "stdout",
     "output_type": "stream",
     "text": [
      "('sailaxmi', 'kailas hills', 'khyaathi', 'maithrivanam')\n",
      "('JAYARAM', 'devender nagar', 'khyaathi', 'maithrivanam')\n"
     ]
    }
   ],
   "source": [
    "class Emp:  \n",
    "    COMPANY_NAME=\"khyaathi\"\n",
    "    COMPANY_ADDRESS = \"maithrivanam\"\n",
    "    def set_data(self,e_name,e_address):\n",
    "        self.name=e_name\n",
    "        self.address=e_address\n",
    "    def get(self):\n",
    "        return self.name,self.address, self.COMPANY_NAME, self.COMPANY_ADDRESS\n",
    "sai=Emp()\n",
    "sai.set_data(\"sailaxmi\",\"kailas hills\")\n",
    "jay=Emp()\n",
    "jay.set_data(\"JAYARAM\",\"devender nagar\")\n",
    "print(sai.get())\n",
    "print(jay.get())"
   ]
  },
  {
   "cell_type": "code",
   "execution_count": 11,
   "metadata": {},
   "outputs": [
    {
     "ename": "NameError",
     "evalue": "name 'COMPANY_NAME' is not defined",
     "output_type": "error",
     "traceback": [
      "\u001b[0;31m---------------------------------------------------------------------------\u001b[0m",
      "\u001b[0;31mNameError\u001b[0m                                 Traceback (most recent call last)",
      "\u001b[0;32m<ipython-input-11-4caee965f14c>\u001b[0m in \u001b[0;36m<module>\u001b[0;34m()\u001b[0m\n\u001b[1;32m     11\u001b[0m \u001b[0mjay\u001b[0m\u001b[0;34m=\u001b[0m\u001b[0mEmp\u001b[0m\u001b[0;34m(\u001b[0m\u001b[0;34m)\u001b[0m\u001b[0;34m\u001b[0m\u001b[0m\n\u001b[1;32m     12\u001b[0m \u001b[0mjay\u001b[0m\u001b[0;34m.\u001b[0m\u001b[0mset_data\u001b[0m\u001b[0;34m(\u001b[0m\u001b[0;34m\"JAYARAM\"\u001b[0m\u001b[0;34m,\u001b[0m\u001b[0;34m\"devender nagar\"\u001b[0m\u001b[0;34m)\u001b[0m\u001b[0;34m\u001b[0m\u001b[0m\n\u001b[0;32m---> 13\u001b[0;31m \u001b[0mprint\u001b[0m\u001b[0;34m(\u001b[0m\u001b[0msai\u001b[0m\u001b[0;34m.\u001b[0m\u001b[0mget\u001b[0m\u001b[0;34m(\u001b[0m\u001b[0;34m)\u001b[0m\u001b[0;34m)\u001b[0m\u001b[0;34m\u001b[0m\u001b[0m\n\u001b[0m\u001b[1;32m     14\u001b[0m \u001b[0mprint\u001b[0m\u001b[0;34m(\u001b[0m\u001b[0mjay\u001b[0m\u001b[0;34m.\u001b[0m\u001b[0mget\u001b[0m\u001b[0;34m(\u001b[0m\u001b[0;34m)\u001b[0m\u001b[0;34m)\u001b[0m\u001b[0;34m\u001b[0m\u001b[0m\n",
      "\u001b[0;32m<ipython-input-11-4caee965f14c>\u001b[0m in \u001b[0;36mget\u001b[0;34m(self)\u001b[0m\n\u001b[1;32m      6\u001b[0m         \u001b[0mself\u001b[0m\u001b[0;34m.\u001b[0m\u001b[0maddress\u001b[0m\u001b[0;34m=\u001b[0m\u001b[0me_address\u001b[0m\u001b[0;34m\u001b[0m\u001b[0m\n\u001b[1;32m      7\u001b[0m     \u001b[0;32mdef\u001b[0m \u001b[0mget\u001b[0m\u001b[0;34m(\u001b[0m\u001b[0mself\u001b[0m\u001b[0;34m)\u001b[0m\u001b[0;34m:\u001b[0m\u001b[0;34m\u001b[0m\u001b[0m\n\u001b[0;32m----> 8\u001b[0;31m         \u001b[0;32mreturn\u001b[0m \u001b[0mself\u001b[0m\u001b[0;34m.\u001b[0m\u001b[0mname\u001b[0m\u001b[0;34m,\u001b[0m\u001b[0mself\u001b[0m\u001b[0;34m.\u001b[0m\u001b[0maddress\u001b[0m\u001b[0;34m,\u001b[0m \u001b[0mCOMPANY_NAME\u001b[0m\u001b[0;34m,\u001b[0m \u001b[0mCOMPANY_NAME\u001b[0m\u001b[0;34m\u001b[0m\u001b[0m\n\u001b[0m\u001b[1;32m      9\u001b[0m \u001b[0msai\u001b[0m\u001b[0;34m=\u001b[0m\u001b[0mEmp\u001b[0m\u001b[0;34m(\u001b[0m\u001b[0;34m)\u001b[0m\u001b[0;34m\u001b[0m\u001b[0m\n\u001b[1;32m     10\u001b[0m \u001b[0msai\u001b[0m\u001b[0;34m.\u001b[0m\u001b[0mset_data\u001b[0m\u001b[0;34m(\u001b[0m\u001b[0;34m\"sailaxmi\"\u001b[0m\u001b[0;34m,\u001b[0m\u001b[0;34m\"kailas hills\"\u001b[0m\u001b[0;34m)\u001b[0m\u001b[0;34m\u001b[0m\u001b[0m\n",
      "\u001b[0;31mNameError\u001b[0m: name 'COMPANY_NAME' is not defined"
     ]
    }
   ],
   "source": [
    "class Emp:  \n",
    "    COMPANY_NAME=\"khyaathi\"\n",
    "    COMPANY_ADDRESS = \"maithrivanam\"\n",
    "    def set_data(self,e_name,e_address):\n",
    "        self.name=e_name\n",
    "        self.address=e_address\n",
    "    def get(self):\n",
    "        return self.name,self.address, COMPANY_NAME, COMPANY_NAME\n",
    "sai=Emp()\n",
    "sai.set_data(\"sailaxmi\",\"kailas hills\")\n",
    "jay=Emp()\n",
    "jay.set_data(\"JAYARAM\",\"devender nagar\")\n",
    "print(sai.get())\n",
    "print(jay.get())"
   ]
  },
  {
   "cell_type": "code",
   "execution_count": 12,
   "metadata": {},
   "outputs": [
    {
     "name": "stdout",
     "output_type": "stream",
     "text": [
      "('sailaxmi', 'kailas hills', 'khyaathi', 'khyaathi')\n",
      "('JAYARAM', 'devender nagar', 'khyaathi', 'khyaathi')\n"
     ]
    }
   ],
   "source": [
    "class Emp:  \n",
    "    COMPANY_NAME=\"khyaathi\"\n",
    "    COMPANY_ADDRESS = \"maithrivanam\"\n",
    "    def set_data(self,e_name,e_address):\n",
    "        self.name=e_name\n",
    "        self.address=e_address\n",
    "    def get(self):\n",
    "        return self.name,self.address, self.COMPANY_NAME, self.COMPANY_NAME\n",
    "sai=Emp()\n",
    "sai.set_data(\"sailaxmi\",\"kailas hills\")\n",
    "jay=Emp()\n",
    "jay.set_data(\"JAYARAM\",\"devender nagar\")\n",
    "print(sai.get())\n",
    "print(jay.get())"
   ]
  },
  {
   "cell_type": "code",
   "execution_count": 14,
   "metadata": {},
   "outputs": [
    {
     "name": "stdout",
     "output_type": "stream",
     "text": [
      "('sailaxmi', 'kailas hills', 'khyaathi', 'khyaathi')\n",
      "('JAYARAM', 'devender nagar', 'khyaathi', 'khyaathi')\n"
     ]
    }
   ],
   "source": [
    "class Emp:  \n",
    "    COMPANY_NAME=\"khyaathi\"\n",
    "    COMPANY_ADDRESS = \"maithrivanam\"\n",
    "    def set_data(self,e_name,e_address):\n",
    "        self.name=e_name\n",
    "        self.address=e_address\n",
    "    def get(self):\n",
    "        return self.name,self.address, self.__class__.COMPANY_NAME, self.__class__.COMPANY_NAME\n",
    "sai=Emp()\n",
    "sai.set_data(\"sailaxmi\",\"kailas hills\")\n",
    "jay=Emp()\n",
    "jay.set_data(\"JAYARAM\",\"devender nagar\")\n",
    "print(sai.get())\n",
    "print(jay.get())"
   ]
  },
  {
   "cell_type": "code",
   "execution_count": null,
   "metadata": {},
   "outputs": [],
   "source": [
    "class Emp:  \n",
    "    COMPANY_NAME=\"khyaathi\"\n",
    "    COMPANY_ADDRESS = \"maithrivanam\"\n",
    "    def set_data(self,e_name,e_address):\n",
    "        self.name=e_name\n",
    "        self.address=e_address\n",
    "    def get(self):\n",
    "        return self.name,self.address, self.__class__.COMPANY_NAME, self.__class__.COMPANY_NAME\n",
    "sai=Emp()\n",
    "sai.set_data(\"sailaxmi\",\"kailas hills\")\n",
    "jay=Emp()\n",
    "jay.set_data(\"JAYARAM\",\"devender nagar\")\n",
    "print(sai.get())\n",
    "print(jay.get())\n",
    "vedha = Emp()\n",
    "print(vedha.get())"
   ]
  },
  {
   "cell_type": "code",
   "execution_count": 15,
   "metadata": {},
   "outputs": [
    {
     "name": "stdout",
     "output_type": "stream",
     "text": [
      "this is class\n"
     ]
    }
   ],
   "source": [
    "class c1:\n",
    "    print(\"this is class\")\n",
    "o1=c1()\n",
    "o2=c1()\n",
    "o3=c1()"
   ]
  },
  {
   "cell_type": "code",
   "execution_count": 16,
   "metadata": {},
   "outputs": [
    {
     "name": "stdout",
     "output_type": "stream",
     "text": [
      "this is class\n"
     ]
    }
   ],
   "source": [
    "class c1:\n",
    "    print(\"this is class\")\n",
    "    def get(self):\n",
    "        print(\"this is get\")"
   ]
  },
  {
   "cell_type": "code",
   "execution_count": 17,
   "metadata": {},
   "outputs": [
    {
     "name": "stdout",
     "output_type": "stream",
     "text": [
      "this is class\n"
     ]
    }
   ],
   "source": [
    "class c1:\n",
    "    print(\"this is class\")\n",
    "    a=100\n",
    "    b=200\n",
    "    def get(self):\n",
    "        print(\"this is get\")"
   ]
  },
  {
   "cell_type": "code",
   "execution_count": 18,
   "metadata": {},
   "outputs": [
    {
     "name": "stdout",
     "output_type": "stream",
     "text": [
      "this is class\n"
     ]
    }
   ],
   "source": [
    "class c1:\n",
    "    print(\"this is class\")\n",
    "    def __init__(self):\n",
    "        print(\"this is init\")\n",
    "    def get(self):\n",
    "        print(\"this is get\")"
   ]
  },
  {
   "cell_type": "code",
   "execution_count": 19,
   "metadata": {},
   "outputs": [
    {
     "name": "stdout",
     "output_type": "stream",
     "text": [
      "this is class\n",
      "this is init\n"
     ]
    }
   ],
   "source": [
    "class c1:\n",
    "    print(\"this is class\")\n",
    "    def __init__(self):\n",
    "        print(\"this is init\")\n",
    "    def get(self):\n",
    "        print(\"this is get\")\n",
    "o1=c1()"
   ]
  },
  {
   "cell_type": "code",
   "execution_count": 20,
   "metadata": {},
   "outputs": [
    {
     "name": "stdout",
     "output_type": "stream",
     "text": [
      "this is class\n"
     ]
    }
   ],
   "source": [
    "class c1:\n",
    "    print(\"this is class\")\n",
    "    def __init__(self):\n",
    "        print(\"this is init\")\n",
    "    def get(self):\n",
    "        print(\"this is get\")\n",
    "#o1=c1()"
   ]
  },
  {
   "cell_type": "code",
   "execution_count": 21,
   "metadata": {},
   "outputs": [
    {
     "name": "stdout",
     "output_type": "stream",
     "text": [
      "this is class\n",
      "this is init\n"
     ]
    }
   ],
   "source": [
    "class c1:\n",
    "    print(\"this is class\")\n",
    "    def __init__(self):\n",
    "        print(\"this is init\")\n",
    "    def get(self):\n",
    "        print(\"this is get\")\n",
    "o1=c1() # while creating the data object internally, it wil calls the __init__ method "
   ]
  },
  {
   "cell_type": "code",
   "execution_count": 22,
   "metadata": {},
   "outputs": [
    {
     "name": "stdout",
     "output_type": "stream",
     "text": [
      "this is class\n"
     ]
    }
   ],
   "source": [
    "class c1:\n",
    "    print(\"this is class\")\n",
    "    def get(self):\n",
    "        print(\"this is get\")\n",
    "o1=c1() # while creating the data object internally, it wil calls the __init__ method "
   ]
  },
  {
   "cell_type": "code",
   "execution_count": 23,
   "metadata": {},
   "outputs": [
    {
     "name": "stdout",
     "output_type": "stream",
     "text": [
      "this is class\n",
      "this is get\n"
     ]
    }
   ],
   "source": [
    "class c1:\n",
    "    print(\"this is class\")\n",
    "    def __init__(self):\n",
    "        print(\"this is init\")\n",
    "    def __init__(self):\n",
    "        print(\"this is get\")\n",
    "o1=c1() # while creating the data object internally, it wil calls the __init__ method "
   ]
  },
  {
   "cell_type": "code",
   "execution_count": 24,
   "metadata": {},
   "outputs": [
    {
     "name": "stdout",
     "output_type": "stream",
     "text": [
      "this is class\n"
     ]
    },
    {
     "ename": "TypeError",
     "evalue": "__init__() missing 2 required positional arguments: 'a' and 'b'",
     "output_type": "error",
     "traceback": [
      "\u001b[0;31m---------------------------------------------------------------------------\u001b[0m",
      "\u001b[0;31mTypeError\u001b[0m                                 Traceback (most recent call last)",
      "\u001b[0;32m<ipython-input-24-3ab74941bb44>\u001b[0m in \u001b[0;36m<module>\u001b[0;34m()\u001b[0m\n\u001b[1;32m      5\u001b[0m     \u001b[0;32mdef\u001b[0m \u001b[0m__init__\u001b[0m\u001b[0;34m(\u001b[0m\u001b[0mself\u001b[0m\u001b[0;34m,\u001b[0m\u001b[0ma\u001b[0m\u001b[0;34m,\u001b[0m\u001b[0mb\u001b[0m\u001b[0;34m)\u001b[0m\u001b[0;34m:\u001b[0m\u001b[0;34m\u001b[0m\u001b[0m\n\u001b[1;32m      6\u001b[0m         \u001b[0mprint\u001b[0m\u001b[0;34m(\u001b[0m\u001b[0;34m\"this is get\"\u001b[0m\u001b[0;34m)\u001b[0m\u001b[0;34m\u001b[0m\u001b[0m\n\u001b[0;32m----> 7\u001b[0;31m \u001b[0mo1\u001b[0m\u001b[0;34m=\u001b[0m\u001b[0mc1\u001b[0m\u001b[0;34m(\u001b[0m\u001b[0;34m)\u001b[0m \u001b[0;31m# while creating the data object internally, it wil calls the __init__ method\u001b[0m\u001b[0;34m\u001b[0m\u001b[0m\n\u001b[0m",
      "\u001b[0;31mTypeError\u001b[0m: __init__() missing 2 required positional arguments: 'a' and 'b'"
     ]
    }
   ],
   "source": [
    "class c1:\n",
    "    print(\"this is class\")\n",
    "    def __init__(self):\n",
    "        print(\"this is init\")\n",
    "    def __init__(self,a,b):\n",
    "        print(\"this is get\")\n",
    "o1=c1() # while creating the data object internally, it wil calls the __init__ method "
   ]
  },
  {
   "cell_type": "code",
   "execution_count": 25,
   "metadata": {},
   "outputs": [
    {
     "name": "stdout",
     "output_type": "stream",
     "text": [
      "this is class\n",
      "this is init\n"
     ]
    }
   ],
   "source": [
    "class c1:\n",
    "    print(\"this is class\")\n",
    "    def __init__(self):\n",
    "        print(\"this is init\")\n",
    "    def get(self):\n",
    "        print(\"this is get\")\n",
    "o1=c1() # while creating the data object internally, it wil calls the __init__ method "
   ]
  },
  {
   "cell_type": "code",
   "execution_count": 27,
   "metadata": {},
   "outputs": [
    {
     "name": "stdout",
     "output_type": "stream",
     "text": [
      "this is class\n",
      "1000 2000\n",
      "this is init\n"
     ]
    }
   ],
   "source": [
    "class c1:\n",
    "    print(\"this is class\")\n",
    "    def __init__(self,a,b):\n",
    "        print(a,b)\n",
    "        print(\"this is init\")\n",
    "    def get(self):\n",
    "        print(\"this is get\")\n",
    "o1=c1(1000,2000)  # (__init__(bject of o1,1000,2000))data object of o1 as first argument, that is refer by self.\n",
    "# next it will pass 10000,2000 reffer by a,b. "
   ]
  },
  {
   "cell_type": "code",
   "execution_count": 28,
   "metadata": {},
   "outputs": [
    {
     "name": "stdout",
     "output_type": "stream",
     "text": [
      "('sailaxmi', 'kailas hills', 'khyaathi', 'khyaathi')\n",
      "('JAYARAM', 'devender nagar', 'khyaathi', 'khyaathi')\n"
     ]
    },
    {
     "ename": "TypeError",
     "evalue": "__init__() missing 2 required positional arguments: 'e_name' and 'e_address'",
     "output_type": "error",
     "traceback": [
      "\u001b[0;31m---------------------------------------------------------------------------\u001b[0m",
      "\u001b[0;31mTypeError\u001b[0m                                 Traceback (most recent call last)",
      "\u001b[0;32m<ipython-input-28-fc2c5d074ba4>\u001b[0m in \u001b[0;36m<module>\u001b[0;34m()\u001b[0m\n\u001b[1;32m     13\u001b[0m \u001b[0mprint\u001b[0m\u001b[0;34m(\u001b[0m\u001b[0msai\u001b[0m\u001b[0;34m.\u001b[0m\u001b[0mget\u001b[0m\u001b[0;34m(\u001b[0m\u001b[0;34m)\u001b[0m\u001b[0;34m)\u001b[0m\u001b[0;34m\u001b[0m\u001b[0m\n\u001b[1;32m     14\u001b[0m \u001b[0mprint\u001b[0m\u001b[0;34m(\u001b[0m\u001b[0mjay\u001b[0m\u001b[0;34m.\u001b[0m\u001b[0mget\u001b[0m\u001b[0;34m(\u001b[0m\u001b[0;34m)\u001b[0m\u001b[0;34m)\u001b[0m\u001b[0;34m\u001b[0m\u001b[0m\n\u001b[0;32m---> 15\u001b[0;31m \u001b[0mvedha\u001b[0m \u001b[0;34m=\u001b[0m \u001b[0mEmp\u001b[0m\u001b[0;34m(\u001b[0m\u001b[0;34m)\u001b[0m\u001b[0;34m\u001b[0m\u001b[0m\n\u001b[0m\u001b[1;32m     16\u001b[0m \u001b[0mprint\u001b[0m\u001b[0;34m(\u001b[0m\u001b[0mvedha\u001b[0m\u001b[0;34m.\u001b[0m\u001b[0mget\u001b[0m\u001b[0;34m(\u001b[0m\u001b[0;34m)\u001b[0m\u001b[0;34m)\u001b[0m\u001b[0;34m\u001b[0m\u001b[0m\n",
      "\u001b[0;31mTypeError\u001b[0m: __init__() missing 2 required positional arguments: 'e_name' and 'e_address'"
     ]
    }
   ],
   "source": [
    "class Emp:  \n",
    "    COMPANY_NAME=\"khyaathi\"\n",
    "    COMPANY_ADDRESS = \"maithrivanam\"\n",
    "    def __init__(self,e_name,e_address):\n",
    "        self.name=e_name\n",
    "        self.address=e_address\n",
    "    def get(self):\n",
    "        return self.name,self.address, self.__class__.COMPANY_NAME, self.__class__.COMPANY_NAME\n",
    "sai=Emp(\"sailaxmi\",\"kailas hills\")\n",
    "#sai.set_data(\"sailaxmi\",\"kailas hills\")\n",
    "jay=Emp(\"JAYARAM\",\"devender nagar\")\n",
    "#jay.set_data(\"JAYARAM\",\"devender nagar\")\n",
    "print(sai.get())\n",
    "print(jay.get())\n",
    "vedha = Emp()\n",
    "print(vedha.get())"
   ]
  },
  {
   "cell_type": "code",
   "execution_count": 30,
   "metadata": {},
   "outputs": [
    {
     "name": "stdout",
     "output_type": "stream",
     "text": [
      "('sailaxmi', 'kailas hills', 'khyaathi', 'khyaathi')\n",
      "('JAYARAM', 'devender nagar', 'khyaathi', 'khyaathi')\n"
     ]
    }
   ],
   "source": [
    "class Emp:  \n",
    "    COMPANY_NAME=\"khyaathi\"\n",
    "    COMPANY_ADDRESS = \"maithrivanam\"\n",
    "    def __init__(self,e_name,e_address):\n",
    "        # constructor\n",
    "        self.name=e_name\n",
    "        self.address=e_address\n",
    "    def get(self):\n",
    "        return self.name,self.address, self.__class__.COMPANY_NAME, self.__class__.COMPANY_NAME\n",
    "sai=Emp(\"sailaxmi\",\"kailas hills\")\n",
    "jay=Emp(\"JAYARAM\",\"devender nagar\")\n",
    "print(sai.get())\n",
    "print(jay.get())\n"
   ]
  },
  {
   "cell_type": "code",
   "execution_count": 31,
   "metadata": {},
   "outputs": [
    {
     "ename": "TypeError",
     "evalue": "__init__() should return None, not 'str'",
     "output_type": "error",
     "traceback": [
      "\u001b[0;31m---------------------------------------------------------------------------\u001b[0m",
      "\u001b[0;31mTypeError\u001b[0m                                 Traceback (most recent call last)",
      "\u001b[0;32m<ipython-input-31-71d64c36e3f0>\u001b[0m in \u001b[0;36m<module>\u001b[0;34m()\u001b[0m\n\u001b[1;32m      9\u001b[0m     \u001b[0;32mdef\u001b[0m \u001b[0mget\u001b[0m\u001b[0;34m(\u001b[0m\u001b[0mself\u001b[0m\u001b[0;34m)\u001b[0m\u001b[0;34m:\u001b[0m\u001b[0;34m\u001b[0m\u001b[0m\n\u001b[1;32m     10\u001b[0m         \u001b[0;32mreturn\u001b[0m \u001b[0mself\u001b[0m\u001b[0;34m.\u001b[0m\u001b[0mname\u001b[0m\u001b[0;34m,\u001b[0m\u001b[0mself\u001b[0m\u001b[0;34m.\u001b[0m\u001b[0maddress\u001b[0m\u001b[0;34m,\u001b[0m \u001b[0mself\u001b[0m\u001b[0;34m.\u001b[0m\u001b[0m__class__\u001b[0m\u001b[0;34m.\u001b[0m\u001b[0mCOMPANY_NAME\u001b[0m\u001b[0;34m,\u001b[0m \u001b[0mself\u001b[0m\u001b[0;34m.\u001b[0m\u001b[0m__class__\u001b[0m\u001b[0;34m.\u001b[0m\u001b[0mCOMPANY_NAME\u001b[0m\u001b[0;34m\u001b[0m\u001b[0m\n\u001b[0;32m---> 11\u001b[0;31m \u001b[0msai\u001b[0m\u001b[0;34m=\u001b[0m\u001b[0mEmp\u001b[0m\u001b[0;34m(\u001b[0m\u001b[0;34m\"sailaxmi\"\u001b[0m\u001b[0;34m,\u001b[0m\u001b[0;34m\"kailas hills\"\u001b[0m\u001b[0;34m)\u001b[0m\u001b[0;34m\u001b[0m\u001b[0m\n\u001b[0m\u001b[1;32m     12\u001b[0m \u001b[0mjay\u001b[0m\u001b[0;34m=\u001b[0m\u001b[0mEmp\u001b[0m\u001b[0;34m(\u001b[0m\u001b[0;34m\"JAYARAM\"\u001b[0m\u001b[0;34m,\u001b[0m\u001b[0;34m\"devender nagar\"\u001b[0m\u001b[0;34m)\u001b[0m\u001b[0;34m\u001b[0m\u001b[0m\n\u001b[1;32m     13\u001b[0m \u001b[0mprint\u001b[0m\u001b[0;34m(\u001b[0m\u001b[0msai\u001b[0m\u001b[0;34m.\u001b[0m\u001b[0mget\u001b[0m\u001b[0;34m(\u001b[0m\u001b[0;34m)\u001b[0m\u001b[0;34m)\u001b[0m\u001b[0;34m\u001b[0m\u001b[0m\n",
      "\u001b[0;31mTypeError\u001b[0m: __init__() should return None, not 'str'"
     ]
    }
   ],
   "source": [
    "class Emp:  \n",
    "    COMPANY_NAME=\"khyaathi\"\n",
    "    COMPANY_ADDRESS = \"maithrivanam\"\n",
    "    def __init__(self,e_name,e_address):\n",
    "        # constructor\n",
    "        self.name=e_name\n",
    "        self.address=e_address\n",
    "        return \"some data\"\n",
    "    def get(self):\n",
    "        return self.name,self.address, self.__class__.COMPANY_NAME, self.__class__.COMPANY_NAME\n",
    "sai=Emp(\"sailaxmi\",\"kailas hills\")\n",
    "jay=Emp(\"JAYARAM\",\"devender nagar\")\n",
    "print(sai.get())\n",
    "print(jay.get())\n"
   ]
  },
  {
   "cell_type": "code",
   "execution_count": 32,
   "metadata": {},
   "outputs": [
    {
     "name": "stdout",
     "output_type": "stream",
     "text": [
      "('sailaxmi', 'kailas hills', 'khyaathi', 'khyaathi')\n",
      "('JAYARAM', 'devender nagar', 'khyaathi', 'khyaathi')\n"
     ]
    }
   ],
   "source": [
    "class Emp:  \n",
    "    COMPANY_NAME=\"khyaathi\"\n",
    "    COMPANY_ADDRESS = \"maithrivanam\"\n",
    "    def __init__(self,e_name,e_address):\n",
    "        # constructor\n",
    "        self.name=e_name\n",
    "        self.address=e_address\n",
    "        return None\n",
    "    def get(self):\n",
    "        return self.name,self.address, self.__class__.COMPANY_NAME, self.__class__.COMPANY_NAME\n",
    "sai=Emp(\"sailaxmi\",\"kailas hills\")\n",
    "jay=Emp(\"JAYARAM\",\"devender nagar\")\n",
    "print(sai.get())\n",
    "print(jay.get())\n"
   ]
  },
  {
   "cell_type": "code",
   "execution_count": 33,
   "metadata": {},
   "outputs": [
    {
     "ename": "TypeError",
     "evalue": "__init__() should return None, not 'int'",
     "output_type": "error",
     "traceback": [
      "\u001b[0;31m---------------------------------------------------------------------------\u001b[0m",
      "\u001b[0;31mTypeError\u001b[0m                                 Traceback (most recent call last)",
      "\u001b[0;32m<ipython-input-33-b6b98de86c9d>\u001b[0m in \u001b[0;36m<module>\u001b[0;34m()\u001b[0m\n\u001b[1;32m      9\u001b[0m     \u001b[0;32mdef\u001b[0m \u001b[0mget\u001b[0m\u001b[0;34m(\u001b[0m\u001b[0mself\u001b[0m\u001b[0;34m)\u001b[0m\u001b[0;34m:\u001b[0m\u001b[0;34m\u001b[0m\u001b[0m\n\u001b[1;32m     10\u001b[0m         \u001b[0;32mreturn\u001b[0m \u001b[0mself\u001b[0m\u001b[0;34m.\u001b[0m\u001b[0mname\u001b[0m\u001b[0;34m,\u001b[0m\u001b[0mself\u001b[0m\u001b[0;34m.\u001b[0m\u001b[0maddress\u001b[0m\u001b[0;34m,\u001b[0m \u001b[0mself\u001b[0m\u001b[0;34m.\u001b[0m\u001b[0m__class__\u001b[0m\u001b[0;34m.\u001b[0m\u001b[0mCOMPANY_NAME\u001b[0m\u001b[0;34m,\u001b[0m \u001b[0mself\u001b[0m\u001b[0;34m.\u001b[0m\u001b[0m__class__\u001b[0m\u001b[0;34m.\u001b[0m\u001b[0mCOMPANY_NAME\u001b[0m\u001b[0;34m\u001b[0m\u001b[0m\n\u001b[0;32m---> 11\u001b[0;31m \u001b[0msai\u001b[0m\u001b[0;34m=\u001b[0m\u001b[0mEmp\u001b[0m\u001b[0;34m(\u001b[0m\u001b[0;34m\"sailaxmi\"\u001b[0m\u001b[0;34m,\u001b[0m\u001b[0;34m\"kailas hills\"\u001b[0m\u001b[0;34m)\u001b[0m\u001b[0;34m\u001b[0m\u001b[0m\n\u001b[0m\u001b[1;32m     12\u001b[0m \u001b[0mjay\u001b[0m\u001b[0;34m=\u001b[0m\u001b[0mEmp\u001b[0m\u001b[0;34m(\u001b[0m\u001b[0;34m\"JAYARAM\"\u001b[0m\u001b[0;34m,\u001b[0m\u001b[0;34m\"devender nagar\"\u001b[0m\u001b[0;34m)\u001b[0m\u001b[0;34m\u001b[0m\u001b[0m\n\u001b[1;32m     13\u001b[0m \u001b[0mprint\u001b[0m\u001b[0;34m(\u001b[0m\u001b[0msai\u001b[0m\u001b[0;34m.\u001b[0m\u001b[0mget\u001b[0m\u001b[0;34m(\u001b[0m\u001b[0;34m)\u001b[0m\u001b[0;34m)\u001b[0m\u001b[0;34m\u001b[0m\u001b[0m\n",
      "\u001b[0;31mTypeError\u001b[0m: __init__() should return None, not 'int'"
     ]
    }
   ],
   "source": [
    "class Emp:  \n",
    "    COMPANY_NAME=\"khyaathi\"\n",
    "    COMPANY_ADDRESS = \"maithrivanam\"\n",
    "    def __init__(self,e_name,e_address):\n",
    "        # constructor\n",
    "        self.name=e_name\n",
    "        self.address=e_address\n",
    "        return 0\n",
    "    def get(self):\n",
    "        return self.name,self.address, self.__class__.COMPANY_NAME, self.__class__.COMPANY_NAME\n",
    "sai=Emp(\"sailaxmi\",\"kailas hills\")\n",
    "jay=Emp(\"JAYARAM\",\"devender nagar\")\n",
    "print(sai.get())\n",
    "print(jay.get())\n"
   ]
  },
  {
   "cell_type": "code",
   "execution_count": 36,
   "metadata": {},
   "outputs": [
    {
     "name": "stdout",
     "output_type": "stream",
     "text": [
      "(72.45, 'sailaxmi', 'kailas hills', 'khyaathi', 'khyaathi')\n"
     ]
    }
   ],
   "source": [
    "class Emp:  \n",
    "    COMPANY_NAME=\"khyaathi\"\n",
    "    COMPANY_ADDRESS = \"maithrivanam\"\n",
    "    def __init__(self,e_name,e_address,weight):\n",
    "        # constructor\n",
    "        self.name=e_name\n",
    "        self.address=e_address\n",
    "        self.weight=weight\n",
    "\n",
    "    def get(self):\n",
    "        return self.weight, self.name,self.address, self.__class__.COMPANY_NAME, self.__class__.COMPANY_NAME\n",
    "sai=Emp(\"sailaxmi\",\"kailas hills\",72.45)\n",
    "print(sai.get())\n"
   ]
  },
  {
   "cell_type": "code",
   "execution_count": 37,
   "metadata": {},
   "outputs": [
    {
     "name": "stdout",
     "output_type": "stream",
     "text": [
      "(80, 'sailaxmi', 'kailas hills', 'khyaathi', 'khyaathi')\n"
     ]
    }
   ],
   "source": [
    "class Emp:  \n",
    "    COMPANY_NAME=\"khyaathi\"\n",
    "    COMPANY_ADDRESS = \"maithrivanam\"\n",
    "    def __init__(self,e_name,e_address,weight):\n",
    "        # constructor\n",
    "        self.name=e_name\n",
    "        self.address=e_address\n",
    "        self.weight=weight\n",
    "\n",
    "    def get(self):\n",
    "        return self.weight, self.name,self.address, self.__class__.COMPANY_NAME, self.__class__.COMPANY_NAME\n",
    "sai=Emp(\"sailaxmi\",\"kailas hills\",72.45)\n",
    "sai.weight=80\n",
    "print(sai.get())\n"
   ]
  },
  {
   "cell_type": "code",
   "execution_count": 38,
   "metadata": {},
   "outputs": [
    {
     "name": "stdout",
     "output_type": "stream",
     "text": [
      "(72.45, 'sailaxmi', 'kailas hills', 'khyaathi', 'khyaathi')\n"
     ]
    }
   ],
   "source": [
    "class Emp:  \n",
    "    COMPANY_NAME=\"khyaathi\"\n",
    "    COMPANY_ADDRESS = \"maithrivanam\"\n",
    "    def __init__(self,e_name,e_address,weight):\n",
    "        # constructor\n",
    "        self.name=e_name\n",
    "        self.address=e_address\n",
    "        self.__weight=weight\n",
    "\n",
    "    def get(self):\n",
    "        return self.__weight, self.name,self.address, self.__class__.COMPANY_NAME, self.__class__.COMPANY_NAME\n",
    "sai=Emp(\"sailaxmi\",\"kailas hills\",72.45)\n",
    "sai.__weight=80\n",
    "print(sai.get())\n"
   ]
  },
  {
   "cell_type": "code",
   "execution_count": 39,
   "metadata": {},
   "outputs": [
    {
     "name": "stdout",
     "output_type": "stream",
     "text": [
      "(80, 'sailaxmi', 'kailas hills', 'khyaathi', 'khyaathi')\n"
     ]
    }
   ],
   "source": [
    "class Emp:  \n",
    "    COMPANY_NAME=\"khyaathi\"\n",
    "    COMPANY_ADDRESS = \"maithrivanam\"\n",
    "    def __init__(self,e_name,e_address,weight):\n",
    "        # constructor\n",
    "        self.name=e_name\n",
    "        self.address=e_address\n",
    "        self.__weight=weight\n",
    "    def update_weight(self, new_weight):\n",
    "        # authorization code here\n",
    "        self.__weight=new_weight\n",
    "\n",
    "    def get(self):\n",
    "        return self.__weight, self.name,self.address, self.__class__.COMPANY_NAME, self.__class__.COMPANY_NAME\n",
    "sai=Emp(\"sailaxmi\",\"kailas hills\",72.45)\n",
    "sai.update_weight(80)\n",
    "print(sai.get())\n"
   ]
  },
  {
   "cell_type": "code",
   "execution_count": 40,
   "metadata": {},
   "outputs": [
    {
     "ename": "AttributeError",
     "evalue": "'Emp' object has no attribute '__update_weight'",
     "output_type": "error",
     "traceback": [
      "\u001b[0;31m---------------------------------------------------------------------------\u001b[0m",
      "\u001b[0;31mAttributeError\u001b[0m                            Traceback (most recent call last)",
      "\u001b[0;32m<ipython-input-40-7785b464d941>\u001b[0m in \u001b[0;36m<module>\u001b[0;34m()\u001b[0m\n\u001b[1;32m     14\u001b[0m         \u001b[0;32mreturn\u001b[0m \u001b[0mself\u001b[0m\u001b[0;34m.\u001b[0m\u001b[0m__weight\u001b[0m\u001b[0;34m,\u001b[0m \u001b[0mself\u001b[0m\u001b[0;34m.\u001b[0m\u001b[0mname\u001b[0m\u001b[0;34m,\u001b[0m\u001b[0mself\u001b[0m\u001b[0;34m.\u001b[0m\u001b[0maddress\u001b[0m\u001b[0;34m,\u001b[0m \u001b[0mself\u001b[0m\u001b[0;34m.\u001b[0m\u001b[0m__class__\u001b[0m\u001b[0;34m.\u001b[0m\u001b[0mCOMPANY_NAME\u001b[0m\u001b[0;34m,\u001b[0m \u001b[0mself\u001b[0m\u001b[0;34m.\u001b[0m\u001b[0m__class__\u001b[0m\u001b[0;34m.\u001b[0m\u001b[0mCOMPANY_NAME\u001b[0m\u001b[0;34m\u001b[0m\u001b[0m\n\u001b[1;32m     15\u001b[0m \u001b[0msai\u001b[0m\u001b[0;34m=\u001b[0m\u001b[0mEmp\u001b[0m\u001b[0;34m(\u001b[0m\u001b[0;34m\"sailaxmi\"\u001b[0m\u001b[0;34m,\u001b[0m\u001b[0;34m\"kailas hills\"\u001b[0m\u001b[0;34m,\u001b[0m\u001b[0;36m72.45\u001b[0m\u001b[0;34m)\u001b[0m\u001b[0;34m\u001b[0m\u001b[0m\n\u001b[0;32m---> 16\u001b[0;31m \u001b[0msai\u001b[0m\u001b[0;34m.\u001b[0m\u001b[0m__update_weight\u001b[0m\u001b[0;34m(\u001b[0m\u001b[0;36m80\u001b[0m\u001b[0;34m)\u001b[0m\u001b[0;34m\u001b[0m\u001b[0m\n\u001b[0m\u001b[1;32m     17\u001b[0m \u001b[0mprint\u001b[0m\u001b[0;34m(\u001b[0m\u001b[0msai\u001b[0m\u001b[0;34m.\u001b[0m\u001b[0mget\u001b[0m\u001b[0;34m(\u001b[0m\u001b[0;34m)\u001b[0m\u001b[0;34m)\u001b[0m\u001b[0;34m\u001b[0m\u001b[0m\n",
      "\u001b[0;31mAttributeError\u001b[0m: 'Emp' object has no attribute '__update_weight'"
     ]
    }
   ],
   "source": [
    "class Emp:  \n",
    "    COMPANY_NAME=\"khyaathi\"\n",
    "    COMPANY_ADDRESS = \"maithrivanam\"\n",
    "    def __init__(self,e_name,e_address,weight):\n",
    "        # constructor\n",
    "        self.name=e_name\n",
    "        self.address=e_address\n",
    "        self.__weight=weight\n",
    "    def __update_weight(self, new_weight):\n",
    "        # authorization code here\n",
    "        self.__weight=new_weight\n",
    "\n",
    "    def get(self):\n",
    "        return self.__weight, self.name,self.address, self.__class__.COMPANY_NAME, self.__class__.COMPANY_NAME\n",
    "sai=Emp(\"sailaxmi\",\"kailas hills\",72.45)\n",
    "sai.__update_weight(80)\n",
    "print(sai.get())\n"
   ]
  },
  {
   "cell_type": "code",
   "execution_count": 41,
   "metadata": {},
   "outputs": [
    {
     "name": "stdout",
     "output_type": "stream",
     "text": [
      "(80, 'sailaxmi', 'kailas hills', 'khyaathi', 'khyaathi')\n"
     ]
    }
   ],
   "source": [
    "# encapsulation\n",
    "class Emp:  \n",
    "    COMPANY_NAME=\"khyaathi\"\n",
    "    COMPANY_ADDRESS = \"maithrivanam\"\n",
    "    def __init__(self,e_name,e_address,weight):\n",
    "        # constructor\n",
    "        self.name=e_name\n",
    "        self.address=e_address\n",
    "        self.__weight=weight\n",
    "    def weight_change(self, new_weight):\n",
    "        # authorization code here\n",
    "        \n",
    "        self.__update_weight(new_weight)\n",
    "    def __update_weight(self, new_weight):\n",
    "    \n",
    "        self.__weight=new_weight\n",
    "\n",
    "    def get(self):\n",
    "        return self.__weight, self.name,self.address, self.__class__.COMPANY_NAME, self.__class__.COMPANY_NAME\n",
    "sai=Emp(\"sailaxmi\",\"kailas hills\",72.45)\n",
    "sai.weight_change(80)\n",
    "print(sai.get())\n"
   ]
  },
  {
   "cell_type": "code",
   "execution_count": 44,
   "metadata": {},
   "outputs": [
    {
     "name": "stdout",
     "output_type": "stream",
     "text": [
      "(None, None, 'sailaxmi', 'kailas hills', 'khyaathi', 'khyaathi')\n",
      "('12432423', None, 'jayaram', 'kailas hills', 'khyaathi', 'khyaathi')\n"
     ]
    }
   ],
   "source": [
    "#method overloading\n",
    "class Emp:  \n",
    "    COMPANY_NAME=\"khyaathi\"\n",
    "    COMPANY_ADDRESS = \"maithrivanam\"\n",
    "    def __init__(self,e_name,e_address,adhar=None, passport=None):\n",
    "        # constructor\n",
    "        self.name=e_name\n",
    "        self.address=e_address\n",
    "        self.adhar =adhar\n",
    "        self.passport = passport\n",
    "    def get(self):\n",
    "        return self.adhar, self.passport,self.name,self.address,\\\n",
    "            self.__class__.COMPANY_NAME, self.__class__.COMPANY_NAME\n",
    "sai=Emp(\"sailaxmi\",\"kailas hills\")\n",
    "jay=Emp(\"jayaram\",\"kailas hills\",\"12432423\")\n",
    "print(sai.get())\n",
    "print(jay.get())"
   ]
  },
  {
   "cell_type": "code",
   "execution_count": null,
   "metadata": {},
   "outputs": [],
   "source": [
    "def fun1(a,b):\n",
    "    print(a,b)\n",
    "def fun1(a,b,c):\n",
    "    print(a,b,c)\n",
    "fun1(10,20)"
   ]
  },
  {
   "cell_type": "code",
   "execution_count": 47,
   "metadata": {},
   "outputs": [
    {
     "name": "stdout",
     "output_type": "stream",
     "text": [
      "invalid data\n",
      "(72.45, 'sailaxmi', 'kailas hills', 'khyaathi', 'khyaathi')\n"
     ]
    }
   ],
   "source": [
    "# encapsulation\n",
    "class Emp:  \n",
    "    COMPANY_NAME=\"khyaathi\"\n",
    "    COMPANY_ADDRESS = \"maithrivanam\"\n",
    "    def __init__(self,e_name,e_address,weight):\n",
    "        # constructor\n",
    "        self.name=e_name\n",
    "        self.address=e_address\n",
    "        self.__weight=weight\n",
    "    def weight_change(self, new_weight):\n",
    "        # authorization code here\n",
    "        if not isinstance(new_weight,int):\n",
    "            return \"invalid data\"\n",
    "        self.__update_weight(new_weight)\n",
    "    def __update_weight(self, new_weight):\n",
    "    \n",
    "        self.__weight=new_weight\n",
    "\n",
    "    def get(self):\n",
    "        return self.__weight, self.name,self.address, self.__class__.COMPANY_NAME, self.__class__.COMPANY_NAME\n",
    "sai=Emp(\"sailaxmi\",\"kailas hills\",72.45)\n",
    "print(sai.weight_change(\"80\"))\n",
    "print(sai.get())\n"
   ]
  },
  {
   "cell_type": "code",
   "execution_count": 49,
   "metadata": {},
   "outputs": [
    {
     "name": "stdout",
     "output_type": "stream",
     "text": [
      "No permission\n",
      "(72.45, 'sailaxmi', 'kailas hills', 'khyaathi', 'khyaathi')\n"
     ]
    }
   ],
   "source": [
    "# encapsulation\n",
    "class Emp:  \n",
    "    COMPANY_NAME=\"khyaathi\"\n",
    "    COMPANY_ADDRESS = \"maithrivanam\"\n",
    "    def __init__(self,e_name,e_address,weight,role):\n",
    "        # constructor\n",
    "        self.name=e_name\n",
    "        self.address=e_address\n",
    "        self.__weight=weight\n",
    "        self.role=role\n",
    "    def weight_change(self, new_weight):\n",
    "        if not isinstance(new_weight,int):\n",
    "            return \"invalid data\"\n",
    "        if self.role == \"HRM\":\n",
    "            self.__update_weight(new_weight)\n",
    "        else:\n",
    "            return \"No permission\"\n",
    "    def __update_weight(self, new_weight):\n",
    "    \n",
    "        self.__weight=new_weight\n",
    "\n",
    "    def get(self):\n",
    "        return self.__weight, self.name,self.address, self.__class__.COMPANY_NAME, self.__class__.COMPANY_NAME\n",
    "sai=Emp(\"sailaxmi\",\"kailas hills\",72.45,\"employee\")\n",
    "jay=Emp(\"sailaxmi\",\"kailas hills\",72.45,\"HRM\")\n",
    "print(sai.weight_change(80))\n",
    "print(sai.get())\n"
   ]
  },
  {
   "cell_type": "code",
   "execution_count": 51,
   "metadata": {},
   "outputs": [
    {
     "name": "stdout",
     "output_type": "stream",
     "text": [
      "None\n",
      "(80, 'sailaxmi', 'kailas hills', 'khyaathi', 'khyaathi')\n"
     ]
    }
   ],
   "source": [
    "# encapsulation\n",
    "class Emp:  \n",
    "    COMPANY_NAME=\"khyaathi\"\n",
    "    COMPANY_ADDRESS = \"maithrivanam\"\n",
    "    def __init__(self,e_name,e_address,weight,role):\n",
    "        # constructor\n",
    "        self.name=e_name\n",
    "        self.address=e_address\n",
    "        self.__weight=weight\n",
    "        self.role=role\n",
    "    def weight_change(self, new_weight):\n",
    "        if not isinstance(new_weight,int):\n",
    "            return \"invalid data\"\n",
    "        if self.role == \"HRM\":\n",
    "            self.__update_weight(new_weight)\n",
    "        else:\n",
    "            return \"No permission\"\n",
    "    def __update_weight(self, new_weight):\n",
    "    \n",
    "        self.__weight=new_weight\n",
    "\n",
    "    def get(self):\n",
    "        return self.__weight, self.name,self.address, self.__class__.COMPANY_NAME, self.__class__.COMPANY_NAME\n",
    "sai=Emp(\"sailaxmi\",\"kailas hills\",72.45,\"employee\")\n",
    "jay=Emp(\"sailaxmi\",\"kailas hills\",72.45,\"HRM\")\n",
    "print(jay.weight_change(80))\n",
    "print(jay.get())\n"
   ]
  },
  {
   "cell_type": "code",
   "execution_count": 1,
   "metadata": {},
   "outputs": [
    {
     "name": "stdout",
     "output_type": "stream",
     "text": [
      "this is fun1\n",
      "this is fun2\n",
      "this is fun3\n"
     ]
    }
   ],
   "source": [
    "class c1:\n",
    "    def fun1(self):\n",
    "        print(\"this is fun1\")\n",
    "class c2:\n",
    "    def fun2(self):\n",
    "        print(\"this is fun2\")\n",
    "class c3:\n",
    "    def fun3(self):\n",
    "        print(\"this is fun3\")\n",
    "    def operations(self):\n",
    "        pass\n",
    "o1=c1()\n",
    "o2=c2()\n",
    "o3=c3()\n",
    "o1.fun1()\n",
    "o2.fun2()\n",
    "o3.fun3()"
   ]
  },
  {
   "cell_type": "code",
   "execution_count": 2,
   "metadata": {},
   "outputs": [
    {
     "name": "stdout",
     "output_type": "stream",
     "text": [
      "this is fun1\n"
     ]
    },
    {
     "ename": "AttributeError",
     "evalue": "'c1' object has no attribute 'fun2'",
     "output_type": "error",
     "traceback": [
      "\u001b[0;31m---------------------------------------------------------------------------\u001b[0m",
      "\u001b[0;31mAttributeError\u001b[0m                            Traceback (most recent call last)",
      "\u001b[0;32m<ipython-input-2-4b9defba2d07>\u001b[0m in \u001b[0;36m<module>\u001b[0;34m()\u001b[0m\n\u001b[1;32m     12\u001b[0m \u001b[0mo1\u001b[0m\u001b[0;34m=\u001b[0m\u001b[0mc1\u001b[0m\u001b[0;34m(\u001b[0m\u001b[0;34m)\u001b[0m\u001b[0;34m\u001b[0m\u001b[0m\n\u001b[1;32m     13\u001b[0m \u001b[0mo1\u001b[0m\u001b[0;34m.\u001b[0m\u001b[0mfun1\u001b[0m\u001b[0;34m(\u001b[0m\u001b[0;34m)\u001b[0m\u001b[0;34m\u001b[0m\u001b[0m\n\u001b[0;32m---> 14\u001b[0;31m \u001b[0mo1\u001b[0m\u001b[0;34m.\u001b[0m\u001b[0mfun2\u001b[0m\u001b[0;34m(\u001b[0m\u001b[0;34m)\u001b[0m\u001b[0;34m\u001b[0m\u001b[0m\n\u001b[0m\u001b[1;32m     15\u001b[0m \u001b[0mo1\u001b[0m\u001b[0;34m.\u001b[0m\u001b[0mfun3\u001b[0m\u001b[0;34m(\u001b[0m\u001b[0;34m)\u001b[0m\u001b[0;34m\u001b[0m\u001b[0m\n",
      "\u001b[0;31mAttributeError\u001b[0m: 'c1' object has no attribute 'fun2'"
     ]
    }
   ],
   "source": [
    "class c1:\n",
    "    def fun1(self):\n",
    "        print(\"this is fun1\")\n",
    "class c2:\n",
    "    def fun2(self):\n",
    "        print(\"this is fun2\")\n",
    "class c3:\n",
    "    def fun3(self):\n",
    "        print(\"this is fun3\")\n",
    "    def operations(self):\n",
    "        pass\n",
    "o1=c1()\n",
    "o1.fun1()\n",
    "o1.fun2()\n",
    "o1.fun3()"
   ]
  },
  {
   "cell_type": "code",
   "execution_count": 3,
   "metadata": {},
   "outputs": [
    {
     "ename": "AttributeError",
     "evalue": "'c3' object has no attribute 'fun1'",
     "output_type": "error",
     "traceback": [
      "\u001b[0;31m---------------------------------------------------------------------------\u001b[0m",
      "\u001b[0;31mAttributeError\u001b[0m                            Traceback (most recent call last)",
      "\u001b[0;32m<ipython-input-3-5a36c76e8ca3>\u001b[0m in \u001b[0;36m<module>\u001b[0;34m()\u001b[0m\n\u001b[1;32m     11\u001b[0m         \u001b[0;32mpass\u001b[0m\u001b[0;34m\u001b[0m\u001b[0m\n\u001b[1;32m     12\u001b[0m \u001b[0mo1\u001b[0m\u001b[0;34m=\u001b[0m\u001b[0mc3\u001b[0m\u001b[0;34m(\u001b[0m\u001b[0;34m)\u001b[0m\u001b[0;34m\u001b[0m\u001b[0m\n\u001b[0;32m---> 13\u001b[0;31m \u001b[0mo1\u001b[0m\u001b[0;34m.\u001b[0m\u001b[0mfun1\u001b[0m\u001b[0;34m(\u001b[0m\u001b[0;34m)\u001b[0m\u001b[0;34m\u001b[0m\u001b[0m\n\u001b[0m\u001b[1;32m     14\u001b[0m \u001b[0mo1\u001b[0m\u001b[0;34m.\u001b[0m\u001b[0mfun2\u001b[0m\u001b[0;34m(\u001b[0m\u001b[0;34m)\u001b[0m\u001b[0;34m\u001b[0m\u001b[0m\n\u001b[1;32m     15\u001b[0m \u001b[0mo1\u001b[0m\u001b[0;34m.\u001b[0m\u001b[0mfun3\u001b[0m\u001b[0;34m(\u001b[0m\u001b[0;34m)\u001b[0m\u001b[0;34m\u001b[0m\u001b[0m\n",
      "\u001b[0;31mAttributeError\u001b[0m: 'c3' object has no attribute 'fun1'"
     ]
    }
   ],
   "source": [
    "class c1:\n",
    "    def fun1(self):\n",
    "        print(\"this is fun1\")\n",
    "class c2:\n",
    "    def fun2(self):\n",
    "        print(\"this is fun2\")\n",
    "class c3:\n",
    "    def fun3(self):\n",
    "        print(\"this is fun3\")\n",
    "    def operations(self):\n",
    "        pass\n",
    "o1=c3()\n",
    "o1.fun1()\n",
    "o1.fun2()\n",
    "o1.fun3()"
   ]
  },
  {
   "cell_type": "code",
   "execution_count": 4,
   "metadata": {},
   "outputs": [
    {
     "name": "stdout",
     "output_type": "stream",
     "text": [
      "this is fun1\n"
     ]
    },
    {
     "ename": "AttributeError",
     "evalue": "'c3' object has no attribute 'fun2'",
     "output_type": "error",
     "traceback": [
      "\u001b[0;31m---------------------------------------------------------------------------\u001b[0m",
      "\u001b[0;31mAttributeError\u001b[0m                            Traceback (most recent call last)",
      "\u001b[0;32m<ipython-input-4-1fe70d0e3b17>\u001b[0m in \u001b[0;36m<module>\u001b[0;34m()\u001b[0m\n\u001b[1;32m     12\u001b[0m \u001b[0mo3\u001b[0m\u001b[0;34m=\u001b[0m\u001b[0mc3\u001b[0m\u001b[0;34m(\u001b[0m\u001b[0;34m)\u001b[0m\u001b[0;34m\u001b[0m\u001b[0m\n\u001b[1;32m     13\u001b[0m \u001b[0mo3\u001b[0m\u001b[0;34m.\u001b[0m\u001b[0mfun1\u001b[0m\u001b[0;34m(\u001b[0m\u001b[0;34m)\u001b[0m\u001b[0;34m\u001b[0m\u001b[0m\n\u001b[0;32m---> 14\u001b[0;31m \u001b[0mo3\u001b[0m\u001b[0;34m.\u001b[0m\u001b[0mfun2\u001b[0m\u001b[0;34m(\u001b[0m\u001b[0;34m)\u001b[0m\u001b[0;34m\u001b[0m\u001b[0m\n\u001b[0m\u001b[1;32m     15\u001b[0m \u001b[0mo3\u001b[0m\u001b[0;34m.\u001b[0m\u001b[0mfun3\u001b[0m\u001b[0;34m(\u001b[0m\u001b[0;34m)\u001b[0m\u001b[0;34m\u001b[0m\u001b[0m\n",
      "\u001b[0;31mAttributeError\u001b[0m: 'c3' object has no attribute 'fun2'"
     ]
    }
   ],
   "source": [
    "class c1:\n",
    "    def fun1(self):\n",
    "        print(\"this is fun1\")\n",
    "class c2:\n",
    "    def fun2(self):\n",
    "        print(\"this is fun2\")\n",
    "class c3(c1):\n",
    "    def fun3(self):\n",
    "        print(\"this is fun3\")\n",
    "    def operations(self):\n",
    "        pass\n",
    "o3=c3()\n",
    "o3.fun1()\n",
    "o3.fun2()\n",
    "o3.fun3()"
   ]
  },
  {
   "cell_type": "code",
   "execution_count": 5,
   "metadata": {},
   "outputs": [
    {
     "name": "stdout",
     "output_type": "stream",
     "text": [
      "this is fun1\n",
      "this is fun2\n",
      "this is fun3\n"
     ]
    }
   ],
   "source": [
    "class c1:\n",
    "    def fun1(self):\n",
    "        print(\"this is fun1\")\n",
    "class c2:\n",
    "    def fun2(self):\n",
    "        print(\"this is fun2\")\n",
    "class c3(c1,c2):\n",
    "    def fun3(self):\n",
    "        print(\"this is fun3\")\n",
    "    def operations(self):\n",
    "        pass\n",
    "o3=c3()\n",
    "o3.fun1()\n",
    "o3.fun2()\n",
    "o3.fun3()"
   ]
  },
  {
   "cell_type": "code",
   "execution_count": 7,
   "metadata": {},
   "outputs": [
    {
     "name": "stdout",
     "output_type": "stream",
     "text": [
      "(<class '__main__.c3'>, <class '__main__.c1'>, <class '__main__.c2'>, <class 'object'>)\n",
      "this is fun1 in c3\n",
      "this is fun2 in c2\n",
      "this is fun3 in c3\n"
     ]
    }
   ],
   "source": [
    "class c1:\n",
    "    def fun1(self):\n",
    "        print(\"this is fun1 in c1\")\n",
    "class c2:\n",
    "    def fun2(self):\n",
    "        print(\"this is fun2 in c2\")\n",
    "class c3(c1,c2):\n",
    "    def fun1(self):\n",
    "        print(\"this is fun1 in c3\")\n",
    "    def fun3(self):\n",
    "        print(\"this is fun3 in c3\")\n",
    "    def operations(self):\n",
    "        pass\n",
    "print(c3.__mro__)\n",
    "o3=c3()\n",
    "o3.fun1()\n",
    "o3.fun2()\n",
    "o3.fun3()"
   ]
  },
  {
   "cell_type": "code",
   "execution_count": 9,
   "metadata": {},
   "outputs": [
    {
     "name": "stdout",
     "output_type": "stream",
     "text": [
      "this is fun1 in c3\n",
      "this is fun2 in c2\n",
      "this is fun3 in c3\n"
     ]
    }
   ],
   "source": [
    "class c1:\n",
    "    def fun1(self):\n",
    "        print(\"this is fun1 in c1\")\n",
    "\n",
    "    def fun2(self):\n",
    "        print(\"this is fun2 in c2\")\n",
    "\n",
    "    def fun1(self):\n",
    "        print(\"this is fun1 in c3\")\n",
    "    def fun3(self):\n",
    "        print(\"this is fun3 in c3\")\n",
    "    def operations(self):\n",
    "        pass\n",
    "\n",
    "o3=c1()\n",
    "o3.fun1()\n",
    "o3.fun2()\n",
    "o3.fun3()"
   ]
  },
  {
   "cell_type": "code",
   "execution_count": null,
   "metadata": {},
   "outputs": [],
   "source": [
    "# installed CRM from odoo\n",
    "# customer.py----> \n",
    "class Customer(): \n",
    "    def create_customer(): \n",
    "        pass\n",
    "    def get_customer():\n",
    "        pass\n",
    "    def update_cusrtomer():\n",
    "        pass\n",
    "# app.py\n",
    "c1=Customer()\n",
    "c1.create_customer()\n",
    "c1.update_cusrtomer()"
   ]
  },
  {
   "cell_type": "code",
   "execution_count": null,
   "metadata": {},
   "outputs": [],
   "source": [
    "# installed CRM from odoo\n",
    "# customer.py----> \n",
    "class Customer(): \n",
    "    def create_customer(): \n",
    "        pass\n",
    "    def get_customer():\n",
    "        pass\n",
    "# app.py\n",
    "class OwnCustomer(Customer):\n",
    "    def update_customer(self):\n",
    "        pass\n",
    "c1=Customer()\n",
    "c1.create_customer()\n",
    "c1.update_cusrtomer()"
   ]
  },
  {
   "cell_type": "code",
   "execution_count": 10,
   "metadata": {},
   "outputs": [
    {
     "ename": "TypeError",
     "evalue": "__init__() missing 1 required positional argument: 'a'",
     "output_type": "error",
     "traceback": [
      "\u001b[0;31m---------------------------------------------------------------------------\u001b[0m",
      "\u001b[0;31mTypeError\u001b[0m                                 Traceback (most recent call last)",
      "\u001b[0;32m<ipython-input-10-87a2500207a3>\u001b[0m in \u001b[0;36m<module>\u001b[0;34m()\u001b[0m\n\u001b[1;32m      6\u001b[0m     \u001b[0;32mdef\u001b[0m \u001b[0mget\u001b[0m\u001b[0;34m(\u001b[0m\u001b[0mself\u001b[0m\u001b[0;34m)\u001b[0m\u001b[0;34m:\u001b[0m\u001b[0;34m\u001b[0m\u001b[0m\n\u001b[1;32m      7\u001b[0m         \u001b[0;32mreturn\u001b[0m \u001b[0mself\u001b[0m\u001b[0;34m.\u001b[0m\u001b[0ma\u001b[0m\u001b[0;34m\u001b[0m\u001b[0m\n\u001b[0;32m----> 8\u001b[0;31m \u001b[0mo2\u001b[0m\u001b[0;34m=\u001b[0m\u001b[0mc2\u001b[0m\u001b[0;34m(\u001b[0m\u001b[0;34m)\u001b[0m\u001b[0;34m\u001b[0m\u001b[0m\n\u001b[0m\u001b[1;32m      9\u001b[0m \u001b[0mprint\u001b[0m\u001b[0;34m(\u001b[0m\u001b[0mo2\u001b[0m\u001b[0;34m.\u001b[0m\u001b[0mget\u001b[0m\u001b[0;34m(\u001b[0m\u001b[0;34m)\u001b[0m\u001b[0;34m)\u001b[0m\u001b[0;34m\u001b[0m\u001b[0m\n",
      "\u001b[0;31mTypeError\u001b[0m: __init__() missing 1 required positional argument: 'a'"
     ]
    }
   ],
   "source": [
    "class c1:\n",
    "    def __init__(self,a):\n",
    "        self.a=a\n",
    "        print(\"this is inint\")\n",
    "class c2(c1):\n",
    "    def get(self):\n",
    "        return self.a\n",
    "o2=c2()\n",
    "print(o2.get())\n"
   ]
  },
  {
   "cell_type": "code",
   "execution_count": 11,
   "metadata": {},
   "outputs": [
    {
     "name": "stdout",
     "output_type": "stream",
     "text": [
      "this is inint\n",
      "100\n"
     ]
    }
   ],
   "source": [
    "class c1:\n",
    "    def __init__(self,a):\n",
    "        self.a=a\n",
    "        print(\"this is inint\")\n",
    "class c2(c1):\n",
    "    def get(self):\n",
    "        return self.a\n",
    "o2=c2(100)\n",
    "print(o2.get())\n"
   ]
  },
  {
   "cell_type": "code",
   "execution_count": 12,
   "metadata": {},
   "outputs": [
    {
     "name": "stdout",
     "output_type": "stream",
     "text": [
      "this is init in c2\n"
     ]
    },
    {
     "ename": "AttributeError",
     "evalue": "'c2' object has no attribute 'a'",
     "output_type": "error",
     "traceback": [
      "\u001b[0;31m---------------------------------------------------------------------------\u001b[0m",
      "\u001b[0;31mAttributeError\u001b[0m                            Traceback (most recent call last)",
      "\u001b[0;32m<ipython-input-12-f1879b541688>\u001b[0m in \u001b[0;36m<module>\u001b[0;34m()\u001b[0m\n\u001b[1;32m     11\u001b[0m         \u001b[0;32mreturn\u001b[0m \u001b[0mself\u001b[0m\u001b[0;34m.\u001b[0m\u001b[0ma\u001b[0m\u001b[0;34m,\u001b[0m\u001b[0mself\u001b[0m\u001b[0;34m.\u001b[0m\u001b[0mb\u001b[0m\u001b[0;34m\u001b[0m\u001b[0m\n\u001b[1;32m     12\u001b[0m \u001b[0mo2\u001b[0m\u001b[0;34m=\u001b[0m\u001b[0mc2\u001b[0m\u001b[0;34m(\u001b[0m\u001b[0;36m100\u001b[0m\u001b[0;34m)\u001b[0m\u001b[0;34m\u001b[0m\u001b[0m\n\u001b[0;32m---> 13\u001b[0;31m \u001b[0mprint\u001b[0m\u001b[0;34m(\u001b[0m\u001b[0mo2\u001b[0m\u001b[0;34m.\u001b[0m\u001b[0mget\u001b[0m\u001b[0;34m(\u001b[0m\u001b[0;34m)\u001b[0m\u001b[0;34m)\u001b[0m\u001b[0;34m\u001b[0m\u001b[0m\n\u001b[0m",
      "\u001b[0;32m<ipython-input-12-f1879b541688>\u001b[0m in \u001b[0;36mget\u001b[0;34m(self)\u001b[0m\n\u001b[1;32m      9\u001b[0m         \u001b[0mself\u001b[0m\u001b[0;34m.\u001b[0m\u001b[0mb\u001b[0m\u001b[0;34m=\u001b[0m\u001b[0mb\u001b[0m\u001b[0;34m\u001b[0m\u001b[0m\n\u001b[1;32m     10\u001b[0m     \u001b[0;32mdef\u001b[0m \u001b[0mget\u001b[0m\u001b[0;34m(\u001b[0m\u001b[0mself\u001b[0m\u001b[0;34m)\u001b[0m\u001b[0;34m:\u001b[0m\u001b[0;34m\u001b[0m\u001b[0m\n\u001b[0;32m---> 11\u001b[0;31m         \u001b[0;32mreturn\u001b[0m \u001b[0mself\u001b[0m\u001b[0;34m.\u001b[0m\u001b[0ma\u001b[0m\u001b[0;34m,\u001b[0m\u001b[0mself\u001b[0m\u001b[0;34m.\u001b[0m\u001b[0mb\u001b[0m\u001b[0;34m\u001b[0m\u001b[0m\n\u001b[0m\u001b[1;32m     12\u001b[0m \u001b[0mo2\u001b[0m\u001b[0;34m=\u001b[0m\u001b[0mc2\u001b[0m\u001b[0;34m(\u001b[0m\u001b[0;36m100\u001b[0m\u001b[0;34m)\u001b[0m\u001b[0;34m\u001b[0m\u001b[0m\n\u001b[1;32m     13\u001b[0m \u001b[0mprint\u001b[0m\u001b[0;34m(\u001b[0m\u001b[0mo2\u001b[0m\u001b[0;34m.\u001b[0m\u001b[0mget\u001b[0m\u001b[0;34m(\u001b[0m\u001b[0;34m)\u001b[0m\u001b[0;34m)\u001b[0m\u001b[0;34m\u001b[0m\u001b[0m\n",
      "\u001b[0;31mAttributeError\u001b[0m: 'c2' object has no attribute 'a'"
     ]
    }
   ],
   "source": [
    "class c1:\n",
    "    def __init__(self,a):\n",
    "        print(\"this is init in c1\")\n",
    "        self.a=a\n",
    "        \n",
    "class c2(c1):\n",
    "    def __init__(self,b):\n",
    "        print(\"this is init in c2\")\n",
    "        self.b=b\n",
    "    def get(self):\n",
    "        return self.a,self.b\n",
    "o2=c2(100)\n",
    "print(o2.get())\n"
   ]
  },
  {
   "cell_type": "code",
   "execution_count": 14,
   "metadata": {},
   "outputs": [
    {
     "name": "stdout",
     "output_type": "stream",
     "text": [
      "this is init in c2\n",
      "(100, 200)\n"
     ]
    }
   ],
   "source": [
    "class c1:\n",
    "    def __init__(self,a):\n",
    "        print(\"this is init in c1\")\n",
    "        self.a=a\n",
    "        \n",
    "class c2(c1):\n",
    "    def __init__(self,a,b):\n",
    "        print(\"this is init in c2\")\n",
    "        self.a=a\n",
    "        self.b=b\n",
    "    def get(self):\n",
    "        return self.a,self.b\n",
    "o2=c2(100,200)\n",
    "print(o2.get())\n"
   ]
  },
  {
   "cell_type": "code",
   "execution_count": 15,
   "metadata": {},
   "outputs": [
    {
     "name": "stdout",
     "output_type": "stream",
     "text": [
      "this is init in c2\n"
     ]
    },
    {
     "ename": "TypeError",
     "evalue": "__init__() missing 1 required positional argument: 'b'",
     "output_type": "error",
     "traceback": [
      "\u001b[0;31m---------------------------------------------------------------------------\u001b[0m",
      "\u001b[0;31mTypeError\u001b[0m                                 Traceback (most recent call last)",
      "\u001b[0;32m<ipython-input-15-0f1a85f364e0>\u001b[0m in \u001b[0;36m<module>\u001b[0;34m()\u001b[0m\n\u001b[1;32m     11\u001b[0m     \u001b[0;32mdef\u001b[0m \u001b[0mget\u001b[0m\u001b[0;34m(\u001b[0m\u001b[0mself\u001b[0m\u001b[0;34m)\u001b[0m\u001b[0;34m:\u001b[0m\u001b[0;34m\u001b[0m\u001b[0m\n\u001b[1;32m     12\u001b[0m         \u001b[0;32mreturn\u001b[0m \u001b[0mself\u001b[0m\u001b[0;34m.\u001b[0m\u001b[0ma\u001b[0m\u001b[0;34m,\u001b[0m\u001b[0mself\u001b[0m\u001b[0;34m.\u001b[0m\u001b[0mb\u001b[0m\u001b[0;34m\u001b[0m\u001b[0m\n\u001b[0;32m---> 13\u001b[0;31m \u001b[0mo2\u001b[0m\u001b[0;34m=\u001b[0m\u001b[0mc2\u001b[0m\u001b[0;34m(\u001b[0m\u001b[0;36m100\u001b[0m\u001b[0;34m,\u001b[0m\u001b[0;36m200\u001b[0m\u001b[0;34m)\u001b[0m\u001b[0;34m\u001b[0m\u001b[0m\n\u001b[0m\u001b[1;32m     14\u001b[0m \u001b[0mprint\u001b[0m\u001b[0;34m(\u001b[0m\u001b[0mo2\u001b[0m\u001b[0;34m.\u001b[0m\u001b[0mget\u001b[0m\u001b[0;34m(\u001b[0m\u001b[0;34m)\u001b[0m\u001b[0;34m)\u001b[0m\u001b[0;34m\u001b[0m\u001b[0m\n",
      "\u001b[0;32m<ipython-input-15-0f1a85f364e0>\u001b[0m in \u001b[0;36m__init__\u001b[0;34m(self, a, b)\u001b[0m\n\u001b[1;32m      7\u001b[0m     \u001b[0;32mdef\u001b[0m \u001b[0m__init__\u001b[0m\u001b[0;34m(\u001b[0m\u001b[0mself\u001b[0m\u001b[0;34m,\u001b[0m\u001b[0ma\u001b[0m\u001b[0;34m,\u001b[0m\u001b[0mb\u001b[0m\u001b[0;34m)\u001b[0m\u001b[0;34m:\u001b[0m\u001b[0;34m\u001b[0m\u001b[0m\n\u001b[1;32m      8\u001b[0m         \u001b[0mprint\u001b[0m\u001b[0;34m(\u001b[0m\u001b[0;34m\"this is init in c2\"\u001b[0m\u001b[0;34m)\u001b[0m\u001b[0;34m\u001b[0m\u001b[0m\n\u001b[0;32m----> 9\u001b[0;31m         \u001b[0mself\u001b[0m\u001b[0;34m.\u001b[0m\u001b[0m__init__\u001b[0m\u001b[0;34m(\u001b[0m\u001b[0ma\u001b[0m\u001b[0;34m)\u001b[0m\u001b[0;34m\u001b[0m\u001b[0m\n\u001b[0m\u001b[1;32m     10\u001b[0m         \u001b[0mself\u001b[0m\u001b[0;34m.\u001b[0m\u001b[0mb\u001b[0m\u001b[0;34m=\u001b[0m\u001b[0mb\u001b[0m\u001b[0;34m\u001b[0m\u001b[0m\n\u001b[1;32m     11\u001b[0m     \u001b[0;32mdef\u001b[0m \u001b[0mget\u001b[0m\u001b[0;34m(\u001b[0m\u001b[0mself\u001b[0m\u001b[0;34m)\u001b[0m\u001b[0;34m:\u001b[0m\u001b[0;34m\u001b[0m\u001b[0m\n",
      "\u001b[0;31mTypeError\u001b[0m: __init__() missing 1 required positional argument: 'b'"
     ]
    }
   ],
   "source": [
    "class c1:\n",
    "    def __init__(self,a):\n",
    "        print(\"this is init in c1\")\n",
    "        self.a=a\n",
    "        \n",
    "class c2(c1):\n",
    "    def __init__(self,a,b):\n",
    "        print(\"this is init in c2\")\n",
    "        self.__init__(a)\n",
    "        self.b=b\n",
    "    def get(self):\n",
    "        return self.a,self.b\n",
    "o2=c2(100,200)\n",
    "print(o2.get())\n"
   ]
  },
  {
   "cell_type": "code",
   "execution_count": 16,
   "metadata": {},
   "outputs": [
    {
     "name": "stdout",
     "output_type": "stream",
     "text": [
      "this is init in c2\n",
      "this is init in c1\n",
      "(100, 200)\n"
     ]
    }
   ],
   "source": [
    "class c1:\n",
    "    def __init__(self,a):\n",
    "        print(\"this is init in c1\")\n",
    "        self.a=a\n",
    "        \n",
    "class c2(c1):\n",
    "    def __init__(self,a,b):\n",
    "        print(\"this is init in c2\")\n",
    "        c1.__init__(self,a)\n",
    "        self.b=b\n",
    "    def get(self):\n",
    "        return self.a,self.b\n",
    "o2=c2(100,200)\n",
    "print(o2.get())\n"
   ]
  },
  {
   "cell_type": "code",
   "execution_count": 17,
   "metadata": {},
   "outputs": [
    {
     "name": "stdout",
     "output_type": "stream",
     "text": [
      "inert into {'name': 'sailaxmi', 'cust_id': 23, 'address': 'devender nagar'}\n"
     ]
    }
   ],
   "source": [
    "class Model:\n",
    "    def __init__(self,**data):\n",
    "        self.data=data\n",
    "    def insert(self):\n",
    "        print(\"inert into %s\"%self.data)\n",
    "\n",
    "        \n",
    "class Customer(Model):\n",
    "    pass\n",
    "sai=Customer(name=\"sailaxmi\",cust_id=23,address=\"devender nagar\")\n",
    "sai.insert()"
   ]
  },
  {
   "cell_type": "code",
   "execution_count": 18,
   "metadata": {},
   "outputs": [
    {
     "name": "stdout",
     "output_type": "stream",
     "text": [
      "inert into {'name': 'sailaxmi', 'cust_id': 23, 'address': 'devender nagar'}\n",
      "inert into {'name': 'jayaram', 'sup_id': 24, 'address': 'kailas hills'}\n"
     ]
    }
   ],
   "source": [
    "class Model:\n",
    "    def __init__(self,**data):\n",
    "        self.data=data\n",
    "    def insert(self):\n",
    "        print(\"inert into %s\"%self.data)\n",
    "\n",
    "        \n",
    "class Customer(Model):\n",
    "    pass\n",
    "class Supplier(Model):\n",
    "    pass\n",
    "sai=Customer(name=\"sailaxmi\",cust_id=23,address=\"devender nagar\")\n",
    "sai.insert()\n",
    "jay=Supplier(name=\"jayaram\",sup_id=24,address=\"kailas hills\")\n",
    "jay.insert()"
   ]
  },
  {
   "cell_type": "code",
   "execution_count": 19,
   "metadata": {},
   "outputs": [
    {
     "name": "stdout",
     "output_type": "stream",
     "text": [
      "inert into {'name': 'sailaxmi', 'cust_id': 23, 'address': 'devender nagar'}\n",
      "inert into {'name': 'jayaram', 'sup_id': 24, 'address': 'kailas hills'}\n"
     ]
    }
   ],
   "source": [
    "class Model:\n",
    "    def __init__(self,**data):\n",
    "        self.data=data\n",
    "    def insert(self):\n",
    "        print(\"inert into %s\"%self.data)\n",
    "\n",
    "        \n",
    "class Customer(Model):\n",
    "    pass\n",
    "class Supplier(Model):\n",
    "    def validate_insert(self):\n",
    "        if self.data.get(\"name\").isalnum():\n",
    "            self.insert()\n",
    "        else:\n",
    "            print(\"invalid data\")\n",
    "sai=Customer(name=\"sailaxmi\",cust_id=23,address=\"devender nagar\")\n",
    "sai.insert()\n",
    "jay=Supplier(name=\"jayaram\",sup_id=24,address=\"kailas hills\")\n",
    "jay.insert()"
   ]
  },
  {
   "cell_type": "code",
   "execution_count": 20,
   "metadata": {},
   "outputs": [
    {
     "name": "stdout",
     "output_type": "stream",
     "text": [
      "inert into {'name': 'sailaxmi', 'cust_id': 23, 'address': 'devender nagar'}\n",
      "inert into {'name': 'jayaram', 'sup_id': 24, 'address': 'kailas hills'}\n"
     ]
    }
   ],
   "source": [
    "class Model:\n",
    "    def __init__(self,**data):\n",
    "        self.data=data\n",
    "    def insert(self):\n",
    "        print(\"inert into %s\"%self.data)\n",
    "\n",
    "        \n",
    "class Customer(Model):\n",
    "    pass\n",
    "class Supplier(Model):\n",
    "    def validate_insert(self):\n",
    "        if self.data.get(\"name\").isalnum():\n",
    "            self.insert()\n",
    "        else:\n",
    "            print(\"invalid data\")\n",
    "sai=Customer(name=\"sailaxmi\",cust_id=23,address=\"devender nagar\")\n",
    "sai.insert()\n",
    "jay=Supplier(name=\"jayaram\",sup_id=24,address=\"kailas hills\")\n",
    "jay.validate_insert()"
   ]
  },
  {
   "cell_type": "code",
   "execution_count": 22,
   "metadata": {},
   "outputs": [
    {
     "name": "stdout",
     "output_type": "stream",
     "text": [
      "inert into {'name': 'sailaxmi', 'cust_id': 23, 'address': 'devender nagar'}\n",
      "inert into {'name': 'jayaram', 'sup_id': 24, 'address': 'kailas hills'}\n"
     ]
    }
   ],
   "source": [
    "class Model:\n",
    "    def __init__(self,**data):\n",
    "        self.data=data\n",
    "    def insert(self):\n",
    "        print(\"inert into %s\"%self.data)\n",
    "\n",
    "        \n",
    "class Customer(Model):\n",
    "    pass\n",
    "class Supplier(Model):\n",
    "    def insert(self):\n",
    "        if self.data.get(\"name\").isalnum():\n",
    "            Model.insert(self)\n",
    "        else:\n",
    "            print(\"invalid data\")\n",
    "sai=Customer(name=\"sailaxmi\",cust_id=23,address=\"devender nagar\")\n",
    "sai.insert()\n",
    "jay=Supplier(name=\"jayaram\",sup_id=24,address=\"kailas hills\")\n",
    "jay.insert()"
   ]
  },
  {
   "cell_type": "code",
   "execution_count": 4,
   "metadata": {},
   "outputs": [],
   "source": [
    "class Emp:  \n",
    "    COMPANY_NAME=\"khyaathi\"\n",
    "    COMPANY_ADDRESS = \"maithrivanam\"\n",
    "    def __init__(self,e_name,e_address,weight,role):\n",
    "        self.name=e_name\n",
    "        self.address=e_address\n",
    "        self.__weight=weight\n",
    "        self.role=role\n",
    "    def get(self):\n",
    "        return self.__weight, self.name,self.address, self.__class__.COMPANY_NAME, self.__class__.COMPANY_NAME\n",
    "sai=Emp(\"sailaxmi\",\"kailas hills\",72.45,\"employee\")\n",
    "jay=Emp(\"sailaxmi\",\"kailas hills\",72.45,\"HRM\")\n"
   ]
  },
  {
   "cell_type": "code",
   "execution_count": 5,
   "metadata": {},
   "outputs": [
    {
     "name": "stdout",
     "output_type": "stream",
     "text": [
      "<class 'type'>\n"
     ]
    }
   ],
   "source": [
    "print(type(Emp))"
   ]
  },
  {
   "cell_type": "code",
   "execution_count": 6,
   "metadata": {},
   "outputs": [
    {
     "data": {
      "text/plain": [
       "type"
      ]
     },
     "execution_count": 6,
     "metadata": {},
     "output_type": "execute_result"
    }
   ],
   "source": [
    "type"
   ]
  },
  {
   "cell_type": "code",
   "execution_count": 7,
   "metadata": {},
   "outputs": [
    {
     "data": {
      "text/plain": [
       "__main__.Emp"
      ]
     },
     "execution_count": 7,
     "metadata": {},
     "output_type": "execute_result"
    }
   ],
   "source": [
    "type(sai)"
   ]
  },
  {
   "cell_type": "code",
   "execution_count": 8,
   "metadata": {},
   "outputs": [
    {
     "data": {
      "text/plain": [
       "type"
      ]
     },
     "execution_count": 8,
     "metadata": {},
     "output_type": "execute_result"
    }
   ],
   "source": [
    "type(Emp)"
   ]
  },
  {
   "cell_type": "code",
   "execution_count": 9,
   "metadata": {},
   "outputs": [
    {
     "data": {
      "text/plain": [
       "__main__.Emp"
      ]
     },
     "execution_count": 9,
     "metadata": {},
     "output_type": "execute_result"
    }
   ],
   "source": [
    "type(sai)"
   ]
  },
  {
   "cell_type": "code",
   "execution_count": 10,
   "metadata": {},
   "outputs": [],
   "source": [
    "a=1000"
   ]
  },
  {
   "cell_type": "code",
   "execution_count": 11,
   "metadata": {},
   "outputs": [
    {
     "data": {
      "text/plain": [
       "int"
      ]
     },
     "execution_count": 11,
     "metadata": {},
     "output_type": "execute_result"
    }
   ],
   "source": [
    "type(a)"
   ]
  },
  {
   "cell_type": "code",
   "execution_count": 12,
   "metadata": {},
   "outputs": [
    {
     "data": {
      "text/plain": [
       "3000"
      ]
     },
     "execution_count": 12,
     "metadata": {},
     "output_type": "execute_result"
    }
   ],
   "source": [
    "a=1000\n",
    "b=2000\n",
    "a+b"
   ]
  },
  {
   "cell_type": "code",
   "execution_count": 13,
   "metadata": {},
   "outputs": [
    {
     "ename": "TypeError",
     "evalue": "unsupported operand type(s) for +: 'Emp' and 'Emp'",
     "output_type": "error",
     "traceback": [
      "\u001b[0;31m---------------------------------------------------------------------------\u001b[0m",
      "\u001b[0;31mTypeError\u001b[0m                                 Traceback (most recent call last)",
      "\u001b[0;32m<ipython-input-13-8ac63aeaf5e1>\u001b[0m in \u001b[0;36m<module>\u001b[0;34m()\u001b[0m\n\u001b[1;32m     11\u001b[0m \u001b[0msai\u001b[0m\u001b[0;34m=\u001b[0m\u001b[0mEmp\u001b[0m\u001b[0;34m(\u001b[0m\u001b[0;34m\"sailaxmi\"\u001b[0m\u001b[0;34m,\u001b[0m\u001b[0;34m\"kailas hills\"\u001b[0m\u001b[0;34m,\u001b[0m\u001b[0;36m72.45\u001b[0m\u001b[0;34m,\u001b[0m\u001b[0;34m\"employee\"\u001b[0m\u001b[0;34m)\u001b[0m\u001b[0;34m\u001b[0m\u001b[0m\n\u001b[1;32m     12\u001b[0m \u001b[0mjay\u001b[0m\u001b[0;34m=\u001b[0m\u001b[0mEmp\u001b[0m\u001b[0;34m(\u001b[0m\u001b[0;34m\"sailaxmi\"\u001b[0m\u001b[0;34m,\u001b[0m\u001b[0;34m\"kailas hills\"\u001b[0m\u001b[0;34m,\u001b[0m\u001b[0;36m72.45\u001b[0m\u001b[0;34m,\u001b[0m\u001b[0;34m\"HRM\"\u001b[0m\u001b[0;34m)\u001b[0m\u001b[0;34m\u001b[0m\u001b[0m\n\u001b[0;32m---> 13\u001b[0;31m \u001b[0msai\u001b[0m\u001b[0;34m+\u001b[0m\u001b[0mjay\u001b[0m\u001b[0;34m\u001b[0m\u001b[0m\n\u001b[0m",
      "\u001b[0;31mTypeError\u001b[0m: unsupported operand type(s) for +: 'Emp' and 'Emp'"
     ]
    }
   ],
   "source": [
    "class Emp:  \n",
    "    COMPANY_NAME=\"khyaathi\"\n",
    "    COMPANY_ADDRESS = \"maithrivanam\"\n",
    "    def __init__(self,e_name,e_address,weight,role):\n",
    "        self.name=e_name\n",
    "        self.address=e_address\n",
    "        self.__weight=weight\n",
    "        self.role=role\n",
    "    def get(self):\n",
    "        return self.__weight, self.name,self.address, self.__class__.COMPANY_NAME, self.__class__.COMPANY_NAME\n",
    "sai=Emp(\"sailaxmi\",\"kailas hills\",72.45,\"employee\")\n",
    "jay=Emp(\"sailaxmi\",\"kailas hills\",72.45,\"HRM\")\n",
    "sai+jay"
   ]
  },
  {
   "cell_type": "code",
   "execution_count": 15,
   "metadata": {},
   "outputs": [
    {
     "data": {
      "text/plain": [
       "39"
      ]
     },
     "execution_count": 15,
     "metadata": {},
     "output_type": "execute_result"
    }
   ],
   "source": [
    "10+29"
   ]
  },
  {
   "cell_type": "code",
   "execution_count": 16,
   "metadata": {},
   "outputs": [
    {
     "data": {
      "text/plain": [
       "'asdfsaddsfs'"
      ]
     },
     "execution_count": 16,
     "metadata": {},
     "output_type": "execute_result"
    }
   ],
   "source": [
    "\"asdfsad\"+\"dsfs\""
   ]
  },
  {
   "cell_type": "code",
   "execution_count": 17,
   "metadata": {},
   "outputs": [
    {
     "data": {
      "text/plain": [
       "False"
      ]
     },
     "execution_count": 17,
     "metadata": {},
     "output_type": "execute_result"
    }
   ],
   "source": [
    "10>20"
   ]
  },
  {
   "cell_type": "code",
   "execution_count": 19,
   "metadata": {},
   "outputs": [
    {
     "data": {
      "text/plain": [
       "False"
      ]
     },
     "execution_count": 19,
     "metadata": {},
     "output_type": "execute_result"
    }
   ],
   "source": [
    "\"10\">\"20\"\n"
   ]
  },
  {
   "cell_type": "code",
   "execution_count": 20,
   "metadata": {},
   "outputs": [
    {
     "data": {
      "text/plain": [
       "(1+2j)"
      ]
     },
     "execution_count": 20,
     "metadata": {},
     "output_type": "execute_result"
    }
   ],
   "source": [
    "1+2j"
   ]
  },
  {
   "cell_type": "code",
   "execution_count": 21,
   "metadata": {},
   "outputs": [
    {
     "data": {
      "text/plain": [
       "3"
      ]
     },
     "execution_count": 21,
     "metadata": {},
     "output_type": "execute_result"
    }
   ],
   "source": [
    "1+2"
   ]
  },
  {
   "cell_type": "code",
   "execution_count": 22,
   "metadata": {},
   "outputs": [
    {
     "name": "stdout",
     "output_type": "stream",
     "text": [
      "s\n",
      "f\n",
      "d\n",
      "s\n"
     ]
    }
   ],
   "source": [
    "for i in \"sfds\":\n",
    "    print(i)"
   ]
  },
  {
   "cell_type": "code",
   "execution_count": 23,
   "metadata": {},
   "outputs": [
    {
     "ename": "TypeError",
     "evalue": "'int' object is not iterable",
     "output_type": "error",
     "traceback": [
      "\u001b[0;31m---------------------------------------------------------------------------\u001b[0m",
      "\u001b[0;31mTypeError\u001b[0m                                 Traceback (most recent call last)",
      "\u001b[0;32m<ipython-input-23-665a8c31cf25>\u001b[0m in \u001b[0;36m<module>\u001b[0;34m()\u001b[0m\n\u001b[0;32m----> 1\u001b[0;31m \u001b[0;32mfor\u001b[0m \u001b[0mi\u001b[0m \u001b[0;32min\u001b[0m \u001b[0;36m10\u001b[0m\u001b[0;34m:\u001b[0m\u001b[0;34m\u001b[0m\u001b[0m\n\u001b[0m\u001b[1;32m      2\u001b[0m     \u001b[0mprint\u001b[0m\u001b[0;34m(\u001b[0m\u001b[0mi\u001b[0m\u001b[0;34m)\u001b[0m\u001b[0;34m\u001b[0m\u001b[0m\n",
      "\u001b[0;31mTypeError\u001b[0m: 'int' object is not iterable"
     ]
    }
   ],
   "source": [
    "for i in 10:\n",
    "    print(i)"
   ]
  },
  {
   "cell_type": "code",
   "execution_count": 24,
   "metadata": {},
   "outputs": [
    {
     "ename": "TypeError",
     "evalue": "unsupported operand type(s) for +: 'dict' and 'dict'",
     "output_type": "error",
     "traceback": [
      "\u001b[0;31m---------------------------------------------------------------------------\u001b[0m",
      "\u001b[0;31mTypeError\u001b[0m                                 Traceback (most recent call last)",
      "\u001b[0;32m<ipython-input-24-65e555459418>\u001b[0m in \u001b[0;36m<module>\u001b[0;34m()\u001b[0m\n\u001b[1;32m      1\u001b[0m \u001b[0md1\u001b[0m\u001b[0;34m=\u001b[0m\u001b[0;34m{\u001b[0m\u001b[0;36m1\u001b[0m\u001b[0;34m:\u001b[0m\u001b[0;36m2\u001b[0m\u001b[0;34m}\u001b[0m\u001b[0;34m\u001b[0m\u001b[0m\n\u001b[1;32m      2\u001b[0m \u001b[0md2\u001b[0m\u001b[0;34m=\u001b[0m\u001b[0;34m{\u001b[0m\u001b[0;36m2\u001b[0m\u001b[0;34m:\u001b[0m\u001b[0;36m3\u001b[0m\u001b[0;34m}\u001b[0m\u001b[0;34m\u001b[0m\u001b[0m\n\u001b[0;32m----> 3\u001b[0;31m \u001b[0md1\u001b[0m\u001b[0;34m+\u001b[0m\u001b[0md2\u001b[0m\u001b[0;34m\u001b[0m\u001b[0m\n\u001b[0m",
      "\u001b[0;31mTypeError\u001b[0m: unsupported operand type(s) for +: 'dict' and 'dict'"
     ]
    }
   ],
   "source": [
    "d1={1:2}\n",
    "d2={2:3}\n",
    "d1+d2"
   ]
  },
  {
   "cell_type": "code",
   "execution_count": 25,
   "metadata": {},
   "outputs": [
    {
     "data": {
      "text/plain": [
       "20"
      ]
     },
     "execution_count": 25,
     "metadata": {},
     "output_type": "execute_result"
    }
   ],
   "source": [
    "class Emp:  \n",
    "    COMPANY_NAME=\"khyaathi\"\n",
    "    COMPANY_ADDRESS = \"maithrivanam\"\n",
    "    def __init__(self,e_name,e_address,weight,role):\n",
    "        self.name=e_name\n",
    "        self.address=e_address\n",
    "        self.__weight=weight\n",
    "        self.role=role\n",
    "    def get(self):\n",
    "        return self.__weight, self.name,self.address, self.__class__.COMPANY_NAME, self.__class__.COMPANY_NAME\n",
    "    def __add__(self1,self2):\n",
    "        return 20\n",
    "sai=Emp(\"sailaxmi\",\"kailas hills\",72.45,\"employee\")\n",
    "jay=Emp(\"sailaxmi\",\"kailas hills\",72.45,\"HRM\")\n",
    "sai+jay"
   ]
  },
  {
   "cell_type": "code",
   "execution_count": 26,
   "metadata": {},
   "outputs": [
    {
     "name": "stdout",
     "output_type": "stream",
     "text": [
      "20\n"
     ]
    }
   ],
   "source": [
    "class Emp:  \n",
    "    COMPANY_NAME=\"khyaathi\"\n",
    "    COMPANY_ADDRESS = \"maithrivanam\"\n",
    "    def __init__(self,e_name,e_address,weight,role):\n",
    "        self.name=e_name\n",
    "        self.address=e_address\n",
    "        self.__weight=weight\n",
    "        self.role=role\n",
    "    def get(self):\n",
    "        return self.__weight, self.name,self.address, self.__class__.COMPANY_NAME, self.__class__.COMPANY_NAME\n",
    "    def __add__(self1,self2):\n",
    "        return 20\n",
    "sai=Emp(\"sailaxmi\",\"kailas hills\",72.45,\"employee\")\n",
    "jay=Emp(\"sailaxmi\",\"kailas hills\",72.45,\"HRM\")\n",
    "print(sai+jay)"
   ]
  },
  {
   "cell_type": "code",
   "execution_count": 27,
   "metadata": {},
   "outputs": [
    {
     "name": "stdout",
     "output_type": "stream",
     "text": [
      "20\n",
      "20\n"
     ]
    }
   ],
   "source": [
    "class Emp:  \n",
    "    COMPANY_NAME=\"khyaathi\"\n",
    "    COMPANY_ADDRESS = \"maithrivanam\"\n",
    "    def __init__(self,e_name,e_address,weight,role):\n",
    "        self.name=e_name\n",
    "        self.address=e_address\n",
    "        self.__weight=weight\n",
    "        self.role=role\n",
    "    def get(self):\n",
    "        return self.__weight, self.name,self.address, self.__class__.COMPANY_NAME, self.__class__.COMPANY_NAME\n",
    "    def __add__(self1,self2):\n",
    "        return 20\n",
    "sai=Emp(\"sailaxmi\",\"kailas hills\",72.45,\"employee\")\n",
    "jay=Emp(\"sailaxmi\",\"kailas hills\",72.45,\"HRM\")\n",
    "print(sai+jay)\n",
    "print(sai.__add__(jay))"
   ]
  },
  {
   "cell_type": "code",
   "execution_count": 28,
   "metadata": {},
   "outputs": [
    {
     "data": {
      "text/plain": [
       "3000"
      ]
     },
     "execution_count": 28,
     "metadata": {},
     "output_type": "execute_result"
    }
   ],
   "source": [
    "a=1000\n",
    "b=2000\n",
    "a.__add__(b)"
   ]
  },
  {
   "cell_type": "code",
   "execution_count": 29,
   "metadata": {},
   "outputs": [
    {
     "name": "stdout",
     "output_type": "stream",
     "text": [
      "['__abs__', '__add__', '__and__', '__bool__', '__ceil__', '__class__', '__delattr__', '__dir__', '__divmod__', '__doc__', '__eq__', '__float__', '__floor__', '__floordiv__', '__format__', '__ge__', '__getattribute__', '__getnewargs__', '__gt__', '__hash__', '__index__', '__init__', '__init_subclass__', '__int__', '__invert__', '__le__', '__lshift__', '__lt__', '__mod__', '__mul__', '__ne__', '__neg__', '__new__', '__or__', '__pos__', '__pow__', '__radd__', '__rand__', '__rdivmod__', '__reduce__', '__reduce_ex__', '__repr__', '__rfloordiv__', '__rlshift__', '__rmod__', '__rmul__', '__ror__', '__round__', '__rpow__', '__rrshift__', '__rshift__', '__rsub__', '__rtruediv__', '__rxor__', '__setattr__', '__sizeof__', '__str__', '__sub__', '__subclasshook__', '__truediv__', '__trunc__', '__xor__', 'bit_length', 'conjugate', 'denominator', 'from_bytes', 'imag', 'numerator', 'real', 'to_bytes']\n"
     ]
    }
   ],
   "source": [
    "a=1000\n",
    "print(dir(a))"
   ]
  },
  {
   "cell_type": "code",
   "execution_count": 30,
   "metadata": {},
   "outputs": [
    {
     "data": {
      "text/plain": [
       "10"
      ]
     },
     "execution_count": 30,
     "metadata": {},
     "output_type": "execute_result"
    }
   ],
   "source": [
    "abs(10)"
   ]
  },
  {
   "cell_type": "code",
   "execution_count": 31,
   "metadata": {},
   "outputs": [
    {
     "name": "stdout",
     "output_type": "stream",
     "text": [
      "20\n",
      "20\n"
     ]
    },
    {
     "ename": "TypeError",
     "evalue": "bad operand type for abs(): 'Emp'",
     "output_type": "error",
     "traceback": [
      "\u001b[0;31m---------------------------------------------------------------------------\u001b[0m",
      "\u001b[0;31mTypeError\u001b[0m                                 Traceback (most recent call last)",
      "\u001b[0;32m<ipython-input-31-810d689d7c49>\u001b[0m in \u001b[0;36m<module>\u001b[0;34m()\u001b[0m\n\u001b[1;32m     15\u001b[0m \u001b[0mprint\u001b[0m\u001b[0;34m(\u001b[0m\u001b[0msai\u001b[0m\u001b[0;34m+\u001b[0m\u001b[0mjay\u001b[0m\u001b[0;34m)\u001b[0m\u001b[0;34m\u001b[0m\u001b[0m\n\u001b[1;32m     16\u001b[0m \u001b[0mprint\u001b[0m\u001b[0;34m(\u001b[0m\u001b[0msai\u001b[0m\u001b[0;34m.\u001b[0m\u001b[0m__add__\u001b[0m\u001b[0;34m(\u001b[0m\u001b[0mjay\u001b[0m\u001b[0;34m)\u001b[0m\u001b[0;34m)\u001b[0m\u001b[0;34m\u001b[0m\u001b[0m\n\u001b[0;32m---> 17\u001b[0;31m \u001b[0mprint\u001b[0m\u001b[0;34m(\u001b[0m\u001b[0mabs\u001b[0m\u001b[0;34m(\u001b[0m\u001b[0msai\u001b[0m\u001b[0;34m)\u001b[0m\u001b[0;34m)\u001b[0m\u001b[0;34m\u001b[0m\u001b[0m\n\u001b[0m",
      "\u001b[0;31mTypeError\u001b[0m: bad operand type for abs(): 'Emp'"
     ]
    }
   ],
   "source": [
    "class Emp:  \n",
    "    COMPANY_NAME=\"khyaathi\"\n",
    "    COMPANY_ADDRESS = \"maithrivanam\"\n",
    "    def __init__(self,e_name,e_address,weight,role):\n",
    "        self.name=e_name\n",
    "        self.address=e_address\n",
    "        self.__weight=weight\n",
    "        self.role=role\n",
    "    def get(self):\n",
    "        return self.__weight, self.name,self.address, self.__class__.COMPANY_NAME, self.__class__.COMPANY_NAME\n",
    "    def __add__(self1,self2):\n",
    "        return 20\n",
    "sai=Emp(\"sailaxmi\",\"kailas hills\",72.45,\"employee\")\n",
    "jay=Emp(\"sailaxmi\",\"kailas hills\",72.45,\"HRM\")\n",
    "print(sai+jay)\n",
    "print(sai.__add__(jay))\n",
    "print(abs(sai))"
   ]
  },
  {
   "cell_type": "code",
   "execution_count": 33,
   "metadata": {},
   "outputs": [
    {
     "name": "stdout",
     "output_type": "stream",
     "text": [
      "({'name': 'sailaxmi', 'address': 'kailas hills'}, {'name': 'sailaxmi', 'address': 'kailas hills'})\n",
      "({'name': 'sailaxmi', 'address': 'kailas hills'}, {'name': 'sailaxmi', 'address': 'kailas hills'})\n",
      "sailaxmi\n"
     ]
    }
   ],
   "source": [
    "class Emp:  \n",
    "    COMPANY_NAME=\"khyaathi\"\n",
    "    COMPANY_ADDRESS = \"maithrivanam\"\n",
    "    def __init__(self,e_name,e_address,weight,role):\n",
    "        self.name=e_name\n",
    "        self.address=e_address\n",
    "    def get(self):\n",
    "        return self.__dict__\n",
    "    def __abs__(self):\n",
    "        return self.name\n",
    "    def __add__(self1,self2):\n",
    "        return self1.get(),self2.get()\n",
    "sai=Emp(\"sailaxmi\",\"kailas hills\",72.45,\"employee\")\n",
    "jay=Emp(\"sailaxmi\",\"kailas hills\",72.45,\"HRM\")\n",
    "print(sai+jay)\n",
    "print(sai.__add__(jay))\n",
    "print(abs(sai))"
   ]
  },
  {
   "cell_type": "code",
   "execution_count": 34,
   "metadata": {},
   "outputs": [
    {
     "name": "stdout",
     "output_type": "stream",
     "text": [
      "({'name': 'sailaxmi', 'address': 'kailas hills'}, {'name': 'sailaxmi', 'address': 'kailas hills'})\n",
      "({'name': 'sailaxmi', 'address': 'kailas hills'}, {'name': 'sailaxmi', 'address': 'kailas hills'})\n",
      "sailaxmi\n",
      "<__main__.Emp object at 0x7fbaa4515f60>\n"
     ]
    }
   ],
   "source": [
    "class Emp:  \n",
    "    COMPANY_NAME=\"khyaathi\"\n",
    "    COMPANY_ADDRESS = \"maithrivanam\"\n",
    "    def __init__(self,e_name,e_address,weight,role):\n",
    "        self.name=e_name\n",
    "        self.address=e_address\n",
    "    def get(self):\n",
    "        return self.__dict__\n",
    "    def __abs__(self):\n",
    "        return self.name\n",
    "    def __add__(self1,self2):\n",
    "        return self1.get(),self2.get()\n",
    "sai=Emp(\"sailaxmi\",\"kailas hills\",72.45,\"employee\")\n",
    "jay=Emp(\"sailaxmi\",\"kailas hills\",72.45,\"HRM\")\n",
    "print(sai+jay)\n",
    "print(sai.__add__(jay))\n",
    "print(abs(sai))\n",
    "print(str(sai))"
   ]
  },
  {
   "cell_type": "code",
   "execution_count": 35,
   "metadata": {},
   "outputs": [
    {
     "name": "stdout",
     "output_type": "stream",
     "text": [
      "({'name': 'sailaxmi', 'address': 'kailas hills'}, {'name': 'sailaxmi', 'address': 'kailas hills'})\n",
      "({'name': 'sailaxmi', 'address': 'kailas hills'}, {'name': 'sailaxmi', 'address': 'kailas hills'})\n",
      "sailaxmi\n",
      "sailaxmi\n"
     ]
    }
   ],
   "source": [
    "class Emp:  \n",
    "    COMPANY_NAME=\"khyaathi\"\n",
    "    COMPANY_ADDRESS = \"maithrivanam\"\n",
    "    def __init__(self,e_name,e_address,weight,role):\n",
    "        self.name=e_name\n",
    "        self.address=e_address\n",
    "    def get(self):\n",
    "        return self.__dict__\n",
    "    def __abs__(self):\n",
    "        return self.name\n",
    "    def __add__(self1,self2):\n",
    "        return self1.get(),self2.get()\n",
    "    def __str__(self):\n",
    "        return self.name\n",
    "sai=Emp(\"sailaxmi\",\"kailas hills\",72.45,\"employee\")\n",
    "jay=Emp(\"sailaxmi\",\"kailas hills\",72.45,\"HRM\")\n",
    "print(sai+jay)\n",
    "print(sai.__add__(jay))\n",
    "print(abs(sai))\n",
    "print(str(sai))"
   ]
  },
  {
   "cell_type": "code",
   "execution_count": 37,
   "metadata": {},
   "outputs": [
    {
     "name": "stdout",
     "output_type": "stream",
     "text": [
      "({'name': 'sailaxmi', 'address': 'kailas hills'}, {'name': 'sailaxmi', 'address': 'kailas hills'})\n",
      "({'name': 'sailaxmi', 'address': 'kailas hills'}, {'name': 'sailaxmi', 'address': 'kailas hills'})\n",
      "sailaxmi\n",
      "sailaxmi\n",
      "2\n"
     ]
    }
   ],
   "source": [
    "class Emp:  \n",
    "    COMPANY_NAME=\"khyaathi\"\n",
    "    COMPANY_ADDRESS = \"maithrivanam\"\n",
    "    def __init__(self,e_name,e_address,weight,role):\n",
    "        self.name=e_name\n",
    "        self.address=e_address\n",
    "    def get(self):\n",
    "        return self.__dict__\n",
    "    def __abs__(self):\n",
    "        return self.name\n",
    "    def __add__(self1,self2):\n",
    "        return self1.get(),self2.get()\n",
    "    def __str__(self):\n",
    "        return self.name\n",
    "    def __len__(self):\n",
    "        return len(self.__dict__)\n",
    "sai=Emp(\"sailaxmi\",\"kailas hills\",72.45,\"employee\")\n",
    "jay=Emp(\"sailaxmi\",\"kailas hills\",72.45,\"HRM\")\n",
    "print(sai+jay)\n",
    "print(sai.__add__(jay))\n",
    "print(abs(sai))\n",
    "print(str(sai))\n",
    "print(len(sai))"
   ]
  },
  {
   "cell_type": "code",
   "execution_count": 38,
   "metadata": {},
   "outputs": [
    {
     "ename": "TypeError",
     "evalue": "object of type 'int' has no len()",
     "output_type": "error",
     "traceback": [
      "\u001b[0;31m---------------------------------------------------------------------------\u001b[0m",
      "\u001b[0;31mTypeError\u001b[0m                                 Traceback (most recent call last)",
      "\u001b[0;32m<ipython-input-38-f5eb794bfe88>\u001b[0m in \u001b[0;36m<module>\u001b[0;34m()\u001b[0m\n\u001b[0;32m----> 1\u001b[0;31m \u001b[0mlen\u001b[0m\u001b[0;34m(\u001b[0m\u001b[0;36m10\u001b[0m\u001b[0;34m)\u001b[0m\u001b[0;34m\u001b[0m\u001b[0m\n\u001b[0m",
      "\u001b[0;31mTypeError\u001b[0m: object of type 'int' has no len()"
     ]
    }
   ],
   "source": [
    "len(10)"
   ]
  },
  {
   "cell_type": "code",
   "execution_count": 40,
   "metadata": {},
   "outputs": [
    {
     "name": "stdout",
     "output_type": "stream",
     "text": [
      "({'name': 'sailaxmi', 'address': 'kailas hills'}, {'name': 'sailaxmi', 'address': 'kailas hills'})\n",
      "({'name': 'sailaxmi', 'address': 'kailas hills'}, {'name': 'sailaxmi', 'address': 'kailas hills'})\n",
      "sailaxmi\n",
      "sailaxmi\n",
      "2\n"
     ]
    },
    {
     "ename": "TypeError",
     "evalue": "'Emp' object is not iterable",
     "output_type": "error",
     "traceback": [
      "\u001b[0;31m---------------------------------------------------------------------------\u001b[0m",
      "\u001b[0;31mTypeError\u001b[0m                                 Traceback (most recent call last)",
      "\u001b[0;32m<ipython-input-40-81130068729a>\u001b[0m in \u001b[0;36m<module>\u001b[0;34m()\u001b[0m\n\u001b[1;32m     22\u001b[0m \u001b[0mprint\u001b[0m\u001b[0;34m(\u001b[0m\u001b[0mstr\u001b[0m\u001b[0;34m(\u001b[0m\u001b[0msai\u001b[0m\u001b[0;34m)\u001b[0m\u001b[0;34m)\u001b[0m\u001b[0;34m\u001b[0m\u001b[0m\n\u001b[1;32m     23\u001b[0m \u001b[0mprint\u001b[0m\u001b[0;34m(\u001b[0m\u001b[0mlen\u001b[0m\u001b[0;34m(\u001b[0m\u001b[0msai\u001b[0m\u001b[0;34m)\u001b[0m\u001b[0;34m)\u001b[0m\u001b[0;34m\u001b[0m\u001b[0m\n\u001b[0;32m---> 24\u001b[0;31m \u001b[0;32mfor\u001b[0m \u001b[0mi\u001b[0m \u001b[0;32min\u001b[0m \u001b[0msai\u001b[0m\u001b[0;34m:\u001b[0m\u001b[0;34m\u001b[0m\u001b[0m\n\u001b[0m\u001b[1;32m     25\u001b[0m     \u001b[0mprint\u001b[0m\u001b[0;34m(\u001b[0m\u001b[0mi\u001b[0m\u001b[0;34m)\u001b[0m\u001b[0;34m\u001b[0m\u001b[0m\n",
      "\u001b[0;31mTypeError\u001b[0m: 'Emp' object is not iterable"
     ]
    }
   ],
   "source": [
    "class Emp:  \n",
    "    COMPANY_NAME=\"khyaathi\"\n",
    "    COMPANY_ADDRESS = \"maithrivanam\"\n",
    "    def __init__(self,e_name,e_address,weight,role):\n",
    "        self.name=e_name\n",
    "        self.address=e_address\n",
    "    def get(self):\n",
    "        return self.__dict__\n",
    "    def __abs__(self):\n",
    "        return self.name\n",
    "    def __add__(self1,self2):\n",
    "        return self1.get(),self2.get()\n",
    "    def __str__(self):\n",
    "        return self.name\n",
    "    def __len__(self):\n",
    "        return len(self.__dict__)\n",
    "sai=Emp(\"sailaxmi\",\"kailas hills\",72.45,\"employee\")\n",
    "jay=Emp(\"sailaxmi\",\"kailas hills\",72.45,\"HRM\")\n",
    "print(sai+jay)\n",
    "print(sai.__add__(jay))\n",
    "print(abs(sai))\n",
    "print(str(sai))\n",
    "print(len(sai))\n",
    "for i in sai:\n",
    "    print(i)"
   ]
  },
  {
   "cell_type": "code",
   "execution_count": 41,
   "metadata": {},
   "outputs": [
    {
     "name": "stdout",
     "output_type": "stream",
     "text": [
      "({'name': 'sailaxmi', 'address': 'kailas hills'}, {'name': 'sailaxmi', 'address': 'kailas hills'})\n",
      "({'name': 'sailaxmi', 'address': 'kailas hills'}, {'name': 'sailaxmi', 'address': 'kailas hills'})\n",
      "sailaxmi\n",
      "sailaxmi\n",
      "2\n",
      "1\n",
      "2\n",
      "3\n"
     ]
    }
   ],
   "source": [
    "class Emp:  \n",
    "    COMPANY_NAME=\"khyaathi\"\n",
    "    COMPANY_ADDRESS = \"maithrivanam\"\n",
    "    def __init__(self,e_name,e_address,weight,role):\n",
    "        self.name=e_name\n",
    "        self.address=e_address\n",
    "    def get(self):\n",
    "        return self.__dict__\n",
    "    def __abs__(self):\n",
    "        return self.name\n",
    "    def __add__(self1,self2):\n",
    "        return self1.get(),self2.get()\n",
    "    def __str__(self):\n",
    "        return self.name\n",
    "    def __len__(self):\n",
    "        return len(self.__dict__)\n",
    "    def __iter__(self):\n",
    "        yield 1\n",
    "        yield 2\n",
    "        yield 3\n",
    "sai=Emp(\"sailaxmi\",\"kailas hills\",72.45,\"employee\")\n",
    "jay=Emp(\"sailaxmi\",\"kailas hills\",72.45,\"HRM\")\n",
    "print(sai+jay)\n",
    "print(sai.__add__(jay))\n",
    "print(abs(sai))\n",
    "print(str(sai))\n",
    "print(len(sai))\n",
    "for i in sai:\n",
    "    print(i)"
   ]
  },
  {
   "cell_type": "code",
   "execution_count": 42,
   "metadata": {},
   "outputs": [
    {
     "name": "stdout",
     "output_type": "stream",
     "text": [
      "({'name': 'sailaxmi', 'address': 'kailas hills'}, {'name': 'sailaxmi', 'address': 'kailas hills'})\n",
      "({'name': 'sailaxmi', 'address': 'kailas hills'}, {'name': 'sailaxmi', 'address': 'kailas hills'})\n",
      "sailaxmi\n",
      "sailaxmi\n",
      "2\n",
      "('name', 'sailaxmi')\n",
      "('address', 'kailas hills')\n"
     ]
    }
   ],
   "source": [
    "class Emp:  \n",
    "    COMPANY_NAME=\"khyaathi\"\n",
    "    COMPANY_ADDRESS = \"maithrivanam\"\n",
    "    def __init__(self,e_name,e_address,weight,role):\n",
    "        self.name=e_name\n",
    "        self.address=e_address\n",
    "    def get(self):\n",
    "        return self.__dict__\n",
    "    def __abs__(self):\n",
    "        return self.name\n",
    "    def __add__(self1,self2):\n",
    "        return self1.get(),self2.get()\n",
    "    def __str__(self):\n",
    "        return self.name\n",
    "    def __len__(self):\n",
    "        return len(self.__dict__)\n",
    "    def __iter__(self):\n",
    "        for i in self.__dict__.items():\n",
    "            yield i\n",
    "sai=Emp(\"sailaxmi\",\"kailas hills\",72.45,\"employee\")\n",
    "jay=Emp(\"sailaxmi\",\"kailas hills\",72.45,\"HRM\")\n",
    "print(sai+jay)\n",
    "print(sai.__add__(jay))\n",
    "print(abs(sai))\n",
    "print(str(sai))\n",
    "print(len(sai))\n",
    "for i in sai:\n",
    "    print(i)"
   ]
  },
  {
   "cell_type": "code",
   "execution_count": 44,
   "metadata": {},
   "outputs": [
    {
     "ename": "TypeError",
     "evalue": "unsupported operand type(s) for +: 'dict' and 'dict'",
     "output_type": "error",
     "traceback": [
      "\u001b[0;31m---------------------------------------------------------------------------\u001b[0m",
      "\u001b[0;31mTypeError\u001b[0m                                 Traceback (most recent call last)",
      "\u001b[0;32m<ipython-input-44-65e555459418>\u001b[0m in \u001b[0;36m<module>\u001b[0;34m()\u001b[0m\n\u001b[1;32m      1\u001b[0m \u001b[0md1\u001b[0m\u001b[0;34m=\u001b[0m\u001b[0;34m{\u001b[0m\u001b[0;36m1\u001b[0m\u001b[0;34m:\u001b[0m\u001b[0;36m2\u001b[0m\u001b[0;34m}\u001b[0m\u001b[0;34m\u001b[0m\u001b[0m\n\u001b[1;32m      2\u001b[0m \u001b[0md2\u001b[0m\u001b[0;34m=\u001b[0m\u001b[0;34m{\u001b[0m\u001b[0;36m2\u001b[0m\u001b[0;34m:\u001b[0m\u001b[0;36m3\u001b[0m\u001b[0;34m}\u001b[0m\u001b[0;34m\u001b[0m\u001b[0m\n\u001b[0;32m----> 3\u001b[0;31m \u001b[0md1\u001b[0m\u001b[0;34m+\u001b[0m\u001b[0md2\u001b[0m\u001b[0;34m\u001b[0m\u001b[0m\n\u001b[0m",
      "\u001b[0;31mTypeError\u001b[0m: unsupported operand type(s) for +: 'dict' and 'dict'"
     ]
    }
   ],
   "source": [
    "d1={1:2}\n",
    "d2={2:3}\n",
    "d1+d2"
   ]
  },
  {
   "cell_type": "code",
   "execution_count": 45,
   "metadata": {},
   "outputs": [
    {
     "data": {
      "text/plain": [
       "dict"
      ]
     },
     "execution_count": 45,
     "metadata": {},
     "output_type": "execute_result"
    }
   ],
   "source": [
    "dict"
   ]
  },
  {
   "cell_type": "code",
   "execution_count": 47,
   "metadata": {},
   "outputs": [
    {
     "data": {
      "text/plain": [
       "['Name', 'empid']"
      ]
     },
     "execution_count": 47,
     "metadata": {},
     "output_type": "execute_result"
    }
   ],
   "source": [
    "class OwnDict(dict):\n",
    "    def __add__(self1,self2):\n",
    "        return list(self1.items()), list(self2.items())\n",
    "d1={\"Name\":\"sai\",\"empid\":\"6972\"}\n",
    "d2={\"name\":\"jay\",\"empid\":6974}\n",
    "od1=OwnDict(d1)\n",
    "od2=OwnDict(d2)\n",
    "list(od1.keys())"
   ]
  },
  {
   "cell_type": "code",
   "execution_count": 48,
   "metadata": {},
   "outputs": [
    {
     "data": {
      "text/plain": [
       "dict_keys(['Name', 'empid'])"
      ]
     },
     "execution_count": 48,
     "metadata": {},
     "output_type": "execute_result"
    }
   ],
   "source": [
    "class OwnDict(dict):\n",
    "    def __add__(self1,self2):\n",
    "        return list(self1.items()), list(self2.items())\n",
    "d1={\"Name\":\"sai\",\"empid\":\"6972\"}\n",
    "d2={\"name\":\"jay\",\"empid\":6974}\n",
    "od1=OwnDict(d1)\n",
    "od2=OwnDict(d2)\n",
    "od1.keys()"
   ]
  },
  {
   "cell_type": "code",
   "execution_count": 49,
   "metadata": {},
   "outputs": [
    {
     "ename": "RecursionError",
     "evalue": "maximum recursion depth exceeded",
     "output_type": "error",
     "traceback": [
      "\u001b[0;31m---------------------------------------------------------------------------\u001b[0m",
      "\u001b[0;31mRecursionError\u001b[0m                            Traceback (most recent call last)",
      "\u001b[0;32m<ipython-input-49-b4e94a140dce>\u001b[0m in \u001b[0;36m<module>\u001b[0;34m()\u001b[0m\n\u001b[1;32m      8\u001b[0m \u001b[0mod1\u001b[0m\u001b[0;34m=\u001b[0m\u001b[0mOwnDict\u001b[0m\u001b[0;34m(\u001b[0m\u001b[0md1\u001b[0m\u001b[0;34m)\u001b[0m\u001b[0;34m\u001b[0m\u001b[0m\n\u001b[1;32m      9\u001b[0m \u001b[0mod2\u001b[0m\u001b[0;34m=\u001b[0m\u001b[0mOwnDict\u001b[0m\u001b[0;34m(\u001b[0m\u001b[0md2\u001b[0m\u001b[0;34m)\u001b[0m\u001b[0;34m\u001b[0m\u001b[0m\n\u001b[0;32m---> 10\u001b[0;31m \u001b[0mod1\u001b[0m\u001b[0;34m.\u001b[0m\u001b[0mkeys\u001b[0m\u001b[0;34m(\u001b[0m\u001b[0;34m)\u001b[0m\u001b[0;34m\u001b[0m\u001b[0m\n\u001b[0m",
      "\u001b[0;32m<ipython-input-49-b4e94a140dce>\u001b[0m in \u001b[0;36mkeys\u001b[0;34m(self)\u001b[0m\n\u001b[1;32m      3\u001b[0m         \u001b[0;32mreturn\u001b[0m \u001b[0mlist\u001b[0m\u001b[0;34m(\u001b[0m\u001b[0mself1\u001b[0m\u001b[0;34m.\u001b[0m\u001b[0mitems\u001b[0m\u001b[0;34m(\u001b[0m\u001b[0;34m)\u001b[0m\u001b[0;34m)\u001b[0m\u001b[0;34m,\u001b[0m \u001b[0mlist\u001b[0m\u001b[0;34m(\u001b[0m\u001b[0mself2\u001b[0m\u001b[0;34m.\u001b[0m\u001b[0mitems\u001b[0m\u001b[0;34m(\u001b[0m\u001b[0;34m)\u001b[0m\u001b[0;34m)\u001b[0m\u001b[0;34m\u001b[0m\u001b[0m\n\u001b[1;32m      4\u001b[0m     \u001b[0;32mdef\u001b[0m \u001b[0mkeys\u001b[0m\u001b[0;34m(\u001b[0m\u001b[0mself\u001b[0m\u001b[0;34m)\u001b[0m\u001b[0;34m:\u001b[0m\u001b[0;34m\u001b[0m\u001b[0m\n\u001b[0;32m----> 5\u001b[0;31m         \u001b[0;32mreturn\u001b[0m \u001b[0mlist\u001b[0m\u001b[0;34m(\u001b[0m\u001b[0mself\u001b[0m\u001b[0;34m.\u001b[0m\u001b[0mkeys\u001b[0m\u001b[0;34m(\u001b[0m\u001b[0;34m)\u001b[0m\u001b[0;34m)\u001b[0m\u001b[0;34m\u001b[0m\u001b[0m\n\u001b[0m\u001b[1;32m      6\u001b[0m \u001b[0md1\u001b[0m\u001b[0;34m=\u001b[0m\u001b[0;34m{\u001b[0m\u001b[0;34m\"Name\"\u001b[0m\u001b[0;34m:\u001b[0m\u001b[0;34m\"sai\"\u001b[0m\u001b[0;34m,\u001b[0m\u001b[0;34m\"empid\"\u001b[0m\u001b[0;34m:\u001b[0m\u001b[0;34m\"6972\"\u001b[0m\u001b[0;34m}\u001b[0m\u001b[0;34m\u001b[0m\u001b[0m\n\u001b[1;32m      7\u001b[0m \u001b[0md2\u001b[0m\u001b[0;34m=\u001b[0m\u001b[0;34m{\u001b[0m\u001b[0;34m\"name\"\u001b[0m\u001b[0;34m:\u001b[0m\u001b[0;34m\"jay\"\u001b[0m\u001b[0;34m,\u001b[0m\u001b[0;34m\"empid\"\u001b[0m\u001b[0;34m:\u001b[0m\u001b[0;36m6974\u001b[0m\u001b[0;34m}\u001b[0m\u001b[0;34m\u001b[0m\u001b[0m\n",
      "... last 1 frames repeated, from the frame below ...\n",
      "\u001b[0;32m<ipython-input-49-b4e94a140dce>\u001b[0m in \u001b[0;36mkeys\u001b[0;34m(self)\u001b[0m\n\u001b[1;32m      3\u001b[0m         \u001b[0;32mreturn\u001b[0m \u001b[0mlist\u001b[0m\u001b[0;34m(\u001b[0m\u001b[0mself1\u001b[0m\u001b[0;34m.\u001b[0m\u001b[0mitems\u001b[0m\u001b[0;34m(\u001b[0m\u001b[0;34m)\u001b[0m\u001b[0;34m)\u001b[0m\u001b[0;34m,\u001b[0m \u001b[0mlist\u001b[0m\u001b[0;34m(\u001b[0m\u001b[0mself2\u001b[0m\u001b[0;34m.\u001b[0m\u001b[0mitems\u001b[0m\u001b[0;34m(\u001b[0m\u001b[0;34m)\u001b[0m\u001b[0;34m)\u001b[0m\u001b[0;34m\u001b[0m\u001b[0m\n\u001b[1;32m      4\u001b[0m     \u001b[0;32mdef\u001b[0m \u001b[0mkeys\u001b[0m\u001b[0;34m(\u001b[0m\u001b[0mself\u001b[0m\u001b[0;34m)\u001b[0m\u001b[0;34m:\u001b[0m\u001b[0;34m\u001b[0m\u001b[0m\n\u001b[0;32m----> 5\u001b[0;31m         \u001b[0;32mreturn\u001b[0m \u001b[0mlist\u001b[0m\u001b[0;34m(\u001b[0m\u001b[0mself\u001b[0m\u001b[0;34m.\u001b[0m\u001b[0mkeys\u001b[0m\u001b[0;34m(\u001b[0m\u001b[0;34m)\u001b[0m\u001b[0;34m)\u001b[0m\u001b[0;34m\u001b[0m\u001b[0m\n\u001b[0m\u001b[1;32m      6\u001b[0m \u001b[0md1\u001b[0m\u001b[0;34m=\u001b[0m\u001b[0;34m{\u001b[0m\u001b[0;34m\"Name\"\u001b[0m\u001b[0;34m:\u001b[0m\u001b[0;34m\"sai\"\u001b[0m\u001b[0;34m,\u001b[0m\u001b[0;34m\"empid\"\u001b[0m\u001b[0;34m:\u001b[0m\u001b[0;34m\"6972\"\u001b[0m\u001b[0;34m}\u001b[0m\u001b[0;34m\u001b[0m\u001b[0m\n\u001b[1;32m      7\u001b[0m \u001b[0md2\u001b[0m\u001b[0;34m=\u001b[0m\u001b[0;34m{\u001b[0m\u001b[0;34m\"name\"\u001b[0m\u001b[0;34m:\u001b[0m\u001b[0;34m\"jay\"\u001b[0m\u001b[0;34m,\u001b[0m\u001b[0;34m\"empid\"\u001b[0m\u001b[0;34m:\u001b[0m\u001b[0;36m6974\u001b[0m\u001b[0;34m}\u001b[0m\u001b[0;34m\u001b[0m\u001b[0m\n",
      "\u001b[0;31mRecursionError\u001b[0m: maximum recursion depth exceeded"
     ]
    }
   ],
   "source": [
    "class OwnDict(dict):\n",
    "    def __add__(self1,self2):\n",
    "        return list(self1.items()), list(self2.items())\n",
    "    def keys(self):\n",
    "        return list(self.keys())\n",
    "d1={\"Name\":\"sai\",\"empid\":\"6972\"}\n",
    "d2={\"name\":\"jay\",\"empid\":6974}\n",
    "od1=OwnDict(d1)\n",
    "od2=OwnDict(d2)\n",
    "od1.keys()"
   ]
  },
  {
   "cell_type": "code",
   "execution_count": 50,
   "metadata": {},
   "outputs": [
    {
     "data": {
      "text/plain": [
       "['Name', 'empid']"
      ]
     },
     "execution_count": 50,
     "metadata": {},
     "output_type": "execute_result"
    }
   ],
   "source": [
    "class OwnDict(dict):\n",
    "    def __add__(self1,self2):\n",
    "        return list(self1.items()), list(self2.items())\n",
    "    def keys(self):\n",
    "        return list(dict.keys(self))\n",
    "d1={\"Name\":\"sai\",\"empid\":\"6972\"}\n",
    "d2={\"name\":\"jay\",\"empid\":6974}\n",
    "od1=OwnDict(d1)\n",
    "od2=OwnDict(d2)\n",
    "od1.keys()"
   ]
  },
  {
   "cell_type": "code",
   "execution_count": 51,
   "metadata": {},
   "outputs": [
    {
     "data": {
      "text/plain": [
       "['Name', 'empid']"
      ]
     },
     "execution_count": 51,
     "metadata": {},
     "output_type": "execute_result"
    }
   ],
   "source": [
    "class OwnDict(dict):\n",
    "    def __add__(self1,self2):\n",
    "        return list(self1.items()), list(self2.items())\n",
    "    def keys(self):\n",
    "        return list(super(OwnDict,self).keys())\n",
    "d1={\"Name\":\"sai\",\"empid\":\"6972\"}\n",
    "d2={\"name\":\"jay\",\"empid\":6974}\n",
    "od1=OwnDict(d1)\n",
    "od2=OwnDict(d2)\n",
    "od1.keys()"
   ]
  },
  {
   "cell_type": "code",
   "execution_count": 52,
   "metadata": {},
   "outputs": [
    {
     "name": "stdout",
     "output_type": "stream",
     "text": [
      "['Name', 'empid']\n",
      "([('Name', 'sai'), ('empid', '6972')], [('name', 'jay'), ('empid', 6974)])\n"
     ]
    }
   ],
   "source": [
    "class OwnDict(dict):\n",
    "    def __add__(self1,self2):\n",
    "        return list(self1.items()), list(self2.items())\n",
    "    def keys(self):\n",
    "        return list(super(OwnDict,self).keys())\n",
    "d1={\"Name\":\"sai\",\"empid\":\"6972\"}\n",
    "d2={\"name\":\"jay\",\"empid\":6974}\n",
    "od1=OwnDict(d1)\n",
    "od2=OwnDict(d2)\n",
    "print(od1.keys())\n",
    "print(od1+od2)\n"
   ]
  },
  {
   "cell_type": "code",
   "execution_count": null,
   "metadata": {},
   "outputs": [],
   "source": [
    "class Emp:  \n",
    "    COMPANY_NAME=\"khyaathi\"\n",
    "    COMPANY_ADDRESS = \"maithrivanam\"\n",
    "    def __init__(self,e_name,e_address,weight,role):\n",
    "        self.name=e_name\n",
    "        self.address=e_address\n",
    "sai=Emp(\"sailaxmi\",\"kailas hills\",72.45,\"employee\")\n",
    "# internally calls the __new__ method od object class: returns the data object\n",
    "# by using the data object it will calls the constructor."
   ]
  },
  {
   "cell_type": "code",
   "execution_count": 53,
   "metadata": {},
   "outputs": [],
   "source": [
    "class c1:\n",
    "    pass"
   ]
  },
  {
   "cell_type": "code",
   "execution_count": 55,
   "metadata": {},
   "outputs": [
    {
     "name": "stdout",
     "output_type": "stream",
     "text": [
      "this is new method\n"
     ]
    }
   ],
   "source": [
    "class Emp:  \n",
    "    COMPANY_NAME=\"khyaathi\"\n",
    "    COMPANY_ADDRESS = \"maithrivanam\"\n",
    "    def __new__(self,*args, **kwargs):\n",
    "        print(\"this is new method\")\n",
    "        return None\n",
    "    def __init__(self,e_name,e_address,weight,role):\n",
    "        print(\"this is constructor\")\n",
    "        self.name=e_name\n",
    "        self.address=e_address\n",
    "sai=Emp(\"sailaxmi\",\"kailas hills\",72.45,\"employee\")\n",
    "# Every class is a child class of object class.\n",
    "# when you create a data object then internally calls the __new__ method of object class: returns the data object of your class\n",
    "# by using the data object it will calls the constructor."
   ]
  },
  {
   "cell_type": "code",
   "execution_count": 54,
   "metadata": {},
   "outputs": [
    {
     "name": "stdout",
     "output_type": "stream",
     "text": [
      "this is fun1 in c2\n"
     ]
    }
   ],
   "source": [
    "class c1:\n",
    "    def fun1():\n",
    "        print(\"this is fun1 in c1\")\n",
    "class c2(c1):\n",
    "    def fun1(self):\n",
    "        print(\"this is fun1 in c2\")\n",
    "o2=c2()\n",
    "o2.fun1()"
   ]
  },
  {
   "cell_type": "code",
   "execution_count": 56,
   "metadata": {},
   "outputs": [
    {
     "name": "stdout",
     "output_type": "stream",
     "text": [
      "this is new method\n",
      "this is c1 constructor\n"
     ]
    }
   ],
   "source": [
    "class c1:\n",
    "    def __init__(self):\n",
    "        print(\"this is c1 constructor\")\n",
    "class Emp:  \n",
    "    COMPANY_NAME=\"khyaathi\"\n",
    "    COMPANY_ADDRESS = \"maithrivanam\"\n",
    "    def __new__(self,*args, **kwargs):\n",
    "        print(\"this is new method\")\n",
    "        return c1()\n",
    "    def __init__(self,e_name,e_address,weight,role):\n",
    "        print(\"this is constructor\")\n",
    "        self.name=e_name\n",
    "        self.address=e_address\n",
    "sai=Emp(\"sailaxmi\",\"kailas hills\",72.45,\"employee\")\n",
    "# Every class is a child class of object class.\n",
    "# when you create a data object then internally calls the __new__ method of object class: returns the data object of your class\n",
    "# by using the data object it will calls the constructor."
   ]
  },
  {
   "cell_type": "code",
   "execution_count": 58,
   "metadata": {},
   "outputs": [
    {
     "name": "stdout",
     "output_type": "stream",
     "text": [
      "this is new method\n",
      "this is constructor\n"
     ]
    }
   ],
   "source": [
    "class Emp:  \n",
    "    COMPANY_NAME=\"khyaathi\"\n",
    "    COMPANY_ADDRESS = \"maithrivanam\"\n",
    "    def __new__(cls,*args, **kwargs):\n",
    "        print(\"this is new method\")\n",
    "        return object.__new__(cls)  # data_object.__init__()\n",
    "    def __init__(self,e_name,e_address,weight,role):\n",
    "        print(\"this is constructor\")\n",
    "        self.name=e_name\n",
    "        self.address=e_address\n",
    "sai=Emp(\"sailaxmi\",\"kailas hills\",72.45,\"employee\")\n",
    "# Every class is a child class of object class.\n",
    "# when you create a data object then internally calls the __new__ method of object class: returns the data object of your class\n",
    "# by using the data object it will calls the constructor."
   ]
  },
  {
   "cell_type": "code",
   "execution_count": 1,
   "metadata": {},
   "outputs": [],
   "source": [
    "class Emp:  \n",
    "    COMPANY_NAME=\"khyaathi\"\n",
    "    COMPANY_ADDRESS = \"maithrivanam\"\n",
    "    def __new__(cls,*args, **kwargs):\n",
    "        return object.__new__(cls)  # data_object.__init__()\n",
    "    def __init__(self,e_name,e_address,weight,role):\n",
    "        self.name=e_name\n",
    "        self.address=e_address\n",
    "sai=Emp(\"sailaxmi\",\"kailas hills\",72.45,\"employee\")\n",
    "jay=Emp(\"Jayaram\",\"devender nagar\",56.78,\"hrm\")\n",
    "vedha = Emp(\"vedhanvesh\",\"anjaneya nagar\",68.90,\"employee\")"
   ]
  },
  {
   "cell_type": "code",
   "execution_count": 4,
   "metadata": {},
   "outputs": [
    {
     "name": "stdout",
     "output_type": "stream",
     "text": [
      "********************\n"
     ]
    },
    {
     "ename": "Exception",
     "evalue": "Can create only one object",
     "output_type": "error",
     "traceback": [
      "\u001b[0;31m---------------------------------------------------------------------------\u001b[0m",
      "\u001b[0;31mException\u001b[0m                                 Traceback (most recent call last)",
      "\u001b[0;32m<ipython-input-4-8c608bde0817>\u001b[0m in \u001b[0;36m<module>\u001b[0;34m()\u001b[0m\n\u001b[1;32m     14\u001b[0m \u001b[0msai\u001b[0m\u001b[0;34m=\u001b[0m\u001b[0mEmp\u001b[0m\u001b[0;34m(\u001b[0m\u001b[0;34m\"sailaxmi\"\u001b[0m\u001b[0;34m,\u001b[0m\u001b[0;34m\"kailas hills\"\u001b[0m\u001b[0;34m,\u001b[0m\u001b[0;36m72.45\u001b[0m\u001b[0;34m,\u001b[0m\u001b[0;34m\"employee\"\u001b[0m\u001b[0;34m)\u001b[0m\u001b[0;34m\u001b[0m\u001b[0m\n\u001b[1;32m     15\u001b[0m \u001b[0mprint\u001b[0m\u001b[0;34m(\u001b[0m\u001b[0;34m\"*\"\u001b[0m\u001b[0;34m*\u001b[0m\u001b[0;36m20\u001b[0m\u001b[0;34m)\u001b[0m\u001b[0;34m\u001b[0m\u001b[0m\n\u001b[0;32m---> 16\u001b[0;31m \u001b[0mjay\u001b[0m\u001b[0;34m=\u001b[0m\u001b[0mEmp\u001b[0m\u001b[0;34m(\u001b[0m\u001b[0;34m\"Jayaram\"\u001b[0m\u001b[0;34m,\u001b[0m\u001b[0;34m\"devender nagar\"\u001b[0m\u001b[0;34m,\u001b[0m\u001b[0;36m56.78\u001b[0m\u001b[0;34m,\u001b[0m\u001b[0;34m\"hrm\"\u001b[0m\u001b[0;34m)\u001b[0m\u001b[0;34m\u001b[0m\u001b[0m\n\u001b[0m\u001b[1;32m     17\u001b[0m \u001b[0mvedha\u001b[0m \u001b[0;34m=\u001b[0m \u001b[0mEmp\u001b[0m\u001b[0;34m(\u001b[0m\u001b[0;34m\"vedhanvesh\"\u001b[0m\u001b[0;34m,\u001b[0m\u001b[0;34m\"anjaneya nagar\"\u001b[0m\u001b[0;34m,\u001b[0m\u001b[0;36m68.90\u001b[0m\u001b[0;34m,\u001b[0m\u001b[0;34m\"employee\"\u001b[0m\u001b[0;34m)\u001b[0m\u001b[0;34m\u001b[0m\u001b[0m\n",
      "\u001b[0;32m<ipython-input-4-8c608bde0817>\u001b[0m in \u001b[0;36m__new__\u001b[0;34m(cls, *args, **kwargs)\u001b[0m\n\u001b[1;32m      8\u001b[0m             \u001b[0;32mreturn\u001b[0m \u001b[0mobject\u001b[0m\u001b[0;34m.\u001b[0m\u001b[0m__new__\u001b[0m\u001b[0;34m(\u001b[0m\u001b[0mcls\u001b[0m\u001b[0;34m)\u001b[0m  \u001b[0;31m# data_object.__init__()\u001b[0m\u001b[0;34m\u001b[0m\u001b[0m\n\u001b[1;32m      9\u001b[0m         \u001b[0;32melse\u001b[0m\u001b[0;34m:\u001b[0m\u001b[0;34m\u001b[0m\u001b[0m\n\u001b[0;32m---> 10\u001b[0;31m             \u001b[0;32mraise\u001b[0m \u001b[0mException\u001b[0m\u001b[0;34m(\u001b[0m\u001b[0;34m\"Can create only one object\"\u001b[0m\u001b[0;34m)\u001b[0m\u001b[0;34m\u001b[0m\u001b[0m\n\u001b[0m\u001b[1;32m     11\u001b[0m     \u001b[0;32mdef\u001b[0m \u001b[0m__init__\u001b[0m\u001b[0;34m(\u001b[0m\u001b[0mself\u001b[0m\u001b[0;34m,\u001b[0m\u001b[0me_name\u001b[0m\u001b[0;34m,\u001b[0m\u001b[0me_address\u001b[0m\u001b[0;34m,\u001b[0m\u001b[0mweight\u001b[0m\u001b[0;34m,\u001b[0m\u001b[0mrole\u001b[0m\u001b[0;34m)\u001b[0m\u001b[0;34m:\u001b[0m\u001b[0;34m\u001b[0m\u001b[0m\n\u001b[1;32m     12\u001b[0m         \u001b[0mself\u001b[0m\u001b[0;34m.\u001b[0m\u001b[0mname\u001b[0m\u001b[0;34m=\u001b[0m\u001b[0me_name\u001b[0m\u001b[0;34m\u001b[0m\u001b[0m\n",
      "\u001b[0;31mException\u001b[0m: Can create only one object"
     ]
    }
   ],
   "source": [
    "#singleton\n",
    "class Emp:  \n",
    "    COMPANY_NAME=\"khyaathi\"\n",
    "    COMPANY_ADDRESS = \"maithrivanam\"\n",
    "    obj_count=0\n",
    "    def __new__(cls,*args, **kwargs):\n",
    "        if cls.obj_count==0:\n",
    "            cls.obj_count = cls.obj_count+1\n",
    "            return object.__new__(cls)  # data_object.__init__()\n",
    "        else:\n",
    "            raise Exception(\"Can create only one object\")\n",
    "    def __init__(self,e_name,e_address,weight,role):\n",
    "        self.name=e_name\n",
    "        self.address=e_address\n",
    "sai=Emp(\"sailaxmi\",\"kailas hills\",72.45,\"employee\")\n",
    "print(\"*\"*20)\n",
    "jay=Emp(\"Jayaram\",\"devender nagar\",56.78,\"hrm\")\n",
    "vedha = Emp(\"vedhanvesh\",\"anjaneya nagar\",68.90,\"employee\")"
   ]
  },
  {
   "cell_type": "code",
   "execution_count": null,
   "metadata": {},
   "outputs": [],
   "source": []
  }
 ],
 "metadata": {
  "kernelspec": {
   "display_name": "Python 3",
   "language": "python",
   "name": "python3"
  },
  "language_info": {
   "codemirror_mode": {
    "name": "ipython",
    "version": 3
   },
   "file_extension": ".py",
   "mimetype": "text/x-python",
   "name": "python",
   "nbconvert_exporter": "python",
   "pygments_lexer": "ipython3",
   "version": "3.7.0"
  }
 },
 "nbformat": 4,
 "nbformat_minor": 2
}
