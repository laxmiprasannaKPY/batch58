{
 "cells": [
  {
   "cell_type": "code",
   "execution_count": 1,
   "metadata": {},
   "outputs": [
    {
     "name": "stdout",
     "output_type": "stream",
     "text": [
      "['apple', 'banana', 'grape', 'orange']\n"
     ]
    }
   ],
   "source": [
    "s=\"apple;orange;banana;grape\"\n",
    "l=s.split(\";\")\n",
    "l.sort()\n",
    "print(l)"
   ]
  },
  {
   "cell_type": "code",
   "execution_count": 2,
   "metadata": {},
   "outputs": [
    {
     "name": "stdout",
     "output_type": "stream",
     "text": [
      "apple;banana;grape;orange\n"
     ]
    }
   ],
   "source": [
    "s=\"apple;orange;banana;grape\"\n",
    "l=s.split(\";\")\n",
    "l.sort()\n",
    "print(\";\".join(l))"
   ]
  },
  {
   "cell_type": "code",
   "execution_count": 3,
   "metadata": {},
   "outputs": [
    {
     "ename": "TypeError",
     "evalue": "can only join an iterable",
     "output_type": "error",
     "traceback": [
      "\u001b[0;31m---------------------------------------------------------------------------\u001b[0m",
      "\u001b[0;31mTypeError\u001b[0m                                 Traceback (most recent call last)",
      "\u001b[0;32m<ipython-input-3-c9c43f0ec03d>\u001b[0m in \u001b[0;36m<module>\u001b[0;34m()\u001b[0m\n\u001b[1;32m      2\u001b[0m \u001b[0ml\u001b[0m\u001b[0;34m=\u001b[0m\u001b[0ms\u001b[0m\u001b[0;34m.\u001b[0m\u001b[0msplit\u001b[0m\u001b[0;34m(\u001b[0m\u001b[0;34m\";\"\u001b[0m\u001b[0;34m)\u001b[0m\u001b[0;34m\u001b[0m\u001b[0m\n\u001b[1;32m      3\u001b[0m \u001b[0ml1\u001b[0m\u001b[0;34m=\u001b[0m\u001b[0ml\u001b[0m\u001b[0;34m.\u001b[0m\u001b[0msort\u001b[0m\u001b[0;34m(\u001b[0m\u001b[0;34m)\u001b[0m\u001b[0;34m\u001b[0m\u001b[0m\n\u001b[0;32m----> 4\u001b[0;31m \u001b[0mprint\u001b[0m\u001b[0;34m(\u001b[0m\u001b[0;34m\";\"\u001b[0m\u001b[0;34m.\u001b[0m\u001b[0mjoin\u001b[0m\u001b[0;34m(\u001b[0m\u001b[0ml1\u001b[0m\u001b[0;34m)\u001b[0m\u001b[0;34m)\u001b[0m\u001b[0;34m\u001b[0m\u001b[0m\n\u001b[0m",
      "\u001b[0;31mTypeError\u001b[0m: can only join an iterable"
     ]
    }
   ],
   "source": [
    "s=\"apple;orange;banana;grape\"\n",
    "l=s.split(\";\")\n",
    "l1=l.sort()\n",
    "print(\";\".join(l1))"
   ]
  },
  {
   "cell_type": "code",
   "execution_count": 4,
   "metadata": {},
   "outputs": [
    {
     "name": "stdout",
     "output_type": "stream",
     "text": [
      "None\n"
     ]
    }
   ],
   "source": [
    "s=\"apple;orange;banana;grape\"\n",
    "l=s.split(\";\")\n",
    "l1=l.sort()\n",
    "print(l1)"
   ]
  },
  {
   "cell_type": "code",
   "execution_count": 6,
   "metadata": {},
   "outputs": [
    {
     "name": "stdout",
     "output_type": "stream",
     "text": [
      "[1, 2, 3, 4] 139803366382600\n",
      "[1, 2, 3, 4, 10] 139803366382600\n"
     ]
    }
   ],
   "source": [
    "l=[1,2,3,4]\n",
    "print(l,id(l))\n",
    "l.append(10)\n",
    "print(l,id(l))"
   ]
  },
  {
   "cell_type": "code",
   "execution_count": 7,
   "metadata": {},
   "outputs": [
    {
     "name": "stdout",
     "output_type": "stream",
     "text": [
      "[1, 2, 3, 4] 139803366366728\n",
      "None 94534379896816\n"
     ]
    }
   ],
   "source": [
    "l=[1,2,3,4]\n",
    "print(l,id(l))\n",
    "l1=l.append(10)\n",
    "print(l1,id(l1))"
   ]
  },
  {
   "cell_type": "code",
   "execution_count": 8,
   "metadata": {},
   "outputs": [
    {
     "name": "stdout",
     "output_type": "stream",
     "text": [
      "python\n",
      "zython\n"
     ]
    }
   ],
   "source": [
    "s=\"python\"\n",
    "s1=s.replace(\"p\",\"z\")\n",
    "print(s)\n",
    "print(s1)"
   ]
  },
  {
   "cell_type": "code",
   "execution_count": 9,
   "metadata": {},
   "outputs": [
    {
     "name": "stdout",
     "output_type": "stream",
     "text": [
      "[1, 2, 3, 4]\n",
      "[1, 2, 3, 4, 10]\n"
     ]
    }
   ],
   "source": [
    "l1=[1,2,3,4]\n",
    "l2=l1+[10]\n",
    "print(l1)\n",
    "print(l2)"
   ]
  },
  {
   "cell_type": "code",
   "execution_count": 13,
   "metadata": {},
   "outputs": [
    {
     "name": "stdout",
     "output_type": "stream",
     "text": [
      "[1, 2, 3, 4, 10]\n",
      "None\n"
     ]
    }
   ],
   "source": [
    "l1=[1,2,3,4]\n",
    "l2=l1.append(10)\n",
    "print(l1)\n",
    "print(l2)"
   ]
  },
  {
   "cell_type": "code",
   "execution_count": 14,
   "metadata": {},
   "outputs": [
    {
     "name": "stdout",
     "output_type": "stream",
     "text": [
      "94534379896816\n",
      "94534379896816\n",
      "94534379896816\n"
     ]
    }
   ],
   "source": [
    "a=None\n",
    "b=None\n",
    "c=None\n",
    "print(id(a))\n",
    "print(id(b))\n",
    "print(id(c))"
   ]
  },
  {
   "cell_type": "code",
   "execution_count": 15,
   "metadata": {},
   "outputs": [
    {
     "name": "stdout",
     "output_type": "stream",
     "text": [
      "[12, 10, 23, 34, 56, 0]\n"
     ]
    }
   ],
   "source": [
    "l=[\"12\",\"10\",\"23\",\"34\",\"56\",\"abcd\"]\n",
    "res=[int(i) if i.isdigit() else 0 for i in l if isinstance(i, str)]\n",
    "print(res)\n"
   ]
  },
  {
   "cell_type": "code",
   "execution_count": 16,
   "metadata": {},
   "outputs": [
    {
     "name": "stdout",
     "output_type": "stream",
     "text": [
      "<generator object <genexpr> at 0x7f2680620e58>\n"
     ]
    }
   ],
   "source": [
    "l=[\"12\",\"10\",\"23\",\"34\",\"56\",\"abcd\"]\n",
    "res=(int(i) if i.isdigit() else 0 for i in l if isinstance(i, str))\n",
    "print(res)\n"
   ]
  },
  {
   "cell_type": "code",
   "execution_count": 17,
   "metadata": {},
   "outputs": [],
   "source": [
    "t=(12,)\n"
   ]
  },
  {
   "cell_type": "code",
   "execution_count": 18,
   "metadata": {},
   "outputs": [
    {
     "name": "stdout",
     "output_type": "stream",
     "text": [
      "12 <class 'int'>\n"
     ]
    }
   ],
   "source": [
    "t=(12)\n",
    "print(t, type(t))"
   ]
  },
  {
   "cell_type": "code",
   "execution_count": 19,
   "metadata": {},
   "outputs": [
    {
     "name": "stdout",
     "output_type": "stream",
     "text": [
      "(12,) <class 'tuple'>\n"
     ]
    }
   ],
   "source": [
    "t=(12,)\n",
    "print(t, type(t))"
   ]
  },
  {
   "cell_type": "code",
   "execution_count": 21,
   "metadata": {},
   "outputs": [
    {
     "name": "stdout",
     "output_type": "stream",
     "text": [
      "<generator object <genexpr> at 0x7f2680620de0>\n",
      "12\n",
      "10\n",
      "23\n",
      "34\n",
      "56\n",
      "0\n"
     ]
    }
   ],
   "source": [
    "l=[\"12\",\"10\",\"23\",\"34\",\"56\",\"abcd\"]\n",
    "res=(int(i) if i.isdigit() else 0 for i in l if isinstance(i, str))\n",
    "print(res)\n",
    "for i in res:\n",
    "    print(i)"
   ]
  },
  {
   "cell_type": "code",
   "execution_count": 23,
   "metadata": {},
   "outputs": [
    {
     "name": "stdout",
     "output_type": "stream",
     "text": [
      "12\n",
      "10\n",
      "23\n",
      "34\n",
      "56\n",
      "0\n"
     ]
    }
   ],
   "source": [
    "l=[\"12\",\"10\",\"23\",\"34\",\"56\",\"abcd\"]\n",
    "res=[int(i) if i.isdigit() else 0 for i in l if isinstance(i, str)]\n",
    "for i in res:\n",
    "    print(i)"
   ]
  },
  {
   "cell_type": "code",
   "execution_count": 25,
   "metadata": {},
   "outputs": [
    {
     "name": "stdout",
     "output_type": "stream",
     "text": [
      "12\n",
      "10\n",
      "23\n",
      "34\n",
      "56\n",
      "0\n"
     ]
    }
   ],
   "source": [
    "l=[\"12\",\"10\",\"23\",\"34\",\"56\",\"abcd\"]\n",
    "res=(int(i) if i.isdigit() else 0 for i in l if isinstance(i, str))\n",
    "for i in res:\n",
    "    print(i)"
   ]
  },
  {
   "cell_type": "code",
   "execution_count": 26,
   "metadata": {},
   "outputs": [
    {
     "name": "stdout",
     "output_type": "stream",
     "text": [
      "{1: 'ODD', 2: 'EVEN', 3: 'ODD', 4: 'EVEN'}\n"
     ]
    }
   ],
   "source": [
    "l=[1,2,3,4]\n",
    "#{1:\"odd\",2:\"EVEN\",\"3\":\"odd\",4:\"even\"}\n",
    "res={}\n",
    "for i in l:\n",
    "    res.update({i: \"EVEN\" if i%2==0 else \"ODD\"})\n",
    "print(res)"
   ]
  },
  {
   "cell_type": "code",
   "execution_count": 27,
   "metadata": {},
   "outputs": [
    {
     "name": "stdout",
     "output_type": "stream",
     "text": [
      "{1: 'ODD', 2: 'EVEN', 3: 'ODD', 4: 'EVEN'}\n"
     ]
    }
   ],
   "source": [
    "l=[1,2,3,4]\n",
    "#{1:\"odd\",2:\"EVEN\",\"3\":\"odd\",4:\"even\"}\n",
    "res={i:\"EVEN\" if i%2==0 else \"ODD\" for i in l}\n",
    "print(res)"
   ]
  },
  {
   "cell_type": "code",
   "execution_count": 28,
   "metadata": {},
   "outputs": [
    {
     "name": "stdout",
     "output_type": "stream",
     "text": [
      "{1: 'ODD', 2: 'EVEN', 3: 'ODD', 4: 'EVEN'}\n",
      "4\n"
     ]
    }
   ],
   "source": [
    "l=[1,2,3,4]\n",
    "#{1:\"odd\",2:\"EVEN\",\"3\":\"odd\",4:\"even\"}\n",
    "res={i:\"EVEN\" if i%2==0 else \"ODD\" for i in l}\n",
    "print(res)\n",
    "print(i)"
   ]
  },
  {
   "cell_type": "code",
   "execution_count": 29,
   "metadata": {},
   "outputs": [
    {
     "name": "stdout",
     "output_type": "stream",
     "text": [
      "<function check_even at 0x7f26805b37b8> <class 'function'>\n",
      "<function <lambda> at 0x7f26805b3598> <class 'function'>\n"
     ]
    }
   ],
   "source": [
    "def check_even(x):\n",
    "    return \"EVEN\" if x%2==0 else \"ODD\"\n",
    "f=lambda x:\"EVEN\" if x%2==0 else \"ODD\"\n",
    "print(check_even,type(check_even))\n",
    "print(f, type(f))"
   ]
  },
  {
   "cell_type": "code",
   "execution_count": 31,
   "metadata": {},
   "outputs": [
    {
     "name": "stdout",
     "output_type": "stream",
     "text": [
      "EVEN\n"
     ]
    }
   ],
   "source": [
    "f=lambda x:\"EVEN\" if x%2==0 else \"ODD\"\n",
    "print(f(10))"
   ]
  },
  {
   "cell_type": "code",
   "execution_count": 32,
   "metadata": {},
   "outputs": [
    {
     "data": {
      "text/plain": [
       "30"
      ]
     },
     "execution_count": 32,
     "metadata": {},
     "output_type": "execute_result"
    }
   ],
   "source": [
    "f=lambda x,y:x+y\n",
    "f(10,20)"
   ]
  },
  {
   "cell_type": "code",
   "execution_count": 33,
   "metadata": {},
   "outputs": [
    {
     "data": {
      "text/plain": [
       "30"
      ]
     },
     "execution_count": 33,
     "metadata": {},
     "output_type": "execute_result"
    }
   ],
   "source": [
    "f=lambda x,y,z=0:x+y+z\n",
    "f(10,20)"
   ]
  },
  {
   "cell_type": "code",
   "execution_count": 35,
   "metadata": {},
   "outputs": [
    {
     "data": {
      "text/plain": [
       "30"
      ]
     },
     "execution_count": 35,
     "metadata": {},
     "output_type": "execute_result"
    }
   ],
   "source": [
    "f=lambda *x:sum(x)\n",
    "f(10,20)"
   ]
  },
  {
   "cell_type": "code",
   "execution_count": 36,
   "metadata": {},
   "outputs": [
    {
     "name": "stdout",
     "output_type": "stream",
     "text": [
      "[60, 80, 100, 120]\n"
     ]
    }
   ],
   "source": [
    "def fun(x,y):\n",
    "    return x+y\n",
    "l1=[10,20,30,40]\n",
    "l2=[50,60,70,80]\n",
    "print([fun(i,j) for i,j in zip(l1,l2)])"
   ]
  },
  {
   "cell_type": "code",
   "execution_count": 37,
   "metadata": {},
   "outputs": [
    {
     "name": "stdout",
     "output_type": "stream",
     "text": [
      "[60, 80, 100, 120]\n"
     ]
    }
   ],
   "source": [
    "def fun(x,y):\n",
    "    return x+y\n",
    "l1=[10,20,30,40]\n",
    "l2=[50,60,70,80]\n",
    "print(list(map(fun,l1,l2)))"
   ]
  },
  {
   "cell_type": "code",
   "execution_count": 39,
   "metadata": {},
   "outputs": [
    {
     "name": "stdout",
     "output_type": "stream",
     "text": [
      "x=10,y=50\n",
      "x=20,y=60\n",
      "x=30,y=70\n",
      "[60, 80, 100]\n"
     ]
    }
   ],
   "source": [
    "def fun(x,y):\n",
    "    print(f\"x={x},y={y}\")\n",
    "    return x+y\n",
    "l1=[10,20,30,40]\n",
    "l2=[50,60,70]\n",
    "print(list(map(fun,l1,l2)))"
   ]
  },
  {
   "cell_type": "code",
   "execution_count": 40,
   "metadata": {},
   "outputs": [
    {
     "name": "stdout",
     "output_type": "stream",
     "text": [
      "<map object at 0x7f26805d7f98>\n"
     ]
    }
   ],
   "source": [
    "def fun(x,y):\n",
    "    print(f\"x={x},y={y}\")\n",
    "    return x+y\n",
    "l1=[10,20,30,40]\n",
    "l2=[50,60,70]\n",
    "res = map(fun,l1,l2)\n",
    "print(res)"
   ]
  },
  {
   "cell_type": "code",
   "execution_count": 41,
   "metadata": {},
   "outputs": [
    {
     "name": "stdout",
     "output_type": "stream",
     "text": [
      "x=10,y=50\n",
      "60\n",
      "x=20,y=60\n",
      "80\n",
      "x=30,y=70\n",
      "100\n"
     ]
    }
   ],
   "source": [
    "def fun(x,y):\n",
    "    print(f\"x={x},y={y}\")\n",
    "    return x+y\n",
    "l1=[10,20,30,40]\n",
    "l2=[50,60,70]\n",
    "res = map(fun,l1,l2)\n",
    "for i in res:\n",
    "    print(i)"
   ]
  },
  {
   "cell_type": "code",
   "execution_count": 44,
   "metadata": {},
   "outputs": [
    {
     "name": "stdout",
     "output_type": "stream",
     "text": [
      "60\n",
      "80\n",
      "100\n"
     ]
    }
   ],
   "source": [
    "def fun(x,y):\n",
    "    return x+y\n",
    "l1=[10,20,30,40]\n",
    "l2=[50,60,70]\n",
    "res =[ fun(i,j) for i,j in zip(l1,l2)]\n",
    "for i in res:\n",
    "    print(i)"
   ]
  },
  {
   "cell_type": "code",
   "execution_count": 45,
   "metadata": {},
   "outputs": [
    {
     "name": "stdout",
     "output_type": "stream",
     "text": [
      "60\n",
      "80\n",
      "100\n"
     ]
    }
   ],
   "source": [
    "l1=[10,20,30,40]\n",
    "l2=[50,60,70]\n",
    "res =map(lambda x,y:x+y,l1,l2)\n",
    "for i in res:\n",
    "    print(i)"
   ]
  },
  {
   "cell_type": "code",
   "execution_count": 46,
   "metadata": {},
   "outputs": [
    {
     "name": "stdout",
     "output_type": "stream",
     "text": [
      "(10, 50)\n",
      "(20, 60)\n",
      "(30, 70)\n",
      "(40, 80)\n"
     ]
    }
   ],
   "source": [
    "l1=[10,20,30,40]\n",
    "l2=[50,60,70,80]\n",
    "for i in zip(l1,l2):\n",
    "    print(i)"
   ]
  },
  {
   "cell_type": "code",
   "execution_count": 47,
   "metadata": {},
   "outputs": [
    {
     "name": "stdout",
     "output_type": "stream",
     "text": [
      "<zip object at 0x7f26805bfdc8>\n"
     ]
    }
   ],
   "source": [
    "l1=[10,20,30,40]\n",
    "l2=[50,60,70,80]\n",
    "res = zip(l1,l2)\n",
    "print(res)"
   ]
  },
  {
   "cell_type": "code",
   "execution_count": 48,
   "metadata": {},
   "outputs": [
    {
     "name": "stdout",
     "output_type": "stream",
     "text": [
      "60\n",
      "80\n",
      "100\n"
     ]
    }
   ],
   "source": [
    "def fun(x,y):\n",
    "    return x+y\n",
    "l1=[10,20,30,40]\n",
    "l2=[50,60,70]\n",
    "#res =map(lambda x,y:x+y,l1,l2)\n",
    "res=map(fun,l1,l2)\n",
    "# hello\n",
    "for i in res:\n",
    "    print(i)"
   ]
  },
  {
   "cell_type": "code",
   "execution_count": 50,
   "metadata": {},
   "outputs": [
    {
     "name": "stdout",
     "output_type": "stream",
     "text": [
      "<map object at 0x7f2680568048> <class 'map'>\n"
     ]
    }
   ],
   "source": [
    "l1=[10,20,30,40]\n",
    "l2=[50,60,70]\n",
    "res =map(lambda x,y:x+y,l1,l2)\n",
    "print(res,type(res))"
   ]
  },
  {
   "cell_type": "code",
   "execution_count": 51,
   "metadata": {},
   "outputs": [
    {
     "name": "stdout",
     "output_type": "stream",
     "text": [
      "['Even', 'ODD', 'ODD', 'ODD']\n",
      "Even\n",
      "ODD\n",
      "ODD\n",
      "ODD\n"
     ]
    }
   ],
   "source": [
    "def fun(x):\n",
    "    return \"Even\" if x%2==0 else \"ODD\"\n",
    "res = [fun(i) for i in [10,23,45,67]]\n",
    "print(res)\n",
    "for i in res:\n",
    "    print(i)"
   ]
  },
  {
   "cell_type": "code",
   "execution_count": 52,
   "metadata": {},
   "outputs": [
    {
     "name": "stdout",
     "output_type": "stream",
     "text": [
      "<generator object <genexpr> at 0x7f2680620ed0>\n",
      "Even\n",
      "ODD\n",
      "ODD\n",
      "ODD\n"
     ]
    }
   ],
   "source": [
    "def fun(x):\n",
    "    return \"Even\" if x%2==0 else \"ODD\"\n",
    "res = (fun(i) for i in [10,23,45,67])\n",
    "print(res)\n",
    "for i in res:\n",
    "    print(i)"
   ]
  },
  {
   "cell_type": "code",
   "execution_count": 53,
   "metadata": {},
   "outputs": [
    {
     "name": "stdout",
     "output_type": "stream",
     "text": [
      "x=10\n",
      "x=23\n",
      "x=45\n",
      "x=67\n",
      "['Even', 'ODD', 'ODD', 'ODD']\n"
     ]
    }
   ],
   "source": [
    "def fun(x):\n",
    "    print(f\"x={x}\")\n",
    "    return \"Even\" if x%2==0 else \"ODD\"\n",
    "res = [fun(i) for i in [10,23,45,67]]\n",
    "print(res)"
   ]
  },
  {
   "cell_type": "code",
   "execution_count": 54,
   "metadata": {},
   "outputs": [
    {
     "name": "stdout",
     "output_type": "stream",
     "text": [
      "<generator object <genexpr> at 0x7f2680620ed0>\n"
     ]
    }
   ],
   "source": [
    "def fun(x):\n",
    "    print(f\"x={x}\")\n",
    "    return \"Even\" if x%2==0 else \"ODD\"\n",
    "res = (fun(i) for i in [10,23,45,67])\n",
    "print(res)"
   ]
  },
  {
   "cell_type": "code",
   "execution_count": 55,
   "metadata": {},
   "outputs": [
    {
     "name": "stdout",
     "output_type": "stream",
     "text": [
      "<generator object <genexpr> at 0x7f26805ca390>\n",
      "x=10\n",
      "i= Even\n"
     ]
    }
   ],
   "source": [
    "def fun(x):\n",
    "    print(f\"x={x}\")\n",
    "    return \"Even\" if x%2==0 else \"ODD\"\n",
    "res = (fun(i) for i in [10,23,45,67])\n",
    "print(res)\n",
    "for i in res:\n",
    "    print(\"i=\",i)\n",
    "    break"
   ]
  },
  {
   "cell_type": "code",
   "execution_count": 56,
   "metadata": {},
   "outputs": [
    {
     "name": "stdout",
     "output_type": "stream",
     "text": [
      "x=23\n",
      "i= ODD\n"
     ]
    }
   ],
   "source": [
    "for i in res:\n",
    "    print(\"i=\",i)\n",
    "    break"
   ]
  },
  {
   "cell_type": "code",
   "execution_count": 57,
   "metadata": {},
   "outputs": [
    {
     "name": "stdout",
     "output_type": "stream",
     "text": [
      "x=45\n",
      "i= ODD\n"
     ]
    }
   ],
   "source": [
    "for i in res:\n",
    "    print(\"i=\",i)\n",
    "    break"
   ]
  },
  {
   "cell_type": "code",
   "execution_count": 58,
   "metadata": {},
   "outputs": [
    {
     "name": "stdout",
     "output_type": "stream",
     "text": [
      "x=67\n",
      "i= ODD\n"
     ]
    }
   ],
   "source": [
    "for i in res:\n",
    "    print(\"i=\",i)\n",
    "    break"
   ]
  },
  {
   "cell_type": "code",
   "execution_count": 59,
   "metadata": {},
   "outputs": [],
   "source": [
    "for i in res:\n",
    "    print(\"i=\",i)\n",
    "    break"
   ]
  },
  {
   "cell_type": "code",
   "execution_count": null,
   "metadata": {},
   "outputs": [],
   "source": []
  }
 ],
 "metadata": {
  "kernelspec": {
   "display_name": "Python 3",
   "language": "python",
   "name": "python3"
  },
  "language_info": {
   "codemirror_mode": {
    "name": "ipython",
    "version": 3
   },
   "file_extension": ".py",
   "mimetype": "text/x-python",
   "name": "python",
   "nbconvert_exporter": "python",
   "pygments_lexer": "ipython3",
   "version": "3.7.0"
  }
 },
 "nbformat": 4,
 "nbformat_minor": 2
}
