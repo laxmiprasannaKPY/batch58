{
 "cells": [
  {
   "cell_type": "code",
   "execution_count": 1,
   "metadata": {},
   "outputs": [],
   "source": [
    "print?"
   ]
  },
  {
   "cell_type": "code",
   "execution_count": 2,
   "metadata": {},
   "outputs": [
    {
     "name": "stdout",
     "output_type": "stream",
     "text": [
      "hello python\n"
     ]
    }
   ],
   "source": [
    "print(\"hello python\")"
   ]
  },
  {
   "cell_type": "code",
   "execution_count": 3,
   "metadata": {},
   "outputs": [
    {
     "name": "stdout",
     "output_type": "stream",
     "text": [
      "hello python\n",
      "hello java\n"
     ]
    }
   ],
   "source": [
    "print(\"hello python\")\n",
    "print(\"hello java\")"
   ]
  },
  {
   "cell_type": "code",
   "execution_count": 4,
   "metadata": {},
   "outputs": [
    {
     "name": "stdout",
     "output_type": "stream",
     "text": [
      "hello python hello java\n"
     ]
    }
   ],
   "source": [
    "print(\"hello python\",end=\" \")\n",
    "print(\"hello java\")"
   ]
  },
  {
   "cell_type": "code",
   "execution_count": 5,
   "metadata": {},
   "outputs": [
    {
     "name": "stdout",
     "output_type": "stream",
     "text": [
      "1000 2000 3000\n"
     ]
    }
   ],
   "source": [
    "a=1000\n",
    "b=2000\n",
    "c=3000\n",
    "print(a,b,c)"
   ]
  },
  {
   "cell_type": "code",
   "execution_count": 6,
   "metadata": {},
   "outputs": [
    {
     "name": "stdout",
     "output_type": "stream",
     "text": [
      "1000\n",
      "2000\n",
      "3000\n"
     ]
    }
   ],
   "source": [
    "a=1000\n",
    "b=2000\n",
    "c=3000\n",
    "print(a,b,c,sep=\"\\n\")"
   ]
  },
  {
   "cell_type": "code",
   "execution_count": 7,
   "metadata": {},
   "outputs": [
    {
     "name": "stdout",
     "output_type": "stream",
     "text": [
      "1000;2000;3000\n"
     ]
    }
   ],
   "source": [
    "a=1000\n",
    "b=2000\n",
    "c=3000\n",
    "print(a,b,c,sep=\";\")"
   ]
  },
  {
   "cell_type": "code",
   "execution_count": 8,
   "metadata": {},
   "outputs": [],
   "source": [
    "product_name=\"mi6A\"\n",
    "product_cost=6700\n",
    "# product details: name:mi6A, cost:6700"
   ]
  },
  {
   "cell_type": "code",
   "execution_count": 9,
   "metadata": {},
   "outputs": [
    {
     "name": "stdout",
     "output_type": "stream",
     "text": [
      "product details: name:\n"
     ]
    }
   ],
   "source": [
    "print(\"product details: name:\")"
   ]
  },
  {
   "cell_type": "code",
   "execution_count": 10,
   "metadata": {},
   "outputs": [
    {
     "name": "stdout",
     "output_type": "stream",
     "text": [
      "product details: name: mi6A\n"
     ]
    }
   ],
   "source": [
    "product_name=\"mi6A\"\n",
    "product_cost=6700\n",
    "print(\"product details: name:\",product_name)"
   ]
  },
  {
   "cell_type": "code",
   "execution_count": 11,
   "metadata": {},
   "outputs": [
    {
     "name": "stdout",
     "output_type": "stream",
     "text": [
      "product details: name:product_name\n"
     ]
    }
   ],
   "source": [
    "product_name=\"mi6A\"\n",
    "product_cost=6700\n",
    "print(\"product details: name:product_name\")"
   ]
  },
  {
   "cell_type": "code",
   "execution_count": 12,
   "metadata": {},
   "outputs": [
    {
     "name": "stdout",
     "output_type": "stream",
     "text": [
      "product details: name:product_name\n"
     ]
    }
   ],
   "source": [
    "product_name=\"mi6A\"\n",
    "product_cost=6700\n",
    "print(f\"product details: name:product_name\")"
   ]
  },
  {
   "cell_type": "code",
   "execution_count": 13,
   "metadata": {},
   "outputs": [
    {
     "name": "stdout",
     "output_type": "stream",
     "text": [
      "product details: name:mi6A\n"
     ]
    }
   ],
   "source": [
    "product_name=\"mi6A\"\n",
    "product_cost=6700\n",
    "print(f\"product details: name:{product_name}\")"
   ]
  },
  {
   "cell_type": "code",
   "execution_count": 14,
   "metadata": {},
   "outputs": [
    {
     "name": "stdout",
     "output_type": "stream",
     "text": [
      "product details: name: mi6A\n"
     ]
    }
   ],
   "source": [
    "product_name=\"mi6A\"\n",
    "product_cost=6700\n",
    "# product details: name:mi6A, cost:6700\n",
    "print(\"product details: name:\",product_name)"
   ]
  },
  {
   "cell_type": "code",
   "execution_count": 15,
   "metadata": {},
   "outputs": [
    {
     "name": "stdout",
     "output_type": "stream",
     "text": [
      "product details: name: mi6A , cost: 6700\n"
     ]
    }
   ],
   "source": [
    "product_name=\"mi6A\"\n",
    "product_cost=6700\n",
    "# product details: name:mi6A, cost:6700\n",
    "print(\"product details: name:\",product_name,\", cost:\",product_cost)"
   ]
  },
  {
   "cell_type": "code",
   "execution_count": 16,
   "metadata": {},
   "outputs": [
    {
     "name": "stdout",
     "output_type": "stream",
     "text": [
      "product details: name:mi6A, cost:6700\n"
     ]
    }
   ],
   "source": [
    "product_name=\"mi6A\"\n",
    "product_cost=6700\n",
    "# product details: name:mi6A, cost:6700\n",
    "print(\"product details: name:\",product_name,\", cost:\",product_cost,sep=\"\")"
   ]
  },
  {
   "cell_type": "code",
   "execution_count": 17,
   "metadata": {},
   "outputs": [
    {
     "name": "stdout",
     "output_type": "stream",
     "text": [
      "product details: name:mi6A, cost:6700\n"
     ]
    }
   ],
   "source": [
    "product_name=\"mi6A\"\n",
    "product_cost=6700\n",
    "# product details: name:mi6A, cost:6700\n",
    "print(f\"product details: name:{product_name}, cost:{product_cost}\")"
   ]
  },
  {
   "cell_type": "code",
   "execution_count": 18,
   "metadata": {},
   "outputs": [
    {
     "data": {
      "text/plain": [
       "12.35"
      ]
     },
     "execution_count": 18,
     "metadata": {},
     "output_type": "execute_result"
    }
   ],
   "source": [
    "name=\"JAYARAM\"\n",
    "age=2.3456\n",
    "height=3.4567\n",
    "weight=12.4789\n",
    "# Name:JAYARAM, Age:2, Height:3.46, Weight:12.48\n",
    "round(12.34567,2)"
   ]
  },
  {
   "cell_type": "code",
   "execution_count": 19,
   "metadata": {},
   "outputs": [
    {
     "name": "stdout",
     "output_type": "stream",
     "text": [
      "Name:JAYARAM, Age:2.3456, Height:3.4567, Weight:12.4789\n"
     ]
    }
   ],
   "source": [
    "name=\"JAYARAM\"\n",
    "age=2.3456\n",
    "height=3.4567\n",
    "weight=12.4789\n",
    "# Name:JAYARAM, Age:2, Height:3.46, Weight:12.48\n",
    "print(f\"Name:{name}, Age:{age}, Height:{height}, Weight:{weight}\")"
   ]
  },
  {
   "cell_type": "code",
   "execution_count": 20,
   "metadata": {},
   "outputs": [
    {
     "name": "stdout",
     "output_type": "stream",
     "text": [
      "Name:JAYARAM, Age:2, Height:3.46, Weight:12.48\n"
     ]
    }
   ],
   "source": [
    "name=\"JAYARAM\"\n",
    "age=2.3456\n",
    "height=3.4567\n",
    "weight=12.4789\n",
    "# Name:JAYARAM, Age:2, Height:3.46, Weight:12.48\n",
    "print(f\"Name:{name}, Age:{int(age)}, Height:{round(height,2)}, Weight:{round(weight,2)}\")"
   ]
  },
  {
   "cell_type": "code",
   "execution_count": 22,
   "metadata": {},
   "outputs": [
    {
     "name": "stdout",
     "output_type": "stream",
     "text": [
      "<class 'str'>\n"
     ]
    }
   ],
   "source": [
    "name=\"JAYARAM\"\n",
    "age=2.3456\n",
    "height=3.4567\n",
    "weight=12.4789\n",
    "# Name:JAYARAM, Age:2, Height:3.46, Weight:12.48\n",
    "res = f\"Name:{name}, Age:{int(age)}, Height:{round(height,2)}, Weight:{round(weight,2)}\"\n",
    "print(type(res))"
   ]
  },
  {
   "cell_type": "code",
   "execution_count": 23,
   "metadata": {},
   "outputs": [
    {
     "name": "stdout",
     "output_type": "stream",
     "text": [
      "<class 'str'>\n",
      "Name:JAYARAM, Age:2, Height:3.46, Weight:12.48\n"
     ]
    }
   ],
   "source": [
    "name=\"JAYARAM\"\n",
    "age=2.3456\n",
    "height=3.4567\n",
    "weight=12.4789\n",
    "# Name:JAYARAM, Age:2, Height:3.46, Weight:12.48\n",
    "res = f\"Name:{name}, Age:{int(age)}, Height:{round(height,2)}, Weight:{round(weight,2)}\"\n",
    "print(type(res))\n",
    "print(res)"
   ]
  },
  {
   "cell_type": "code",
   "execution_count": 24,
   "metadata": {},
   "outputs": [
    {
     "name": "stdout",
     "output_type": "stream",
     "text": [
      "hello\n",
      "world\n"
     ]
    }
   ],
   "source": [
    "print(\"hello\\nworld\")"
   ]
  },
  {
   "cell_type": "code",
   "execution_count": 25,
   "metadata": {},
   "outputs": [
    {
     "name": "stdout",
     "output_type": "stream",
     "text": [
      "hello\tworld\n"
     ]
    }
   ],
   "source": [
    "print(\"hello\\tworld\")"
   ]
  },
  {
   "cell_type": "code",
   "execution_count": 26,
   "metadata": {},
   "outputs": [
    {
     "name": "stdout",
     "output_type": "stream",
     "text": [
      "hello\\nworld\n"
     ]
    }
   ],
   "source": [
    "print(\"hello\\\\nworld\")"
   ]
  },
  {
   "cell_type": "code",
   "execution_count": 27,
   "metadata": {},
   "outputs": [
    {
     "name": "stdout",
     "output_type": "stream",
     "text": [
      "9\n"
     ]
    }
   ],
   "source": [
    "s=\"1\\n2\\n3\\n4\\n5\"\n",
    "print(len(s))"
   ]
  },
  {
   "cell_type": "code",
   "execution_count": 28,
   "metadata": {},
   "outputs": [
    {
     "name": "stdout",
     "output_type": "stream",
     "text": [
      "1\n",
      "2\n",
      "3\n",
      "4\n",
      "5\n"
     ]
    }
   ],
   "source": [
    "s=\"1\\n2\\n3\\n4\\n5\"\n",
    "print(s)"
   ]
  },
  {
   "cell_type": "code",
   "execution_count": 29,
   "metadata": {},
   "outputs": [
    {
     "name": "stdout",
     "output_type": "stream",
     "text": [
      "1\\n2\\n3\\n4\\n5\n"
     ]
    }
   ],
   "source": [
    "s=\"1\\\\n2\\\\n3\\\\n4\\\\n5\"\n",
    "print(s)"
   ]
  },
  {
   "cell_type": "code",
   "execution_count": 30,
   "metadata": {},
   "outputs": [
    {
     "name": "stdout",
     "output_type": "stream",
     "text": [
      "1\\n2\\n3\\n4\\n5\n"
     ]
    }
   ],
   "source": [
    "s=r\"1\\n2\\n3\\n4\\n5\"\n",
    "print(s)"
   ]
  },
  {
   "cell_type": "code",
   "execution_count": 31,
   "metadata": {},
   "outputs": [
    {
     "name": "stdout",
     "output_type": "stream",
     "text": [
      "1\\n2\\n3\\n4\\n5\n",
      "13\n"
     ]
    }
   ],
   "source": [
    "s=r\"1\\n2\\n3\\n4\\n5\"\n",
    "print(s)\n",
    "print(len(s))"
   ]
  },
  {
   "cell_type": "code",
   "execution_count": 32,
   "metadata": {},
   "outputs": [
    {
     "name": "stdout",
     "output_type": "stream",
     "text": [
      "1\n",
      "\n",
      "2\n",
      "\n",
      "3\n",
      "\n",
      "4\n",
      "\n",
      "5\n",
      "13\n"
     ]
    }
   ],
   "source": [
    "#It's very \"HOT\" in hyderabad.\n",
    "s=r\"1\\n2\\n3\\n4\\n5\"\n",
    "print(\"1\\n\",\"2\\n\",\"3\\n\",\"4\\n\",\"5\",sep=\"\\n\")\n",
    "print(len(s))"
   ]
  },
  {
   "cell_type": "code",
   "execution_count": 33,
   "metadata": {},
   "outputs": [
    {
     "name": "stdout",
     "output_type": "stream",
     "text": [
      "1\\n\n",
      "2\\n\n",
      "3\\n\n",
      "4\\n\n",
      "5\n",
      "13\n"
     ]
    }
   ],
   "source": [
    "#It's very \"HOT\" in hyderabad.\n",
    "s=r\"1\\n2\\n3\\n4\\n5\"\n",
    "print(r\"1\\n\",r\"2\\n\",r\"3\\n\",r\"4\\n\",\"5\",sep=\"\\n\")\n",
    "print(len(s))"
   ]
  },
  {
   "cell_type": "code",
   "execution_count": 35,
   "metadata": {},
   "outputs": [
    {
     "name": "stdout",
     "output_type": "stream",
     "text": [
      "1\\n\n",
      "2\\n\n",
      "3\\n\n",
      "4\\n\n",
      "5\n"
     ]
    }
   ],
   "source": [
    "s=\"1\\\\n\\n2\\\\n\\n3\\\\n\\n4\\\\n\\n5\"\n",
    "print(s)"
   ]
  },
  {
   "cell_type": "code",
   "execution_count": 36,
   "metadata": {},
   "outputs": [
    {
     "name": "stdout",
     "output_type": "stream",
     "text": [
      "It's\n"
     ]
    }
   ],
   "source": [
    "#It's very \"HOT\" in hyderabad.\n",
    "print(\"It's\")"
   ]
  },
  {
   "cell_type": "code",
   "execution_count": 37,
   "metadata": {},
   "outputs": [
    {
     "ename": "SyntaxError",
     "evalue": "invalid syntax (<ipython-input-37-d6a8df239380>, line 2)",
     "output_type": "error",
     "traceback": [
      "\u001b[0;36m  File \u001b[0;32m\"<ipython-input-37-d6a8df239380>\"\u001b[0;36m, line \u001b[0;32m2\u001b[0m\n\u001b[0;31m    print('It's')\u001b[0m\n\u001b[0m              ^\u001b[0m\n\u001b[0;31mSyntaxError\u001b[0m\u001b[0;31m:\u001b[0m invalid syntax\n"
     ]
    }
   ],
   "source": [
    "#It's very \"HOT\" in hyderabad.\n",
    "print('It's')"
   ]
  },
  {
   "cell_type": "code",
   "execution_count": 38,
   "metadata": {},
   "outputs": [
    {
     "name": "stdout",
     "output_type": "stream",
     "text": [
      "It's\n"
     ]
    }
   ],
   "source": [
    "#It's very \"HOT\" in hyderabad.\n",
    "print('It\\'s')"
   ]
  },
  {
   "cell_type": "code",
   "execution_count": 39,
   "metadata": {},
   "outputs": [
    {
     "name": "stdout",
     "output_type": "stream",
     "text": [
      "It's very \"Hot\" in hyderabad\n"
     ]
    }
   ],
   "source": [
    "#It's very \"HOT\" in hyderabad.\n",
    "print('It\\'s very \"Hot\" in hyderabad')"
   ]
  },
  {
   "cell_type": "code",
   "execution_count": 40,
   "metadata": {},
   "outputs": [
    {
     "ename": "SyntaxError",
     "evalue": "invalid syntax (<ipython-input-40-5a87267540a9>, line 2)",
     "output_type": "error",
     "traceback": [
      "\u001b[0;36m  File \u001b[0;32m\"<ipython-input-40-5a87267540a9>\"\u001b[0;36m, line \u001b[0;32m2\u001b[0m\n\u001b[0;31m    print(\"It's very \"Hot\" in hyderabad\")\u001b[0m\n\u001b[0m                        ^\u001b[0m\n\u001b[0;31mSyntaxError\u001b[0m\u001b[0;31m:\u001b[0m invalid syntax\n"
     ]
    }
   ],
   "source": [
    "#It's very \"HOT\" in hyderabad.\n",
    "print(\"It's very \"Hot\" in hyderabad\")"
   ]
  },
  {
   "cell_type": "code",
   "execution_count": 41,
   "metadata": {},
   "outputs": [
    {
     "name": "stdout",
     "output_type": "stream",
     "text": [
      "It's very \"Hot\" in hyderabad\n"
     ]
    }
   ],
   "source": [
    "#It's very \"HOT\" in hyderabad.\n",
    "print(\"It's very \\\"Hot\\\" in hyderabad\")"
   ]
  },
  {
   "cell_type": "code",
   "execution_count": 42,
   "metadata": {},
   "outputs": [
    {
     "name": "stdout",
     "output_type": "stream",
     "text": [
      "%s%d%f%r%o%x\n"
     ]
    }
   ],
   "source": [
    "# format specifiers\n",
    "print(\"%s%d%f%r%o%x\")"
   ]
  },
  {
   "cell_type": "code",
   "execution_count": 43,
   "metadata": {},
   "outputs": [
    {
     "name": "stdout",
     "output_type": "stream",
     "text": [
      "cost of the product:12.343456\n"
     ]
    }
   ],
   "source": [
    "product_cost=12.343456\n",
    "print(f\"cost of the product:{product_cost}\")\n"
   ]
  },
  {
   "cell_type": "code",
   "execution_count": 44,
   "metadata": {},
   "outputs": [
    {
     "name": "stdout",
     "output_type": "stream",
     "text": [
      "cost of the product:12.34\n"
     ]
    }
   ],
   "source": [
    "product_cost=12.343456\n",
    "print(f\"cost of the product:{round(product_cost,2)}\")\n"
   ]
  },
  {
   "cell_type": "code",
   "execution_count": 46,
   "metadata": {},
   "outputs": [
    {
     "name": "stdout",
     "output_type": "stream",
     "text": [
      "cost of the product:%f 12.343456\n"
     ]
    }
   ],
   "source": [
    "product_cost=12.343456\n",
    "print(f\"cost of the product:%f\",product_cost)\n"
   ]
  },
  {
   "cell_type": "code",
   "execution_count": 47,
   "metadata": {},
   "outputs": [
    {
     "name": "stdout",
     "output_type": "stream",
     "text": [
      "cost of the product:12.343456\n"
     ]
    }
   ],
   "source": [
    "product_cost=12.343456\n",
    "print(f\"cost of the product:%f\"%product_cost)\n"
   ]
  },
  {
   "cell_type": "code",
   "execution_count": 48,
   "metadata": {},
   "outputs": [
    {
     "name": "stdout",
     "output_type": "stream",
     "text": [
      "cost of the product:12.34\n"
     ]
    }
   ],
   "source": [
    "product_cost=12.343456\n",
    "print(f\"cost of the product:%.2f\"%product_cost)\n"
   ]
  },
  {
   "cell_type": "code",
   "execution_count": 50,
   "metadata": {},
   "outputs": [
    {
     "name": "stdout",
     "output_type": "stream",
     "text": [
      "Name:JAYARAM, Age:2, Height:3.46, Weight:12.48\n",
      "Name:JAYARAM, Age:2\n"
     ]
    }
   ],
   "source": [
    "name=\"JAYARAM\"\n",
    "age=2.3456\n",
    "height=3.4567\n",
    "weight=12.4789\n",
    "# Name:JAYARAM, Age:2, Height:3.46, Weight:12.48\n",
    "print(f\"Name:{name}, Age:{int(age)}, Height:{round(height,2)}, Weight:{round(weight,2)}\")\n",
    "print(\"Name:%s, Age:%d\"%(name,age))"
   ]
  },
  {
   "cell_type": "code",
   "execution_count": 51,
   "metadata": {},
   "outputs": [
    {
     "name": "stdout",
     "output_type": "stream",
     "text": [
      "Name:JAYARAM, Age:2, Height:3.46, Weight:12.48\n",
      "Name:JAYARAM, Age:2, Height:3.4567, Weight:12.4789\n"
     ]
    }
   ],
   "source": [
    "name=\"JAYARAM\"\n",
    "age=2.3456\n",
    "height=3.4567\n",
    "weight=12.4789\n",
    "# Name:JAYARAM, Age:2, Height:3.46, Weight:12.48\n",
    "print(f\"Name:{name}, Age:{int(age)}, Height:{round(height,2)}, Weight:{round(weight,2)}\")\n",
    "print(\"Name:%s, Age:%d, Height:%s, Weight:%s\"%(name,age,height,weight))"
   ]
  },
  {
   "cell_type": "code",
   "execution_count": 52,
   "metadata": {},
   "outputs": [
    {
     "name": "stdout",
     "output_type": "stream",
     "text": [
      "Name:JAYARAM, Age:2, Height:3.46, Weight:12.48\n",
      "Name:JAYARAM, Age:2, Height:3.456700, Weight:12.478900\n"
     ]
    }
   ],
   "source": [
    "name=\"JAYARAM\"\n",
    "age=2.3456\n",
    "height=3.4567\n",
    "weight=12.4789\n",
    "# Name:JAYARAM, Age:2, Height:3.46, Weight:12.48\n",
    "print(f\"Name:{name}, Age:{int(age)}, Height:{round(height,2)}, Weight:{round(weight,2)}\")\n",
    "print(\"Name:%s, Age:%d, Height:%f, Weight:%f\"%(name,age,height,weight))"
   ]
  },
  {
   "cell_type": "code",
   "execution_count": 53,
   "metadata": {},
   "outputs": [
    {
     "name": "stdout",
     "output_type": "stream",
     "text": [
      "Name:JAYARAM, Age:2, Height:3.46, Weight:12.48\n",
      "Name:JAYARAM, Age:2, Height:3.46, Weight:12.48\n"
     ]
    }
   ],
   "source": [
    "name=\"JAYARAM\"\n",
    "age=2.3456\n",
    "height=3.4567\n",
    "weight=12.4789\n",
    "# Name:JAYARAM, Age:2, Height:3.46, Weight:12.48\n",
    "print(f\"Name:{name}, Age:{int(age)}, Height:{round(height,2)}, Weight:{round(weight,2)}\")\n",
    "print(\"Name:%s, Age:%d, Height:%.2f, Weight:%.2f\"%(name,age,height,weight))"
   ]
  },
  {
   "cell_type": "code",
   "execution_count": 54,
   "metadata": {},
   "outputs": [
    {
     "name": "stdout",
     "output_type": "stream",
     "text": [
      "Name:JAYARAM, %Age:2, Height:3.46, Weight:12.48\n",
      "Name:JAYARAM, Age:2, Height:3.46, Weight:12.48\n"
     ]
    }
   ],
   "source": [
    "name=\"JAYARAM\"\n",
    "age=2.3456\n",
    "height=3.4567\n",
    "weight=12.4789\n",
    "# Name:JAYARAM, Age:2, Height:3.46, Weight:12.48\n",
    "print(f\"Name:{name}, %Age:{int(age)}, Height:{round(height,2)}, Weight:{round(weight,2)}\")\n",
    "print(\"Name:%s, Age:%d, Height:%.2f, Weight:%.2f\"%(name,age,height,weight))"
   ]
  },
  {
   "cell_type": "code",
   "execution_count": 55,
   "metadata": {},
   "outputs": [
    {
     "name": "stdout",
     "output_type": "stream",
     "text": [
      "Name:JAYARAM, %Age:2, Height:3.46, Weight:12.48\n"
     ]
    },
    {
     "ename": "ValueError",
     "evalue": "unsupported format character 'A' (0x41) at index 10",
     "output_type": "error",
     "traceback": [
      "\u001b[0;31m---------------------------------------------------------------------------\u001b[0m",
      "\u001b[0;31mValueError\u001b[0m                                Traceback (most recent call last)",
      "\u001b[0;32m<ipython-input-55-b2a176fbbd4b>\u001b[0m in \u001b[0;36m<module>\u001b[0;34m()\u001b[0m\n\u001b[1;32m      5\u001b[0m \u001b[0;31m# Name:JAYARAM, Age:2, Height:3.46, Weight:12.48\u001b[0m\u001b[0;34m\u001b[0m\u001b[0;34m\u001b[0m\u001b[0m\n\u001b[1;32m      6\u001b[0m \u001b[0mprint\u001b[0m\u001b[0;34m(\u001b[0m\u001b[0;34mf\"Name:{name}, %Age:{int(age)}, Height:{round(height,2)}, Weight:{round(weight,2)}\"\u001b[0m\u001b[0;34m)\u001b[0m\u001b[0;34m\u001b[0m\u001b[0m\n\u001b[0;32m----> 7\u001b[0;31m \u001b[0mprint\u001b[0m\u001b[0;34m(\u001b[0m\u001b[0;34m\"Name:%s, %Age:%d, Height:%.2f, Weight:%.2f\"\u001b[0m\u001b[0;34m%\u001b[0m\u001b[0;34m(\u001b[0m\u001b[0mname\u001b[0m\u001b[0;34m,\u001b[0m\u001b[0mage\u001b[0m\u001b[0;34m,\u001b[0m\u001b[0mheight\u001b[0m\u001b[0;34m,\u001b[0m\u001b[0mweight\u001b[0m\u001b[0;34m)\u001b[0m\u001b[0;34m)\u001b[0m\u001b[0;34m\u001b[0m\u001b[0m\n\u001b[0m",
      "\u001b[0;31mValueError\u001b[0m: unsupported format character 'A' (0x41) at index 10"
     ]
    }
   ],
   "source": [
    "name=\"JAYARAM\"\n",
    "age=2.3456\n",
    "height=3.4567\n",
    "weight=12.4789\n",
    "# Name:JAYARAM, Age:2, Height:3.46, Weight:12.48\n",
    "print(f\"Name:{name}, %Age:{int(age)}, Height:{round(height,2)}, Weight:{round(weight,2)}\")\n",
    "print(\"Name:%s, %Age:%d, Height:%.2f, Weight:%.2f\"%(name,age,height,weight))"
   ]
  },
  {
   "cell_type": "code",
   "execution_count": 56,
   "metadata": {},
   "outputs": [
    {
     "name": "stdout",
     "output_type": "stream",
     "text": [
      "Name:JAYARAM, %Age:2, Height:3.46, Weight:12.48\n"
     ]
    },
    {
     "ename": "ValueError",
     "evalue": "unsupported format character 'A' (0x41) at index 11",
     "output_type": "error",
     "traceback": [
      "\u001b[0;31m---------------------------------------------------------------------------\u001b[0m",
      "\u001b[0;31mValueError\u001b[0m                                Traceback (most recent call last)",
      "\u001b[0;32m<ipython-input-56-66a3afb73303>\u001b[0m in \u001b[0;36m<module>\u001b[0;34m()\u001b[0m\n\u001b[1;32m      5\u001b[0m \u001b[0;31m# Name:JAYARAM, Age:2, Height:3.46, Weight:12.48\u001b[0m\u001b[0;34m\u001b[0m\u001b[0;34m\u001b[0m\u001b[0m\n\u001b[1;32m      6\u001b[0m \u001b[0mprint\u001b[0m\u001b[0;34m(\u001b[0m\u001b[0;34mf\"Name:{name}, %Age:{int(age)}, Height:{round(height,2)}, Weight:{round(weight,2)}\"\u001b[0m\u001b[0;34m)\u001b[0m\u001b[0;34m\u001b[0m\u001b[0m\n\u001b[0;32m----> 7\u001b[0;31m \u001b[0mprint\u001b[0m\u001b[0;34m(\u001b[0m\u001b[0;34m\"Name:%s, \\%Age:%d, Height:%.2f, Weight:%.2f\"\u001b[0m\u001b[0;34m%\u001b[0m\u001b[0;34m(\u001b[0m\u001b[0mname\u001b[0m\u001b[0;34m,\u001b[0m\u001b[0mage\u001b[0m\u001b[0;34m,\u001b[0m\u001b[0mheight\u001b[0m\u001b[0;34m,\u001b[0m\u001b[0mweight\u001b[0m\u001b[0;34m)\u001b[0m\u001b[0;34m)\u001b[0m\u001b[0;34m\u001b[0m\u001b[0m\n\u001b[0m",
      "\u001b[0;31mValueError\u001b[0m: unsupported format character 'A' (0x41) at index 11"
     ]
    }
   ],
   "source": [
    "name=\"JAYARAM\"\n",
    "age=2.3456\n",
    "height=3.4567\n",
    "weight=12.4789\n",
    "# Name:JAYARAM, Age:2, Height:3.46, Weight:12.48\n",
    "print(f\"Name:{name}, %Age:{int(age)}, Height:{round(height,2)}, Weight:{round(weight,2)}\")\n",
    "print(\"Name:%s, \\%Age:%d, Height:%.2f, Weight:%.2f\"%(name,age,height,weight))"
   ]
  },
  {
   "cell_type": "code",
   "execution_count": 57,
   "metadata": {},
   "outputs": [
    {
     "name": "stdout",
     "output_type": "stream",
     "text": [
      "Name:JAYARAM, %Age:2, Height:3.46, Weight:12.48\n",
      "Name:JAYARAM, %Age:2, Height:3.46, Weight:12.48\n"
     ]
    }
   ],
   "source": [
    "name=\"JAYARAM\"\n",
    "age=2.3456\n",
    "height=3.4567\n",
    "weight=12.4789\n",
    "# Name:JAYARAM, Age:2, Height:3.46, Weight:12.48\n",
    "print(f\"Name:{name}, %Age:{int(age)}, Height:{round(height,2)}, Weight:{round(weight,2)}\")\n",
    "print(\"Name:%s, %%Age:%d, Height:%.2f, Weight:%.2f\"%(name,age,height,weight))"
   ]
  },
  {
   "cell_type": "code",
   "execution_count": 58,
   "metadata": {},
   "outputs": [
    {
     "name": "stdout",
     "output_type": "stream",
     "text": [
      "10\n"
     ]
    }
   ],
   "source": [
    "a=10\n",
    "print(\"%s\"%a)"
   ]
  },
  {
   "cell_type": "code",
   "execution_count": 59,
   "metadata": {},
   "outputs": [
    {
     "name": "stdout",
     "output_type": "stream",
     "text": [
      "1000 <class 'int'>\n",
      "1000 <class 'str'>\n"
     ]
    }
   ],
   "source": [
    "a=1000\n",
    "b=\"%s\"%a\n",
    "print(a, type(a))\n",
    "print(b,type(b))"
   ]
  },
  {
   "cell_type": "code",
   "execution_count": 60,
   "metadata": {},
   "outputs": [
    {
     "name": "stdout",
     "output_type": "stream",
     "text": [
      "1\n",
      "2\n",
      "3\n",
      "4\n",
      "5\n"
     ]
    }
   ],
   "source": [
    "s=\"1\\n2\\n3\\n4\\n5\"\n",
    "print(s)"
   ]
  },
  {
   "cell_type": "code",
   "execution_count": 61,
   "metadata": {},
   "outputs": [
    {
     "name": "stdout",
     "output_type": "stream",
     "text": [
      "1\n",
      "2\n",
      "3\n",
      "4\n",
      "5\n"
     ]
    }
   ],
   "source": [
    "s=\"1\\n2\\n3\\n4\\n5\"\n",
    "print(\"%s\"%s)"
   ]
  },
  {
   "cell_type": "code",
   "execution_count": 62,
   "metadata": {},
   "outputs": [
    {
     "name": "stdout",
     "output_type": "stream",
     "text": [
      "'1\\n2\\n3\\n4\\n5'\n"
     ]
    }
   ],
   "source": [
    "s=\"1\\n2\\n3\\n4\\n5\"\n",
    "print(\"%r\"%s)"
   ]
  },
  {
   "cell_type": "code",
   "execution_count": 63,
   "metadata": {},
   "outputs": [
    {
     "name": "stdout",
     "output_type": "stream",
     "text": [
      "1750\n",
      "3e8\n"
     ]
    }
   ],
   "source": [
    "a=1000\n",
    "print(\"%o\"%a)\n",
    "print(\"%x\"%a)"
   ]
  },
  {
   "cell_type": "code",
   "execution_count": 64,
   "metadata": {},
   "outputs": [
    {
     "name": "stdout",
     "output_type": "stream",
     "text": [
      "1\n",
      "2\n",
      "3\n",
      "4\n",
      "5\n"
     ]
    }
   ],
   "source": [
    "k=\"1\\n2\\n3\\n4\\n5\"\n",
    "print(k)"
   ]
  },
  {
   "cell_type": "code",
   "execution_count": 65,
   "metadata": {},
   "outputs": [
    {
     "name": "stdout",
     "output_type": "stream",
     "text": [
      "1\\n2\\n3\\n4\\n5\n"
     ]
    }
   ],
   "source": [
    "k=r\"1\\n2\\n3\\n4\\n5\"\n",
    "print(k)"
   ]
  },
  {
   "cell_type": "code",
   "execution_count": 71,
   "metadata": {},
   "outputs": [
    {
     "name": "stdout",
     "output_type": "stream",
     "text": [
      "k\n"
     ]
    }
   ],
   "source": [
    "k=\"1\\n2\\n3\\n4\\n5\"\n",
    "k1=r'k'\n",
    "print(k1)"
   ]
  },
  {
   "cell_type": "code",
   "execution_count": 67,
   "metadata": {},
   "outputs": [
    {
     "name": "stdout",
     "output_type": "stream",
     "text": [
      "'1\\n2\\n3\\n4\\n5'\n"
     ]
    }
   ],
   "source": [
    "k=\"1\\n2\\n3\\n4\\n5\"\n",
    "print(\"%r\"%k)"
   ]
  },
  {
   "cell_type": "code",
   "execution_count": 68,
   "metadata": {},
   "outputs": [
    {
     "name": "stdout",
     "output_type": "stream",
     "text": [
      "1\n",
      "2\n",
      "3\n",
      "4\n",
      "5\n"
     ]
    }
   ],
   "source": [
    "print(\"1\\n2\\n3\\n4\\n5\")"
   ]
  },
  {
   "cell_type": "code",
   "execution_count": 69,
   "metadata": {},
   "outputs": [
    {
     "name": "stdout",
     "output_type": "stream",
     "text": [
      "name\n"
     ]
    }
   ],
   "source": [
    "name=\"apple\"\n",
    "print(\"name\")"
   ]
  },
  {
   "cell_type": "code",
   "execution_count": 72,
   "metadata": {},
   "outputs": [
    {
     "name": "stdout",
     "output_type": "stream",
     "text": [
      "1\n",
      "2\n",
      "3\n",
      "4\n",
      "5\n"
     ]
    }
   ],
   "source": [
    "k=\"1\\n2\\n3\\n4\\n5\"\n",
    "k1=r'%s'%k\n",
    "print(k1)"
   ]
  },
  {
   "cell_type": "code",
   "execution_count": 73,
   "metadata": {},
   "outputs": [
    {
     "data": {
      "text/plain": [
       "8"
      ]
     },
     "execution_count": 73,
     "metadata": {},
     "output_type": "execute_result"
    }
   ],
   "source": [
    "2**3"
   ]
  },
  {
   "cell_type": "code",
   "execution_count": null,
   "metadata": {},
   "outputs": [],
   "source": []
  }
 ],
 "metadata": {
  "kernelspec": {
   "display_name": "Python 3",
   "language": "python",
   "name": "python3"
  },
  "language_info": {
   "codemirror_mode": {
    "name": "ipython",
    "version": 3
   },
   "file_extension": ".py",
   "mimetype": "text/x-python",
   "name": "python",
   "nbconvert_exporter": "python",
   "pygments_lexer": "ipython3",
   "version": "3.7.0"
  }
 },
 "nbformat": 4,
 "nbformat_minor": 2
}
