{
 "cells": [
  {
   "cell_type": "code",
   "execution_count": 1,
   "metadata": {},
   "outputs": [
    {
     "name": "stdout",
     "output_type": "stream",
     "text": [
      "st1\n",
      "st2\n",
      "st3\n"
     ]
    }
   ],
   "source": [
    "print(\"st1\")\n",
    "print(\"st2\")\n",
    "print(\"st3\")"
   ]
  },
  {
   "cell_type": "code",
   "execution_count": 2,
   "metadata": {},
   "outputs": [
    {
     "name": "stdout",
     "output_type": "stream",
     "text": [
      "welcome\n",
      "Enter a value:1\n",
      "Enter b value:2\n",
      "a is big\n",
      "b is big\n",
      "thank you!!\n"
     ]
    }
   ],
   "source": [
    "print(\"welcome\")\n",
    "a=input(\"Enter a value:\")\n",
    "b=input(\"Enter b value:\")\n",
    "print(\"a is big\")\n",
    "print(\"b is big\")\n",
    "print(\"thank you!!\")"
   ]
  },
  {
   "cell_type": "code",
   "execution_count": 3,
   "metadata": {},
   "outputs": [
    {
     "name": "stdout",
     "output_type": "stream",
     "text": [
      "welcome\n",
      "Enter a value:5\n",
      "Enter b value:3\n",
      "a is big\n",
      "b is big\n",
      "thank you!!\n"
     ]
    }
   ],
   "source": [
    "print(\"welcome\")\n",
    "a=input(\"Enter a value:\")\n",
    "b=input(\"Enter b value:\")\n",
    "print(\"a is big\")\n",
    "print(\"b is big\")\n",
    "print(\"thank you!!\")"
   ]
  },
  {
   "cell_type": "code",
   "execution_count": 4,
   "metadata": {},
   "outputs": [
    {
     "name": "stdout",
     "output_type": "stream",
     "text": [
      "welcome\n",
      "Enter a value:5\n",
      "Enter b value:3\n",
      "True\n",
      "a is big\n",
      "thank you!!\n"
     ]
    }
   ],
   "source": [
    "print(\"welcome\")\n",
    "a=input(\"Enter a value:\")\n",
    "b=input(\"Enter b value:\")\n",
    "print(a>b)\n",
    "if a>b:\n",
    "    print(\"a is big\")\n",
    "else:\n",
    "    print(\"b is big\")\n",
    "print(\"thank you!!\")"
   ]
  },
  {
   "cell_type": "code",
   "execution_count": 5,
   "metadata": {},
   "outputs": [
    {
     "name": "stdout",
     "output_type": "stream",
     "text": [
      "welcome\n",
      "Enter a value:3\n",
      "Enter b value:5\n",
      "False\n",
      "b is big\n",
      "thank you!!\n"
     ]
    }
   ],
   "source": [
    "print(\"welcome\")\n",
    "a=input(\"Enter a value:\")\n",
    "b=input(\"Enter b value:\")\n",
    "print(a>b)\n",
    "if a>b:\n",
    "    print(\"a is big\")\n",
    "else:\n",
    "    print(\"b is big\")\n",
    "print(\"thank you!!\")"
   ]
  },
  {
   "cell_type": "code",
   "execution_count": 6,
   "metadata": {},
   "outputs": [
    {
     "name": "stdout",
     "output_type": "stream",
     "text": [
      "Enter string:pythion\n"
     ]
    }
   ],
   "source": [
    "s=input(\"Enter string:\")"
   ]
  },
  {
   "cell_type": "code",
   "execution_count": 7,
   "metadata": {},
   "outputs": [
    {
     "name": "stdout",
     "output_type": "stream",
     "text": [
      "Enter string:\n"
     ]
    }
   ],
   "source": [
    "s=input(\"Enter string:\")"
   ]
  },
  {
   "cell_type": "code",
   "execution_count": 8,
   "metadata": {},
   "outputs": [
    {
     "name": "stdout",
     "output_type": "stream",
     "text": [
      "Enter string:python\n",
      "6\n"
     ]
    }
   ],
   "source": [
    "s=input(\"Enter string:\")\n",
    "print(len(s))\n"
   ]
  },
  {
   "cell_type": "code",
   "execution_count": 9,
   "metadata": {},
   "outputs": [
    {
     "name": "stdout",
     "output_type": "stream",
     "text": [
      "Enter string:\n",
      "0\n"
     ]
    }
   ],
   "source": [
    "s=input(\"Enter string:\")\n",
    "print(len(s))\n"
   ]
  },
  {
   "cell_type": "code",
   "execution_count": 10,
   "metadata": {},
   "outputs": [
    {
     "data": {
      "text/plain": [
       "False"
      ]
     },
     "execution_count": 10,
     "metadata": {},
     "output_type": "execute_result"
    }
   ],
   "source": [
    "\"\" == None"
   ]
  },
  {
   "cell_type": "code",
   "execution_count": 12,
   "metadata": {},
   "outputs": [
    {
     "name": "stdout",
     "output_type": "stream",
     "text": [
      "Enter string:dffgsd\n",
      "6\n",
      "sdfsd\n"
     ]
    }
   ],
   "source": [
    "s=input(\"Enter string:\")\n",
    "print(len(s))\n",
    "print(\"sdfsd\")\n"
   ]
  },
  {
   "cell_type": "code",
   "execution_count": 13,
   "metadata": {},
   "outputs": [
    {
     "name": "stdout",
     "output_type": "stream",
     "text": [
      "Welcome\n",
      "Enter a steing:\n",
      "invalid string\n",
      "thank you\n"
     ]
    }
   ],
   "source": [
    "print(\"Welcome\")\n",
    "s=input(\"Enter a steing:\")\n",
    "if len(s)==0:\n",
    "    print(\"invalid string\")\n",
    "else:\n",
    "    print(len(s))\n",
    "print(\"thank you\")"
   ]
  },
  {
   "cell_type": "code",
   "execution_count": 14,
   "metadata": {},
   "outputs": [
    {
     "name": "stdout",
     "output_type": "stream",
     "text": [
      "Welcome\n",
      "Enter a steing:python\n",
      "6\n",
      "thank you\n"
     ]
    }
   ],
   "source": [
    "print(\"Welcome\")\n",
    "s=input(\"Enter a steing:\")\n",
    "if len(s)==0:\n",
    "    print(\"invalid string\")\n",
    "else:\n",
    "    print(len(s))\n",
    "print(\"thank you\")"
   ]
  },
  {
   "cell_type": "code",
   "execution_count": 15,
   "metadata": {},
   "outputs": [
    {
     "name": "stdout",
     "output_type": "stream",
     "text": [
      "Welcome\n",
      "Enter a steing:pyuton\n",
      "6\n",
      "thank you\n"
     ]
    }
   ],
   "source": [
    "print(\"Welcome\")\n",
    "s=input(\"Enter a steing:\")\n",
    "len_s = len(s)\n",
    "if len_s==0:\n",
    "    print(\"invalid string\")\n",
    "else:\n",
    "    print(len_s)\n",
    "print(\"thank you\")"
   ]
  },
  {
   "cell_type": "code",
   "execution_count": 16,
   "metadata": {},
   "outputs": [
    {
     "name": "stdout",
     "output_type": "stream",
     "text": [
      "Welcome\n",
      "Enter a steing:\n",
      "invalid string\n",
      "thank you\n"
     ]
    }
   ],
   "source": [
    "print(\"Welcome\")\n",
    "s=input(\"Enter a steing:\")\n",
    "len_s = len(s)\n",
    "if len_s==0:\n",
    "    print(\"invalid string\")\n",
    "else:\n",
    "    print(len_s)\n",
    "print(\"thank you\")"
   ]
  },
  {
   "cell_type": "code",
   "execution_count": 17,
   "metadata": {},
   "outputs": [
    {
     "name": "stdout",
     "output_type": "stream",
     "text": [
      "Welcome\n",
      "Enter a steing:\n",
      "invalid string\n",
      "thank you\n"
     ]
    }
   ],
   "source": [
    "print(\"Welcome\")\n",
    "s=input(\"Enter a steing:\")\n",
    "len_s = len(s)\n",
    "if bool(len_s==0):\n",
    "    print(\"invalid string\")\n",
    "else:\n",
    "    print(len_s)\n",
    "print(\"thank you\")"
   ]
  },
  {
   "cell_type": "code",
   "execution_count": 18,
   "metadata": {},
   "outputs": [
    {
     "data": {
      "text/plain": [
       "True"
      ]
     },
     "execution_count": 18,
     "metadata": {},
     "output_type": "execute_result"
    }
   ],
   "source": [
    "bool(True)"
   ]
  },
  {
   "cell_type": "code",
   "execution_count": 20,
   "metadata": {},
   "outputs": [
    {
     "name": "stdout",
     "output_type": "stream",
     "text": [
      "Welcome\n",
      "Enter a steing:python\n",
      "6\n",
      "thank you\n"
     ]
    }
   ],
   "source": [
    "print(\"Welcome\")\n",
    "s=input(\"Enter a steing:\")\n",
    "len_s = len(s)\n",
    "if bool(s):\n",
    "    print(len_s)\n",
    "else:\n",
    "    print(\"invalid string\")\n",
    "print(\"thank you\")"
   ]
  },
  {
   "cell_type": "code",
   "execution_count": 21,
   "metadata": {},
   "outputs": [
    {
     "name": "stdout",
     "output_type": "stream",
     "text": [
      "Welcome\n",
      "Enter a steing:\n",
      "invalid string\n",
      "thank you\n"
     ]
    }
   ],
   "source": [
    "print(\"Welcome\")\n",
    "s=input(\"Enter a steing:\")\n",
    "len_s = len(s)\n",
    "if bool(s):\n",
    "    print(len_s)\n",
    "else:\n",
    "    print(\"invalid string\")\n",
    "print(\"thank you\")"
   ]
  },
  {
   "cell_type": "code",
   "execution_count": 22,
   "metadata": {},
   "outputs": [
    {
     "name": "stdout",
     "output_type": "stream",
     "text": [
      "Welcome\n",
      "Enter a steing:234567\n",
      "6\n",
      "thank you\n"
     ]
    }
   ],
   "source": [
    "print(\"Welcome\")\n",
    "s=input(\"Enter a steing:\")\n",
    "len_s = len(s)\n",
    "if bool(s):\n",
    "    print(len_s)\n",
    "else:\n",
    "    print(\"invalid string\")\n",
    "print(\"thank you\")"
   ]
  },
  {
   "cell_type": "code",
   "execution_count": 23,
   "metadata": {},
   "outputs": [
    {
     "name": "stdout",
     "output_type": "stream",
     "text": [
      "Welcome\n",
      "Enter a steing:python\n",
      "6\n",
      "thank you\n"
     ]
    }
   ],
   "source": [
    "print(\"Welcome\")\n",
    "s=input(\"Enter a steing:\")\n",
    "len_s = len(s)\n",
    "if s:\n",
    "    print(len_s)\n",
    "else:\n",
    "    print(\"invalid string\")\n",
    "print(\"thank you\")"
   ]
  },
  {
   "cell_type": "code",
   "execution_count": 25,
   "metadata": {},
   "outputs": [
    {
     "name": "stdout",
     "output_type": "stream",
     "text": [
      "Welcome\n",
      "Enter a steing:\n",
      "invalid string\n",
      "thank you\n"
     ]
    }
   ],
   "source": [
    "print(\"Welcome\")\n",
    "s=input(\"Enter a steing:\")\n",
    "len_s = len(s)\n",
    "if s:\n",
    "    print(len_s)\n",
    "else:\n",
    "    print(\"invalid string\")\n",
    "print(\"thank you\")"
   ]
  },
  {
   "cell_type": "code",
   "execution_count": null,
   "metadata": {},
   "outputs": [],
   "source": [
    "print(\"Welcome\")\n",
    "s=input(\"Enter a steing:\")\n",
    "\n",
    "if s:\n",
    "    len_s = len(s)\n",
    "    print(len_s)\n",
    "else:\n",
    "    len_s = len(s)\n",
    "    print(\"invalid string\")\n",
    "print(\"thank you\")"
   ]
  },
  {
   "cell_type": "code",
   "execution_count": 26,
   "metadata": {},
   "outputs": [
    {
     "name": "stdout",
     "output_type": "stream",
     "text": [
      "Enter number:12\n"
     ]
    },
    {
     "ename": "TypeError",
     "evalue": "not all arguments converted during string formatting",
     "output_type": "error",
     "traceback": [
      "\u001b[0;31m---------------------------------------------------------------------------\u001b[0m",
      "\u001b[0;31mTypeError\u001b[0m                                 Traceback (most recent call last)",
      "\u001b[0;32m<ipython-input-26-83fd63f94b5a>\u001b[0m in \u001b[0;36m<module>\u001b[0;34m()\u001b[0m\n\u001b[1;32m     10\u001b[0m \"\"\"\n\u001b[1;32m     11\u001b[0m \u001b[0ms\u001b[0m\u001b[0;34m=\u001b[0m\u001b[0minput\u001b[0m\u001b[0;34m(\u001b[0m\u001b[0;34m\"Enter number:\"\u001b[0m\u001b[0;34m)\u001b[0m\u001b[0;34m\u001b[0m\u001b[0m\n\u001b[0;32m---> 12\u001b[0;31m \u001b[0mprint\u001b[0m\u001b[0;34m(\u001b[0m\u001b[0ms\u001b[0m\u001b[0;34m%\u001b[0m\u001b[0;36m2\u001b[0m\u001b[0;34m)\u001b[0m\u001b[0;34m\u001b[0m\u001b[0m\n\u001b[0m",
      "\u001b[0;31mTypeError\u001b[0m: not all arguments converted during string formatting"
     ]
    }
   ],
   "source": [
    "\"\"\"\n",
    "The mobiles in my store:\n",
    "    1. Redmi 6A\n",
    "    2. Redmi pro\n",
    "    3. lenove note3\n",
    "    4. vivov10\n",
    "    5. oppo\n",
    "Enter an option:\n",
    "\n",
    "\"\"\"\n",
    "s=input(\"Enter number:\")\n",
    "print(s%2)"
   ]
  },
  {
   "cell_type": "code",
   "execution_count": 27,
   "metadata": {},
   "outputs": [
    {
     "name": "stdout",
     "output_type": "stream",
     "text": [
      "Enter number:12\n",
      "0\n"
     ]
    }
   ],
   "source": [
    "\"\"\"\n",
    "The mobiles in my store:\n",
    "    1. Redmi 6A\n",
    "    2. Redmi pro\n",
    "    3. lenove note3\n",
    "    4. vivov10\n",
    "    5. oppo\n",
    "Enter an option:\n",
    "\n",
    "\"\"\"\n",
    "s=input(\"Enter number:\")\n",
    "s=int(s)\n",
    "print(s%2)"
   ]
  },
  {
   "cell_type": "code",
   "execution_count": 28,
   "metadata": {},
   "outputs": [
    {
     "name": "stdout",
     "output_type": "stream",
     "text": [
      "Enter number:12\n",
      "6.0\n"
     ]
    }
   ],
   "source": [
    "\"\"\"\n",
    "The mobiles in my store:\n",
    "    1. Redmi 6A\n",
    "    2. Redmi pro\n",
    "    3. lenove note3\n",
    "    4. vivov10\n",
    "    5. oppo\n",
    "Enter an option:\n",
    "\n",
    "\"\"\"\n",
    "s=input(\"Enter number:\")\n",
    "s=int(s)\n",
    "print(s/2)"
   ]
  },
  {
   "cell_type": "code",
   "execution_count": 1,
   "metadata": {},
   "outputs": [
    {
     "name": "stdout",
     "output_type": "stream",
     "text": [
      "The mobiles in my store:\n",
      "\t1. Redmi 6A\n",
      "\t2.Redmi pro\n",
      "\t3.lenovo note3\n",
      "\t4.vivov10\n",
      "\t5.oppo\n"
     ]
    }
   ],
   "source": [
    "print(\"The mobiles in my store:\\n\\t1. Redmi 6A\\n\\t2.Redmi pro\\n\\t3.lenovo note3\\n\\t4.vivov10\\n\\t5.oppo\")"
   ]
  },
  {
   "cell_type": "code",
   "execution_count": 2,
   "metadata": {},
   "outputs": [
    {
     "name": "stdout",
     "output_type": "stream",
     "text": [
      "The mobiles in my store:\n",
      "\t1. Redmi 6A\n",
      "\t2.Redmi pro\n",
      "\t3.lenovo note3\n",
      "\t4.vivov10\n",
      "\t5.oppo\n",
      "Enter an option:1\n",
      "1\n"
     ]
    }
   ],
   "source": [
    "print(\"The mobiles in my store:\\n\\t1. Redmi 6A\\n\\t2.Redmi pro\\n\\t3.lenovo note3\\n\\t4.vivov10\\n\\t5.oppo\")\n",
    "opt=input(\"Enter an option:\")\n",
    "print(opt)"
   ]
  },
  {
   "cell_type": "code",
   "execution_count": 3,
   "metadata": {},
   "outputs": [
    {
     "name": "stdout",
     "output_type": "stream",
     "text": [
      "The mobiles in my store:\n",
      "\t1. Redmi 6A\n",
      "\t2.Redmi pro\n",
      "\t3.lenovo note3\n",
      "\t4.vivov10\n",
      "\t5.oppo\n",
      "Enter an option:1\n",
      "REDMI 6A: RAM: 2GB, ROM: 32GB, COST:6700\n",
      "thank you!!\n"
     ]
    }
   ],
   "source": [
    "print(\"The mobiles in my store:\\n\\t1. Redmi 6A\\n\\t2.Redmi pro\\n\\t3.lenovo note3\\n\\t4.vivov10\\n\\t5.oppo\")\n",
    "opt=input(\"Enter an option:\")\n",
    "if opt==\"1\":\n",
    "    print(\"REDMI 6A: RAM: 2GB, ROM: 32GB, COST:6700\")\n",
    "if opt==\"2\":\n",
    "    print(\"REDMI PRO: RAM: 4GB, ROM: 68GB, COST:12000\")\n",
    "if opt==\"3\":\n",
    "    print(\"LENOVO NOTE3: RAM: 3GB, ROM: 32GB, COST:7000\")\n",
    "if opt==\"4\":\n",
    "    print(\"vivo v10: RAM: 2GB, ROM: 32GB, COST:6700\")\n",
    "if opt==\"5\":\n",
    "    print(\"oppo: RAM: 2GB, ROM: 32GB, COST:8000\")\n",
    "print(\"thank you!!\")"
   ]
  },
  {
   "cell_type": "code",
   "execution_count": 4,
   "metadata": {},
   "outputs": [
    {
     "name": "stdout",
     "output_type": "stream",
     "text": [
      "The mobiles in my store:\n",
      "\t1. Redmi 6A\n",
      "\t2.Redmi pro\n",
      "\t3.lenovo note3\n",
      "\t4.vivov10\n",
      "\t5.oppo\n",
      "Enter an option:2\n",
      "REDMI PRO: RAM: 4GB, ROM: 68GB, COST:12000\n",
      "thank you!!\n"
     ]
    }
   ],
   "source": [
    "print(\"The mobiles in my store:\\n\\t1. Redmi 6A\\n\\t2.Redmi pro\\n\\t3.lenovo note3\\n\\t4.vivov10\\n\\t5.oppo\")\n",
    "opt=input(\"Enter an option:\")\n",
    "if opt==\"1\":\n",
    "    print(\"REDMI 6A: RAM: 2GB, ROM: 32GB, COST:6700\")\n",
    "if opt==\"2\":\n",
    "    print(\"REDMI PRO: RAM: 4GB, ROM: 68GB, COST:12000\")\n",
    "if opt==\"3\":\n",
    "    print(\"LENOVO NOTE3: RAM: 3GB, ROM: 32GB, COST:7000\")\n",
    "if opt==\"4\":\n",
    "    print(\"vivo v10: RAM: 2GB, ROM: 32GB, COST:6700\")\n",
    "if opt==\"5\":\n",
    "    print(\"oppo: RAM: 2GB, ROM: 32GB, COST:8000\")\n",
    "print(\"thank you!!\")"
   ]
  },
  {
   "cell_type": "code",
   "execution_count": 5,
   "metadata": {},
   "outputs": [
    {
     "name": "stdout",
     "output_type": "stream",
     "text": [
      "The mobiles in my store:\n",
      "\t1. Redmi 6A\n",
      "\t2.Redmi pro\n",
      "\t3.lenovo note3\n",
      "\t4.vivov10\n",
      "\t5.oppo\n",
      "Enter an option:34\n",
      "thank you!!\n"
     ]
    }
   ],
   "source": [
    "print(\"The mobiles in my store:\\n\\t1. Redmi 6A\\n\\t2.Redmi pro\\n\\t3.lenovo note3\\n\\t4.vivov10\\n\\t5.oppo\")\n",
    "opt=input(\"Enter an option:\")\n",
    "if opt==\"1\":\n",
    "    print(\"REDMI 6A: RAM: 2GB, ROM: 32GB, COST:6700\")\n",
    "if opt==\"2\":\n",
    "    print(\"REDMI PRO: RAM: 4GB, ROM: 68GB, COST:12000\")\n",
    "if opt==\"3\":\n",
    "    print(\"LENOVO NOTE3: RAM: 3GB, ROM: 32GB, COST:7000\")\n",
    "if opt==\"4\":\n",
    "    print(\"vivo v10: RAM: 2GB, ROM: 32GB, COST:6700\")\n",
    "if opt==\"5\":\n",
    "    print(\"oppo: RAM: 2GB, ROM: 32GB, COST:8000\")\n",
    "print(\"thank you!!\")"
   ]
  },
  {
   "cell_type": "code",
   "execution_count": 6,
   "metadata": {},
   "outputs": [
    {
     "name": "stdout",
     "output_type": "stream",
     "text": [
      "The mobiles in my store:\n",
      "\t1. Redmi 6A\n",
      "\t2.Redmi pro\n",
      "\t3.lenovo note3\n",
      "\t4.vivov10\n",
      "\t5.oppo\n",
      "Enter an option:34\n",
      "wrong option!!\n",
      "thank you!!\n"
     ]
    }
   ],
   "source": [
    "print(\"The mobiles in my store:\\n\\t1. Redmi 6A\\n\\t2.Redmi pro\\n\\t3.lenovo note3\\n\\t4.vivov10\\n\\t5.oppo\")\n",
    "opt=input(\"Enter an option:\")\n",
    "if opt==\"1\":\n",
    "    print(\"REDMI 6A: RAM: 2GB, ROM: 32GB, COST:6700\")\n",
    "if opt==\"2\":\n",
    "    print(\"REDMI PRO: RAM: 4GB, ROM: 68GB, COST:12000\")\n",
    "if opt==\"3\":\n",
    "    print(\"LENOVO NOTE3: RAM: 3GB, ROM: 32GB, COST:7000\")\n",
    "if opt==\"4\":\n",
    "    print(\"vivo v10: RAM: 2GB, ROM: 32GB, COST:6700\")\n",
    "if opt==\"5\":\n",
    "    print(\"oppo: RAM: 2GB, ROM: 32GB, COST:8000\")\n",
    "else:\n",
    "    print(\"wrong option!!\")\n",
    "print(\"thank you!!\")"
   ]
  },
  {
   "cell_type": "code",
   "execution_count": 7,
   "metadata": {},
   "outputs": [
    {
     "name": "stdout",
     "output_type": "stream",
     "text": [
      "The mobiles in my store:\n",
      "\t1. Redmi 6A\n",
      "\t2.Redmi pro\n",
      "\t3.lenovo note3\n",
      "\t4.vivov10\n",
      "\t5.oppo\n",
      "Enter an option:5\n",
      "oppo: RAM: 2GB, ROM: 32GB, COST:8000\n",
      "thank you!!\n"
     ]
    }
   ],
   "source": [
    "print(\"The mobiles in my store:\\n\\t1. Redmi 6A\\n\\t2.Redmi pro\\n\\t3.lenovo note3\\n\\t4.vivov10\\n\\t5.oppo\")\n",
    "opt=input(\"Enter an option:\")\n",
    "if opt==\"1\":\n",
    "    print(\"REDMI 6A: RAM: 2GB, ROM: 32GB, COST:6700\")\n",
    "if opt==\"2\":\n",
    "    print(\"REDMI PRO: RAM: 4GB, ROM: 68GB, COST:12000\")\n",
    "if opt==\"3\":\n",
    "    print(\"LENOVO NOTE3: RAM: 3GB, ROM: 32GB, COST:7000\")\n",
    "if opt==\"4\":\n",
    "    print(\"vivo v10: RAM: 2GB, ROM: 32GB, COST:6700\")\n",
    "if opt==\"5\":\n",
    "    print(\"oppo: RAM: 2GB, ROM: 32GB, COST:8000\")\n",
    "else:\n",
    "    print(\"wrong option!!\")\n",
    "print(\"thank you!!\")"
   ]
  },
  {
   "cell_type": "code",
   "execution_count": 8,
   "metadata": {},
   "outputs": [
    {
     "name": "stdout",
     "output_type": "stream",
     "text": [
      "The mobiles in my store:\n",
      "\t1. Redmi 6A\n",
      "\t2.Redmi pro\n",
      "\t3.lenovo note3\n",
      "\t4.vivov10\n",
      "\t5.oppo\n",
      "Enter an option:4\n",
      "vivo v10: RAM: 2GB, ROM: 32GB, COST:6700\n",
      "wrong option!!\n",
      "thank you!!\n"
     ]
    }
   ],
   "source": [
    "print(\"The mobiles in my store:\\n\\t1. Redmi 6A\\n\\t2.Redmi pro\\n\\t3.lenovo note3\\n\\t4.vivov10\\n\\t5.oppo\")\n",
    "opt=input(\"Enter an option:\")\n",
    "if opt==\"1\":\n",
    "    print(\"REDMI 6A: RAM: 2GB, ROM: 32GB, COST:6700\")\n",
    "if opt==\"2\":\n",
    "    print(\"REDMI PRO: RAM: 4GB, ROM: 68GB, COST:12000\")\n",
    "if opt==\"3\":\n",
    "    print(\"LENOVO NOTE3: RAM: 3GB, ROM: 32GB, COST:7000\")\n",
    "if opt==\"4\":\n",
    "    print(\"vivo v10: RAM: 2GB, ROM: 32GB, COST:6700\")\n",
    "if opt==\"5\":\n",
    "    print(\"oppo: RAM: 2GB, ROM: 32GB, COST:8000\")\n",
    "else:\n",
    "    print(\"wrong option!!\")\n",
    "print(\"thank you!!\")"
   ]
  },
  {
   "cell_type": "code",
   "execution_count": null,
   "metadata": {},
   "outputs": [],
   "source": [
    "print(\"The mobiles in my store:\\n\\t1. Redmi 6A\\n\\t2.Redmi pro\\n\\t3.lenovo note3\\n\\t4.vivov10\\n\\t5.oppo\")\n",
    "opt=input(\"Enter an option:\")\n",
    "if opt==\"1\":\n",
    "    print(\"REDMI 6A: RAM: 2GB, ROM: 32GB, COST:6700\")\n",
    "if opt==\"2\":\n",
    "    print(\"REDMI PRO: RAM: 4GB, ROM: 68GB, COST:12000\")\n",
    "if opt==\"3\":\n",
    "    print(\"LENOVO NOTE3: RAM: 3GB, ROM: 32GB, COST:7000\")\n",
    "if opt==\"4\":\n",
    "    print(\"vivo v10: RAM: 2GB, ROM: 32GB, COST:6700\")\n",
    "if opt==\"5\":\n",
    "    print(\"oppo: RAM: 2GB, ROM: 32GB, COST:8000\")\n",
    "if opt not in [\"1\",\"2\",\"3\",\"4\",\"5\"]:\n",
    "    print(\"wrong option\")\n",
    "    \n",
    "print(\"thank you!!\")"
   ]
  },
  {
   "cell_type": "code",
   "execution_count": null,
   "metadata": {},
   "outputs": [],
   "source": [
    "l=[10,20,30,40]\n",
    "k=20\n",
    "if k in l:\n",
    "    print(\"found\")\n",
    "else:\n",
    "    print(\"not fund\")"
   ]
  },
  {
   "cell_type": "code",
   "execution_count": 9,
   "metadata": {},
   "outputs": [
    {
     "name": "stdout",
     "output_type": "stream",
     "text": [
      "The mobiles in my store:\n",
      "\t1. Redmi 6A\n",
      "\t2.Redmi pro\n",
      "\t3.lenovo note3\n",
      "\t4.vivov10\n",
      "\t5.oppo\n",
      "Enter an option:34\n",
      "wrong option\n",
      "thank you!!\n"
     ]
    }
   ],
   "source": [
    "print(\"The mobiles in my store:\\n\\t1. Redmi 6A\\n\\t2.Redmi pro\\n\\t3.lenovo note3\\n\\t4.vivov10\\n\\t5.oppo\")\n",
    "opt=input(\"Enter an option:\")\n",
    "if opt==\"1\":\n",
    "    print(\"REDMI 6A: RAM: 2GB, ROM: 32GB, COST:6700\")\n",
    "if opt==\"2\":\n",
    "    print(\"REDMI PRO: RAM: 4GB, ROM: 68GB, COST:12000\")\n",
    "if opt==\"3\":\n",
    "    print(\"LENOVO NOTE3: RAM: 3GB, ROM: 32GB, COST:7000\")\n",
    "if opt==\"4\":\n",
    "    print(\"vivo v10: RAM: 2GB, ROM: 32GB, COST:6700\")\n",
    "if opt==\"5\":\n",
    "    print(\"oppo: RAM: 2GB, ROM: 32GB, COST:8000\")\n",
    "if opt not in [\"1\",\"2\",\"3\",\"4\",\"5\"]:\n",
    "    print(\"wrong option\")\n",
    "    \n",
    "print(\"thank you!!\")"
   ]
  },
  {
   "cell_type": "code",
   "execution_count": 10,
   "metadata": {},
   "outputs": [
    {
     "name": "stdout",
     "output_type": "stream",
     "text": [
      "The mobiles in my store:\n",
      "\t1. Redmi 6A\n",
      "\t2.Redmi pro\n",
      "\t3.lenovo note3\n",
      "\t4.vivov10\n",
      "\t5.oppo\n",
      "Enter an option:1\n",
      "REDMI 6A: RAM: 2GB, ROM: 32GB, COST:6700\n",
      "thank you!!\n"
     ]
    }
   ],
   "source": [
    "print(\"The mobiles in my store:\\n\\t1. Redmi 6A\\n\\t2.Redmi pro\\n\\t3.lenovo note3\\n\\t4.vivov10\\n\\t5.oppo\")\n",
    "opt=input(\"Enter an option:\")\n",
    "if opt==\"1\":\n",
    "    print(\"REDMI 6A: RAM: 2GB, ROM: 32GB, COST:6700\")\n",
    "if opt==\"2\":\n",
    "    print(\"REDMI PRO: RAM: 4GB, ROM: 68GB, COST:12000\")\n",
    "if opt==\"3\":\n",
    "    print(\"LENOVO NOTE3: RAM: 3GB, ROM: 32GB, COST:7000\")\n",
    "if opt==\"4\":\n",
    "    print(\"vivo v10: RAM: 2GB, ROM: 32GB, COST:6700\")\n",
    "if opt==\"5\":\n",
    "    print(\"oppo: RAM: 2GB, ROM: 32GB, COST:8000\")\n",
    "if opt not in [\"1\",\"2\",\"3\",\"4\",\"5\"]:\n",
    "    print(\"wrong option\")\n",
    "    \n",
    "print(\"thank you!!\")"
   ]
  },
  {
   "cell_type": "code",
   "execution_count": 11,
   "metadata": {},
   "outputs": [
    {
     "name": "stdout",
     "output_type": "stream",
     "text": [
      "The mobiles in my store:\n",
      "\t1. Redmi 6A\n",
      "\t2.Redmi pro\n",
      "\t3.lenovo note3\n",
      "\t4.vivov10\n",
      "\t5.oppo\n",
      "Enter an option:2\n",
      "REDMI PRO: RAM: 4GB, ROM: 68GB, COST:12000\n",
      "thank you!!\n"
     ]
    }
   ],
   "source": [
    "print(\"The mobiles in my store:\\n\\t1. Redmi 6A\\n\\t2.Redmi pro\\n\\t3.lenovo note3\\n\\t4.vivov10\\n\\t5.oppo\")\n",
    "opt=input(\"Enter an option:\")\n",
    "if opt==\"1\":\n",
    "    print(\"REDMI 6A: RAM: 2GB, ROM: 32GB, COST:6700\")\n",
    "elif opt==\"2\":\n",
    "    print(\"REDMI PRO: RAM: 4GB, ROM: 68GB, COST:12000\")\n",
    "elif opt==\"3\":\n",
    "    print(\"LENOVO NOTE3: RAM: 3GB, ROM: 32GB, COST:7000\")\n",
    "elif opt==\"4\":\n",
    "    print(\"vivo v10: RAM: 2GB, ROM: 32GB, COST:6700\")\n",
    "elif opt==\"5\":\n",
    "    print(\"oppo: RAM: 2GB, ROM: 32GB, COST:8000\")\n",
    "else:\n",
    "    print(\"wrong option\")\n",
    "    \n",
    "print(\"thank you!!\")"
   ]
  },
  {
   "cell_type": "code",
   "execution_count": 12,
   "metadata": {},
   "outputs": [
    {
     "name": "stdout",
     "output_type": "stream",
     "text": [
      "The mobiles in my store:\n",
      "\t1. Redmi 6A\n",
      "\t2.Redmi pro\n",
      "\t3.lenovo note3\n",
      "\t4.vivov10\n",
      "\t5.oppo\n",
      "Enter an option:4\n",
      "vivo v10: RAM: 2GB, ROM: 32GB, COST:6700\n",
      "thank you!!\n"
     ]
    }
   ],
   "source": [
    "print(\"The mobiles in my store:\\n\\t1. Redmi 6A\\n\\t2.Redmi pro\\n\\t3.lenovo note3\\n\\t4.vivov10\\n\\t5.oppo\")\n",
    "opt=input(\"Enter an option:\")\n",
    "if opt==\"1\":\n",
    "    print(\"REDMI 6A: RAM: 2GB, ROM: 32GB, COST:6700\")\n",
    "elif opt==\"2\":\n",
    "    print(\"REDMI PRO: RAM: 4GB, ROM: 68GB, COST:12000\")\n",
    "elif opt==\"3\":\n",
    "    print(\"LENOVO NOTE3: RAM: 3GB, ROM: 32GB, COST:7000\")\n",
    "elif opt==\"4\":\n",
    "    print(\"vivo v10: RAM: 2GB, ROM: 32GB, COST:6700\")\n",
    "elif opt==\"5\":\n",
    "    print(\"oppo: RAM: 2GB, ROM: 32GB, COST:8000\")\n",
    "else:\n",
    "    print(\"wrong option\")\n",
    "    \n",
    "print(\"thank you!!\")"
   ]
  },
  {
   "cell_type": "code",
   "execution_count": 13,
   "metadata": {},
   "outputs": [
    {
     "name": "stdout",
     "output_type": "stream",
     "text": [
      "The mobiles in my store:\n",
      "\t1. Redmi 6A\n",
      "\t2.Redmi pro\n",
      "\t3.lenovo note3\n",
      "\t4.vivov10\n",
      "\t5.oppo\n",
      "Enter an option:10\n",
      "wrong option\n",
      "thank you!!\n"
     ]
    }
   ],
   "source": [
    "print(\"The mobiles in my store:\\n\\t1. Redmi 6A\\n\\t2.Redmi pro\\n\\t3.lenovo note3\\n\\t4.vivov10\\n\\t5.oppo\")\n",
    "opt=input(\"Enter an option:\")\n",
    "if opt==\"1\":\n",
    "    print(\"REDMI 6A: RAM: 2GB, ROM: 32GB, COST:6700\")\n",
    "elif opt==\"2\":\n",
    "    print(\"REDMI PRO: RAM: 4GB, ROM: 68GB, COST:12000\")\n",
    "elif opt==\"3\":\n",
    "    print(\"LENOVO NOTE3: RAM: 3GB, ROM: 32GB, COST:7000\")\n",
    "elif opt==\"4\":\n",
    "    print(\"vivo v10: RAM: 2GB, ROM: 32GB, COST:6700\")\n",
    "elif opt==\"5\":\n",
    "    print(\"oppo: RAM: 2GB, ROM: 32GB, COST:8000\")\n",
    "else:\n",
    "    print(\"wrong option\")\n",
    "    \n",
    "print(\"thank you!!\")"
   ]
  },
  {
   "cell_type": "code",
   "execution_count": 14,
   "metadata": {},
   "outputs": [
    {
     "name": "stdout",
     "output_type": "stream",
     "text": [
      "The mobiles in my store:\n",
      "\t1. Redmi 6A\n",
      "\t2.Redmi pro\n",
      "\t3.lenovo note3\n",
      "\t4.vivov10\n",
      "\t5.oppo\n",
      "Enter an option:2\n",
      "REDMI PRO: RAM: 4GB, ROM: 68GB, COST:12000\n",
      "thank you!!\n"
     ]
    }
   ],
   "source": [
    "print(\"The mobiles in my store:\\n\\t1. Redmi 6A\\n\\t2.Redmi pro\\n\\t3.lenovo note3\\n\\t4.vivov10\\n\\t5.oppo\")\n",
    "opt=input(\"Enter an option:\")\n",
    "if opt==\"1\":\n",
    "    print(\"REDMI 6A: RAM: 2GB, ROM: 32GB, COST:6700\")\n",
    "elif opt==\"2\":\n",
    "    print(\"REDMI PRO: RAM: 4GB, ROM: 68GB, COST:12000\")\n",
    "elif opt==\"3\":\n",
    "    print(\"LENOVO NOTE3: RAM: 3GB, ROM: 32GB, COST:7000\")\n",
    "elif opt==\"4\":\n",
    "    print(\"vivo v10: RAM: 2GB, ROM: 32GB, COST:6700\")\n",
    "elif opt==\"5\":\n",
    "    print(\"oppo: RAM: 2GB, ROM: 32GB, COST:8000\")\n",
    "    \n",
    "print(\"thank you!!\")"
   ]
  },
  {
   "cell_type": "code",
   "execution_count": 15,
   "metadata": {},
   "outputs": [
    {
     "ename": "IndentationError",
     "evalue": "expected an indented block (<ipython-input-15-25397810a446>, line 14)",
     "output_type": "error",
     "traceback": [
      "\u001b[0;36m  File \u001b[0;32m\"<ipython-input-15-25397810a446>\"\u001b[0;36m, line \u001b[0;32m14\u001b[0m\n\u001b[0;31m    print(\"thank you!!\")\u001b[0m\n\u001b[0m        ^\u001b[0m\n\u001b[0;31mIndentationError\u001b[0m\u001b[0;31m:\u001b[0m expected an indented block\n"
     ]
    }
   ],
   "source": [
    "print(\"The mobiles in my store:\\n\\t1. Redmi 6A\\n\\t2.Redmi pro\\n\\t3.lenovo note3\\n\\t4.vivov10\\n\\t5.oppo\")\n",
    "opt=input(\"Enter an option:\")\n",
    "if opt==\"1\":\n",
    "    print(\"REDMI 6A: RAM: 2GB, ROM: 32GB, COST:6700\")\n",
    "elif opt==\"2\":\n",
    "    print(\"REDMI PRO: RAM: 4GB, ROM: 68GB, COST:12000\")\n",
    "elif opt==\"3\":\n",
    "    print(\"LENOVO NOTE3: RAM: 3GB, ROM: 32GB, COST:7000\")\n",
    "elif opt==\"4\":\n",
    "    print(\"vivo v10: RAM: 2GB, ROM: 32GB, COST:6700\")\n",
    "elif opt==\"5\":\n",
    "    print(\"oppo: RAM: 2GB, ROM: 32GB, COST:8000\")\n",
    "else:\n",
    "print(\"thank you!!\")"
   ]
  },
  {
   "cell_type": "code",
   "execution_count": 16,
   "metadata": {},
   "outputs": [
    {
     "name": "stdout",
     "output_type": "stream",
     "text": [
      "The mobiles in my store:\n",
      "\t1. Redmi 6A\n",
      "\t2.Redmi pro\n",
      "\t3.lenovo note3\n",
      "\t4.vivov10\n",
      "\t5.oppo\n",
      "Enter an option:2\n",
      "REDMI PRO: RAM: 4GB, ROM: 68GB, COST:12000\n",
      "thank you!!\n"
     ]
    }
   ],
   "source": [
    "print(\"The mobiles in my store:\\n\\t1. Redmi 6A\\n\\t2.Redmi pro\\n\\t3.lenovo note3\\n\\t4.vivov10\\n\\t5.oppo\")\n",
    "opt=input(\"Enter an option:\")\n",
    "if opt==\"1\":\n",
    "    print(\"REDMI 6A: RAM: 2GB, ROM: 32GB, COST:6700\")\n",
    "elif opt==\"2\":\n",
    "    print(\"REDMI PRO: RAM: 4GB, ROM: 68GB, COST:12000\")\n",
    "elif opt==\"3\":\n",
    "    print(\"LENOVO NOTE3: RAM: 3GB, ROM: 32GB, COST:7000\")\n",
    "elif opt==\"4\":\n",
    "    print(\"vivo v10: RAM: 2GB, ROM: 32GB, COST:6700\")\n",
    "elif opt==\"5\":\n",
    "    print(\"oppo: RAM: 2GB, ROM: 32GB, COST:8000\")\n",
    "else:\n",
    "    pass\n",
    "print(\"thank you!!\")"
   ]
  },
  {
   "cell_type": "code",
   "execution_count": null,
   "metadata": {},
   "outputs": [],
   "source": []
  }
 ],
 "metadata": {
  "kernelspec": {
   "display_name": "Python 3",
   "language": "python",
   "name": "python3"
  },
  "language_info": {
   "codemirror_mode": {
    "name": "ipython",
    "version": 3
   },
   "file_extension": ".py",
   "mimetype": "text/x-python",
   "name": "python",
   "nbconvert_exporter": "python",
   "pygments_lexer": "ipython3",
   "version": "3.7.0"
  }
 },
 "nbformat": 4,
 "nbformat_minor": 2
}
