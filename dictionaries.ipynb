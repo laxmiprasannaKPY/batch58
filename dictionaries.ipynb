{
 "cells": [
  {
   "cell_type": "code",
   "execution_count": 1,
   "metadata": {},
   "outputs": [],
   "source": [
    "person = {\"name\": \"JAYARAM\",\"DOB\":\"2017-02-28\",\"weight\":\"13\"}\n"
   ]
  },
  {
   "cell_type": "code",
   "execution_count": 3,
   "metadata": {},
   "outputs": [
    {
     "data": {
      "text/plain": [
       "3"
      ]
     },
     "execution_count": 3,
     "metadata": {},
     "output_type": "execute_result"
    }
   ],
   "source": [
    "person = {\"name\": \"JAYARAM\",\"DOB\":\"2017-02-28\",\"weight\":\"13\"}\n",
    "len(person)"
   ]
  },
  {
   "cell_type": "code",
   "execution_count": 4,
   "metadata": {},
   "outputs": [],
   "source": [
    "d={\"str\":\"azdas\",1:\"int\",1.2:\"float\",1+2j:\"complex\",(1,2):\"tuple\"}"
   ]
  },
  {
   "cell_type": "code",
   "execution_count": 5,
   "metadata": {},
   "outputs": [
    {
     "data": {
      "text/plain": [
       "{'str': 'azdas', 1: 'int', 1.2: 'float', (1+2j): 'complex', (1, 2): 'tuple'}"
      ]
     },
     "execution_count": 5,
     "metadata": {},
     "output_type": "execute_result"
    }
   ],
   "source": [
    "d"
   ]
  },
  {
   "cell_type": "code",
   "execution_count": 6,
   "metadata": {},
   "outputs": [
    {
     "ename": "TypeError",
     "evalue": "unhashable type: 'list'",
     "output_type": "error",
     "traceback": [
      "\u001b[0;31m---------------------------------------------------------------------------\u001b[0m",
      "\u001b[0;31mTypeError\u001b[0m                                 Traceback (most recent call last)",
      "\u001b[0;32m<ipython-input-6-8eb6b108a271>\u001b[0m in \u001b[0;36m<module>\u001b[0;34m()\u001b[0m\n\u001b[0;32m----> 1\u001b[0;31m \u001b[0md\u001b[0m\u001b[0;34m=\u001b[0m\u001b[0;34m{\u001b[0m\u001b[0;34m\"str\"\u001b[0m\u001b[0;34m:\u001b[0m\u001b[0;34m\"azdas\"\u001b[0m\u001b[0;34m,\u001b[0m\u001b[0;36m1\u001b[0m\u001b[0;34m:\u001b[0m\u001b[0;34m\"int\"\u001b[0m\u001b[0;34m,\u001b[0m\u001b[0;36m1.2\u001b[0m\u001b[0;34m:\u001b[0m\u001b[0;34m\"float\"\u001b[0m\u001b[0;34m,\u001b[0m\u001b[0;36m1\u001b[0m\u001b[0;34m+\u001b[0m\u001b[0;36m2j\u001b[0m\u001b[0;34m:\u001b[0m\u001b[0;34m\"complex\"\u001b[0m\u001b[0;34m,\u001b[0m\u001b[0;34m(\u001b[0m\u001b[0;36m1\u001b[0m\u001b[0;34m,\u001b[0m\u001b[0;36m2\u001b[0m\u001b[0;34m)\u001b[0m\u001b[0;34m:\u001b[0m\u001b[0;34m\"tuple\"\u001b[0m\u001b[0;34m,\u001b[0m\u001b[0;34m[\u001b[0m\u001b[0;36m1\u001b[0m\u001b[0;34m,\u001b[0m\u001b[0;36m2\u001b[0m\u001b[0;34m]\u001b[0m\u001b[0;34m:\u001b[0m\u001b[0;34m\"list\"\u001b[0m\u001b[0;34m}\u001b[0m\u001b[0;34m\u001b[0m\u001b[0m\n\u001b[0m",
      "\u001b[0;31mTypeError\u001b[0m: unhashable type: 'list'"
     ]
    }
   ],
   "source": [
    "d={\"str\":\"azdas\",1:\"int\",1.2:\"float\",1+2j:\"complex\",(1,2):\"tuple\",[1,2]:\"list\"}"
   ]
  },
  {
   "cell_type": "code",
   "execution_count": 7,
   "metadata": {},
   "outputs": [
    {
     "ename": "TypeError",
     "evalue": "unhashable type: 'set'",
     "output_type": "error",
     "traceback": [
      "\u001b[0;31m---------------------------------------------------------------------------\u001b[0m",
      "\u001b[0;31mTypeError\u001b[0m                                 Traceback (most recent call last)",
      "\u001b[0;32m<ipython-input-7-2effbe0b8695>\u001b[0m in \u001b[0;36m<module>\u001b[0;34m()\u001b[0m\n\u001b[0;32m----> 1\u001b[0;31m \u001b[0md\u001b[0m\u001b[0;34m=\u001b[0m\u001b[0;34m{\u001b[0m\u001b[0;34m\"str\"\u001b[0m\u001b[0;34m:\u001b[0m\u001b[0;34m\"azdas\"\u001b[0m\u001b[0;34m,\u001b[0m\u001b[0;36m1\u001b[0m\u001b[0;34m:\u001b[0m\u001b[0;34m\"int\"\u001b[0m\u001b[0;34m,\u001b[0m\u001b[0;36m1.2\u001b[0m\u001b[0;34m:\u001b[0m\u001b[0;34m\"float\"\u001b[0m\u001b[0;34m,\u001b[0m\u001b[0;36m1\u001b[0m\u001b[0;34m+\u001b[0m\u001b[0;36m2j\u001b[0m\u001b[0;34m:\u001b[0m\u001b[0;34m\"complex\"\u001b[0m\u001b[0;34m,\u001b[0m\u001b[0;34m(\u001b[0m\u001b[0;36m1\u001b[0m\u001b[0;34m,\u001b[0m\u001b[0;36m2\u001b[0m\u001b[0;34m)\u001b[0m\u001b[0;34m:\u001b[0m\u001b[0;34m\"tuple\"\u001b[0m\u001b[0;34m,\u001b[0m\u001b[0;34m{\u001b[0m\u001b[0;36m1\u001b[0m\u001b[0;34m,\u001b[0m\u001b[0;36m2\u001b[0m\u001b[0;34m}\u001b[0m\u001b[0;34m:\u001b[0m\u001b[0;34m\"list\"\u001b[0m\u001b[0;34m}\u001b[0m\u001b[0;34m\u001b[0m\u001b[0m\n\u001b[0m",
      "\u001b[0;31mTypeError\u001b[0m: unhashable type: 'set'"
     ]
    }
   ],
   "source": [
    "d={\"str\":\"azdas\",1:\"int\",1.2:\"float\",1+2j:\"complex\",(1,2):\"tuple\",{1,2}:\"list\"}"
   ]
  },
  {
   "cell_type": "code",
   "execution_count": 8,
   "metadata": {},
   "outputs": [
    {
     "ename": "TypeError",
     "evalue": "unhashable type: 'dict'",
     "output_type": "error",
     "traceback": [
      "\u001b[0;31m---------------------------------------------------------------------------\u001b[0m",
      "\u001b[0;31mTypeError\u001b[0m                                 Traceback (most recent call last)",
      "\u001b[0;32m<ipython-input-8-93c1d48713e2>\u001b[0m in \u001b[0;36m<module>\u001b[0;34m()\u001b[0m\n\u001b[0;32m----> 1\u001b[0;31m \u001b[0md\u001b[0m\u001b[0;34m=\u001b[0m\u001b[0;34m{\u001b[0m\u001b[0;34m\"str\"\u001b[0m\u001b[0;34m:\u001b[0m\u001b[0;34m\"azdas\"\u001b[0m\u001b[0;34m,\u001b[0m\u001b[0;36m1\u001b[0m\u001b[0;34m:\u001b[0m\u001b[0;34m\"int\"\u001b[0m\u001b[0;34m,\u001b[0m\u001b[0;36m1.2\u001b[0m\u001b[0;34m:\u001b[0m\u001b[0;34m\"float\"\u001b[0m\u001b[0;34m,\u001b[0m\u001b[0;36m1\u001b[0m\u001b[0;34m+\u001b[0m\u001b[0;36m2j\u001b[0m\u001b[0;34m:\u001b[0m\u001b[0;34m\"complex\"\u001b[0m\u001b[0;34m,\u001b[0m\u001b[0;34m(\u001b[0m\u001b[0;36m1\u001b[0m\u001b[0;34m,\u001b[0m\u001b[0;36m2\u001b[0m\u001b[0;34m)\u001b[0m\u001b[0;34m:\u001b[0m\u001b[0;34m\"tuple\"\u001b[0m\u001b[0;34m,\u001b[0m\u001b[0;34m{\u001b[0m\u001b[0;36m1\u001b[0m\u001b[0;34m:\u001b[0m\u001b[0;36m2\u001b[0m\u001b[0;34m,\u001b[0m\u001b[0;36m3\u001b[0m\u001b[0;34m:\u001b[0m\u001b[0;36m4\u001b[0m\u001b[0;34m}\u001b[0m\u001b[0;34m:\u001b[0m\u001b[0;34m\"list\"\u001b[0m\u001b[0;34m}\u001b[0m\u001b[0;34m\u001b[0m\u001b[0m\n\u001b[0m",
      "\u001b[0;31mTypeError\u001b[0m: unhashable type: 'dict'"
     ]
    }
   ],
   "source": [
    "d={\"str\":\"azdas\",1:\"int\",1.2:\"float\",1+2j:\"complex\",(1,2):\"tuple\",{1:2,3:4}:\"list\"}"
   ]
  },
  {
   "cell_type": "code",
   "execution_count": 9,
   "metadata": {},
   "outputs": [],
   "source": [
    "person = {\"name\": \"JAYARAM\",\"DOB\":\"2017-02-28\",\"weight\":\"13\",\"name\":\"jay\"}"
   ]
  },
  {
   "cell_type": "code",
   "execution_count": 10,
   "metadata": {},
   "outputs": [
    {
     "data": {
      "text/plain": [
       "{'name': 'jay', 'DOB': '2017-02-28', 'weight': '13'}"
      ]
     },
     "execution_count": 10,
     "metadata": {},
     "output_type": "execute_result"
    }
   ],
   "source": [
    "person"
   ]
  },
  {
   "cell_type": "code",
   "execution_count": 12,
   "metadata": {},
   "outputs": [
    {
     "name": "stdout",
     "output_type": "stream",
     "text": [
      "JAYARAM\n"
     ]
    }
   ],
   "source": [
    "person = {\"name\": \"JAYARAM\",\"DOB\":\"2017-02-28\",\"weight\":\"13\"}\n",
    "print(person.get(\"name\"))"
   ]
  },
  {
   "cell_type": "code",
   "execution_count": 13,
   "metadata": {},
   "outputs": [
    {
     "name": "stdout",
     "output_type": "stream",
     "text": [
      "JAYARAM\n",
      "JAYARAM\n"
     ]
    }
   ],
   "source": [
    "person = {\"name\": \"JAYARAM\",\"DOB\":\"2017-02-28\",\"weight\":\"13\"}\n",
    "print(person[\"name\"])\n",
    "print(person.get(\"name\"))"
   ]
  },
  {
   "cell_type": "code",
   "execution_count": 14,
   "metadata": {},
   "outputs": [
    {
     "name": "stdout",
     "output_type": "stream",
     "text": [
      "JAYARAM\n",
      "JAYARAM\n"
     ]
    }
   ],
   "source": [
    "person = {\"name\": \"JAYARAM\",\"DOB\":\"2017-02-28\",\"weight\":13}\n",
    "print(person[\"name\"])\n",
    "print(person.get(\"name\"))"
   ]
  },
  {
   "cell_type": "code",
   "execution_count": 15,
   "metadata": {},
   "outputs": [
    {
     "ename": "KeyError",
     "evalue": "0",
     "output_type": "error",
     "traceback": [
      "\u001b[0;31m---------------------------------------------------------------------------\u001b[0m",
      "\u001b[0;31mKeyError\u001b[0m                                  Traceback (most recent call last)",
      "\u001b[0;32m<ipython-input-15-9910475ad4f8>\u001b[0m in \u001b[0;36m<module>\u001b[0;34m()\u001b[0m\n\u001b[1;32m      1\u001b[0m \u001b[0mperson\u001b[0m \u001b[0;34m=\u001b[0m \u001b[0;34m{\u001b[0m\u001b[0;34m\"name\"\u001b[0m\u001b[0;34m:\u001b[0m \u001b[0;34m\"JAYARAM\"\u001b[0m\u001b[0;34m,\u001b[0m\u001b[0;34m\"DOB\"\u001b[0m\u001b[0;34m:\u001b[0m\u001b[0;34m\"2017-02-28\"\u001b[0m\u001b[0;34m,\u001b[0m\u001b[0;34m\"weight\"\u001b[0m\u001b[0;34m:\u001b[0m\u001b[0;36m13\u001b[0m\u001b[0;34m}\u001b[0m\u001b[0;34m\u001b[0m\u001b[0m\n\u001b[0;32m----> 2\u001b[0;31m \u001b[0mprint\u001b[0m\u001b[0;34m(\u001b[0m\u001b[0mperson\u001b[0m\u001b[0;34m[\u001b[0m\u001b[0;36m0\u001b[0m\u001b[0;34m]\u001b[0m\u001b[0;34m)\u001b[0m\u001b[0;34m\u001b[0m\u001b[0m\n\u001b[0m",
      "\u001b[0;31mKeyError\u001b[0m: 0"
     ]
    }
   ],
   "source": [
    "person = {\"name\": \"JAYARAM\",\"DOB\":\"2017-02-28\",\"weight\":13}\n",
    "print(person[0])\n"
   ]
  },
  {
   "cell_type": "code",
   "execution_count": 16,
   "metadata": {},
   "outputs": [
    {
     "name": "stdout",
     "output_type": "stream",
     "text": [
      "JAYARAM\n",
      "JAYARAM\n"
     ]
    }
   ],
   "source": [
    "person = {\"name\": \"JAYARAM\",\"DOB\":\"2017-02-28\",\"weight\":13}\n",
    "print(person[\"name\"])\n",
    "print(person.get(\"name\"))"
   ]
  },
  {
   "cell_type": "code",
   "execution_count": 17,
   "metadata": {},
   "outputs": [
    {
     "name": "stdout",
     "output_type": "stream",
     "text": [
      "None\n"
     ]
    },
    {
     "ename": "KeyError",
     "evalue": "'pan'",
     "output_type": "error",
     "traceback": [
      "\u001b[0;31m---------------------------------------------------------------------------\u001b[0m",
      "\u001b[0;31mKeyError\u001b[0m                                  Traceback (most recent call last)",
      "\u001b[0;32m<ipython-input-17-62393f411d92>\u001b[0m in \u001b[0;36m<module>\u001b[0;34m()\u001b[0m\n\u001b[1;32m      1\u001b[0m \u001b[0mperson\u001b[0m \u001b[0;34m=\u001b[0m \u001b[0;34m{\u001b[0m\u001b[0;34m\"name\"\u001b[0m\u001b[0;34m:\u001b[0m \u001b[0;34m\"JAYARAM\"\u001b[0m\u001b[0;34m,\u001b[0m\u001b[0;34m\"DOB\"\u001b[0m\u001b[0;34m:\u001b[0m\u001b[0;34m\"2017-02-28\"\u001b[0m\u001b[0;34m,\u001b[0m\u001b[0;34m\"weight\"\u001b[0m\u001b[0;34m:\u001b[0m\u001b[0;36m13\u001b[0m\u001b[0;34m}\u001b[0m\u001b[0;34m\u001b[0m\u001b[0m\n\u001b[1;32m      2\u001b[0m \u001b[0mprint\u001b[0m\u001b[0;34m(\u001b[0m\u001b[0mperson\u001b[0m\u001b[0;34m.\u001b[0m\u001b[0mget\u001b[0m\u001b[0;34m(\u001b[0m\u001b[0;34m\"pan\"\u001b[0m\u001b[0;34m)\u001b[0m\u001b[0;34m)\u001b[0m\u001b[0;34m\u001b[0m\u001b[0m\n\u001b[0;32m----> 3\u001b[0;31m \u001b[0mprint\u001b[0m\u001b[0;34m(\u001b[0m\u001b[0mperson\u001b[0m\u001b[0;34m[\u001b[0m\u001b[0;34m\"pan\"\u001b[0m\u001b[0;34m]\u001b[0m\u001b[0;34m)\u001b[0m\u001b[0;34m\u001b[0m\u001b[0m\n\u001b[0m",
      "\u001b[0;31mKeyError\u001b[0m: 'pan'"
     ]
    }
   ],
   "source": [
    "person = {\"name\": \"JAYARAM\",\"DOB\":\"2017-02-28\",\"weight\":13}\n",
    "print(person.get(\"pan\"))\n",
    "print(person[\"pan\"])\n"
   ]
  },
  {
   "cell_type": "code",
   "execution_count": 18,
   "metadata": {},
   "outputs": [
    {
     "name": "stdout",
     "output_type": "stream",
     "text": [
      "234werw\n"
     ]
    },
    {
     "ename": "KeyError",
     "evalue": "'pan'",
     "output_type": "error",
     "traceback": [
      "\u001b[0;31m---------------------------------------------------------------------------\u001b[0m",
      "\u001b[0;31mKeyError\u001b[0m                                  Traceback (most recent call last)",
      "\u001b[0;32m<ipython-input-18-ec85c1aa5e44>\u001b[0m in \u001b[0;36m<module>\u001b[0;34m()\u001b[0m\n\u001b[1;32m      1\u001b[0m \u001b[0mperson\u001b[0m \u001b[0;34m=\u001b[0m \u001b[0;34m{\u001b[0m\u001b[0;34m\"name\"\u001b[0m\u001b[0;34m:\u001b[0m \u001b[0;34m\"JAYARAM\"\u001b[0m\u001b[0;34m,\u001b[0m\u001b[0;34m\"DOB\"\u001b[0m\u001b[0;34m:\u001b[0m\u001b[0;34m\"2017-02-28\"\u001b[0m\u001b[0;34m,\u001b[0m\u001b[0;34m\"weight\"\u001b[0m\u001b[0;34m:\u001b[0m\u001b[0;36m13\u001b[0m\u001b[0;34m}\u001b[0m\u001b[0;34m\u001b[0m\u001b[0m\n\u001b[1;32m      2\u001b[0m \u001b[0mprint\u001b[0m\u001b[0;34m(\u001b[0m\u001b[0mperson\u001b[0m\u001b[0;34m.\u001b[0m\u001b[0mget\u001b[0m\u001b[0;34m(\u001b[0m\u001b[0;34m\"pan\"\u001b[0m\u001b[0;34m,\u001b[0m\u001b[0;34m\"234werw\"\u001b[0m\u001b[0;34m)\u001b[0m\u001b[0;34m)\u001b[0m\u001b[0;34m\u001b[0m\u001b[0m\n\u001b[0;32m----> 3\u001b[0;31m \u001b[0mprint\u001b[0m\u001b[0;34m(\u001b[0m\u001b[0mperson\u001b[0m\u001b[0;34m[\u001b[0m\u001b[0;34m\"pan\"\u001b[0m\u001b[0;34m]\u001b[0m\u001b[0;34m)\u001b[0m\u001b[0;34m\u001b[0m\u001b[0m\n\u001b[0m",
      "\u001b[0;31mKeyError\u001b[0m: 'pan'"
     ]
    }
   ],
   "source": [
    "person = {\"name\": \"JAYARAM\",\"DOB\":\"2017-02-28\",\"weight\":13}\n",
    "print(person.get(\"pan\",\"234werw\"))\n",
    "print(person[\"pan\"])\n"
   ]
  },
  {
   "cell_type": "code",
   "execution_count": 19,
   "metadata": {},
   "outputs": [
    {
     "name": "stdout",
     "output_type": "stream",
     "text": [
      "JAYARAM\n",
      "JAYARAM\n"
     ]
    }
   ],
   "source": [
    "person = {\"name\": \"JAYARAM\",\"DOB\":\"2017-02-28\",\"weight\":13}\n",
    "print(person.get(\"name\",\"234werw\"))\n",
    "print(person[\"name\"])\n"
   ]
  },
  {
   "cell_type": "code",
   "execution_count": 20,
   "metadata": {},
   "outputs": [
    {
     "name": "stdout",
     "output_type": "stream",
     "text": [
      "JAYARAM\n",
      "JAYARAM\n",
      "{'name': 'JAYARAM', 'DOB': '2017-02-28', 'weight': 13}\n"
     ]
    }
   ],
   "source": [
    "person = {\"name\": \"JAYARAM\",\"DOB\":\"2017-02-28\",\"weight\":13}\n",
    "print(person.get(\"name\",\"234werw\"))\n",
    "print(person[\"name\"])\n",
    "print(person)"
   ]
  },
  {
   "cell_type": "code",
   "execution_count": 22,
   "metadata": {},
   "outputs": [
    {
     "name": "stdout",
     "output_type": "stream",
     "text": [
      "234werw\n",
      "{'name': 'JAYARAM', 'DOB': '2017-02-28', 'weight': 13}\n"
     ]
    }
   ],
   "source": [
    "person = {\"name\": \"JAYARAM\",\"DOB\":\"2017-02-28\",\"weight\":13}\n",
    "print(person.get(\"pan\",\"234werw\"))\n",
    "print(person)\n"
   ]
  },
  {
   "cell_type": "code",
   "execution_count": 23,
   "metadata": {},
   "outputs": [
    {
     "name": "stdout",
     "output_type": "stream",
     "text": [
      "{'name': 'JAYARAM', 'DOB': '2017-02-28', 'weight': 13, 'pan': 'SDFsd234'}\n"
     ]
    }
   ],
   "source": [
    "person = {\"name\": \"JAYARAM\",\"DOB\":\"2017-02-28\",\"weight\":13}\n",
    "person[\"pan\"]=\"SDFsd234\"\n",
    "print(person)"
   ]
  },
  {
   "cell_type": "code",
   "execution_count": 24,
   "metadata": {},
   "outputs": [
    {
     "name": "stdout",
     "output_type": "stream",
     "text": [
      "{'name': 'JAYARAM', 'DOB': '2017-02-28', 'weight': 13, 'pan': 'SDAERWQ234', 'cell': 9676622023}\n"
     ]
    }
   ],
   "source": [
    "person = {\"name\": \"JAYARAM\",\"DOB\":\"2017-02-28\",\"weight\":13}\n",
    "person.update({\"pan\":\"SDAERWQ234\",\"cell\":9676622023})\n",
    "print(person)"
   ]
  },
  {
   "cell_type": "code",
   "execution_count": 25,
   "metadata": {},
   "outputs": [
    {
     "name": "stdout",
     "output_type": "stream",
     "text": [
      "{'name': 'JAYARAM', 'DOB': '2017-02-28', 'weight': 13, 'pan': 'SDAERWQ234', 'cell': 9676622023}\n",
      "None\n"
     ]
    }
   ],
   "source": [
    "person = {\"name\": \"JAYARAM\",\"DOB\":\"2017-02-28\",\"weight\":13}\n",
    "p1 = person.update({\"pan\":\"SDAERWQ234\",\"cell\":9676622023})\n",
    "print(person)\n",
    "print(p1)"
   ]
  },
  {
   "cell_type": "code",
   "execution_count": 26,
   "metadata": {},
   "outputs": [
    {
     "name": "stdout",
     "output_type": "stream",
     "text": [
      "{'name': 'JAYARAM', 'DOB': '2017-02-28', 'weight': 13, 'pan': 'sFDFGH23'}\n"
     ]
    }
   ],
   "source": [
    "d={\"name\": \"JAYARAM\",\"DOB\":\"2017-02-28\",\"weight\":13}\n",
    "d.setdefault(\"pan\",\"sFDFGH23\")\n",
    "print(d)\n",
    "             "
   ]
  },
  {
   "cell_type": "code",
   "execution_count": 27,
   "metadata": {},
   "outputs": [
    {
     "name": "stdout",
     "output_type": "stream",
     "text": [
      "{'name': 'jay', 'DOB': '2017-02-28', 'weight': 13}\n"
     ]
    }
   ],
   "source": [
    "person = {\"name\": \"JAYARAM\",\"DOB\":\"2017-02-28\",\"weight\":13}\n",
    "person[\"name\"]=\"jay\"\n",
    "print(person)"
   ]
  },
  {
   "cell_type": "code",
   "execution_count": 28,
   "metadata": {},
   "outputs": [
    {
     "name": "stdout",
     "output_type": "stream",
     "text": [
      "{'name': 'jay', 'DOB': '2017-02-28', 'weight': 13}\n"
     ]
    }
   ],
   "source": [
    "person = {\"name\": \"JAYARAM\",\"DOB\":\"2017-02-28\",\"weight\":13}\n",
    "person.update({\"name\":\"jay\"})\n",
    "print(person)"
   ]
  },
  {
   "cell_type": "code",
   "execution_count": 30,
   "metadata": {},
   "outputs": [
    {
     "name": "stdout",
     "output_type": "stream",
     "text": [
      "{'name': 'JAYARAM', 'DOB': '2017-02-28', 'weight': 13}\n"
     ]
    }
   ],
   "source": [
    "person = {\"name\": \"JAYARAM\",\"DOB\":\"2017-02-28\",\"weight\":13}\n",
    "person.setdefault(\"name\",\"jay\")\n",
    "print(person)"
   ]
  },
  {
   "cell_type": "code",
   "execution_count": 31,
   "metadata": {},
   "outputs": [
    {
     "name": "stdout",
     "output_type": "stream",
     "text": [
      "{'name': 'JAYARAM', 'DOB': '2017-02-28', 'weight': 13, 'pan': '235'}\n"
     ]
    }
   ],
   "source": [
    "person = {\"name\": \"JAYARAM\",\"DOB\":\"2017-02-28\",\"weight\":13}\n",
    "person.setdefault(\"pan\",\"235\")\n",
    "print(person)"
   ]
  },
  {
   "cell_type": "code",
   "execution_count": 33,
   "metadata": {},
   "outputs": [
    {
     "name": "stdout",
     "output_type": "stream",
     "text": [
      "2017-02-28\n",
      "{'name': 'JAYARAM', 'weight': 13}\n"
     ]
    }
   ],
   "source": [
    "person = {\"name\": \"JAYARAM\",\"DOB\":\"2017-02-28\",\"weight\":13}\n",
    "p1 = person.pop(\"DOB\")\n",
    "print(p1)\n",
    "print(person)"
   ]
  },
  {
   "cell_type": "code",
   "execution_count": 34,
   "metadata": {},
   "outputs": [
    {
     "ename": "KeyError",
     "evalue": "'pan'",
     "output_type": "error",
     "traceback": [
      "\u001b[0;31m---------------------------------------------------------------------------\u001b[0m",
      "\u001b[0;31mKeyError\u001b[0m                                  Traceback (most recent call last)",
      "\u001b[0;32m<ipython-input-34-4d91ba490f6f>\u001b[0m in \u001b[0;36m<module>\u001b[0;34m()\u001b[0m\n\u001b[1;32m      1\u001b[0m \u001b[0mperson\u001b[0m \u001b[0;34m=\u001b[0m \u001b[0;34m{\u001b[0m\u001b[0;34m\"name\"\u001b[0m\u001b[0;34m:\u001b[0m \u001b[0;34m\"JAYARAM\"\u001b[0m\u001b[0;34m,\u001b[0m\u001b[0;34m\"DOB\"\u001b[0m\u001b[0;34m:\u001b[0m\u001b[0;34m\"2017-02-28\"\u001b[0m\u001b[0;34m,\u001b[0m\u001b[0;34m\"weight\"\u001b[0m\u001b[0;34m:\u001b[0m\u001b[0;36m13\u001b[0m\u001b[0;34m}\u001b[0m\u001b[0;34m\u001b[0m\u001b[0m\n\u001b[0;32m----> 2\u001b[0;31m \u001b[0mp1\u001b[0m \u001b[0;34m=\u001b[0m \u001b[0mperson\u001b[0m\u001b[0;34m.\u001b[0m\u001b[0mpop\u001b[0m\u001b[0;34m(\u001b[0m\u001b[0;34m\"pan\"\u001b[0m\u001b[0;34m)\u001b[0m\u001b[0;34m\u001b[0m\u001b[0m\n\u001b[0m\u001b[1;32m      3\u001b[0m \u001b[0mprint\u001b[0m\u001b[0;34m(\u001b[0m\u001b[0mp1\u001b[0m\u001b[0;34m)\u001b[0m\u001b[0;34m\u001b[0m\u001b[0m\n\u001b[1;32m      4\u001b[0m \u001b[0mprint\u001b[0m\u001b[0;34m(\u001b[0m\u001b[0mperson\u001b[0m\u001b[0;34m)\u001b[0m\u001b[0;34m\u001b[0m\u001b[0m\n",
      "\u001b[0;31mKeyError\u001b[0m: 'pan'"
     ]
    }
   ],
   "source": [
    "person = {\"name\": \"JAYARAM\",\"DOB\":\"2017-02-28\",\"weight\":13}\n",
    "p1 = person.pop(\"pan\")\n",
    "print(p1)\n",
    "print(person)"
   ]
  },
  {
   "cell_type": "code",
   "execution_count": 35,
   "metadata": {},
   "outputs": [
    {
     "name": "stdout",
     "output_type": "stream",
     "text": [
      "dummy\n",
      "{'name': 'JAYARAM', 'DOB': '2017-02-28', 'weight': 13}\n"
     ]
    }
   ],
   "source": [
    "person = {\"name\": \"JAYARAM\",\"DOB\":\"2017-02-28\",\"weight\":13}\n",
    "p1 = person.pop(\"pan\",\"dummy\")\n",
    "print(p1)\n",
    "print(person)"
   ]
  },
  {
   "cell_type": "code",
   "execution_count": 36,
   "metadata": {},
   "outputs": [
    {
     "name": "stdout",
     "output_type": "stream",
     "text": [
      "JAYARAM\n",
      "{'DOB': '2017-02-28', 'weight': 13}\n"
     ]
    }
   ],
   "source": [
    "person = {\"name\": \"JAYARAM\",\"DOB\":\"2017-02-28\",\"weight\":13}\n",
    "p1 = person.pop(\"name\",\"dummy\")\n",
    "print(p1)\n",
    "print(person)"
   ]
  },
  {
   "cell_type": "code",
   "execution_count": 37,
   "metadata": {},
   "outputs": [
    {
     "name": "stdout",
     "output_type": "stream",
     "text": [
      "('weight', 13)\n",
      "{'name': 'JAYARAM', 'DOB': '2017-02-28'}\n"
     ]
    }
   ],
   "source": [
    "person = {\"name\": \"JAYARAM\",\"DOB\":\"2017-02-28\",\"weight\":13}\n",
    "p1 = person.popitem()\n",
    "print(p1)\n",
    "print(person)"
   ]
  },
  {
   "cell_type": "code",
   "execution_count": 38,
   "metadata": {},
   "outputs": [
    {
     "ename": "TypeError",
     "evalue": "popitem() takes no arguments (1 given)",
     "output_type": "error",
     "traceback": [
      "\u001b[0;31m---------------------------------------------------------------------------\u001b[0m",
      "\u001b[0;31mTypeError\u001b[0m                                 Traceback (most recent call last)",
      "\u001b[0;32m<ipython-input-38-2f24e0654f6c>\u001b[0m in \u001b[0;36m<module>\u001b[0;34m()\u001b[0m\n\u001b[1;32m      1\u001b[0m \u001b[0mperson\u001b[0m \u001b[0;34m=\u001b[0m \u001b[0;34m{\u001b[0m\u001b[0;34m\"name\"\u001b[0m\u001b[0;34m:\u001b[0m \u001b[0;34m\"JAYARAM\"\u001b[0m\u001b[0;34m,\u001b[0m\u001b[0;34m\"DOB\"\u001b[0m\u001b[0;34m:\u001b[0m\u001b[0;34m\"2017-02-28\"\u001b[0m\u001b[0;34m,\u001b[0m\u001b[0;34m\"weight\"\u001b[0m\u001b[0;34m:\u001b[0m\u001b[0;36m13\u001b[0m\u001b[0;34m}\u001b[0m\u001b[0;34m\u001b[0m\u001b[0m\n\u001b[0;32m----> 2\u001b[0;31m \u001b[0mp1\u001b[0m \u001b[0;34m=\u001b[0m \u001b[0mperson\u001b[0m\u001b[0;34m.\u001b[0m\u001b[0mpopitem\u001b[0m\u001b[0;34m(\u001b[0m\u001b[0;34m\"name\"\u001b[0m\u001b[0;34m)\u001b[0m\u001b[0;34m\u001b[0m\u001b[0m\n\u001b[0m\u001b[1;32m      3\u001b[0m \u001b[0mprint\u001b[0m\u001b[0;34m(\u001b[0m\u001b[0mp1\u001b[0m\u001b[0;34m)\u001b[0m\u001b[0;34m\u001b[0m\u001b[0m\n\u001b[1;32m      4\u001b[0m \u001b[0mprint\u001b[0m\u001b[0;34m(\u001b[0m\u001b[0mperson\u001b[0m\u001b[0;34m)\u001b[0m\u001b[0;34m\u001b[0m\u001b[0m\n",
      "\u001b[0;31mTypeError\u001b[0m: popitem() takes no arguments (1 given)"
     ]
    }
   ],
   "source": [
    "person = {\"name\": \"JAYARAM\",\"DOB\":\"2017-02-28\",\"weight\":13}\n",
    "p1 = person.popitem(\"name\")\n",
    "print(p1)\n",
    "print(person)"
   ]
  },
  {
   "cell_type": "code",
   "execution_count": 39,
   "metadata": {},
   "outputs": [
    {
     "name": "stdout",
     "output_type": "stream",
     "text": [
      "{}\n"
     ]
    }
   ],
   "source": [
    "person = {\"name\": \"JAYARAM\",\"DOB\":\"2017-02-28\",\"weight\":13}\n",
    "person.clear()\n",
    "print(person)"
   ]
  },
  {
   "cell_type": "code",
   "execution_count": 40,
   "metadata": {},
   "outputs": [
    {
     "name": "stdout",
     "output_type": "stream",
     "text": [
      "{'name': 'JAYARAM', 'DOB': '2017-02-28', 'weight': 13, 'pan': 'erwe2342', 'cell': '9676622023'}\n",
      "{'name': 'JAYARAM', 'DOB': '2017-02-28', 'weight': 13, 'pan': 'erwe2342', 'cell': '9676622023'}\n",
      "{'name': 'JAYARAM', 'DOB': '2017-02-28', 'weight': 13}\n"
     ]
    }
   ],
   "source": [
    "person = {\"name\": \"JAYARAM\",\"DOB\":\"2017-02-28\",\"weight\":13}\n",
    "d=person\n",
    "d1=person.copy()\n",
    "d.update({\"pan\":\"erwe2342\",\"cell\":\"9676622023\"})\n",
    "print(person)\n",
    "print(d)\n",
    "print(d1)"
   ]
  },
  {
   "cell_type": "code",
   "execution_count": 42,
   "metadata": {},
   "outputs": [
    {
     "name": "stdout",
     "output_type": "stream",
     "text": [
      "140208207739208\n",
      "140208207739208\n",
      "140208207738992\n",
      "{'name': 'JAYARAM', 'DOB': '2017-02-28', 'weight': 13, 'pan': 'erwe2342', 'cell': '9676622023'}\n",
      "{'name': 'JAYARAM', 'DOB': '2017-02-28', 'weight': 13, 'pan': 'erwe2342', 'cell': '9676622023'}\n",
      "{'name': 'JAYARAM', 'DOB': '2017-02-28', 'weight': 13}\n"
     ]
    }
   ],
   "source": [
    "person = {\"name\": \"JAYARAM\",\"DOB\":\"2017-02-28\",\"weight\":13}\n",
    "d=person\n",
    "print(id(d))\n",
    "print(id(person))\n",
    "d1=person.copy()\n",
    "print(id(d1))\n",
    "d.update({\"pan\":\"erwe2342\",\"cell\":\"9676622023\"})\n",
    "print(person)\n",
    "print(d)\n",
    "print(d1)"
   ]
  },
  {
   "cell_type": "code",
   "execution_count": 43,
   "metadata": {},
   "outputs": [
    {
     "name": "stdout",
     "output_type": "stream",
     "text": [
      "True\n",
      "True\n"
     ]
    }
   ],
   "source": [
    "person = {\"name\": \"JAYARAM\",\"DOB\":\"2017-02-28\",\"weight\":13}\n",
    "print(\"name\" in person)\n",
    "print(\"name\" in person.keys())"
   ]
  },
  {
   "cell_type": "code",
   "execution_count": 44,
   "metadata": {},
   "outputs": [
    {
     "name": "stdout",
     "output_type": "stream",
     "text": [
      "False\n",
      "False\n"
     ]
    }
   ],
   "source": [
    "person = {\"name\": \"JAYARAM\",\"DOB\":\"2017-02-28\",\"weight\":13}\n",
    "print(\"pan\" in person)\n",
    "print(\"pan\" in person.keys())"
   ]
  },
  {
   "cell_type": "code",
   "execution_count": 45,
   "metadata": {},
   "outputs": [
    {
     "name": "stdout",
     "output_type": "stream",
     "text": [
      "False\n"
     ]
    }
   ],
   "source": [
    "person = {\"name\": \"JAYARAM\",\"DOB\":\"2017-02-28\",\"weight\":13}\n",
    "print(13 in person)\n"
   ]
  },
  {
   "cell_type": "code",
   "execution_count": 46,
   "metadata": {},
   "outputs": [
    {
     "name": "stdout",
     "output_type": "stream",
     "text": [
      "True\n"
     ]
    }
   ],
   "source": [
    "person = {\"name\": \"JAYARAM\",\"DOB\":\"2017-02-28\",\"weight\":13}\n",
    "print(13 in person.values())\n"
   ]
  },
  {
   "cell_type": "code",
   "execution_count": 47,
   "metadata": {},
   "outputs": [
    {
     "name": "stdout",
     "output_type": "stream",
     "text": [
      "['name', 'DOB', 'weight']\n",
      "['JAYARAM', '2017-02-28', 13]\n",
      "[('name', 'JAYARAM'), ('DOB', '2017-02-28'), ('weight', 13)]\n"
     ]
    }
   ],
   "source": [
    "person = {\"name\": \"JAYARAM\",\"DOB\":\"2017-02-28\",\"weight\":13}\n",
    "print(list(person.keys()))\n",
    "print(list(person.values()))\n",
    "print(list(person.items()))"
   ]
  },
  {
   "cell_type": "code",
   "execution_count": 49,
   "metadata": {},
   "outputs": [
    {
     "name": "stdout",
     "output_type": "stream",
     "text": [
      "{'name': 'JAYARAM', 'DOB': '2017-02-28', 'weight': 13}\n"
     ]
    }
   ],
   "source": [
    "d=dict([('name', 'JAYARAM'), ('DOB', '2017-02-28'), ('weight', 13)]);print(d)"
   ]
  },
  {
   "cell_type": "code",
   "execution_count": null,
   "metadata": {},
   "outputs": [],
   "source": []
  }
 ],
 "metadata": {
  "kernelspec": {
   "display_name": "Python 3",
   "language": "python",
   "name": "python3"
  },
  "language_info": {
   "codemirror_mode": {
    "name": "ipython",
    "version": 3
   },
   "file_extension": ".py",
   "mimetype": "text/x-python",
   "name": "python",
   "nbconvert_exporter": "python",
   "pygments_lexer": "ipython3",
   "version": "3.7.0"
  }
 },
 "nbformat": 4,
 "nbformat_minor": 2
}
