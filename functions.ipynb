{
 "cells": [
  {
   "cell_type": "code",
   "execution_count": 1,
   "metadata": {},
   "outputs": [],
   "source": [
    "product=10"
   ]
  },
  {
   "cell_type": "code",
   "execution_count": 2,
   "metadata": {},
   "outputs": [
    {
     "ename": "SyntaxError",
     "evalue": "invalid syntax (<ipython-input-2-8b44727aeabb>, line 1)",
     "output_type": "error",
     "traceback": [
      "\u001b[0;36m  File \u001b[0;32m\"<ipython-input-2-8b44727aeabb>\"\u001b[0;36m, line \u001b[0;32m1\u001b[0m\n\u001b[0;31m    product discount=10\u001b[0m\n\u001b[0m                   ^\u001b[0m\n\u001b[0;31mSyntaxError\u001b[0m\u001b[0;31m:\u001b[0m invalid syntax\n"
     ]
    }
   ],
   "source": [
    "product discount=10"
   ]
  },
  {
   "cell_type": "code",
   "execution_count": 3,
   "metadata": {},
   "outputs": [],
   "source": [
    "product_discount=10"
   ]
  },
  {
   "cell_type": "code",
   "execution_count": 4,
   "metadata": {},
   "outputs": [],
   "source": [
    "product_dis4count1=10"
   ]
  },
  {
   "cell_type": "code",
   "execution_count": 5,
   "metadata": {},
   "outputs": [
    {
     "ename": "SyntaxError",
     "evalue": "invalid syntax (<ipython-input-5-48d47b8fdeda>, line 1)",
     "output_type": "error",
     "traceback": [
      "\u001b[0;36m  File \u001b[0;32m\"<ipython-input-5-48d47b8fdeda>\"\u001b[0;36m, line \u001b[0;32m1\u001b[0m\n\u001b[0;31m    2product_discount=10\u001b[0m\n\u001b[0m                    ^\u001b[0m\n\u001b[0;31mSyntaxError\u001b[0m\u001b[0;31m:\u001b[0m invalid syntax\n"
     ]
    }
   ],
   "source": [
    "2product_discount=10"
   ]
  },
  {
   "cell_type": "code",
   "execution_count": 6,
   "metadata": {},
   "outputs": [],
   "source": [
    "_product_discount=10"
   ]
  },
  {
   "cell_type": "code",
   "execution_count": 7,
   "metadata": {},
   "outputs": [
    {
     "name": "stdout",
     "output_type": "stream",
     "text": [
      "welcome\n",
      "thank you!!\n"
     ]
    }
   ],
   "source": [
    "print(\"welcome\")\n",
    "def FUN():\n",
    "    print(\"fun started\")\n",
    "    print(\"this is fun\")\n",
    "    print(\"fun ended\")\n",
    "print(\"thank you!!\")"
   ]
  },
  {
   "cell_type": "code",
   "execution_count": 8,
   "metadata": {},
   "outputs": [
    {
     "name": "stdout",
     "output_type": "stream",
     "text": [
      "welcome\n",
      "thank you!!\n"
     ]
    }
   ],
   "source": [
    "print(\"welcome\")\n",
    "def fun():\n",
    "    print(\"fun started\")\n",
    "    print(\"this is fun\")\n",
    "    print(\"fun ended\")\n",
    "print(\"thank you!!\")"
   ]
  },
  {
   "cell_type": "code",
   "execution_count": 9,
   "metadata": {},
   "outputs": [
    {
     "name": "stdout",
     "output_type": "stream",
     "text": [
      "welcome\n",
      "thank you!!\n",
      "fun started\n",
      "this is fun\n",
      "fun ended\n"
     ]
    }
   ],
   "source": [
    "print(\"welcome\")\n",
    "def fun():\n",
    "    print(\"fun started\")\n",
    "    print(\"this is fun\")\n",
    "    print(\"fun ended\")\n",
    "print(\"thank you!!\")\n",
    "fun()"
   ]
  },
  {
   "cell_type": "code",
   "execution_count": 10,
   "metadata": {},
   "outputs": [
    {
     "name": "stdout",
     "output_type": "stream",
     "text": [
      "welcome\n",
      "fun started\n",
      "this is fun\n",
      "fun ended\n",
      "thank you!!\n",
      "fun started\n",
      "this is fun\n",
      "fun ended\n"
     ]
    }
   ],
   "source": [
    "print(\"welcome\")\n",
    "def fun():\n",
    "    print(\"fun started\")\n",
    "    print(\"this is fun\")\n",
    "    print(\"fun ended\")\n",
    "fun()\n",
    "print(\"thank you!!\")\n",
    "fun()"
   ]
  },
  {
   "cell_type": "code",
   "execution_count": 11,
   "metadata": {},
   "outputs": [
    {
     "name": "stdout",
     "output_type": "stream",
     "text": [
      "welcome\n",
      "thank you!!\n",
      "a=10,b=20\n",
      "res= 30\n"
     ]
    }
   ],
   "source": [
    "print(\"welcome\")\n",
    "def fun(a,b): # a,b is parameter\n",
    "    print(f\"a={a},b={b}\")\n",
    "    res=a+b\n",
    "    print(\"res=\",res)\n",
    "    \n",
    "print(\"thank you!!\")\n",
    "fun(10,20) # 10,20 is an arguments"
   ]
  },
  {
   "cell_type": "code",
   "execution_count": 13,
   "metadata": {},
   "outputs": [
    {
     "name": "stdout",
     "output_type": "stream",
     "text": [
      "adding two numbers\n",
      "a=10,b=20\n",
      "result=30\n",
      "adding two numbers\n",
      "a=100,b=200\n",
      "result=300\n",
      "adding two numbers\n",
      "a=1000,b=2000\n",
      "result=3000\n",
      "substracting two numbers\n",
      "a=1,b=2\n",
      "result=-1\n",
      "substracting two numbers\n",
      "a=20,b=10\n",
      "result=10\n",
      "substracting two numbers\n",
      "a=200,b=30\n",
      "result=170\n",
      "multiplying two numbers\n",
      "a=1,b=2\n",
      "result=2\n",
      "multiplying two numbers\n",
      "a=10,b=-20\n",
      "result=-200\n",
      "dividing two numbers\n",
      "a=100,b=10\n",
      "result=10.0\n",
      "dividing two numbers\n",
      "a=200,b=3\n",
      "result=66.66666666666667\n"
     ]
    }
   ],
   "source": [
    "# define four functions to do addition, substraction, multiplcation, division.\n",
    "#these four functions should take two arguments and print the argument values in the function,\n",
    "# calculate the coresponding result and print the result.\n",
    "def addition(a,b):\n",
    "    print(\"adding two numbers\")\n",
    "    print(f\"a={a},b={b}\")\n",
    "    res=a+b\n",
    "    print(f\"result={res}\")\n",
    "def substraction(a,b):\n",
    "    print(\"substracting two numbers\")\n",
    "    print(f\"a={a},b={b}\")\n",
    "    res=a-b\n",
    "    print(f\"result={res}\")\n",
    "def multplication(a,b):\n",
    "    print(\"multiplying two numbers\")\n",
    "    print(f\"a={a},b={b}\")\n",
    "    res=a*b\n",
    "    print(f\"result={res}\")\n",
    "def division(a,b):\n",
    "    print(\"dividing two numbers\")\n",
    "    print(f\"a={a},b={b}\")\n",
    "    res=a/b\n",
    "    print(f\"result={res}\")\n",
    "    \n",
    "addition(10,20)\n",
    "addition(100,200)\n",
    "addition(1000,2000)\n",
    "substraction(1,2)\n",
    "substraction(20,10)\n",
    "substraction(200,30)\n",
    "multplication(1,2)\n",
    "multplication(10,-20)\n",
    "division(100,10)\n",
    "division(200,3)"
   ]
  },
  {
   "cell_type": "code",
   "execution_count": 14,
   "metadata": {},
   "outputs": [
    {
     "name": "stdout",
     "output_type": "stream",
     "text": [
      "Enter a value:12\n",
      "Enter b value:34\n",
      "result= 46.0\n"
     ]
    }
   ],
   "source": [
    "def fun():\n",
    "    a=input(\"Enter a value:\")\n",
    "    b=input(\"Enter b value:\")\n",
    "    a=float(a)\n",
    "    b=float(b)\n",
    "    res=a+b\n",
    "    print(\"result=\",res)\n",
    "fun()"
   ]
  },
  {
   "cell_type": "code",
   "execution_count": 17,
   "metadata": {},
   "outputs": [
    {
     "name": "stdout",
     "output_type": "stream",
     "text": [
      "2³\n"
     ]
    }
   ],
   "source": [
    "print(\"2\\u00b3\")"
   ]
  },
  {
   "cell_type": "code",
   "execution_count": 18,
   "metadata": {},
   "outputs": [
    {
     "name": "stdout",
     "output_type": "stream",
     "text": [
      "3¶\n"
     ]
    }
   ],
   "source": [
    "print(\"3\\u00b6\")"
   ]
  },
  {
   "cell_type": "code",
   "execution_count": 20,
   "metadata": {},
   "outputs": [
    {
     "name": "stdout",
     "output_type": "stream",
     "text": [
      "3e³\n"
     ]
    }
   ],
   "source": [
    "print(\"3e\\u00b3\")"
   ]
  },
  {
   "cell_type": "code",
   "execution_count": null,
   "metadata": {},
   "outputs": [],
   "source": []
  }
 ],
 "metadata": {
  "kernelspec": {
   "display_name": "Python 3",
   "language": "python",
   "name": "python3"
  },
  "language_info": {
   "codemirror_mode": {
    "name": "ipython",
    "version": 3
   },
   "file_extension": ".py",
   "mimetype": "text/x-python",
   "name": "python",
   "nbconvert_exporter": "python",
   "pygments_lexer": "ipython3",
   "version": "3.7.0"
  }
 },
 "nbformat": 4,
 "nbformat_minor": 2
}
