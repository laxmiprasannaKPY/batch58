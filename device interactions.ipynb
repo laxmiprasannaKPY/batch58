{
 "cells": [
  {
   "cell_type": "code",
   "execution_count": 1,
   "metadata": {},
   "outputs": [],
   "source": [
    "from github import Github\n",
    "g=Github?"
   ]
  },
  {
   "cell_type": "code",
   "execution_count": 2,
   "metadata": {},
   "outputs": [],
   "source": [
    "username = \"\"\n",
    "password=\"\""
   ]
  },
  {
   "cell_type": "code",
   "execution_count": 3,
   "metadata": {},
   "outputs": [],
   "source": [
    "g=Github(username, password)"
   ]
  },
  {
   "cell_type": "code",
   "execution_count": 4,
   "metadata": {},
   "outputs": [
    {
     "data": {
      "text/plain": [
       "<github.MainClass.Github at 0x7fa7a7097a90>"
      ]
     },
     "execution_count": 4,
     "metadata": {},
     "output_type": "execute_result"
    }
   ],
   "source": [
    "g"
   ]
  },
  {
   "cell_type": "code",
   "execution_count": 5,
   "metadata": {},
   "outputs": [
    {
     "name": "stdout",
     "output_type": "stream",
     "text": [
      "['FIX_REPO_GET_GIT_REF', '_Github__get_FIX_REPO_GET_GIT_REF', '_Github__get_per_page', '_Github__requester', '_Github__set_FIX_REPO_GET_GIT_REF', '_Github__set_per_page', '__class__', '__delattr__', '__dict__', '__dir__', '__doc__', '__eq__', '__format__', '__ge__', '__getattribute__', '__gt__', '__hash__', '__init__', '__init_subclass__', '__le__', '__lt__', '__module__', '__ne__', '__new__', '__reduce__', '__reduce_ex__', '__repr__', '__setattr__', '__sizeof__', '__str__', '__subclasshook__', '__weakref__', 'create_from_raw_data', 'dump', 'get_api_status', 'get_api_status_messages', 'get_emojis', 'get_gist', 'get_gists', 'get_gitignore_template', 'get_gitignore_templates', 'get_hook', 'get_hooks', 'get_installation', 'get_last_api_status_message', 'get_license', 'get_licenses', 'get_organization', 'get_organizations', 'get_project', 'get_rate_limit', 'get_repo', 'get_repos', 'get_user', 'get_users', 'load', 'oauth_scopes', 'per_page', 'rate_limiting', 'rate_limiting_resettime', 'render_markdown', 'search_code', 'search_commits', 'search_issues', 'search_repositories', 'search_topics', 'search_users']\n"
     ]
    }
   ],
   "source": [
    "print(dir(g))"
   ]
  },
  {
   "cell_type": "code",
   "execution_count": 6,
   "metadata": {},
   "outputs": [],
   "source": [
    "user= g.get_user()"
   ]
  },
  {
   "cell_type": "code",
   "execution_count": 7,
   "metadata": {},
   "outputs": [
    {
     "data": {
      "text/plain": [
       "AuthenticatedUser(login=None)"
      ]
     },
     "execution_count": 7,
     "metadata": {},
     "output_type": "execute_result"
    }
   ],
   "source": [
    "user"
   ]
  },
  {
   "cell_type": "code",
   "execution_count": 8,
   "metadata": {},
   "outputs": [
    {
     "name": "stdout",
     "output_type": "stream",
     "text": [
      "['CHECK_AFTER_INIT_FLAG', '_CompletableGithubObject__complete', '_CompletableGithubObject__completed', '_GithubObject__makeSimpleAttribute', '_GithubObject__makeSimpleListAttribute', '_GithubObject__makeTransformedAttribute', '__class__', '__delattr__', '__dict__', '__dir__', '__doc__', '__eq__', '__format__', '__ge__', '__getattribute__', '__gt__', '__hash__', '__init__', '__init_subclass__', '__le__', '__lt__', '__module__', '__ne__', '__new__', '__reduce__', '__reduce_ex__', '__repr__', '__setattr__', '__sizeof__', '__str__', '__subclasshook__', '__weakref__', '_avatar_url', '_bio', '_blog', '_collaborators', '_company', '_completeIfNeeded', '_completeIfNotSet', '_created_at', '_disk_usage', '_email', '_events_url', '_followers', '_followers_url', '_following', '_following_url', '_gists_url', '_gravatar_id', '_headers', '_hireable', '_html_url', '_id', '_initAttributes', '_location', '_login', '_makeBoolAttribute', '_makeClassAttribute', '_makeDatetimeAttribute', '_makeDictAttribute', '_makeDictOfStringsToClassesAttribute', '_makeIntAttribute', '_makeListOfClassesAttribute', '_makeListOfDictsAttribute', '_makeListOfIntsAttribute', '_makeListOfListOfStringsAttribute', '_makeListOfStringsAttribute', '_makeStringAttribute', '_makeTimestampAttribute', '_name', '_organizations_url', '_owned_private_repos', '_parentUrl', '_plan', '_private_gists', '_public_gists', '_public_repos', '_rawData', '_received_events_url', '_repos_url', '_requester', '_site_admin', '_starred_url', '_storeAndUseAttributes', '_subscriptions_url', '_total_private_repos', '_type', '_updated_at', '_url', '_useAttributes', 'accept_invitation', 'add_to_emails', 'add_to_following', 'add_to_starred', 'add_to_subscriptions', 'add_to_watched', 'avatar_url', 'bio', 'blog', 'collaborators', 'company', 'create_authorization', 'create_fork', 'create_gist', 'create_key', 'create_migration', 'create_repo', 'created_at', 'disk_usage', 'edit', 'email', 'etag', 'events_url', 'followers', 'followers_url', 'following', 'following_url', 'get__repr__', 'get_authorization', 'get_authorizations', 'get_emails', 'get_events', 'get_followers', 'get_following', 'get_gists', 'get_issues', 'get_key', 'get_keys', 'get_migrations', 'get_notification', 'get_notifications', 'get_organization_events', 'get_orgs', 'get_repo', 'get_repos', 'get_starred', 'get_starred_gists', 'get_subscriptions', 'get_teams', 'get_user_issues', 'get_watched', 'gists_url', 'gravatar_id', 'has_in_following', 'has_in_starred', 'has_in_subscriptions', 'has_in_watched', 'hireable', 'html_url', 'id', 'last_modified', 'location', 'login', 'mark_notifications_as_read', 'name', 'organizations_url', 'owned_private_repos', 'plan', 'private_gists', 'public_gists', 'public_repos', 'raw_data', 'raw_headers', 'received_events_url', 'remove_from_emails', 'remove_from_following', 'remove_from_starred', 'remove_from_subscriptions', 'remove_from_watched', 'repos_url', 'setCheckAfterInitFlag', 'site_admin', 'starred_url', 'subscriptions_url', 'total_private_repos', 'type', 'update', 'updated_at', 'url']\n"
     ]
    }
   ],
   "source": [
    "print(dir(user))"
   ]
  },
  {
   "cell_type": "code",
   "execution_count": 9,
   "metadata": {},
   "outputs": [],
   "source": [
    "repos = user.get_repos()"
   ]
  },
  {
   "cell_type": "code",
   "execution_count": 10,
   "metadata": {},
   "outputs": [
    {
     "data": {
      "text/plain": [
       "<github.PaginatedList.PaginatedList at 0x7fa7bc2fb400>"
      ]
     },
     "execution_count": 10,
     "metadata": {},
     "output_type": "execute_result"
    }
   ],
   "source": [
    "repos"
   ]
  },
  {
   "cell_type": "code",
   "execution_count": 11,
   "metadata": {},
   "outputs": [
    {
     "name": "stdout",
     "output_type": "stream",
     "text": [
      "Repository(full_name=\"gphanivijay/Phani_Python-batch-58\")\n"
     ]
    }
   ],
   "source": [
    "for repo in repos:\n",
    "    print(repo)"
   ]
  },
  {
   "cell_type": "code",
   "execution_count": 12,
   "metadata": {},
   "outputs": [
    {
     "data": {
      "text/plain": [
       "Repository(full_name=\"gphanivijay/api_repo\")"
      ]
     },
     "execution_count": 12,
     "metadata": {},
     "output_type": "execute_result"
    }
   ],
   "source": [
    "user.create_repo(\"api_repo\")"
   ]
  },
  {
   "cell_type": "code",
   "execution_count": 13,
   "metadata": {},
   "outputs": [],
   "source": [
    "repo = user.get_repo(name=\"api_repo\")"
   ]
  },
  {
   "cell_type": "code",
   "execution_count": 14,
   "metadata": {},
   "outputs": [
    {
     "data": {
      "text/plain": [
       "Repository(full_name=\"gphanivijay/api_repo\")"
      ]
     },
     "execution_count": 14,
     "metadata": {},
     "output_type": "execute_result"
    }
   ],
   "source": [
    "repo"
   ]
  },
  {
   "cell_type": "code",
   "execution_count": 16,
   "metadata": {},
   "outputs": [
    {
     "name": "stdout",
     "output_type": "stream",
     "text": [
      "['CHECK_AFTER_INIT_FLAG', '_CompletableGithubObject__complete', '_CompletableGithubObject__completed', '_GithubObject__makeSimpleAttribute', '_GithubObject__makeSimpleListAttribute', '_GithubObject__makeTransformedAttribute', '_Repository__create_pull', '_Repository__create_pull_1', '_Repository__create_pull_2', '__class__', '__delattr__', '__dict__', '__dir__', '__doc__', '__eq__', '__format__', '__ge__', '__getattribute__', '__gt__', '__hash__', '__init__', '__init_subclass__', '__le__', '__lt__', '__module__', '__ne__', '__new__', '__reduce__', '__reduce_ex__', '__repr__', '__setattr__', '__sizeof__', '__str__', '__subclasshook__', '__weakref__', '_allow_merge_commit', '_allow_rebase_merge', '_allow_squash_merge', '_archive_url', '_archived', '_assignees_url', '_blobs_url', '_branches_url', '_clone_url', '_collaborators_url', '_comments_url', '_commits_url', '_compare_url', '_completeIfNeeded', '_completeIfNotSet', '_contents_url', '_contributors_url', '_created_at', '_default_branch', '_description', '_downloads_url', '_events_url', '_fork', '_forks', '_forks_count', '_forks_url', '_full_name', '_git_commits_url', '_git_refs_url', '_git_tags_url', '_git_url', '_has_downloads', '_has_issues', '_has_projects', '_has_wiki', '_headers', '_homepage', '_hooks_url', '_html_url', '_hub', '_id', '_identity', '_initAttributes', '_issue_comment_url', '_issue_events_url', '_issues_url', '_keys_url', '_labels_url', '_language', '_languages_url', '_makeBoolAttribute', '_makeClassAttribute', '_makeDatetimeAttribute', '_makeDictAttribute', '_makeDictOfStringsToClassesAttribute', '_makeIntAttribute', '_makeListOfClassesAttribute', '_makeListOfDictsAttribute', '_makeListOfIntsAttribute', '_makeListOfListOfStringsAttribute', '_makeListOfStringsAttribute', '_makeStringAttribute', '_makeTimestampAttribute', '_master_branch', '_merges_url', '_milestones_url', '_mirror_url', '_name', '_network_count', '_notifications_url', '_open_issues', '_open_issues_count', '_organization', '_owner', '_parent', '_parentUrl', '_permissions', '_private', '_pulls_url', '_pushed_at', '_rawData', '_requester', '_size', '_source', '_ssh_url', '_stargazers_count', '_stargazers_url', '_statuses_url', '_storeAndUseAttributes', '_subscribers_count', '_subscribers_url', '_subscription_url', '_svn_url', '_tags_url', '_teams_url', '_topics', '_trees_url', '_updated_at', '_url', '_useAttributes', '_watchers', '_watchers_count', 'add_to_collaborators', 'allow_merge_commit', 'allow_rebase_merge', 'allow_squash_merge', 'archive_url', 'archived', 'assignees_url', 'blobs_url', 'branches_url', 'clone_url', 'collaborators_url', 'comments_url', 'commits_url', 'compare', 'compare_url', 'contents_url', 'contributors_url', 'create_file', 'create_git_blob', 'create_git_commit', 'create_git_ref', 'create_git_release', 'create_git_tag', 'create_git_tag_and_release', 'create_git_tree', 'create_hook', 'create_issue', 'create_key', 'create_label', 'create_milestone', 'create_project', 'create_pull', 'create_source_import', 'created_at', 'default_branch', 'delete', 'delete_file', 'description', 'downloads_url', 'edit', 'etag', 'events_url', 'fork', 'forks', 'forks_count', 'forks_url', 'full_name', 'get__repr__', 'get_archive_link', 'get_assignees', 'get_branch', 'get_branches', 'get_clones_traffic', 'get_collaborator_permission', 'get_collaborators', 'get_comment', 'get_comments', 'get_commit', 'get_commits', 'get_contents', 'get_contributors', 'get_dir_contents', 'get_download', 'get_downloads', 'get_events', 'get_file_contents', 'get_forks', 'get_git_blob', 'get_git_commit', 'get_git_ref', 'get_git_refs', 'get_git_tag', 'get_git_tree', 'get_hook', 'get_hooks', 'get_issue', 'get_issues', 'get_issues_comments', 'get_issues_event', 'get_issues_events', 'get_key', 'get_keys', 'get_label', 'get_labels', 'get_languages', 'get_latest_release', 'get_license', 'get_milestone', 'get_milestones', 'get_network_events', 'get_projects', 'get_pull', 'get_pulls', 'get_pulls_comments', 'get_pulls_review_comments', 'get_readme', 'get_release', 'get_release_asset', 'get_releases', 'get_source_import', 'get_stargazers', 'get_stargazers_with_dates', 'get_stats_code_frequency', 'get_stats_commit_activity', 'get_stats_contributors', 'get_stats_participation', 'get_stats_punch_card', 'get_subscribers', 'get_tags', 'get_teams', 'get_top_paths', 'get_top_referrers', 'get_topics', 'get_views_traffic', 'get_watchers', 'git_commits_url', 'git_refs_url', 'git_tags_url', 'git_url', 'has_downloads', 'has_in_assignees', 'has_in_collaborators', 'has_issues', 'has_projects', 'has_wiki', 'homepage', 'hooks_url', 'html_url', 'id', 'issue_comment_url', 'issue_events_url', 'issues_url', 'keys_url', 'labels_url', 'language', 'languages_url', 'last_modified', 'legacy_search_issues', 'mark_notifications_as_read', 'master_branch', 'merge', 'merges_url', 'milestones_url', 'mirror_url', 'name', 'network_count', 'notifications_url', 'open_issues', 'open_issues_count', 'organization', 'owner', 'parent', 'permissions', 'private', 'pulls_url', 'pushed_at', 'raw_data', 'raw_headers', 'remove_from_collaborators', 'replace_topics', 'setCheckAfterInitFlag', 'size', 'source', 'ssh_url', 'stargazers_count', 'stargazers_url', 'statuses_url', 'subscribe_to_hub', 'subscribers_count', 'subscribers_url', 'subscription_url', 'svn_url', 'tags_url', 'teams_url', 'topics', 'trees_url', 'unsubscribe_from_hub', 'update', 'update_file', 'updated_at', 'url', 'watchers', 'watchers_count']\n"
     ]
    }
   ],
   "source": [
    "print(dir(repo))"
   ]
  },
  {
   "cell_type": "code",
   "execution_count": 17,
   "metadata": {},
   "outputs": [],
   "source": [
    "repo.delete()"
   ]
  },
  {
   "cell_type": "code",
   "execution_count": 18,
   "metadata": {},
   "outputs": [],
   "source": [
    "import requests"
   ]
  },
  {
   "cell_type": "code",
   "execution_count": 19,
   "metadata": {},
   "outputs": [],
   "source": [
    "url = \"https://reactome.org/ContentService/data/database/version\"\n",
    "resp = requests.get(url)"
   ]
  },
  {
   "cell_type": "code",
   "execution_count": 20,
   "metadata": {},
   "outputs": [
    {
     "data": {
      "text/plain": [
       "<Response [200]>"
      ]
     },
     "execution_count": 20,
     "metadata": {},
     "output_type": "execute_result"
    }
   ],
   "source": [
    "resp"
   ]
  },
  {
   "cell_type": "code",
   "execution_count": 22,
   "metadata": {},
   "outputs": [],
   "source": [
    "data = resp.json()"
   ]
  },
  {
   "cell_type": "code",
   "execution_count": 23,
   "metadata": {},
   "outputs": [
    {
     "data": {
      "text/plain": [
       "68"
      ]
     },
     "execution_count": 23,
     "metadata": {},
     "output_type": "execute_result"
    }
   ],
   "source": [
    "data"
   ]
  },
  {
   "cell_type": "code",
   "execution_count": 24,
   "metadata": {},
   "outputs": [
    {
     "name": "stdout",
     "output_type": "stream",
     "text": [
      "{'dbId': 141409, 'displayName': 'Mad1 binds kinetochore', 'stId': 'R-HSA-141409', 'stIdVersion': 'R-HSA-141409.3', 'isInDisease': False, 'isInferred': False, 'name': ['Mad1 binds kinetochore'], 'releaseDate': '2005-02-01', 'speciesName': 'Homo sapiens', 'compartment': [{'dbId': 70101, 'displayName': 'cytosol', 'accession': '0005829', 'databaseName': 'GO', 'definition': 'The part of the cytoplasm that does not contain organelles but which does contain other particulate matter, such as protein complexes.', 'name': 'cytosol', 'url': 'https://www.ebi.ac.uk/QuickGO/term/GO:0005829', 'schemaClass': 'Compartment', 'className': 'Compartment'}], 'literatureReference': [{'dbId': 143441, 'displayName': 'Mitotic checkpoint proteins HsMAD1 and HsMAD2 are associated with nuclear pore complexes in interphase', 'title': 'Mitotic checkpoint proteins HsMAD1 and HsMAD2 are associated with nuclear pore complexes in interphase', 'journal': 'J Cell Sci', 'pages': '953-63', 'pubMedIdentifier': 11181178, 'volume': 114, 'year': 2001, 'url': 'http://www.ncbi.nlm.nih.gov/pubmed/11181178', 'schemaClass': 'LiteratureReference', 'className': 'LiteratureReference'}], 'orthologousEvent': [{'dbId': 9644708, 'displayName': 'Mad1 binds kinetochore', 'stId': 'R-MMU-141409', 'stIdVersion': 'R-MMU-141409.1', 'isInDisease': False, 'isInferred': True, 'name': ['Mad1 binds kinetochore'], 'releaseDate': '2019-03-20', 'speciesName': 'Mus musculus', 'inferredFrom': [141409], 'category': 'binding', 'className': 'Reaction', 'schemaClass': 'Reaction'}, {'dbId': 10024006, 'displayName': 'Mad1 binds kinetochore', 'stId': 'R-XTR-141409', 'stIdVersion': 'R-XTR-141409.1', 'isInDisease': False, 'isInferred': True, 'name': ['Mad1 binds kinetochore'], 'releaseDate': '2019-03-20', 'speciesName': 'Xenopus tropicalis', 'inferredFrom': [141409], 'category': 'binding', 'className': 'Reaction', 'schemaClass': 'Reaction'}, {'dbId': 9960988, 'displayName': 'Mad1 binds kinetochore', 'stId': 'R-DRE-141409', 'stIdVersion': 'R-DRE-141409.1', 'isInDisease': False, 'isInferred': True, 'name': ['Mad1 binds kinetochore'], 'releaseDate': '2019-03-20', 'speciesName': 'Danio rerio', 'inferredFrom': [141409], 'category': 'binding', 'className': 'Reaction', 'schemaClass': 'Reaction'}, {'dbId': 9714071, 'displayName': 'Mad1 binds kinetochore', 'stId': 'R-RNO-141409', 'stIdVersion': 'R-RNO-141409.1', 'isInDisease': False, 'isInferred': True, 'name': ['Mad1 binds kinetochore'], 'releaseDate': '2019-03-20', 'speciesName': 'Rattus norvegicus', 'inferredFrom': [141409], 'category': 'binding', 'className': 'Reaction', 'schemaClass': 'Reaction'}, {'dbId': 9899810, 'displayName': 'Mad1 binds kinetochore', 'stId': 'R-SSC-141409', 'stIdVersion': 'R-SSC-141409.1', 'isInDisease': False, 'isInferred': True, 'name': ['Mad1 binds kinetochore'], 'releaseDate': '2019-03-20', 'speciesName': 'Sus scrofa', 'inferredFrom': [141409], 'category': 'binding', 'className': 'Reaction', 'schemaClass': 'Reaction'}, {'dbId': 10086624, 'displayName': 'Mad1 binds kinetochore', 'stId': 'R-GGA-141409', 'stIdVersion': 'R-GGA-141409.1', 'isInDisease': False, 'isInferred': True, 'name': ['Mad1 binds kinetochore'], 'releaseDate': '2019-03-20', 'speciesName': 'Gallus gallus', 'inferredFrom': [141409], 'category': 'binding', 'className': 'Reaction', 'schemaClass': 'Reaction'}, {'dbId': 9840334, 'displayName': 'Mad1 binds kinetochore', 'stId': 'R-BTA-141409', 'stIdVersion': 'R-BTA-141409.1', 'isInDisease': False, 'isInferred': True, 'name': ['Mad1 binds kinetochore'], 'releaseDate': '2019-03-20', 'speciesName': 'Bos taurus', 'inferredFrom': [141409], 'category': 'binding', 'className': 'Reaction', 'schemaClass': 'Reaction'}, {'dbId': 9779698, 'displayName': 'Mad1 binds kinetochore', 'stId': 'R-CFA-141409', 'stIdVersion': 'R-CFA-141409.1', 'isInDisease': False, 'isInferred': True, 'name': ['Mad1 binds kinetochore'], 'releaseDate': '2019-03-20', 'speciesName': 'Canis familiaris', 'inferredFrom': [141409], 'category': 'binding', 'className': 'Reaction', 'schemaClass': 'Reaction'}], 'species': [{'dbId': 48887, 'displayName': 'Homo sapiens', 'name': ['Homo sapiens', 'H. sapiens', 'Hs', 'human', 'man'], 'taxId': '9606', 'abbreviation': 'HSA', 'schemaClass': 'Species', 'className': 'Species'}], 'summation': [{'dbId': 143355, 'displayName': '', 'text': 'The association of Mad1 with the kinetochore is the first step in the process of Mad2 mediated amplification of the signal from defective kinetochores.', 'schemaClass': 'Summation', 'className': 'Summation'}], 'category': 'binding', 'input': [{'dbId': 141433, 'displayName': 'MAD1L1 [cytosol]', 'stId': 'R-HSA-141433', 'stIdVersion': 'R-HSA-141433.1', 'name': ['MAD1L1', 'HsMad1'], 'speciesName': 'Homo sapiens', 'consumedByEvent': [141409], 'endCoordinate': 718, 'referenceType': 'ReferenceGeneProduct', 'startCoordinate': 1, 'className': 'Protein', 'inDisease': False, 'schemaClass': 'EntityWithAccessionedSequence'}, {'dbId': 375305, 'displayName': 'Kinetochore [cytosol]', 'stId': 'R-HSA-375305', 'stIdVersion': 'R-HSA-375305.2', 'name': ['Kinetochore'], 'speciesName': 'Homo sapiens', 'consumedByEvent': [141409], 'inDisease': False, 'schemaClass': 'Complex', 'className': 'Complex'}], 'output': [{'dbId': 141441, 'displayName': 'Mad1:kinetochore complex [cytosol]', 'stId': 'R-HSA-141441', 'stIdVersion': 'R-HSA-141441.2', 'name': ['Mad1:kinetochore complex'], 'speciesName': 'Homo sapiens', 'producedByEvent': [141409], 'inDisease': False, 'schemaClass': 'Complex', 'className': 'Complex'}], 'className': 'Reaction', 'schemaClass': 'Reaction'}\n"
     ]
    }
   ],
   "source": [
    "url = \"https://reactome.org/ContentService/data/query/R-HSA-141409\"\n",
    "resp = requests.get(url)\n",
    "data = resp.json()\n",
    "print(data)"
   ]
  },
  {
   "cell_type": "code",
   "execution_count": 26,
   "metadata": {},
   "outputs": [],
   "source": [
    "import pandas as pd\n",
    "url = \"https://reactome.org/ContentService/data/query/R-HSA-141409\"\n",
    "resp = requests.get(url)\n",
    "data = resp.json()\n",
    "df = pd.DataFrame(data.get(\"compartment\"))"
   ]
  },
  {
   "cell_type": "code",
   "execution_count": 27,
   "metadata": {},
   "outputs": [
    {
     "data": {
      "text/html": [
       "<div>\n",
       "<style scoped>\n",
       "    .dataframe tbody tr th:only-of-type {\n",
       "        vertical-align: middle;\n",
       "    }\n",
       "\n",
       "    .dataframe tbody tr th {\n",
       "        vertical-align: top;\n",
       "    }\n",
       "\n",
       "    .dataframe thead th {\n",
       "        text-align: right;\n",
       "    }\n",
       "</style>\n",
       "<table border=\"1\" class=\"dataframe\">\n",
       "  <thead>\n",
       "    <tr style=\"text-align: right;\">\n",
       "      <th></th>\n",
       "      <th>accession</th>\n",
       "      <th>className</th>\n",
       "      <th>databaseName</th>\n",
       "      <th>dbId</th>\n",
       "      <th>definition</th>\n",
       "      <th>displayName</th>\n",
       "      <th>name</th>\n",
       "      <th>schemaClass</th>\n",
       "      <th>url</th>\n",
       "    </tr>\n",
       "  </thead>\n",
       "  <tbody>\n",
       "    <tr>\n",
       "      <th>0</th>\n",
       "      <td>0005829</td>\n",
       "      <td>Compartment</td>\n",
       "      <td>GO</td>\n",
       "      <td>70101</td>\n",
       "      <td>The part of the cytoplasm that does not contai...</td>\n",
       "      <td>cytosol</td>\n",
       "      <td>cytosol</td>\n",
       "      <td>Compartment</td>\n",
       "      <td>https://www.ebi.ac.uk/QuickGO/term/GO:0005829</td>\n",
       "    </tr>\n",
       "  </tbody>\n",
       "</table>\n",
       "</div>"
      ],
      "text/plain": [
       "  accession    className databaseName   dbId  \\\n",
       "0   0005829  Compartment           GO  70101   \n",
       "\n",
       "                                          definition displayName     name  \\\n",
       "0  The part of the cytoplasm that does not contai...     cytosol  cytosol   \n",
       "\n",
       "   schemaClass                                            url  \n",
       "0  Compartment  https://www.ebi.ac.uk/QuickGO/term/GO:0005829  "
      ]
     },
     "execution_count": 27,
     "metadata": {},
     "output_type": "execute_result"
    }
   ],
   "source": [
    "df"
   ]
  },
  {
   "cell_type": "code",
   "execution_count": 28,
   "metadata": {},
   "outputs": [
    {
     "data": {
      "text/plain": [
       "{'dbId': 141409,\n",
       " 'displayName': 'Mad1 binds kinetochore',\n",
       " 'stId': 'R-HSA-141409',\n",
       " 'stIdVersion': 'R-HSA-141409.3',\n",
       " 'isInDisease': False,\n",
       " 'isInferred': False,\n",
       " 'name': ['Mad1 binds kinetochore'],\n",
       " 'releaseDate': '2005-02-01',\n",
       " 'speciesName': 'Homo sapiens',\n",
       " 'compartment': [{'dbId': 70101,\n",
       "   'displayName': 'cytosol',\n",
       "   'accession': '0005829',\n",
       "   'databaseName': 'GO',\n",
       "   'definition': 'The part of the cytoplasm that does not contain organelles but which does contain other particulate matter, such as protein complexes.',\n",
       "   'name': 'cytosol',\n",
       "   'url': 'https://www.ebi.ac.uk/QuickGO/term/GO:0005829',\n",
       "   'schemaClass': 'Compartment',\n",
       "   'className': 'Compartment'}],\n",
       " 'literatureReference': [{'dbId': 143441,\n",
       "   'displayName': 'Mitotic checkpoint proteins HsMAD1 and HsMAD2 are associated with nuclear pore complexes in interphase',\n",
       "   'title': 'Mitotic checkpoint proteins HsMAD1 and HsMAD2 are associated with nuclear pore complexes in interphase',\n",
       "   'journal': 'J Cell Sci',\n",
       "   'pages': '953-63',\n",
       "   'pubMedIdentifier': 11181178,\n",
       "   'volume': 114,\n",
       "   'year': 2001,\n",
       "   'url': 'http://www.ncbi.nlm.nih.gov/pubmed/11181178',\n",
       "   'schemaClass': 'LiteratureReference',\n",
       "   'className': 'LiteratureReference'}],\n",
       " 'orthologousEvent': [{'dbId': 9644708,\n",
       "   'displayName': 'Mad1 binds kinetochore',\n",
       "   'stId': 'R-MMU-141409',\n",
       "   'stIdVersion': 'R-MMU-141409.1',\n",
       "   'isInDisease': False,\n",
       "   'isInferred': True,\n",
       "   'name': ['Mad1 binds kinetochore'],\n",
       "   'releaseDate': '2019-03-20',\n",
       "   'speciesName': 'Mus musculus',\n",
       "   'inferredFrom': [141409],\n",
       "   'category': 'binding',\n",
       "   'className': 'Reaction',\n",
       "   'schemaClass': 'Reaction'},\n",
       "  {'dbId': 10024006,\n",
       "   'displayName': 'Mad1 binds kinetochore',\n",
       "   'stId': 'R-XTR-141409',\n",
       "   'stIdVersion': 'R-XTR-141409.1',\n",
       "   'isInDisease': False,\n",
       "   'isInferred': True,\n",
       "   'name': ['Mad1 binds kinetochore'],\n",
       "   'releaseDate': '2019-03-20',\n",
       "   'speciesName': 'Xenopus tropicalis',\n",
       "   'inferredFrom': [141409],\n",
       "   'category': 'binding',\n",
       "   'className': 'Reaction',\n",
       "   'schemaClass': 'Reaction'},\n",
       "  {'dbId': 9960988,\n",
       "   'displayName': 'Mad1 binds kinetochore',\n",
       "   'stId': 'R-DRE-141409',\n",
       "   'stIdVersion': 'R-DRE-141409.1',\n",
       "   'isInDisease': False,\n",
       "   'isInferred': True,\n",
       "   'name': ['Mad1 binds kinetochore'],\n",
       "   'releaseDate': '2019-03-20',\n",
       "   'speciesName': 'Danio rerio',\n",
       "   'inferredFrom': [141409],\n",
       "   'category': 'binding',\n",
       "   'className': 'Reaction',\n",
       "   'schemaClass': 'Reaction'},\n",
       "  {'dbId': 9714071,\n",
       "   'displayName': 'Mad1 binds kinetochore',\n",
       "   'stId': 'R-RNO-141409',\n",
       "   'stIdVersion': 'R-RNO-141409.1',\n",
       "   'isInDisease': False,\n",
       "   'isInferred': True,\n",
       "   'name': ['Mad1 binds kinetochore'],\n",
       "   'releaseDate': '2019-03-20',\n",
       "   'speciesName': 'Rattus norvegicus',\n",
       "   'inferredFrom': [141409],\n",
       "   'category': 'binding',\n",
       "   'className': 'Reaction',\n",
       "   'schemaClass': 'Reaction'},\n",
       "  {'dbId': 9899810,\n",
       "   'displayName': 'Mad1 binds kinetochore',\n",
       "   'stId': 'R-SSC-141409',\n",
       "   'stIdVersion': 'R-SSC-141409.1',\n",
       "   'isInDisease': False,\n",
       "   'isInferred': True,\n",
       "   'name': ['Mad1 binds kinetochore'],\n",
       "   'releaseDate': '2019-03-20',\n",
       "   'speciesName': 'Sus scrofa',\n",
       "   'inferredFrom': [141409],\n",
       "   'category': 'binding',\n",
       "   'className': 'Reaction',\n",
       "   'schemaClass': 'Reaction'},\n",
       "  {'dbId': 10086624,\n",
       "   'displayName': 'Mad1 binds kinetochore',\n",
       "   'stId': 'R-GGA-141409',\n",
       "   'stIdVersion': 'R-GGA-141409.1',\n",
       "   'isInDisease': False,\n",
       "   'isInferred': True,\n",
       "   'name': ['Mad1 binds kinetochore'],\n",
       "   'releaseDate': '2019-03-20',\n",
       "   'speciesName': 'Gallus gallus',\n",
       "   'inferredFrom': [141409],\n",
       "   'category': 'binding',\n",
       "   'className': 'Reaction',\n",
       "   'schemaClass': 'Reaction'},\n",
       "  {'dbId': 9840334,\n",
       "   'displayName': 'Mad1 binds kinetochore',\n",
       "   'stId': 'R-BTA-141409',\n",
       "   'stIdVersion': 'R-BTA-141409.1',\n",
       "   'isInDisease': False,\n",
       "   'isInferred': True,\n",
       "   'name': ['Mad1 binds kinetochore'],\n",
       "   'releaseDate': '2019-03-20',\n",
       "   'speciesName': 'Bos taurus',\n",
       "   'inferredFrom': [141409],\n",
       "   'category': 'binding',\n",
       "   'className': 'Reaction',\n",
       "   'schemaClass': 'Reaction'},\n",
       "  {'dbId': 9779698,\n",
       "   'displayName': 'Mad1 binds kinetochore',\n",
       "   'stId': 'R-CFA-141409',\n",
       "   'stIdVersion': 'R-CFA-141409.1',\n",
       "   'isInDisease': False,\n",
       "   'isInferred': True,\n",
       "   'name': ['Mad1 binds kinetochore'],\n",
       "   'releaseDate': '2019-03-20',\n",
       "   'speciesName': 'Canis familiaris',\n",
       "   'inferredFrom': [141409],\n",
       "   'category': 'binding',\n",
       "   'className': 'Reaction',\n",
       "   'schemaClass': 'Reaction'}],\n",
       " 'species': [{'dbId': 48887,\n",
       "   'displayName': 'Homo sapiens',\n",
       "   'name': ['Homo sapiens', 'H. sapiens', 'Hs', 'human', 'man'],\n",
       "   'taxId': '9606',\n",
       "   'abbreviation': 'HSA',\n",
       "   'schemaClass': 'Species',\n",
       "   'className': 'Species'}],\n",
       " 'summation': [{'dbId': 143355,\n",
       "   'displayName': '',\n",
       "   'text': 'The association of Mad1 with the kinetochore is the first step in the process of Mad2 mediated amplification of the signal from defective kinetochores.',\n",
       "   'schemaClass': 'Summation',\n",
       "   'className': 'Summation'}],\n",
       " 'category': 'binding',\n",
       " 'input': [{'dbId': 141433,\n",
       "   'displayName': 'MAD1L1 [cytosol]',\n",
       "   'stId': 'R-HSA-141433',\n",
       "   'stIdVersion': 'R-HSA-141433.1',\n",
       "   'name': ['MAD1L1', 'HsMad1'],\n",
       "   'speciesName': 'Homo sapiens',\n",
       "   'consumedByEvent': [141409],\n",
       "   'endCoordinate': 718,\n",
       "   'referenceType': 'ReferenceGeneProduct',\n",
       "   'startCoordinate': 1,\n",
       "   'className': 'Protein',\n",
       "   'inDisease': False,\n",
       "   'schemaClass': 'EntityWithAccessionedSequence'},\n",
       "  {'dbId': 375305,\n",
       "   'displayName': 'Kinetochore [cytosol]',\n",
       "   'stId': 'R-HSA-375305',\n",
       "   'stIdVersion': 'R-HSA-375305.2',\n",
       "   'name': ['Kinetochore'],\n",
       "   'speciesName': 'Homo sapiens',\n",
       "   'consumedByEvent': [141409],\n",
       "   'inDisease': False,\n",
       "   'schemaClass': 'Complex',\n",
       "   'className': 'Complex'}],\n",
       " 'output': [{'dbId': 141441,\n",
       "   'displayName': 'Mad1:kinetochore complex [cytosol]',\n",
       "   'stId': 'R-HSA-141441',\n",
       "   'stIdVersion': 'R-HSA-141441.2',\n",
       "   'name': ['Mad1:kinetochore complex'],\n",
       "   'speciesName': 'Homo sapiens',\n",
       "   'producedByEvent': [141409],\n",
       "   'inDisease': False,\n",
       "   'schemaClass': 'Complex',\n",
       "   'className': 'Complex'}],\n",
       " 'className': 'Reaction',\n",
       " 'schemaClass': 'Reaction'}"
      ]
     },
     "execution_count": 28,
     "metadata": {},
     "output_type": "execute_result"
    }
   ],
   "source": [
    "data"
   ]
  },
  {
   "cell_type": "code",
   "execution_count": 29,
   "metadata": {},
   "outputs": [],
   "source": [
    "events = data.get(\"orthologousEvent\")"
   ]
  },
  {
   "cell_type": "code",
   "execution_count": 31,
   "metadata": {},
   "outputs": [],
   "source": [
    "df  = pd.DataFrame(events)"
   ]
  },
  {
   "cell_type": "code",
   "execution_count": 32,
   "metadata": {},
   "outputs": [
    {
     "data": {
      "text/html": [
       "<div>\n",
       "<style scoped>\n",
       "    .dataframe tbody tr th:only-of-type {\n",
       "        vertical-align: middle;\n",
       "    }\n",
       "\n",
       "    .dataframe tbody tr th {\n",
       "        vertical-align: top;\n",
       "    }\n",
       "\n",
       "    .dataframe thead th {\n",
       "        text-align: right;\n",
       "    }\n",
       "</style>\n",
       "<table border=\"1\" class=\"dataframe\">\n",
       "  <thead>\n",
       "    <tr style=\"text-align: right;\">\n",
       "      <th></th>\n",
       "      <th>category</th>\n",
       "      <th>className</th>\n",
       "      <th>dbId</th>\n",
       "      <th>displayName</th>\n",
       "      <th>inferredFrom</th>\n",
       "      <th>isInDisease</th>\n",
       "      <th>isInferred</th>\n",
       "      <th>name</th>\n",
       "      <th>releaseDate</th>\n",
       "      <th>schemaClass</th>\n",
       "      <th>speciesName</th>\n",
       "      <th>stId</th>\n",
       "      <th>stIdVersion</th>\n",
       "    </tr>\n",
       "  </thead>\n",
       "  <tbody>\n",
       "    <tr>\n",
       "      <th>0</th>\n",
       "      <td>binding</td>\n",
       "      <td>Reaction</td>\n",
       "      <td>9644708</td>\n",
       "      <td>Mad1 binds kinetochore</td>\n",
       "      <td>[141409]</td>\n",
       "      <td>False</td>\n",
       "      <td>True</td>\n",
       "      <td>[Mad1 binds kinetochore]</td>\n",
       "      <td>2019-03-20</td>\n",
       "      <td>Reaction</td>\n",
       "      <td>Mus musculus</td>\n",
       "      <td>R-MMU-141409</td>\n",
       "      <td>R-MMU-141409.1</td>\n",
       "    </tr>\n",
       "    <tr>\n",
       "      <th>1</th>\n",
       "      <td>binding</td>\n",
       "      <td>Reaction</td>\n",
       "      <td>10024006</td>\n",
       "      <td>Mad1 binds kinetochore</td>\n",
       "      <td>[141409]</td>\n",
       "      <td>False</td>\n",
       "      <td>True</td>\n",
       "      <td>[Mad1 binds kinetochore]</td>\n",
       "      <td>2019-03-20</td>\n",
       "      <td>Reaction</td>\n",
       "      <td>Xenopus tropicalis</td>\n",
       "      <td>R-XTR-141409</td>\n",
       "      <td>R-XTR-141409.1</td>\n",
       "    </tr>\n",
       "    <tr>\n",
       "      <th>2</th>\n",
       "      <td>binding</td>\n",
       "      <td>Reaction</td>\n",
       "      <td>9960988</td>\n",
       "      <td>Mad1 binds kinetochore</td>\n",
       "      <td>[141409]</td>\n",
       "      <td>False</td>\n",
       "      <td>True</td>\n",
       "      <td>[Mad1 binds kinetochore]</td>\n",
       "      <td>2019-03-20</td>\n",
       "      <td>Reaction</td>\n",
       "      <td>Danio rerio</td>\n",
       "      <td>R-DRE-141409</td>\n",
       "      <td>R-DRE-141409.1</td>\n",
       "    </tr>\n",
       "    <tr>\n",
       "      <th>3</th>\n",
       "      <td>binding</td>\n",
       "      <td>Reaction</td>\n",
       "      <td>9714071</td>\n",
       "      <td>Mad1 binds kinetochore</td>\n",
       "      <td>[141409]</td>\n",
       "      <td>False</td>\n",
       "      <td>True</td>\n",
       "      <td>[Mad1 binds kinetochore]</td>\n",
       "      <td>2019-03-20</td>\n",
       "      <td>Reaction</td>\n",
       "      <td>Rattus norvegicus</td>\n",
       "      <td>R-RNO-141409</td>\n",
       "      <td>R-RNO-141409.1</td>\n",
       "    </tr>\n",
       "    <tr>\n",
       "      <th>4</th>\n",
       "      <td>binding</td>\n",
       "      <td>Reaction</td>\n",
       "      <td>9899810</td>\n",
       "      <td>Mad1 binds kinetochore</td>\n",
       "      <td>[141409]</td>\n",
       "      <td>False</td>\n",
       "      <td>True</td>\n",
       "      <td>[Mad1 binds kinetochore]</td>\n",
       "      <td>2019-03-20</td>\n",
       "      <td>Reaction</td>\n",
       "      <td>Sus scrofa</td>\n",
       "      <td>R-SSC-141409</td>\n",
       "      <td>R-SSC-141409.1</td>\n",
       "    </tr>\n",
       "    <tr>\n",
       "      <th>5</th>\n",
       "      <td>binding</td>\n",
       "      <td>Reaction</td>\n",
       "      <td>10086624</td>\n",
       "      <td>Mad1 binds kinetochore</td>\n",
       "      <td>[141409]</td>\n",
       "      <td>False</td>\n",
       "      <td>True</td>\n",
       "      <td>[Mad1 binds kinetochore]</td>\n",
       "      <td>2019-03-20</td>\n",
       "      <td>Reaction</td>\n",
       "      <td>Gallus gallus</td>\n",
       "      <td>R-GGA-141409</td>\n",
       "      <td>R-GGA-141409.1</td>\n",
       "    </tr>\n",
       "    <tr>\n",
       "      <th>6</th>\n",
       "      <td>binding</td>\n",
       "      <td>Reaction</td>\n",
       "      <td>9840334</td>\n",
       "      <td>Mad1 binds kinetochore</td>\n",
       "      <td>[141409]</td>\n",
       "      <td>False</td>\n",
       "      <td>True</td>\n",
       "      <td>[Mad1 binds kinetochore]</td>\n",
       "      <td>2019-03-20</td>\n",
       "      <td>Reaction</td>\n",
       "      <td>Bos taurus</td>\n",
       "      <td>R-BTA-141409</td>\n",
       "      <td>R-BTA-141409.1</td>\n",
       "    </tr>\n",
       "    <tr>\n",
       "      <th>7</th>\n",
       "      <td>binding</td>\n",
       "      <td>Reaction</td>\n",
       "      <td>9779698</td>\n",
       "      <td>Mad1 binds kinetochore</td>\n",
       "      <td>[141409]</td>\n",
       "      <td>False</td>\n",
       "      <td>True</td>\n",
       "      <td>[Mad1 binds kinetochore]</td>\n",
       "      <td>2019-03-20</td>\n",
       "      <td>Reaction</td>\n",
       "      <td>Canis familiaris</td>\n",
       "      <td>R-CFA-141409</td>\n",
       "      <td>R-CFA-141409.1</td>\n",
       "    </tr>\n",
       "  </tbody>\n",
       "</table>\n",
       "</div>"
      ],
      "text/plain": [
       "  category className      dbId             displayName inferredFrom  \\\n",
       "0  binding  Reaction   9644708  Mad1 binds kinetochore     [141409]   \n",
       "1  binding  Reaction  10024006  Mad1 binds kinetochore     [141409]   \n",
       "2  binding  Reaction   9960988  Mad1 binds kinetochore     [141409]   \n",
       "3  binding  Reaction   9714071  Mad1 binds kinetochore     [141409]   \n",
       "4  binding  Reaction   9899810  Mad1 binds kinetochore     [141409]   \n",
       "5  binding  Reaction  10086624  Mad1 binds kinetochore     [141409]   \n",
       "6  binding  Reaction   9840334  Mad1 binds kinetochore     [141409]   \n",
       "7  binding  Reaction   9779698  Mad1 binds kinetochore     [141409]   \n",
       "\n",
       "   isInDisease  isInferred                      name releaseDate schemaClass  \\\n",
       "0        False        True  [Mad1 binds kinetochore]  2019-03-20    Reaction   \n",
       "1        False        True  [Mad1 binds kinetochore]  2019-03-20    Reaction   \n",
       "2        False        True  [Mad1 binds kinetochore]  2019-03-20    Reaction   \n",
       "3        False        True  [Mad1 binds kinetochore]  2019-03-20    Reaction   \n",
       "4        False        True  [Mad1 binds kinetochore]  2019-03-20    Reaction   \n",
       "5        False        True  [Mad1 binds kinetochore]  2019-03-20    Reaction   \n",
       "6        False        True  [Mad1 binds kinetochore]  2019-03-20    Reaction   \n",
       "7        False        True  [Mad1 binds kinetochore]  2019-03-20    Reaction   \n",
       "\n",
       "          speciesName          stId     stIdVersion  \n",
       "0        Mus musculus  R-MMU-141409  R-MMU-141409.1  \n",
       "1  Xenopus tropicalis  R-XTR-141409  R-XTR-141409.1  \n",
       "2         Danio rerio  R-DRE-141409  R-DRE-141409.1  \n",
       "3   Rattus norvegicus  R-RNO-141409  R-RNO-141409.1  \n",
       "4          Sus scrofa  R-SSC-141409  R-SSC-141409.1  \n",
       "5       Gallus gallus  R-GGA-141409  R-GGA-141409.1  \n",
       "6          Bos taurus  R-BTA-141409  R-BTA-141409.1  \n",
       "7    Canis familiaris  R-CFA-141409  R-CFA-141409.1  "
      ]
     },
     "execution_count": 32,
     "metadata": {},
     "output_type": "execute_result"
    }
   ],
   "source": [
    "df"
   ]
  },
  {
   "cell_type": "code",
   "execution_count": 33,
   "metadata": {},
   "outputs": [],
   "source": [
    "resp = requests.post(\"https://api.github.com/user/repos\",json={\"name\":\"api_repo2\"})"
   ]
  },
  {
   "cell_type": "code",
   "execution_count": 34,
   "metadata": {},
   "outputs": [
    {
     "data": {
      "text/plain": [
       "<Response [401]>"
      ]
     },
     "execution_count": 34,
     "metadata": {},
     "output_type": "execute_result"
    }
   ],
   "source": [
    "resp"
   ]
  },
  {
   "cell_type": "code",
   "execution_count": 35,
   "metadata": {},
   "outputs": [],
   "source": [
    "resp = requests.post(\"https://api.github.com/user/repos\",json={\"name\":\"api_repo2\"},auth=(username, password))"
   ]
  },
  {
   "cell_type": "code",
   "execution_count": 36,
   "metadata": {},
   "outputs": [
    {
     "data": {
      "text/plain": [
       "<Response [201]>"
      ]
     },
     "execution_count": 36,
     "metadata": {},
     "output_type": "execute_result"
    }
   ],
   "source": [
    "resp"
   ]
  },
  {
   "cell_type": "code",
   "execution_count": null,
   "metadata": {},
   "outputs": [],
   "source": [
    "# show the menu to the user: to create,update,delete,get an instances from the any product.\n"
   ]
  },
  {
   "cell_type": "code",
   "execution_count": 1,
   "metadata": {},
   "outputs": [
    {
     "data": {
      "text/plain": [
       "0"
      ]
     },
     "execution_count": 1,
     "metadata": {},
     "output_type": "execute_result"
    }
   ],
   "source": [
    "import os\n",
    "os.system(\"mkdir f1\")"
   ]
  },
  {
   "cell_type": "code",
   "execution_count": 2,
   "metadata": {},
   "outputs": [],
   "source": [
    "os.rmdir(\"f1\")"
   ]
  },
  {
   "cell_type": "code",
   "execution_count": 3,
   "metadata": {},
   "outputs": [
    {
     "data": {
      "text/plain": [
       "0"
      ]
     },
     "execution_count": 3,
     "metadata": {},
     "output_type": "execute_result"
    }
   ],
   "source": [
    "os.system(\"ls\")"
   ]
  },
  {
   "cell_type": "code",
   "execution_count": 4,
   "metadata": {},
   "outputs": [],
   "source": [
    "from subprocess import check_output\n"
   ]
  },
  {
   "cell_type": "code",
   "execution_count": 5,
   "metadata": {},
   "outputs": [],
   "source": [
    "data = check_output(\"ls\")"
   ]
  },
  {
   "cell_type": "code",
   "execution_count": 6,
   "metadata": {},
   "outputs": [
    {
     "data": {
      "text/plain": [
       "b'a.html\\na.py\\nAssignments.odt\\nbackup session.ipynb\\ncomprehensions.ipynb\\nconditional statements.ipynb\\ndata\\ndatabases.ipynb\\ndata.csv\\ndb.sqlite3\\ndevice interactions.ipynb\\ndictionaries.ipynb\\nexceptions.ipynb\\nexcept.py\\nexec1.jpg\\nexec.jpg\\nfiles.ipynb\\nfunctions.ipynb\\nfun_mem1.jpg\\nhello.py\\nint_mem2.jpg\\nint_mem.jpg\\niot_bkp1.jpg\\niot.jpg\\nlist_mem.jpg\\nlists, tuple.ipynb\\nlog.txt\\nloop_1.jpg\\nlooping statements.ipynb\\nmodules\\noops.ipynb\\noops.jpg\\nprint function.ipynb\\n__pycache__\\nregular expressions.ipynb\\nsets.ipynb\\nstring_list_mem.jpg\\nstring_mem.jpg\\nstrings.ipynb\\nUntitled1.ipynb\\nUntitled2.ipynb\\nUntitled3.ipynb\\nUntitled.ipynb\\nvars.ipynb\\n'"
      ]
     },
     "execution_count": 6,
     "metadata": {},
     "output_type": "execute_result"
    }
   ],
   "source": [
    "data"
   ]
  },
  {
   "cell_type": "code",
   "execution_count": 7,
   "metadata": {},
   "outputs": [],
   "source": [
    "# fabrick"
   ]
  },
  {
   "cell_type": "code",
   "execution_count": 8,
   "metadata": {},
   "outputs": [],
   "source": [
    "import paramiko as pmk"
   ]
  },
  {
   "cell_type": "code",
   "execution_count": 9,
   "metadata": {},
   "outputs": [],
   "source": [
    "ssh = pmk.SSHClient()"
   ]
  },
  {
   "cell_type": "code",
   "execution_count": 12,
   "metadata": {},
   "outputs": [
    {
     "ename": "SSHException",
     "evalue": "Server 'localhost' not found in known_hosts",
     "output_type": "error",
     "traceback": [
      "\u001b[0;31m---------------------------------------------------------------------------\u001b[0m",
      "\u001b[0;31mSSHException\u001b[0m                              Traceback (most recent call last)",
      "\u001b[0;32m<ipython-input-12-da367160f029>\u001b[0m in \u001b[0;36m<module>\u001b[0;34m()\u001b[0m\n\u001b[0;32m----> 1\u001b[0;31m \u001b[0mssh\u001b[0m\u001b[0;34m.\u001b[0m\u001b[0mconnect\u001b[0m\u001b[0;34m(\u001b[0m\u001b[0;34m\"localhost\"\u001b[0m\u001b[0;34m,\u001b[0m\u001b[0musername\u001b[0m\u001b[0;34m=\u001b[0m\u001b[0;34m\"khyaathipython\"\u001b[0m\u001b[0;34m,\u001b[0m\u001b[0mpassword\u001b[0m\u001b[0;34m=\u001b[0m\u001b[0;34m\"python\"\u001b[0m\u001b[0;34m)\u001b[0m\u001b[0;34m\u001b[0m\u001b[0m\n\u001b[0m",
      "\u001b[0;32m~/anaconda3/lib/python3.7/site-packages/paramiko/client.py\u001b[0m in \u001b[0;36mconnect\u001b[0;34m(self, hostname, port, username, password, pkey, key_filename, timeout, allow_agent, look_for_keys, compress, sock, gss_auth, gss_kex, gss_deleg_creds, gss_host, banner_timeout, auth_timeout, gss_trust_dns, passphrase)\u001b[0m\n\u001b[1;32m    405\u001b[0m                 \u001b[0;31m# will raise exception if the key is rejected\u001b[0m\u001b[0;34m\u001b[0m\u001b[0;34m\u001b[0m\u001b[0m\n\u001b[1;32m    406\u001b[0m                 self._policy.missing_host_key(\n\u001b[0;32m--> 407\u001b[0;31m                     \u001b[0mself\u001b[0m\u001b[0;34m,\u001b[0m \u001b[0mserver_hostkey_name\u001b[0m\u001b[0;34m,\u001b[0m \u001b[0mserver_key\u001b[0m\u001b[0;34m\u001b[0m\u001b[0m\n\u001b[0m\u001b[1;32m    408\u001b[0m                 )\n\u001b[1;32m    409\u001b[0m             \u001b[0;32melse\u001b[0m\u001b[0;34m:\u001b[0m\u001b[0;34m\u001b[0m\u001b[0m\n",
      "\u001b[0;32m~/anaconda3/lib/python3.7/site-packages/paramiko/client.py\u001b[0m in \u001b[0;36mmissing_host_key\u001b[0;34m(self, client, hostname, key)\u001b[0m\n\u001b[1;32m    807\u001b[0m         )\n\u001b[1;32m    808\u001b[0m         raise SSHException(\n\u001b[0;32m--> 809\u001b[0;31m             \u001b[0;34m\"Server {!r} not found in known_hosts\"\u001b[0m\u001b[0;34m.\u001b[0m\u001b[0mformat\u001b[0m\u001b[0;34m(\u001b[0m\u001b[0mhostname\u001b[0m\u001b[0;34m)\u001b[0m\u001b[0;34m\u001b[0m\u001b[0m\n\u001b[0m\u001b[1;32m    810\u001b[0m         )\n\u001b[1;32m    811\u001b[0m \u001b[0;34m\u001b[0m\u001b[0m\n",
      "\u001b[0;31mSSHException\u001b[0m: Server 'localhost' not found in known_hosts"
     ]
    }
   ],
   "source": [
    "ssh.connect(\"localhost\",username=\"khyaathipython\",password=\"python\")"
   ]
  },
  {
   "cell_type": "code",
   "execution_count": 13,
   "metadata": {},
   "outputs": [],
   "source": [
    "ssh.set_missing_host_key_policy(pmk.AutoAddPolicy())\n",
    "ssh.connect(\"localhost\",username=\"khyaathipython\",password=\"python\")"
   ]
  },
  {
   "cell_type": "code",
   "execution_count": 14,
   "metadata": {
    "scrolled": true
   },
   "outputs": [
    {
     "data": {
      "text/plain": [
       "(<paramiko.ChannelFile from <paramiko.Channel 0 (open) window=2097152 -> <paramiko.Transport at 0xd8304a90 (cipher aes128-ctr, 128 bits) (active; 1 open channel(s))>>>,\n",
       " <paramiko.ChannelFile from <paramiko.Channel 0 (open) window=2097152 -> <paramiko.Transport at 0xd8304a90 (cipher aes128-ctr, 128 bits) (active; 1 open channel(s))>>>,\n",
       " <paramiko.ChannelFile from <paramiko.Channel 0 (open) window=2097152 -> <paramiko.Transport at 0xd8304a90 (cipher aes128-ctr, 128 bits) (active; 1 open channel(s))>>>)"
      ]
     },
     "execution_count": 14,
     "metadata": {},
     "output_type": "execute_result"
    }
   ],
   "source": [
    "ssh.exec_command(\"mkdir local\")"
   ]
  },
  {
   "cell_type": "code",
   "execution_count": 15,
   "metadata": {},
   "outputs": [],
   "source": [
    "inp, outp, errp = ssh.exec_command(\"mkdir local\")"
   ]
  },
  {
   "cell_type": "code",
   "execution_count": 16,
   "metadata": {},
   "outputs": [
    {
     "data": {
      "text/plain": [
       "b'mkdir: cannot create directory \\xe2\\x80\\x98local\\xe2\\x80\\x99: File exists\\n'"
      ]
     },
     "execution_count": 16,
     "metadata": {},
     "output_type": "execute_result"
    }
   ],
   "source": [
    "errp.read()"
   ]
  },
  {
   "cell_type": "code",
   "execution_count": 17,
   "metadata": {},
   "outputs": [],
   "source": [
    "inp, outp, errp = ssh.exec_command(\"mkdir remote\")"
   ]
  },
  {
   "cell_type": "code",
   "execution_count": 18,
   "metadata": {},
   "outputs": [
    {
     "data": {
      "text/plain": [
       "b''"
      ]
     },
     "execution_count": 18,
     "metadata": {},
     "output_type": "execute_result"
    }
   ],
   "source": [
    "errp.read()"
   ]
  },
  {
   "cell_type": "code",
   "execution_count": 19,
   "metadata": {},
   "outputs": [],
   "source": [
    "inp, outp, errp = ssh.exec_command(\"ls\")"
   ]
  },
  {
   "cell_type": "code",
   "execution_count": 20,
   "metadata": {},
   "outputs": [
    {
     "name": "stdout",
     "output_type": "stream",
     "text": [
      "b'ALL PYTHON\\nanaconda3\\nbatch52\\nbatch53\\nbatch54\\nbatch54.zip\\nbatch55\\nbatch56\\nbatch57\\nbatch58\\nbatch59\\nbatch60\\nbatch61\\ncontent\\ndata.yml\\ndeployment steps.text\\nDesktop\\ndjangobatch8\\nDocuments\\nDownloads\\nexamples.desktop\\nf1\\nfile2.py\\nhello.py\\nlocal\\nMusic\\nnew_repo\\npgmanagement\\nPictures\\nPublic\\n__pycache__\\npython content.txt\\nremote\\nrequirements.txt\\nsnap\\nsort.py\\nTemplates\\nVideos\\nware.py\\n'\n"
     ]
    }
   ],
   "source": [
    "data = outp.read()\n",
    "print(data)"
   ]
  },
  {
   "cell_type": "code",
   "execution_count": 21,
   "metadata": {},
   "outputs": [],
   "source": [
    "inp, outp, errp = ssh.exec_command(\"sudo ls /proc\")"
   ]
  },
  {
   "cell_type": "code",
   "execution_count": 22,
   "metadata": {},
   "outputs": [
    {
     "data": {
      "text/plain": [
       "b''"
      ]
     },
     "execution_count": 22,
     "metadata": {},
     "output_type": "execute_result"
    }
   ],
   "source": [
    "outp.read()"
   ]
  },
  {
   "cell_type": "code",
   "execution_count": 23,
   "metadata": {},
   "outputs": [],
   "source": [
    "inp, outp, errp = ssh.exec_command(\"echo python|sudo -S ls /proc\")"
   ]
  },
  {
   "cell_type": "code",
   "execution_count": 24,
   "metadata": {},
   "outputs": [],
   "source": [
    "data = outp.read()"
   ]
  },
  {
   "cell_type": "code",
   "execution_count": 25,
   "metadata": {},
   "outputs": [
    {
     "data": {
      "text/plain": [
       "b'1\\n10\\n1020\\n10839\\n10880\\n10918\\n11\\n11421\\n11437\\n115\\n12\\n12747\\n12753\\n13\\n1306\\n1307\\n1308\\n1309\\n1310\\n1311\\n1317\\n1330\\n1357\\n1362\\n1364\\n1372\\n1373\\n1385\\n1388\\n1391\\n1395\\n14\\n1411\\n1412\\n1419\\n1421\\n1424\\n1425\\n1433\\n14332\\n14352\\n1437\\n1441\\n1442\\n1443\\n1444\\n1445\\n1448\\n1451\\n1464\\n1467\\n1468\\n1488\\n15\\n1523\\n1538\\n1562\\n1563\\n1576\\n15794\\n1580\\n1582\\n1587\\n15895\\n1591\\n16\\n16004\\n16022\\n16033\\n16077\\n16078\\n16079\\n16453\\n16478\\n165\\n16590\\n166\\n16616\\n16706\\n16707\\n16709\\n168\\n16964\\n16995\\n17\\n17029\\n1710\\n1712\\n17143\\n17177\\n1718\\n17199\\n17204\\n1721\\n17297\\n17332\\n17334\\n17335\\n1739\\n1745\\n1751\\n1762\\n1772\\n1776\\n1778\\n1780\\n1791\\n1795\\n18\\n1801\\n1818\\n1819\\n1827\\n1831\\n1835\\n1840\\n1844\\n1845\\n1847\\n1848\\n1850\\n1855\\n1856\\n1858\\n1860\\n1873\\n1875\\n1876\\n1878\\n188\\n1880\\n1882\\n1884\\n1885\\n189\\n19\\n1901\\n1945\\n1946\\n1947\\n1969\\n1998\\n2\\n20\\n2024\\n2033\\n2040\\n2052\\n2063\\n2081\\n2095\\n21\\n2161\\n22\\n227\\n23\\n24\\n244\\n25\\n26\\n27\\n2721\\n28\\n29\\n30\\n32\\n327\\n328\\n329\\n330\\n331\\n332\\n333\\n334\\n335\\n336\\n337\\n338\\n339\\n34\\n35\\n357\\n358\\n359\\n36\\n360\\n361\\n362\\n363\\n364\\n365\\n366\\n367\\n368\\n369\\n370\\n371\\n372\\n373\\n393\\n397\\n399\\n4\\n414\\n572\\n573\\n576\\n584\\n588\\n590\\n6\\n604\\n611\\n6114\\n612\\n613\\n614\\n616\\n619\\n674\\n681\\n7\\n711\\n727\\n736\\n737\\n744\\n751\\n760\\n78\\n79\\n8\\n80\\n81\\n82\\n825\\n8267\\n8277\\n8296\\n83\\n8309\\n8314\\n836\\n838\\n8387\\n847\\n852\\n8777\\n8795\\n89\\n9\\n9073\\n9094\\n917\\n919\\n921\\n958\\n98\\nacpi\\nasound\\nbuddyinfo\\nbus\\ncgroups\\ncmdline\\nconsoles\\ncpuinfo\\ncrypto\\ndevices\\ndiskstats\\ndma\\ndriver\\nexecdomains\\nfb\\nfilesystems\\nfs\\ninterrupts\\niomem\\nioports\\nirq\\nkallsyms\\nkcore\\nkeys\\nkey-users\\nkmsg\\nkpagecgroup\\nkpagecount\\nkpageflags\\nloadavg\\nlocks\\nmdstat\\nmeminfo\\nmisc\\nmodules\\nmounts\\nmtrr\\nnet\\npagetypeinfo\\npartitions\\nsched_debug\\nschedstat\\nscsi\\nself\\nslabinfo\\nsoftirqs\\nstat\\nswaps\\nsys\\nsysrq-trigger\\nsysvipc\\nthread-self\\ntimer_list\\ntty\\nuptime\\nversion\\nversion_signature\\nvmallocinfo\\nvmstat\\nzoneinfo\\n'"
      ]
     },
     "execution_count": 25,
     "metadata": {},
     "output_type": "execute_result"
    }
   ],
   "source": [
    "data"
   ]
  },
  {
   "cell_type": "code",
   "execution_count": 26,
   "metadata": {},
   "outputs": [],
   "source": [
    "sftp = ssh.open_sftp()"
   ]
  },
  {
   "cell_type": "code",
   "execution_count": 27,
   "metadata": {},
   "outputs": [
    {
     "data": {
      "text/plain": [
       "<SFTPAttributes: [ size=15 uid=1000 gid=1000 mode=0o100664 atime=1559354545 mtime=1559354545 ]>"
      ]
     },
     "execution_count": 27,
     "metadata": {},
     "output_type": "execute_result"
    }
   ],
   "source": [
    "sftp.put(\"/home/khyaathipython/local/a.py\",\"/home/khyaathipython/remote/a1.py\")"
   ]
  },
  {
   "cell_type": "code",
   "execution_count": 29,
   "metadata": {},
   "outputs": [],
   "source": [
    "sftp.get(\"/home/khyaathipython/remote/a1.py\",\"/home/khyaathipython/local/a2.py\")"
   ]
  },
  {
   "cell_type": "code",
   "execution_count": null,
   "metadata": {},
   "outputs": [],
   "source": [
    "# to connect to windows machines :https://pypi.org/project/pywinrm/0.2.2/"
   ]
  }
 ],
 "metadata": {
  "kernelspec": {
   "display_name": "Python 3",
   "language": "python",
   "name": "python3"
  },
  "language_info": {
   "codemirror_mode": {
    "name": "ipython",
    "version": 3
   },
   "file_extension": ".py",
   "mimetype": "text/x-python",
   "name": "python",
   "nbconvert_exporter": "python",
   "pygments_lexer": "ipython3",
   "version": "3.7.0"
  }
 },
 "nbformat": 4,
 "nbformat_minor": 2
}
