{
 "cells": [
  {
   "cell_type": "code",
   "execution_count": 1,
   "metadata": {},
   "outputs": [],
   "source": [
    "l=[1,2,3]"
   ]
  },
  {
   "cell_type": "code",
   "execution_count": 2,
   "metadata": {},
   "outputs": [
    {
     "name": "stdout",
     "output_type": "stream",
     "text": [
      "this is class\n"
     ]
    }
   ],
   "source": [
    "def fun():\n",
    "    print(\"this is fun\")\n",
    "class EmpClass:\n",
    "    print(\"this is class\")"
   ]
  },
  {
   "cell_type": "code",
   "execution_count": 4,
   "metadata": {},
   "outputs": [
    {
     "name": "stdout",
     "output_type": "stream",
     "text": [
      "khyaathi\n",
      "maithrivanam\n"
     ]
    }
   ],
   "source": [
    "class Emp:\n",
    "    COMPANY_NAME=\"khyaathi\"\n",
    "    COMPANY_ADDRESS = \"maithrivanam\"\n",
    "    print(COMPANY_NAME)\n",
    "    print(COMPANY_ADDRESS)"
   ]
  },
  {
   "cell_type": "code",
   "execution_count": 5,
   "metadata": {},
   "outputs": [
    {
     "ename": "NameError",
     "evalue": "name 'COMPANY_NAME' is not defined",
     "output_type": "error",
     "traceback": [
      "\u001b[0;31m---------------------------------------------------------------------------\u001b[0m",
      "\u001b[0;31mNameError\u001b[0m                                 Traceback (most recent call last)",
      "\u001b[0;32m<ipython-input-5-f29c063dc54d>\u001b[0m in \u001b[0;36m<module>\u001b[0;34m()\u001b[0m\n\u001b[1;32m      5\u001b[0m         \u001b[0mprint\u001b[0m\u001b[0;34m(\u001b[0m\u001b[0;34m\"this is fun\"\u001b[0m\u001b[0;34m)\u001b[0m\u001b[0;34m\u001b[0m\u001b[0m\n\u001b[1;32m      6\u001b[0m \u001b[0;34m\u001b[0m\u001b[0m\n\u001b[0;32m----> 7\u001b[0;31m \u001b[0mprint\u001b[0m\u001b[0;34m(\u001b[0m\u001b[0mCOMPANY_NAME\u001b[0m\u001b[0;34m)\u001b[0m\u001b[0;34m\u001b[0m\u001b[0m\n\u001b[0m\u001b[1;32m      8\u001b[0m \u001b[0mprint\u001b[0m\u001b[0;34m(\u001b[0m\u001b[0mCOMPANY_ADDRESS\u001b[0m\u001b[0;34m)\u001b[0m\u001b[0;34m\u001b[0m\u001b[0m\n",
      "\u001b[0;31mNameError\u001b[0m: name 'COMPANY_NAME' is not defined"
     ]
    }
   ],
   "source": [
    "class Emp:\n",
    "    COMPANY_NAME=\"khyaathi\"\n",
    "    COMPANY_ADDRESS = \"maithrivanam\"\n",
    "    def fun(x):\n",
    "        print(\"this is fun\")\n",
    "    \n",
    "print(COMPANY_NAME)\n",
    "print(COMPANY_ADDRESS)"
   ]
  },
  {
   "cell_type": "code",
   "execution_count": 6,
   "metadata": {},
   "outputs": [
    {
     "name": "stdout",
     "output_type": "stream",
     "text": [
      "khyaathi\n",
      "maithrivanam\n"
     ]
    }
   ],
   "source": [
    "class Emp:\n",
    "    COMPANY_NAME=\"khyaathi\"\n",
    "    COMPANY_ADDRESS = \"maithrivanam\"\n",
    "    def fun(x):\n",
    "        print(\"this is fun\")\n",
    "    \n",
    "print(Emp.COMPANY_NAME)\n",
    "print(Emp.COMPANY_ADDRESS)"
   ]
  },
  {
   "cell_type": "code",
   "execution_count": 7,
   "metadata": {},
   "outputs": [],
   "source": [
    "class emp:\n",
    "    pass"
   ]
  },
  {
   "cell_type": "code",
   "execution_count": 8,
   "metadata": {},
   "outputs": [],
   "source": [
    "class EMP:\n",
    "    pass"
   ]
  },
  {
   "cell_type": "code",
   "execution_count": 9,
   "metadata": {},
   "outputs": [
    {
     "name": "stdout",
     "output_type": "stream",
     "text": [
      "sailaxmi\n",
      "jayaram\n"
     ]
    },
    {
     "ename": "AttributeError",
     "evalue": "'Emp' object has no attribute 'passport'",
     "output_type": "error",
     "traceback": [
      "\u001b[0;31m---------------------------------------------------------------------------\u001b[0m",
      "\u001b[0;31mAttributeError\u001b[0m                            Traceback (most recent call last)",
      "\u001b[0;32m<ipython-input-9-465972f9587f>\u001b[0m in \u001b[0;36m<module>\u001b[0;34m()\u001b[0m\n\u001b[1;32m     15\u001b[0m \u001b[0mprint\u001b[0m\u001b[0;34m(\u001b[0m\u001b[0msai\u001b[0m\u001b[0;34m.\u001b[0m\u001b[0mname\u001b[0m\u001b[0;34m)\u001b[0m\u001b[0;34m\u001b[0m\u001b[0m\n\u001b[1;32m     16\u001b[0m \u001b[0mprint\u001b[0m\u001b[0;34m(\u001b[0m\u001b[0mjay\u001b[0m\u001b[0;34m.\u001b[0m\u001b[0mname\u001b[0m\u001b[0;34m)\u001b[0m\u001b[0;34m\u001b[0m\u001b[0m\n\u001b[0;32m---> 17\u001b[0;31m \u001b[0mprint\u001b[0m\u001b[0;34m(\u001b[0m\u001b[0msai\u001b[0m\u001b[0;34m.\u001b[0m\u001b[0mpassport\u001b[0m\u001b[0;34m)\u001b[0m\u001b[0;34m\u001b[0m\u001b[0m\n\u001b[0m",
      "\u001b[0;31mAttributeError\u001b[0m: 'Emp' object has no attribute 'passport'"
     ]
    }
   ],
   "source": [
    "class Emp:\n",
    "    COMPANY_NAME=\"khyaathi\"\n",
    "    COMPANY_ADDRESS = \"maithrivanam\"\n",
    "    def fun(x):\n",
    "        print(\"this is fun\")\n",
    "    \n",
    "sai=Emp()\n",
    "sai.name=\"sailaxmi\"\n",
    "sai.empid=6973\n",
    "jay=Emp()\n",
    "jay.name=\"jayaram\"\n",
    "jay.empid=6974\n",
    "jay.adhar=234556\n",
    "jay.passport=345678a\n",
    "print(sai.name)\n",
    "print(jay.name)\n",
    "print(sai.passport)"
   ]
  },
  {
   "cell_type": "code",
   "execution_count": 11,
   "metadata": {},
   "outputs": [
    {
     "name": "stdout",
     "output_type": "stream",
     "text": [
      "khyaathi\n",
      "maithrivanam\n"
     ]
    }
   ],
   "source": [
    "class Emp:  # EMP is class object\n",
    "    COMPANY_NAME=\"khyaathi\"\n",
    "    COMPANY_ADDRESS = \"maithrivanam\"\n",
    "    def fun(x):\n",
    "        print(\"this is fun\")\n",
    "    \n",
    "sai=Emp() #EMP() is a data object. sai is a reference of data object, called as instance.\n",
    "sai.name=\"sailaxmi\"\n",
    "sai.empid=6973\n",
    "jay=Emp()\n",
    "jay.name=\"jayaram\"\n",
    "jay.empid=6974\n",
    "jay.adhar=234556\n",
    "jay.passport=345678\n",
    "print(sai.COMPANY_NAME)\n",
    "print(jay.COMPANY_ADDRESS)"
   ]
  },
  {
   "cell_type": "code",
   "execution_count": 12,
   "metadata": {},
   "outputs": [
    {
     "ename": "AttributeError",
     "evalue": "type object 'Emp' has no attribute 'adhar'",
     "output_type": "error",
     "traceback": [
      "\u001b[0;31m---------------------------------------------------------------------------\u001b[0m",
      "\u001b[0;31mAttributeError\u001b[0m                            Traceback (most recent call last)",
      "\u001b[0;32m<ipython-input-12-8cf8d0c45629>\u001b[0m in \u001b[0;36m<module>\u001b[0;34m()\u001b[0m\n\u001b[1;32m     13\u001b[0m \u001b[0mjay\u001b[0m\u001b[0;34m.\u001b[0m\u001b[0madhar\u001b[0m\u001b[0;34m=\u001b[0m\u001b[0;36m234556\u001b[0m\u001b[0;34m\u001b[0m\u001b[0m\n\u001b[1;32m     14\u001b[0m \u001b[0mjay\u001b[0m\u001b[0;34m.\u001b[0m\u001b[0mpassport\u001b[0m\u001b[0;34m=\u001b[0m\u001b[0;36m345678\u001b[0m\u001b[0;34m\u001b[0m\u001b[0m\n\u001b[0;32m---> 15\u001b[0;31m \u001b[0mprint\u001b[0m\u001b[0;34m(\u001b[0m\u001b[0mEmp\u001b[0m\u001b[0;34m.\u001b[0m\u001b[0madhar\u001b[0m\u001b[0;34m)\u001b[0m\u001b[0;34m\u001b[0m\u001b[0m\n\u001b[0m",
      "\u001b[0;31mAttributeError\u001b[0m: type object 'Emp' has no attribute 'adhar'"
     ]
    }
   ],
   "source": [
    "class Emp:  # EMP is class object\n",
    "    COMPANY_NAME=\"khyaathi\"\n",
    "    COMPANY_ADDRESS = \"maithrivanam\"\n",
    "    def fun(x):\n",
    "        print(\"this is fun\")\n",
    "    \n",
    "sai=Emp() #EMP() is a data object. sai is a reference of data object, called as instance.\n",
    "sai.name=\"sailaxmi\"\n",
    "sai.empid=6973\n",
    "jay=Emp()\n",
    "jay.name=\"jayaram\"\n",
    "jay.empid=6974\n",
    "jay.adhar=234556\n",
    "jay.passport=345678\n",
    "print(Emp.adhar)"
   ]
  },
  {
   "cell_type": "code",
   "execution_count": 13,
   "metadata": {},
   "outputs": [
    {
     "name": "stdout",
     "output_type": "stream",
     "text": [
      "maithrivanam\n",
      "this is fun\n"
     ]
    }
   ],
   "source": [
    "class Emp:  # EMP is class object\n",
    "    COMPANY_NAME=\"khyaathi\"\n",
    "    COMPANY_ADDRESS = \"maithrivanam\"\n",
    "    def fun(x):\n",
    "        print(\"this is fun\")\n",
    "    \n",
    "sai=Emp() #EMP() is a data object. sai is a reference of data object, called as instance.\n",
    "sai.name=\"sailaxmi\"\n",
    "sai.empid=6973\n",
    "jay=Emp()\n",
    "jay.name=\"jayaram\"\n",
    "jay.empid=6974\n",
    "jay.adhar=234556\n",
    "jay.passport=345678\n",
    "print(Emp.COMPANY_ADDRESS)\n",
    "Emp.fun(10)"
   ]
  },
  {
   "cell_type": "code",
   "execution_count": 14,
   "metadata": {},
   "outputs": [
    {
     "name": "stdout",
     "output_type": "stream",
     "text": [
      "maithrivanam\n",
      "this is fun\n",
      "this is fun\n"
     ]
    }
   ],
   "source": [
    "class Emp:  # EMP is class object\n",
    "    COMPANY_NAME=\"khyaathi\"\n",
    "    COMPANY_ADDRESS = \"maithrivanam\"\n",
    "    def fun(x):\n",
    "        print(\"this is fun\")\n",
    "    \n",
    "sai=Emp() #EMP() is a data object. sai is a reference of data object, called as instance.\n",
    "sai.name=\"sailaxmi\"\n",
    "sai.empid=6973\n",
    "jay=Emp()\n",
    "jay.name=\"jayaram\"\n",
    "jay.empid=6974\n",
    "jay.adhar=234556\n",
    "jay.passport=345678\n",
    "print(Emp.COMPANY_ADDRESS)\n",
    "#Emp.fun(10)\n",
    "sai.fun()\n",
    "jay.fun()"
   ]
  },
  {
   "cell_type": "code",
   "execution_count": 15,
   "metadata": {},
   "outputs": [
    {
     "ename": "TypeError",
     "evalue": "fun() missing 1 required positional argument: 'x'",
     "output_type": "error",
     "traceback": [
      "\u001b[0;31m---------------------------------------------------------------------------\u001b[0m",
      "\u001b[0;31mTypeError\u001b[0m                                 Traceback (most recent call last)",
      "\u001b[0;32m<ipython-input-15-9140949fe6c3>\u001b[0m in \u001b[0;36m<module>\u001b[0;34m()\u001b[0m\n\u001b[1;32m      1\u001b[0m \u001b[0;32mdef\u001b[0m \u001b[0mfun\u001b[0m\u001b[0;34m(\u001b[0m\u001b[0mx\u001b[0m\u001b[0;34m)\u001b[0m\u001b[0;34m:\u001b[0m\u001b[0;34m\u001b[0m\u001b[0m\n\u001b[1;32m      2\u001b[0m     \u001b[0mprint\u001b[0m\u001b[0;34m(\u001b[0m\u001b[0;34m\"this is fun\"\u001b[0m\u001b[0;34m)\u001b[0m\u001b[0;34m\u001b[0m\u001b[0m\n\u001b[0;32m----> 3\u001b[0;31m \u001b[0mfun\u001b[0m\u001b[0;34m(\u001b[0m\u001b[0;34m)\u001b[0m\u001b[0;34m\u001b[0m\u001b[0m\n\u001b[0m",
      "\u001b[0;31mTypeError\u001b[0m: fun() missing 1 required positional argument: 'x'"
     ]
    }
   ],
   "source": [
    "def fun(x):\n",
    "    print(\"this is fun\")\n",
    "fun()"
   ]
  },
  {
   "cell_type": "code",
   "execution_count": 16,
   "metadata": {},
   "outputs": [
    {
     "name": "stdout",
     "output_type": "stream",
     "text": [
      "this is fun\n"
     ]
    }
   ],
   "source": [
    "def fun(x=10):\n",
    "    print(\"this is fun\")\n",
    "fun()"
   ]
  },
  {
   "cell_type": "code",
   "execution_count": null,
   "metadata": {},
   "outputs": [],
   "source": [
    "class Emp:  \n",
    "    COMPANY_NAME=\"khyaathi\"\n",
    "    COMPANY_ADDRESS = \"maithrivanam\"\n",
    "    def fun(x):\n",
    "        print(\"this is fun\")\n",
    "    \n",
    "sai=Emp() #\n",
    "#Emp.fun(10)\n",
    "sai.fun()\n",
    "jay.fun()"
   ]
  },
  {
   "cell_type": "code",
   "execution_count": 18,
   "metadata": {},
   "outputs": [],
   "source": [
    "a=int(10)"
   ]
  },
  {
   "cell_type": "markdown",
   "metadata": {},
   "source": [
    "# "
   ]
  },
  {
   "cell_type": "code",
   "execution_count": 19,
   "metadata": {},
   "outputs": [],
   "source": [
    "a=10"
   ]
  },
  {
   "cell_type": "code",
   "execution_count": 20,
   "metadata": {},
   "outputs": [
    {
     "name": "stdout",
     "output_type": "stream",
     "text": [
      "this is fun: 10\n"
     ]
    }
   ],
   "source": [
    "class Emp:  \n",
    "    COMPANY_NAME=\"khyaathi\"\n",
    "    COMPANY_ADDRESS = \"maithrivanam\"\n",
    "    def fun(x):\n",
    "        print(\"this is fun:\",x)\n",
    "    \n",
    "sai=Emp()\n",
    "Emp.fun(10)\n"
   ]
  },
  {
   "cell_type": "code",
   "execution_count": 21,
   "metadata": {},
   "outputs": [
    {
     "ename": "AttributeError",
     "evalue": "'int' object has no attribute 'name'",
     "output_type": "error",
     "traceback": [
      "\u001b[0;31m---------------------------------------------------------------------------\u001b[0m",
      "\u001b[0;31mAttributeError\u001b[0m                            Traceback (most recent call last)",
      "\u001b[0;32m<ipython-input-21-17b6d7ff0f8e>\u001b[0m in \u001b[0;36m<module>\u001b[0;34m()\u001b[0m\n\u001b[1;32m      7\u001b[0m \u001b[0msai\u001b[0m\u001b[0;34m=\u001b[0m\u001b[0mEmp\u001b[0m\u001b[0;34m(\u001b[0m\u001b[0;34m)\u001b[0m\u001b[0;34m\u001b[0m\u001b[0m\n\u001b[1;32m      8\u001b[0m \u001b[0msai\u001b[0m\u001b[0;34m.\u001b[0m\u001b[0mname\u001b[0m\u001b[0;34m=\u001b[0m\u001b[0;34m\"sailaxmi\"\u001b[0m\u001b[0;34m\u001b[0m\u001b[0m\n\u001b[0;32m----> 9\u001b[0;31m \u001b[0mEmp\u001b[0m\u001b[0;34m.\u001b[0m\u001b[0mget_name\u001b[0m\u001b[0;34m(\u001b[0m\u001b[0;36m10\u001b[0m\u001b[0;34m)\u001b[0m\u001b[0;34m\u001b[0m\u001b[0m\n\u001b[0m",
      "\u001b[0;32m<ipython-input-21-17b6d7ff0f8e>\u001b[0m in \u001b[0;36mget_name\u001b[0;34m(x)\u001b[0m\n\u001b[1;32m      3\u001b[0m     \u001b[0mCOMPANY_ADDRESS\u001b[0m \u001b[0;34m=\u001b[0m \u001b[0;34m\"maithrivanam\"\u001b[0m\u001b[0;34m\u001b[0m\u001b[0m\n\u001b[1;32m      4\u001b[0m     \u001b[0;32mdef\u001b[0m \u001b[0mget_name\u001b[0m\u001b[0;34m(\u001b[0m\u001b[0mx\u001b[0m\u001b[0;34m)\u001b[0m\u001b[0;34m:\u001b[0m\u001b[0;34m\u001b[0m\u001b[0m\n\u001b[0;32m----> 5\u001b[0;31m         \u001b[0;32mreturn\u001b[0m \u001b[0mx\u001b[0m\u001b[0;34m.\u001b[0m\u001b[0mname\u001b[0m\u001b[0;34m\u001b[0m\u001b[0m\n\u001b[0m\u001b[1;32m      6\u001b[0m \u001b[0;34m\u001b[0m\u001b[0m\n\u001b[1;32m      7\u001b[0m \u001b[0msai\u001b[0m\u001b[0;34m=\u001b[0m\u001b[0mEmp\u001b[0m\u001b[0;34m(\u001b[0m\u001b[0;34m)\u001b[0m\u001b[0;34m\u001b[0m\u001b[0m\n",
      "\u001b[0;31mAttributeError\u001b[0m: 'int' object has no attribute 'name'"
     ]
    }
   ],
   "source": [
    "class Emp:  \n",
    "    COMPANY_NAME=\"khyaathi\"\n",
    "    COMPANY_ADDRESS = \"maithrivanam\"\n",
    "    def get_name(x):\n",
    "        return x.name\n",
    "    \n",
    "sai=Emp()\n",
    "sai.name=\"sailaxmi\"\n",
    "Emp.get_name(10)"
   ]
  },
  {
   "cell_type": "code",
   "execution_count": 22,
   "metadata": {},
   "outputs": [
    {
     "data": {
      "text/plain": [
       "'sailaxmi'"
      ]
     },
     "execution_count": 22,
     "metadata": {},
     "output_type": "execute_result"
    }
   ],
   "source": [
    "class Emp:  \n",
    "    COMPANY_NAME=\"khyaathi\"\n",
    "    COMPANY_ADDRESS = \"maithrivanam\"\n",
    "    def get_name(x):\n",
    "        return x.name\n",
    "    \n",
    "sai=Emp()\n",
    "sai.name=\"sailaxmi\"\n",
    "sai.address=\"devender nagar\"\n",
    "Emp.get_name(sai)"
   ]
  },
  {
   "cell_type": "code",
   "execution_count": 23,
   "metadata": {},
   "outputs": [
    {
     "data": {
      "text/plain": [
       "'sailaxmi'"
      ]
     },
     "execution_count": 23,
     "metadata": {},
     "output_type": "execute_result"
    }
   ],
   "source": [
    "class Emp:  \n",
    "    COMPANY_NAME=\"khyaathi\"\n",
    "    COMPANY_ADDRESS = \"maithrivanam\"\n",
    "    def get_name(x):\n",
    "        return x.name\n",
    "    \n",
    "sai=Emp()\n",
    "sai.name=\"sailaxmi\"\n",
    "sai.address=\"devender nagar\"\n",
    "#Emp.get_name(sai)\n",
    "sai.get_name()"
   ]
  },
  {
   "cell_type": "code",
   "execution_count": 24,
   "metadata": {},
   "outputs": [
    {
     "data": {
      "text/plain": [
       "'SAIlaxmi'"
      ]
     },
     "execution_count": 24,
     "metadata": {},
     "output_type": "execute_result"
    }
   ],
   "source": [
    "class Emp:  \n",
    "    COMPANY_NAME=\"khyaathi\"\n",
    "    COMPANY_ADDRESS = \"maithrivanam\"\n",
    "    def get_name(x):\n",
    "        return x.name\n",
    "    def update_name(x,new_name):\n",
    "        x.name=new_name\n",
    "    \n",
    "sai=Emp()\n",
    "sai.name=\"sailaxmi\"\n",
    "sai.address=\"devender nagar\"\n",
    "#Emp.get_name(sai)\n",
    "#Emp.update_name(sai,\"SAIlaxmi\")\n",
    "sai.update_name(\"SAIlaxmi\")\n",
    "sai.get_name()"
   ]
  },
  {
   "cell_type": "code",
   "execution_count": null,
   "metadata": {},
   "outputs": [],
   "source": [
    "class Emp:  \n",
    "    COMPANY_NAME=\"khyaathi\"\n",
    "    COMPANY_ADDRESS = \"maithrivanam\"\n",
    "    def get_name(self):\n",
    "        return self.name\n",
    "    def update_name(self,new_name):\n",
    "        self.name=new_name\n",
    "    \n",
    "sai=Emp()\n",
    "sai.name=\"sailaxmi\"\n",
    "sai.address=\"devender nagar\"\n",
    "#Emp.get_name(sai)\n",
    "#Emp.update_name(sai,\"SAIlaxmi\")\n",
    "sai.update_name(\"SAIlaxmi\")\n",
    "sai.get_name()\n",
    "\n",
    "# Product class name, costprice, profit as a data object attributes, discount as a class object attribute. write a method to \n",
    "# calculate sales price by considring the discount and profit\n",
    "# ware house"
   ]
  }
 ],
 "metadata": {
  "kernelspec": {
   "display_name": "Python 3",
   "language": "python",
   "name": "python3"
  },
  "language_info": {
   "codemirror_mode": {
    "name": "ipython",
    "version": 3
   },
   "file_extension": ".py",
   "mimetype": "text/x-python",
   "name": "python",
   "nbconvert_exporter": "python",
   "pygments_lexer": "ipython3",
   "version": "3.7.0"
  }
 },
 "nbformat": 4,
 "nbformat_minor": 2
}
