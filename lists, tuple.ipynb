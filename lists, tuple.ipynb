{
 "cells": [
  {
   "cell_type": "code",
   "execution_count": 1,
   "metadata": {},
   "outputs": [
    {
     "name": "stdout",
     "output_type": "stream",
     "text": [
      "[10, 1.2, (3+4j), 'python', [10, 20, 30]] <class 'list'>\n",
      "(10, 1.2, (3+4j), 'python', [10, 20, 30]) <class 'tuple'>\n"
     ]
    }
   ],
   "source": [
    "l=[10,1.2,3+4j,\"python\",[10,20,30]]\n",
    "t=(10,1.2,3+4j,\"python\",[10,20,30])\n",
    "print(l, type(l))\n",
    "print(t, type(t))\n"
   ]
  },
  {
   "cell_type": "code",
   "execution_count": 2,
   "metadata": {},
   "outputs": [
    {
     "name": "stdout",
     "output_type": "stream",
     "text": [
      "['p', 'y', 't', 'h', 'o', 'n'] <class 'list'>\n",
      "('p', 'y', 't', 'h', 'o', 'n') <class 'tuple'>\n"
     ]
    }
   ],
   "source": [
    "l=list(\"python\")\n",
    "t=tuple(\"python\")\n",
    "print(l, type(l))\n",
    "print(t, type(t))"
   ]
  },
  {
   "cell_type": "code",
   "execution_count": 4,
   "metadata": {},
   "outputs": [
    {
     "name": "stdout",
     "output_type": "stream",
     "text": [
      "['apple', 'orange', 'banana', 'grape'] <class 'list'>\n"
     ]
    }
   ],
   "source": [
    "s=\"apple;orange;banana;grape\"\n",
    "l=s.split(\";\")\n",
    "print(l, type(l))"
   ]
  },
  {
   "cell_type": "code",
   "execution_count": 6,
   "metadata": {},
   "outputs": [
    {
     "name": "stdout",
     "output_type": "stream",
     "text": [
      "[1000, 20, 30, 40]\n"
     ]
    }
   ],
   "source": [
    "l=[10,20,30,40]\n",
    "t=(10,20,30,40)\n",
    "l[0]=1000\n",
    "print(l)"
   ]
  },
  {
   "cell_type": "code",
   "execution_count": 7,
   "metadata": {},
   "outputs": [
    {
     "name": "stdout",
     "output_type": "stream",
     "text": [
      "['apple', 'orange', 'banana', 'grape'] <class 'list'>\n"
     ]
    }
   ],
   "source": [
    "s=\"apple orange banana grape\"\n",
    "l=s.split()\n",
    "print(l, type(l))"
   ]
  },
  {
   "cell_type": "code",
   "execution_count": 8,
   "metadata": {},
   "outputs": [
    {
     "name": "stdout",
     "output_type": "stream",
     "text": [
      "['apple', 'orange', 'banana', 'grape'] <class 'list'>\n"
     ]
    }
   ],
   "source": [
    "s=\"apple:orange:banana:grape\"\n",
    "l=s.split(\":\")\n",
    "print(l, type(l))"
   ]
  },
  {
   "cell_type": "code",
   "execution_count": 9,
   "metadata": {},
   "outputs": [
    {
     "name": "stdout",
     "output_type": "stream",
     "text": [
      "['apple', 'orange', 'banana', 'grape'] <class 'list'>\n",
      "('apple', 'orange', 'banana', 'grape') <class 'tuple'>\n"
     ]
    }
   ],
   "source": [
    "s=\"apple:orange:banana:grape\"\n",
    "l=s.split(\":\")\n",
    "t=tuple(l)\n",
    "print(l, type(l))\n",
    "print(t, type(t))"
   ]
  },
  {
   "cell_type": "code",
   "execution_count": 10,
   "metadata": {},
   "outputs": [
    {
     "name": "stdout",
     "output_type": "stream",
     "text": [
      "[1000, 20, 30, 40]\n"
     ]
    }
   ],
   "source": [
    "l=[10,20,30,40]\n",
    "t=(10,20,30,40)\n",
    "l[0]=1000\n",
    "print(l)"
   ]
  },
  {
   "cell_type": "code",
   "execution_count": 11,
   "metadata": {},
   "outputs": [
    {
     "ename": "TypeError",
     "evalue": "'str' object does not support item assignment",
     "output_type": "error",
     "traceback": [
      "\u001b[0;31m---------------------------------------------------------------------------\u001b[0m",
      "\u001b[0;31mTypeError\u001b[0m                                 Traceback (most recent call last)",
      "\u001b[0;32m<ipython-input-11-4ad7def15616>\u001b[0m in \u001b[0;36m<module>\u001b[0;34m()\u001b[0m\n\u001b[1;32m      1\u001b[0m \u001b[0ms\u001b[0m\u001b[0;34m=\u001b[0m\u001b[0;34m\"python\"\u001b[0m\u001b[0;34m\u001b[0m\u001b[0m\n\u001b[0;32m----> 2\u001b[0;31m \u001b[0ms\u001b[0m\u001b[0;34m[\u001b[0m\u001b[0;36m0\u001b[0m\u001b[0;34m]\u001b[0m\u001b[0;34m=\u001b[0m\u001b[0;34m\"z\"\u001b[0m\u001b[0;34m\u001b[0m\u001b[0m\n\u001b[0m",
      "\u001b[0;31mTypeError\u001b[0m: 'str' object does not support item assignment"
     ]
    }
   ],
   "source": [
    "s=\"python\"\n",
    "s[0]=\"z\""
   ]
  },
  {
   "cell_type": "code",
   "execution_count": 12,
   "metadata": {},
   "outputs": [
    {
     "ename": "TypeError",
     "evalue": "'tuple' object does not support item assignment",
     "output_type": "error",
     "traceback": [
      "\u001b[0;31m---------------------------------------------------------------------------\u001b[0m",
      "\u001b[0;31mTypeError\u001b[0m                                 Traceback (most recent call last)",
      "\u001b[0;32m<ipython-input-12-7ecf5e00bb36>\u001b[0m in \u001b[0;36m<module>\u001b[0;34m()\u001b[0m\n\u001b[1;32m      1\u001b[0m \u001b[0ml\u001b[0m\u001b[0;34m=\u001b[0m\u001b[0;34m[\u001b[0m\u001b[0;36m10\u001b[0m\u001b[0;34m,\u001b[0m\u001b[0;36m20\u001b[0m\u001b[0;34m,\u001b[0m\u001b[0;36m30\u001b[0m\u001b[0;34m,\u001b[0m\u001b[0;36m40\u001b[0m\u001b[0;34m]\u001b[0m\u001b[0;34m\u001b[0m\u001b[0m\n\u001b[1;32m      2\u001b[0m \u001b[0mt\u001b[0m\u001b[0;34m=\u001b[0m\u001b[0;34m(\u001b[0m\u001b[0;36m10\u001b[0m\u001b[0;34m,\u001b[0m\u001b[0;36m20\u001b[0m\u001b[0;34m,\u001b[0m\u001b[0;36m30\u001b[0m\u001b[0;34m,\u001b[0m\u001b[0;36m40\u001b[0m\u001b[0;34m)\u001b[0m\u001b[0;34m\u001b[0m\u001b[0m\n\u001b[0;32m----> 3\u001b[0;31m \u001b[0mt\u001b[0m\u001b[0;34m[\u001b[0m\u001b[0;36m0\u001b[0m\u001b[0;34m]\u001b[0m\u001b[0;34m=\u001b[0m\u001b[0;36m1000\u001b[0m\u001b[0;34m\u001b[0m\u001b[0m\n\u001b[0m\u001b[1;32m      4\u001b[0m \u001b[0mprint\u001b[0m\u001b[0;34m(\u001b[0m\u001b[0mt\u001b[0m\u001b[0;34m)\u001b[0m\u001b[0;34m\u001b[0m\u001b[0m\n",
      "\u001b[0;31mTypeError\u001b[0m: 'tuple' object does not support item assignment"
     ]
    }
   ],
   "source": [
    "l=[10,20,30,40]\n",
    "t=(10,20,30,40)\n",
    "t[0]=1000\n",
    "print(t)"
   ]
  },
  {
   "cell_type": "code",
   "execution_count": 13,
   "metadata": {},
   "outputs": [
    {
     "name": "stdout",
     "output_type": "stream",
     "text": [
      "1000\n",
      "6000\n",
      "[1000, 2000]\n",
      "[1000, 2000]\n",
      "[1000, 2000, 3000, 4000, 5000, 6000]\n",
      "[1000, 2000, 3000, 4000, 5000, 6000]\n",
      "[1000, 3000]\n",
      "[6000, 5000, 4000, 3000, 2000, 1000]\n"
     ]
    }
   ],
   "source": [
    "l=[1000,2000,3000,4000,5000,6000]\n",
    "print(l[0])\n",
    "print(l[-1])\n",
    "print(l[0:2])\n",
    "print(l[:2])\n",
    "print(l[0:])\n",
    "print(l[:])\n",
    "print(l[0:4:2])\n",
    "print(l[::-1])"
   ]
  },
  {
   "cell_type": "code",
   "execution_count": 14,
   "metadata": {},
   "outputs": [
    {
     "name": "stdout",
     "output_type": "stream",
     "text": [
      "1000\n",
      "2000\n",
      "3000\n",
      "4000\n",
      "5000\n",
      "6000\n"
     ]
    }
   ],
   "source": [
    "l=[1000,2000,3000,4000,5000,6000]\n",
    "for i in l:\n",
    "    print(i)"
   ]
  },
  {
   "cell_type": "code",
   "execution_count": 15,
   "metadata": {},
   "outputs": [],
   "source": [
    "l=[10,20,[100,200,[1000,20000],300],30,40]"
   ]
  },
  {
   "cell_type": "code",
   "execution_count": 16,
   "metadata": {},
   "outputs": [
    {
     "name": "stdout",
     "output_type": "stream",
     "text": [
      "5\n"
     ]
    }
   ],
   "source": [
    "l=[10,20,[100,200,[1000,20000],300],30,40]\n",
    "print(len(l))"
   ]
  },
  {
   "cell_type": "code",
   "execution_count": 17,
   "metadata": {},
   "outputs": [
    {
     "name": "stdout",
     "output_type": "stream",
     "text": [
      "10\n"
     ]
    }
   ],
   "source": [
    "l=[10,20,[100,200,[1000,20000],300],30,40]\n",
    "print(l[0])"
   ]
  },
  {
   "cell_type": "code",
   "execution_count": 18,
   "metadata": {},
   "outputs": [
    {
     "name": "stdout",
     "output_type": "stream",
     "text": [
      "[100, 200, [1000, 20000], 300]\n"
     ]
    }
   ],
   "source": [
    "l=[10,20,[100,200,[1000,20000],300],30,40]\n",
    "print(l[2])"
   ]
  },
  {
   "cell_type": "code",
   "execution_count": 19,
   "metadata": {},
   "outputs": [
    {
     "name": "stdout",
     "output_type": "stream",
     "text": [
      "200\n"
     ]
    }
   ],
   "source": [
    "l=[10,20,[100,200,[1000,20000],300],30,40]\n",
    "print(l[2][1])"
   ]
  },
  {
   "cell_type": "code",
   "execution_count": 20,
   "metadata": {},
   "outputs": [
    {
     "name": "stdout",
     "output_type": "stream",
     "text": [
      "[1000, 20000]\n"
     ]
    }
   ],
   "source": [
    "l=[10,20,[100,200,[1000,20000],300],30,40]\n",
    "print(l[2][2])"
   ]
  },
  {
   "cell_type": "code",
   "execution_count": 21,
   "metadata": {},
   "outputs": [
    {
     "name": "stdout",
     "output_type": "stream",
     "text": [
      "1000\n"
     ]
    }
   ],
   "source": [
    "l=[10,20,[100,200,[1000,20000],300],30,40]\n",
    "print(l[2][2][0])"
   ]
  },
  {
   "cell_type": "code",
   "execution_count": 22,
   "metadata": {},
   "outputs": [
    {
     "data": {
      "text/plain": [
       "'orange'"
      ]
     },
     "execution_count": 22,
     "metadata": {},
     "output_type": "execute_result"
    }
   ],
   "source": [
    "l=[\"apple\",\"banana\",\"orange\",\"grape\"]\n",
    "l[2]"
   ]
  },
  {
   "cell_type": "code",
   "execution_count": 23,
   "metadata": {},
   "outputs": [
    {
     "data": {
      "text/plain": [
       "'ran'"
      ]
     },
     "execution_count": 23,
     "metadata": {},
     "output_type": "execute_result"
    }
   ],
   "source": [
    "l=[\"apple\",\"banana\",\"orange\",\"grape\"]\n",
    "l[2][1:4]"
   ]
  },
  {
   "cell_type": "code",
   "execution_count": 24,
   "metadata": {},
   "outputs": [
    {
     "data": {
      "text/plain": [
       "'linux'"
      ]
     },
     "execution_count": 24,
     "metadata": {},
     "output_type": "execute_result"
    }
   ],
   "source": [
    "os=[\"windows\",\"linux\",\"unix\",\"rasbian\",\"android\",\"ios\"]\n",
    "os[1]"
   ]
  },
  {
   "cell_type": "code",
   "execution_count": 25,
   "metadata": {},
   "outputs": [
    {
     "data": {
      "text/plain": [
       "1000"
      ]
     },
     "execution_count": 25,
     "metadata": {},
     "output_type": "execute_result"
    }
   ],
   "source": [
    "l=[1000,2000,3000]\n",
    "l[0]"
   ]
  },
  {
   "cell_type": "code",
   "execution_count": 26,
   "metadata": {},
   "outputs": [
    {
     "ename": "TypeError",
     "evalue": "'int' object is not subscriptable",
     "output_type": "error",
     "traceback": [
      "\u001b[0;31m---------------------------------------------------------------------------\u001b[0m",
      "\u001b[0;31mTypeError\u001b[0m                                 Traceback (most recent call last)",
      "\u001b[0;32m<ipython-input-26-b8222bce836e>\u001b[0m in \u001b[0;36m<module>\u001b[0;34m()\u001b[0m\n\u001b[1;32m      1\u001b[0m \u001b[0ml\u001b[0m\u001b[0;34m=\u001b[0m\u001b[0;34m[\u001b[0m\u001b[0;36m1000\u001b[0m\u001b[0;34m,\u001b[0m\u001b[0;36m2000\u001b[0m\u001b[0;34m,\u001b[0m\u001b[0;36m3000\u001b[0m\u001b[0;34m]\u001b[0m\u001b[0;34m\u001b[0m\u001b[0m\n\u001b[0;32m----> 2\u001b[0;31m \u001b[0ml\u001b[0m\u001b[0;34m[\u001b[0m\u001b[0;36m0\u001b[0m\u001b[0;34m]\u001b[0m\u001b[0;34m[\u001b[0m\u001b[0;34m:\u001b[0m\u001b[0;36m2\u001b[0m\u001b[0;34m]\u001b[0m\u001b[0;34m\u001b[0m\u001b[0m\n\u001b[0m",
      "\u001b[0;31mTypeError\u001b[0m: 'int' object is not subscriptable"
     ]
    }
   ],
   "source": [
    "l=[1000,2000,3000]\n",
    "l[0][:2]"
   ]
  },
  {
   "cell_type": "code",
   "execution_count": 27,
   "metadata": {},
   "outputs": [
    {
     "data": {
      "text/plain": [
       "'10'"
      ]
     },
     "execution_count": 27,
     "metadata": {},
     "output_type": "execute_result"
    }
   ],
   "source": [
    "l=[\"1000\",2000,3000]\n",
    "l[0][:2]"
   ]
  },
  {
   "cell_type": "code",
   "execution_count": 29,
   "metadata": {},
   "outputs": [],
   "source": [
    "l=[1000,2000,3000]\n",
    "k=l\n",
    "m=l[:]\n",
    "n=l.copy()\n",
    "o=[1000,2000,3000]\n",
    "a=1000\n",
    "b=2000\n",
    "c=3000\n",
    "p=[a,b,c,4000]"
   ]
  },
  {
   "cell_type": "code",
   "execution_count": 30,
   "metadata": {},
   "outputs": [
    {
     "name": "stdout",
     "output_type": "stream",
     "text": [
      "[10, 2000, 3000, 400, 5000]\n",
      "[10, 2000, 3000, 400, 5000]\n",
      "[1000, 2000, 3000, 400, 5000]\n",
      "[1000, 2000, 3000, 400, 5000]\n"
     ]
    }
   ],
   "source": [
    "l=[1000,2000,3000,400,5000]\n",
    "k=l\n",
    "m=l[:]\n",
    "n=l.copy()\n",
    "l[0]=10\n",
    "print(l)\n",
    "print(k)\n",
    "print(m)\n",
    "print(n)"
   ]
  },
  {
   "cell_type": "code",
   "execution_count": 31,
   "metadata": {},
   "outputs": [
    {
     "name": "stdout",
     "output_type": "stream",
     "text": [
      "[10, 2000, 3000, 400, 5000]\n",
      "[10, 2000, 3000, 400, 5000]\n",
      "[1000, 2000, 3000, 400, 5000]\n",
      "[1000, 2000, 3000, 400, 5000]\n"
     ]
    }
   ],
   "source": [
    "l=[1000,2000,3000,400,5000]\n",
    "k=l\n",
    "m=l[:]\n",
    "n=l.copy()\n",
    "k[0]=10\n",
    "print(l)\n",
    "print(k)\n",
    "print(m)\n",
    "print(n)"
   ]
  },
  {
   "cell_type": "code",
   "execution_count": 32,
   "metadata": {},
   "outputs": [
    {
     "name": "stdout",
     "output_type": "stream",
     "text": [
      "Enrer a value:1\n",
      "enter b value:2\n",
      "Enter c value:3\n",
      "Enter d value:4\n"
     ]
    }
   ],
   "source": [
    "a,b,c,d=input(\"Enrer a value:\"),input(\"enter b value:\"),input(\"Enter c value:\"),input(\"Enter d value:\")\n",
    "a,b,c,d=int(a),int(b),int(c),int(d)"
   ]
  },
  {
   "cell_type": "code",
   "execution_count": 33,
   "metadata": {},
   "outputs": [
    {
     "name": "stdout",
     "output_type": "stream",
     "text": [
      "Enrer a value:10\n",
      "enter b value:20000\n",
      "Enter c value:30\n",
      "Enter d value:40\n",
      "20000\n",
      "10\n"
     ]
    }
   ],
   "source": [
    "a,b,c,d=input(\"Enrer a value:\"),input(\"enter b value:\"),input(\"Enter c value:\"),input(\"Enter d value:\")\n",
    "a,b,c,d=int(a),int(b),int(c),int(d)\n",
    "l=[a,b,c,d]\n",
    "print(max(l))\n",
    "print(min(l))"
   ]
  },
  {
   "cell_type": "markdown",
   "metadata": {},
   "source": []
  },
  {
   "cell_type": "code",
   "execution_count": 34,
   "metadata": {},
   "outputs": [
    {
     "name": "stdout",
     "output_type": "stream",
     "text": [
      "6\n",
      "10\n"
     ]
    }
   ],
   "source": [
    "l=[\"10\",\"6\",\"2000\",\"30\"]\n",
    "print(max(l))\n",
    "print(min(l))"
   ]
  },
  {
   "cell_type": "code",
   "execution_count": 35,
   "metadata": {},
   "outputs": [
    {
     "ename": "TypeError",
     "evalue": "'>' not supported between instances of 'int' and 'str'",
     "output_type": "error",
     "traceback": [
      "\u001b[0;31m---------------------------------------------------------------------------\u001b[0m",
      "\u001b[0;31mTypeError\u001b[0m                                 Traceback (most recent call last)",
      "\u001b[0;32m<ipython-input-35-93d859e7cd8f>\u001b[0m in \u001b[0;36m<module>\u001b[0;34m()\u001b[0m\n\u001b[1;32m      1\u001b[0m \u001b[0ml\u001b[0m\u001b[0;34m=\u001b[0m\u001b[0;34m[\u001b[0m\u001b[0;34m\"10\"\u001b[0m\u001b[0;34m,\u001b[0m\u001b[0;34m\"6\"\u001b[0m\u001b[0;34m,\u001b[0m\u001b[0;34m\"2000\"\u001b[0m\u001b[0;34m,\u001b[0m\u001b[0;34m\"30\"\u001b[0m\u001b[0;34m,\u001b[0m\u001b[0;36m100\u001b[0m\u001b[0;34m,\u001b[0m\u001b[0;36m200\u001b[0m\u001b[0;34m]\u001b[0m\u001b[0;34m\u001b[0m\u001b[0m\n\u001b[0;32m----> 2\u001b[0;31m \u001b[0mprint\u001b[0m\u001b[0;34m(\u001b[0m\u001b[0mmax\u001b[0m\u001b[0;34m(\u001b[0m\u001b[0ml\u001b[0m\u001b[0;34m)\u001b[0m\u001b[0;34m)\u001b[0m\u001b[0;34m\u001b[0m\u001b[0m\n\u001b[0m\u001b[1;32m      3\u001b[0m \u001b[0mprint\u001b[0m\u001b[0;34m(\u001b[0m\u001b[0mmin\u001b[0m\u001b[0;34m(\u001b[0m\u001b[0ml\u001b[0m\u001b[0;34m)\u001b[0m\u001b[0;34m)\u001b[0m\u001b[0;34m\u001b[0m\u001b[0m\n",
      "\u001b[0;31mTypeError\u001b[0m: '>' not supported between instances of 'int' and 'str'"
     ]
    }
   ],
   "source": [
    "l=[\"10\",\"6\",\"2000\",\"30\",100,200]\n",
    "print(max(l))\n",
    "print(min(l))"
   ]
  },
  {
   "cell_type": "code",
   "execution_count": 36,
   "metadata": {},
   "outputs": [
    {
     "data": {
      "text/plain": [
       "20"
      ]
     },
     "execution_count": 36,
     "metadata": {},
     "output_type": "execute_result"
    }
   ],
   "source": [
    "l=[10,20,1.2,3.4]\n",
    "max(l)"
   ]
  },
  {
   "cell_type": "code",
   "execution_count": 37,
   "metadata": {},
   "outputs": [
    {
     "ename": "TypeError",
     "evalue": "'>' not supported between instances of 'complex' and 'int'",
     "output_type": "error",
     "traceback": [
      "\u001b[0;31m---------------------------------------------------------------------------\u001b[0m",
      "\u001b[0;31mTypeError\u001b[0m                                 Traceback (most recent call last)",
      "\u001b[0;32m<ipython-input-37-030428d75936>\u001b[0m in \u001b[0;36m<module>\u001b[0;34m()\u001b[0m\n\u001b[1;32m      1\u001b[0m \u001b[0ml\u001b[0m\u001b[0;34m=\u001b[0m\u001b[0;34m[\u001b[0m\u001b[0;36m10\u001b[0m\u001b[0;34m,\u001b[0m\u001b[0;36m20\u001b[0m\u001b[0;34m,\u001b[0m\u001b[0;36m1.2\u001b[0m\u001b[0;34m,\u001b[0m\u001b[0;36m3.4\u001b[0m\u001b[0;34m,\u001b[0m\u001b[0;36m1\u001b[0m\u001b[0;34m+\u001b[0m\u001b[0;36m2j\u001b[0m\u001b[0;34m]\u001b[0m\u001b[0;34m\u001b[0m\u001b[0m\n\u001b[0;32m----> 2\u001b[0;31m \u001b[0mmax\u001b[0m\u001b[0;34m(\u001b[0m\u001b[0ml\u001b[0m\u001b[0;34m)\u001b[0m\u001b[0;34m\u001b[0m\u001b[0m\n\u001b[0m",
      "\u001b[0;31mTypeError\u001b[0m: '>' not supported between instances of 'complex' and 'int'"
     ]
    }
   ],
   "source": [
    "l=[10,20,1.2,3.4,1+2j]\n",
    "max(l)"
   ]
  },
  {
   "cell_type": "code",
   "execution_count": 38,
   "metadata": {},
   "outputs": [
    {
     "name": "stdout",
     "output_type": "stream",
     "text": [
      "['apple', 'orange', 'banana', 'grape', 'guva']\n"
     ]
    }
   ],
   "source": [
    "l=[\"apple\",\"orange\",\"banana\",\"grape\"]\n",
    "l.append(\"guva\")\n",
    "print(l)"
   ]
  },
  {
   "cell_type": "code",
   "execution_count": 39,
   "metadata": {},
   "outputs": [
    {
     "name": "stdout",
     "output_type": "stream",
     "text": [
      "['apple', 'orange', 'banana', 'grape', 'g', 'u', 'v', 'a']\n"
     ]
    }
   ],
   "source": [
    "l=[\"apple\",\"orange\",\"banana\",\"grape\"]\n",
    "l.extend(\"guva\")\n",
    "print(l)"
   ]
  },
  {
   "cell_type": "code",
   "execution_count": 41,
   "metadata": {},
   "outputs": [
    {
     "name": "stdout",
     "output_type": "stream",
     "text": [
      "['apple', 'orange', 'banana', 'grape', ['guva', 'pomogranite', 'pineapple']]\n"
     ]
    }
   ],
   "source": [
    "l=[\"apple\",\"orange\",\"banana\",\"grape\"]\n",
    "l.append([\"guva\",\"pomogranite\",\"pineapple\"])\n",
    "print(l)"
   ]
  },
  {
   "cell_type": "code",
   "execution_count": 42,
   "metadata": {},
   "outputs": [
    {
     "name": "stdout",
     "output_type": "stream",
     "text": [
      "['apple', 'orange', 'banana', 'grape', 'guva', 'pomogranite', 'pineapple']\n"
     ]
    }
   ],
   "source": [
    "l=[\"apple\",\"orange\",\"banana\",\"grape\"]\n",
    "l.extend([\"guva\",\"pomogranite\",\"pineapple\"])\n",
    "print(l)"
   ]
  },
  {
   "cell_type": "code",
   "execution_count": 43,
   "metadata": {},
   "outputs": [
    {
     "name": "stdout",
     "output_type": "stream",
     "text": [
      "['apple', 'orange', 'banana', 'grape', 1000]\n"
     ]
    }
   ],
   "source": [
    "l=[\"apple\",\"orange\",\"banana\",\"grape\"]\n",
    "l.append(1000)\n",
    "print(l)"
   ]
  },
  {
   "cell_type": "code",
   "execution_count": 44,
   "metadata": {},
   "outputs": [
    {
     "ename": "TypeError",
     "evalue": "'int' object is not iterable",
     "output_type": "error",
     "traceback": [
      "\u001b[0;31m---------------------------------------------------------------------------\u001b[0m",
      "\u001b[0;31mTypeError\u001b[0m                                 Traceback (most recent call last)",
      "\u001b[0;32m<ipython-input-44-5651b6967a93>\u001b[0m in \u001b[0;36m<module>\u001b[0;34m()\u001b[0m\n\u001b[1;32m      1\u001b[0m \u001b[0ml\u001b[0m\u001b[0;34m=\u001b[0m\u001b[0;34m[\u001b[0m\u001b[0;34m\"apple\"\u001b[0m\u001b[0;34m,\u001b[0m\u001b[0;34m\"orange\"\u001b[0m\u001b[0;34m,\u001b[0m\u001b[0;34m\"banana\"\u001b[0m\u001b[0;34m,\u001b[0m\u001b[0;34m\"grape\"\u001b[0m\u001b[0;34m]\u001b[0m\u001b[0;34m\u001b[0m\u001b[0m\n\u001b[0;32m----> 2\u001b[0;31m \u001b[0ml\u001b[0m\u001b[0;34m.\u001b[0m\u001b[0mextend\u001b[0m\u001b[0;34m(\u001b[0m\u001b[0;36m1000\u001b[0m\u001b[0;34m)\u001b[0m\u001b[0;34m\u001b[0m\u001b[0m\n\u001b[0m\u001b[1;32m      3\u001b[0m \u001b[0mprint\u001b[0m\u001b[0;34m(\u001b[0m\u001b[0ml\u001b[0m\u001b[0;34m)\u001b[0m\u001b[0;34m\u001b[0m\u001b[0m\n",
      "\u001b[0;31mTypeError\u001b[0m: 'int' object is not iterable"
     ]
    }
   ],
   "source": [
    "l=[\"apple\",\"orange\",\"banana\",\"grape\"]\n",
    "l.extend(1000)\n",
    "print(l)"
   ]
  },
  {
   "cell_type": "code",
   "execution_count": 45,
   "metadata": {},
   "outputs": [
    {
     "name": "stdout",
     "output_type": "stream",
     "text": [
      "['apple', 'orange', 'banana', 'grape', '1', '0', '0', '0']\n"
     ]
    }
   ],
   "source": [
    "l=[\"apple\",\"orange\",\"banana\",\"grape\"]\n",
    "l.extend(\"1000\")\n",
    "print(l)"
   ]
  },
  {
   "cell_type": "code",
   "execution_count": 47,
   "metadata": {},
   "outputs": [
    {
     "name": "stdout",
     "output_type": "stream",
     "text": [
      "[]\n"
     ]
    }
   ],
   "source": [
    "l=[\"apple\",\"orange\",\"banana\",\"grape\"]\n",
    "l.clear()\n",
    "print(l)"
   ]
  },
  {
   "cell_type": "code",
   "execution_count": 48,
   "metadata": {},
   "outputs": [
    {
     "name": "stdout",
     "output_type": "stream",
     "text": [
      "[]\n"
     ]
    }
   ],
   "source": [
    "l=[\"apple\",\"orange\",\"banana\",\"grape\",\"apple\",\"orange\",\"banana\",\"grape\",\"apple\",\"orange\",\"banana\",\"grape\"]\n",
    "l.clear()\n",
    "print(l)"
   ]
  },
  {
   "cell_type": "code",
   "execution_count": 49,
   "metadata": {},
   "outputs": [
    {
     "name": "stdout",
     "output_type": "stream",
     "text": [
      "['apple', 'orange', 'banana', 'grape', 'apple', 'orange', 'banana', 'grape', 'apple', 'orange', 'banana']\n"
     ]
    }
   ],
   "source": [
    "l=[\"apple\",\"orange\",\"banana\",\"grape\",\"apple\",\"orange\",\"banana\",\"grape\",\"apple\",\"orange\",\"banana\",\"grape\"]\n",
    "l.pop()\n",
    "print(l)"
   ]
  },
  {
   "cell_type": "code",
   "execution_count": 50,
   "metadata": {},
   "outputs": [
    {
     "name": "stdout",
     "output_type": "stream",
     "text": [
      "['apple', 'orange', 'banana', 'apple', 'orange', 'banana', 'grape', 'apple', 'orange', 'banana', 'grape']\n"
     ]
    }
   ],
   "source": [
    "l=[\"apple\",\"orange\",\"banana\",\"grape\",\"apple\",\"orange\",\"banana\",\"grape\",\"apple\",\"orange\",\"banana\",\"grape\"]\n",
    "l.pop(3)\n",
    "print(l)"
   ]
  },
  {
   "cell_type": "code",
   "execution_count": 51,
   "metadata": {},
   "outputs": [
    {
     "ename": "IndexError",
     "evalue": "pop index out of range",
     "output_type": "error",
     "traceback": [
      "\u001b[0;31m---------------------------------------------------------------------------\u001b[0m",
      "\u001b[0;31mIndexError\u001b[0m                                Traceback (most recent call last)",
      "\u001b[0;32m<ipython-input-51-1b0ff1c085be>\u001b[0m in \u001b[0;36m<module>\u001b[0;34m()\u001b[0m\n\u001b[1;32m      1\u001b[0m \u001b[0ml\u001b[0m\u001b[0;34m=\u001b[0m\u001b[0;34m[\u001b[0m\u001b[0;34m\"apple\"\u001b[0m\u001b[0;34m,\u001b[0m\u001b[0;34m\"orange\"\u001b[0m\u001b[0;34m,\u001b[0m\u001b[0;34m\"banana\"\u001b[0m\u001b[0;34m,\u001b[0m\u001b[0;34m\"grape\"\u001b[0m\u001b[0;34m,\u001b[0m\u001b[0;34m\"apple\"\u001b[0m\u001b[0;34m,\u001b[0m\u001b[0;34m\"orange\"\u001b[0m\u001b[0;34m,\u001b[0m\u001b[0;34m\"banana\"\u001b[0m\u001b[0;34m,\u001b[0m\u001b[0;34m\"grape\"\u001b[0m\u001b[0;34m,\u001b[0m\u001b[0;34m\"apple\"\u001b[0m\u001b[0;34m,\u001b[0m\u001b[0;34m\"orange\"\u001b[0m\u001b[0;34m,\u001b[0m\u001b[0;34m\"banana\"\u001b[0m\u001b[0;34m,\u001b[0m\u001b[0;34m\"grape\"\u001b[0m\u001b[0;34m]\u001b[0m\u001b[0;34m\u001b[0m\u001b[0m\n\u001b[0;32m----> 2\u001b[0;31m \u001b[0ml\u001b[0m\u001b[0;34m.\u001b[0m\u001b[0mpop\u001b[0m\u001b[0;34m(\u001b[0m\u001b[0;36m30\u001b[0m\u001b[0;34m)\u001b[0m\u001b[0;34m\u001b[0m\u001b[0m\n\u001b[0m\u001b[1;32m      3\u001b[0m \u001b[0mprint\u001b[0m\u001b[0;34m(\u001b[0m\u001b[0ml\u001b[0m\u001b[0;34m)\u001b[0m\u001b[0;34m\u001b[0m\u001b[0m\n",
      "\u001b[0;31mIndexError\u001b[0m: pop index out of range"
     ]
    }
   ],
   "source": [
    "l=[\"apple\",\"orange\",\"banana\",\"grape\",\"apple\",\"orange\",\"banana\",\"grape\",\"apple\",\"orange\",\"banana\",\"grape\"]\n",
    "l.pop(30)\n",
    "print(l)"
   ]
  },
  {
   "cell_type": "code",
   "execution_count": 52,
   "metadata": {},
   "outputs": [
    {
     "ename": "IndexError",
     "evalue": "pop from empty list",
     "output_type": "error",
     "traceback": [
      "\u001b[0;31m---------------------------------------------------------------------------\u001b[0m",
      "\u001b[0;31mIndexError\u001b[0m                                Traceback (most recent call last)",
      "\u001b[0;32m<ipython-input-52-b6fa2b351b30>\u001b[0m in \u001b[0;36m<module>\u001b[0;34m()\u001b[0m\n\u001b[1;32m      1\u001b[0m \u001b[0ml\u001b[0m\u001b[0;34m=\u001b[0m\u001b[0;34m[\u001b[0m\u001b[0;34m]\u001b[0m\u001b[0;34m\u001b[0m\u001b[0m\n\u001b[0;32m----> 2\u001b[0;31m \u001b[0ml\u001b[0m\u001b[0;34m.\u001b[0m\u001b[0mpop\u001b[0m\u001b[0;34m(\u001b[0m\u001b[0;34m)\u001b[0m\u001b[0;34m\u001b[0m\u001b[0m\n\u001b[0m\u001b[1;32m      3\u001b[0m \u001b[0mprint\u001b[0m\u001b[0;34m(\u001b[0m\u001b[0ml\u001b[0m\u001b[0;34m)\u001b[0m\u001b[0;34m\u001b[0m\u001b[0m\n",
      "\u001b[0;31mIndexError\u001b[0m: pop from empty list"
     ]
    }
   ],
   "source": [
    "l=[]\n",
    "l.pop()\n",
    "print(l)"
   ]
  },
  {
   "cell_type": "code",
   "execution_count": 53,
   "metadata": {},
   "outputs": [
    {
     "name": "stdout",
     "output_type": "stream",
     "text": [
      "['orange', 'banana', 'grape', 'apple', 'orange', 'banana', 'grape', 'apple', 'orange', 'banana', 'grape']\n"
     ]
    }
   ],
   "source": [
    "l=[\"apple\",\"orange\",\"banana\",\"grape\",\"apple\",\"orange\",\"banana\",\"grape\",\"apple\",\"orange\",\"banana\",\"grape\"]\n",
    "l.remove(\"apple\")\n",
    "print(l)"
   ]
  },
  {
   "cell_type": "code",
   "execution_count": 54,
   "metadata": {},
   "outputs": [
    {
     "name": "stdout",
     "output_type": "stream",
     "text": [
      "0\n"
     ]
    }
   ],
   "source": [
    "l=[\"apple\",\"orange\",\"banana\",\"grape\",\"apple\",\"orange\",\"banana\",\"grape\",\"apple\",\"orange\",\"banana\",\"grape\"]\n",
    "print(l.index(\"apple\"))"
   ]
  },
  {
   "cell_type": "code",
   "execution_count": 55,
   "metadata": {},
   "outputs": [
    {
     "ename": "ValueError",
     "evalue": "'guva' is not in list",
     "output_type": "error",
     "traceback": [
      "\u001b[0;31m---------------------------------------------------------------------------\u001b[0m",
      "\u001b[0;31mValueError\u001b[0m                                Traceback (most recent call last)",
      "\u001b[0;32m<ipython-input-55-03a1c5a7ceba>\u001b[0m in \u001b[0;36m<module>\u001b[0;34m()\u001b[0m\n\u001b[1;32m      1\u001b[0m \u001b[0ml\u001b[0m\u001b[0;34m=\u001b[0m\u001b[0;34m[\u001b[0m\u001b[0;34m\"apple\"\u001b[0m\u001b[0;34m,\u001b[0m\u001b[0;34m\"orange\"\u001b[0m\u001b[0;34m,\u001b[0m\u001b[0;34m\"banana\"\u001b[0m\u001b[0;34m,\u001b[0m\u001b[0;34m\"grape\"\u001b[0m\u001b[0;34m,\u001b[0m\u001b[0;34m\"apple\"\u001b[0m\u001b[0;34m,\u001b[0m\u001b[0;34m\"orange\"\u001b[0m\u001b[0;34m,\u001b[0m\u001b[0;34m\"banana\"\u001b[0m\u001b[0;34m,\u001b[0m\u001b[0;34m\"grape\"\u001b[0m\u001b[0;34m,\u001b[0m\u001b[0;34m\"apple\"\u001b[0m\u001b[0;34m,\u001b[0m\u001b[0;34m\"orange\"\u001b[0m\u001b[0;34m,\u001b[0m\u001b[0;34m\"banana\"\u001b[0m\u001b[0;34m,\u001b[0m\u001b[0;34m\"grape\"\u001b[0m\u001b[0;34m]\u001b[0m\u001b[0;34m\u001b[0m\u001b[0m\n\u001b[0;32m----> 2\u001b[0;31m \u001b[0mprint\u001b[0m\u001b[0;34m(\u001b[0m\u001b[0ml\u001b[0m\u001b[0;34m.\u001b[0m\u001b[0mindex\u001b[0m\u001b[0;34m(\u001b[0m\u001b[0;34m\"guva\"\u001b[0m\u001b[0;34m)\u001b[0m\u001b[0;34m)\u001b[0m\u001b[0;34m\u001b[0m\u001b[0m\n\u001b[0m",
      "\u001b[0;31mValueError\u001b[0m: 'guva' is not in list"
     ]
    }
   ],
   "source": [
    "l=[\"apple\",\"orange\",\"banana\",\"grape\",\"apple\",\"orange\",\"banana\",\"grape\",\"apple\",\"orange\",\"banana\",\"grape\"]\n",
    "print(l.index(\"guva\"))"
   ]
  },
  {
   "cell_type": "code",
   "execution_count": 56,
   "metadata": {},
   "outputs": [
    {
     "name": "stdout",
     "output_type": "stream",
     "text": [
      "['apple', 'apple', 'apple', 'banana', 'banana', 'banana', 'grape', 'grape', 'grape', 'orange', 'orange', 'orange']\n"
     ]
    }
   ],
   "source": [
    "l=[\"apple\",\"orange\",\"banana\",\"grape\",\"apple\",\"orange\",\"banana\",\"grape\",\"apple\",\"orange\",\"banana\",\"grape\"]\n",
    "l.sort()\n",
    "print(l)"
   ]
  },
  {
   "cell_type": "code",
   "execution_count": 57,
   "metadata": {},
   "outputs": [
    {
     "name": "stdout",
     "output_type": "stream",
     "text": [
      "['grape', 'banana', 'orange', 'apple', 'grape', 'banana', 'orange', 'apple', 'grape', 'banana', 'orange', 'apple']\n"
     ]
    }
   ],
   "source": [
    "l=[\"apple\",\"orange\",\"banana\",\"grape\",\"apple\",\"orange\",\"banana\",\"grape\",\"apple\",\"orange\",\"banana\",\"grape\"]\n",
    "l.reverse()\n",
    "print(l)"
   ]
  },
  {
   "cell_type": "code",
   "execution_count": 58,
   "metadata": {},
   "outputs": [
    {
     "name": "stdout",
     "output_type": "stream",
     "text": [
      "['orange', 'orange', 'orange', 'grape', 'grape', 'grape', 'banana', 'banana', 'banana', 'apple', 'apple', 'apple']\n"
     ]
    }
   ],
   "source": [
    "l=[\"apple\",\"orange\",\"banana\",\"grape\",\"apple\",\"orange\",\"banana\",\"grape\",\"apple\",\"orange\",\"banana\",\"grape\"]\n",
    "l.sort(reverse=True)\n",
    "print(l)"
   ]
  },
  {
   "cell_type": "code",
   "execution_count": 59,
   "metadata": {},
   "outputs": [
    {
     "name": "stdout",
     "output_type": "stream",
     "text": [
      "['apple', 'GUVA', 'orange', 'banana', 'grape', 'apple', 'orange', 'banana', 'grape', 'apple', 'orange', 'banana', 'grape']\n"
     ]
    }
   ],
   "source": [
    "l=[\"apple\",\"orange\",\"banana\",\"grape\",\"apple\",\"orange\",\"banana\",\"grape\",\"apple\",\"orange\",\"banana\",\"grape\"]\n",
    "l.insert(1,\"GUVA\")\n",
    "print(l)"
   ]
  },
  {
   "cell_type": "code",
   "execution_count": null,
   "metadata": {},
   "outputs": [],
   "source": []
  }
 ],
 "metadata": {
  "kernelspec": {
   "display_name": "Python 3",
   "language": "python",
   "name": "python3"
  },
  "language_info": {
   "codemirror_mode": {
    "name": "ipython",
    "version": 3
   },
   "file_extension": ".py",
   "mimetype": "text/x-python",
   "name": "python",
   "nbconvert_exporter": "python",
   "pygments_lexer": "ipython3",
   "version": "3.7.0"
  }
 },
 "nbformat": 4,
 "nbformat_minor": 2
}
